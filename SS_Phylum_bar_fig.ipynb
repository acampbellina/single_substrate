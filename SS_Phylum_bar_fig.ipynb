{
 "metadata": {
  "name": "",
  "signature": "sha256:06dadc1279764da94b87cf324324e57ef12c71bf9bb2286555c113d09a93db84"
 },
 "nbformat": 3,
 "nbformat_minor": 0,
 "worksheets": [
  {
   "cells": [
    {
     "cell_type": "code",
     "collapsed": false,
     "input": [
      "from IPython.display import FileLink"
     ],
     "language": "python",
     "metadata": {},
     "outputs": [],
     "prompt_number": 2
    },
    {
     "cell_type": "code",
     "collapsed": false,
     "input": [
      "%load_ext rpy2.ipython"
     ],
     "language": "python",
     "metadata": {},
     "outputs": [],
     "prompt_number": 3
    },
    {
     "cell_type": "code",
     "collapsed": false,
     "input": [
      "%%R\n",
      "library(DESeq2)\n",
      "library(phyloseq)\n",
      "library(plyr); library(dplyr)\n",
      "library(ggplot2)\n",
      "library(doParallel)\n",
      "library(foreach)\n",
      "library(reshape)\n",
      "library(RColorBrewer)\n",
      "library(gridExtra)"
     ],
     "language": "python",
     "metadata": {},
     "outputs": [
      {
       "metadata": {},
       "output_type": "display_data",
       "text": [
        "Loading required package: S4Vectors\n",
        "Loading required package: stats4\n",
        "Loading required package: BiocGenerics\n",
        "Loading required package: parallel\n",
        "\n",
        "Attaching package: \u2018BiocGenerics\u2019\n",
        "\n",
        "The following objects are masked from \u2018package:parallel\u2019:\n",
        "\n",
        "    clusterApply, clusterApplyLB, clusterCall, clusterEvalQ,\n",
        "    clusterExport, clusterMap, parApply, parCapply, parLapply,\n",
        "    parLapplyLB, parRapply, parSapply, parSapplyLB\n",
        "\n",
        "The following object is masked from \u2018package:stats\u2019:\n",
        "\n",
        "    xtabs\n",
        "\n",
        "The following objects are masked from \u2018package:base\u2019:\n",
        "\n",
        "    anyDuplicated, append, as.data.frame, as.vector, cbind, colnames,\n",
        "    do.call, duplicated, eval, evalq, Filter, Find, get, intersect,\n",
        "    is.unsorted, lapply, Map, mapply, match, mget, order, paste, pmax,\n",
        "    pmax.int, pmin, pmin.int, Position, rank, rbind, Reduce, rep.int,\n",
        "    rownames, sapply, setdiff, sort, table, tapply, union, unique,\n",
        "    unlist, unsplit\n",
        "\n",
        "Loading required package: IRanges\n",
        "Loading required package: GenomicRanges\n",
        "Loading required package: GenomeInfoDb\n",
        "Loading required package: Rcpp\n",
        "Loading required package: RcppArmadillo\n",
        "\n",
        "Attaching package: \u2018phyloseq\u2019\n",
        "\n",
        "The following object is masked from \u2018package:GenomicRanges\u2019:\n",
        "\n",
        "    distance\n",
        "\n",
        "The following object is masked from \u2018package:IRanges\u2019:\n",
        "\n",
        "    distance\n",
        "\n",
        "\n",
        "Attaching package: \u2018plyr\u2019\n",
        "\n",
        "The following object is masked from \u2018package:IRanges\u2019:\n",
        "\n",
        "    desc\n",
        "\n",
        "The following object is masked from \u2018package:S4Vectors\u2019:\n",
        "\n",
        "    rename\n",
        "\n",
        "\n",
        "Attaching package: \u2018dplyr\u2019\n",
        "\n",
        "The following objects are masked from \u2018package:plyr\u2019:\n",
        "\n",
        "    arrange, count, desc, failwith, id, mutate, rename, summarise,\n",
        "    summarize\n",
        "\n",
        "The following objects are masked from \u2018package:GenomicRanges\u2019:\n",
        "\n",
        "    intersect, setdiff, union\n",
        "\n",
        "The following object is masked from \u2018package:GenomeInfoDb\u2019:\n",
        "\n",
        "    intersect\n",
        "\n",
        "The following objects are masked from \u2018package:IRanges\u2019:\n",
        "\n",
        "    collapse, desc, intersect, setdiff, slice, union\n",
        "\n",
        "The following object is masked from \u2018package:S4Vectors\u2019:\n",
        "\n",
        "    rename\n",
        "\n",
        "The following objects are masked from \u2018package:BiocGenerics\u2019:\n",
        "\n",
        "    combine, intersect, setdiff, union\n",
        "\n",
        "The following object is masked from \u2018package:stats\u2019:\n",
        "\n",
        "    filter\n",
        "\n",
        "The following objects are masked from \u2018package:base\u2019:\n",
        "\n",
        "    intersect, setdiff, setequal, union\n",
        "\n",
        "Loading required package: foreach\n",
        "foreach: simple, scalable parallel programming from Revolution Analytics\n",
        "Use Revolution R for scalability, fault tolerance and more.\n",
        "http://www.revolutionanalytics.com\n",
        "Loading required package: iterators\n",
        "\n",
        "Attaching package: \u2018reshape\u2019\n",
        "\n",
        "The following object is masked from \u2018package:dplyr\u2019:\n",
        "\n",
        "    rename\n",
        "\n",
        "The following objects are masked from \u2018package:plyr\u2019:\n",
        "\n",
        "    rename, round_any\n",
        "\n",
        "The following object is masked from \u2018package:IRanges\u2019:\n",
        "\n",
        "    expand\n",
        "\n",
        "The following object is masked from \u2018package:S4Vectors\u2019:\n",
        "\n",
        "    rename\n",
        "\n",
        "Loading required package: grid\n"
       ]
      }
     ],
     "prompt_number": 4
    },
    {
     "cell_type": "code",
     "collapsed": false,
     "input": [
      "%%R\n",
      "dat = read.csv(\"/home/ashley/single_substrate/data/df_resp_SS_counts.csv\",header=TRUE)"
     ],
     "language": "python",
     "metadata": {},
     "outputs": [],
     "prompt_number": 5
    },
    {
     "cell_type": "code",
     "collapsed": false,
     "input": [
      "%%R\n",
      "dat = dat %>% arrange(desc(Counts))\n",
      "dat"
     ],
     "language": "python",
     "metadata": {},
     "outputs": [
      {
       "metadata": {},
       "output_type": "display_data",
       "text": [
        "            Phylum Counts Treatment\n",
        "1   Proteobacteria     16    13CCSS\n",
        "2  Verrucomicrobia      6    13CCPS\n",
        "3  Verrucomicrobia      5    13CCSS\n",
        "4   Proteobacteria      4    13CCPS\n",
        "5      Chloroflexi      3    13CCSS\n",
        "6      Chloroflexi      3    13CCPS\n",
        "7   Planctomycetes      3    13CCPS\n",
        "8    Bacteroidetes      2    13CCSS\n",
        "9    Acidobacteria      1    13CCSS\n",
        "10  Planctomycetes      1    13CCSS\n",
        "11    Spirochaetes      1    13CCSS\n",
        "12   Bacteroidetes      1    13CCPS\n",
        "13   Cyanobacteria      1    13CCPS\n",
        "14   Cyanobacteria      0    13CCSS\n",
        "15   Acidobacteria      0    13CCPS\n",
        "16    Spirochaetes      0    13CCPS\n"
       ]
      }
     ],
     "prompt_number": 15
    },
    {
     "cell_type": "code",
     "collapsed": false,
     "input": [
      "%%R -h 500 -w 750\n",
      "\n",
      "colours = c(\"#377eb8\",\"orange\")\n",
      "\n",
      "p = ggplot(dat, aes(y = Counts, x = Phylum, fill = Treatment, order = Counts))\n",
      "\n",
      "#p = p + facet_grid(Treatment~Day)\n",
      "\n",
      "p = p + geom_bar(stat = \"identity\", position = \"dodge\")\n",
      "\n",
      "p = p + theme_bw()\n",
      "\n",
      "p = p + theme(axis.text.x = element_text(angle = 90, hjust = 1, size = 18), \n",
      "              axis.text.y = element_text(size = 18),\n",
      "              strip.text = element_text(size = 18),\n",
      "              strip.background = element_blank(),\n",
      "              axis.title = element_text(size = 18),\n",
      "              legend.title = element_text(size = 18),\n",
      "              legend.text = element_text(size = 18))\n",
      "\n",
      "p = p + labs(fill = \"Treatment\", y = \"Number of Responders\")\n",
      "\n",
      "p = p + scale_fill_manual(values = colours,\n",
      "                            breaks=c(\"13CCSS\", \"13CCPS\"),\n",
      "                            labels=c(\"Cellulose Only\", \"Complex C Mixture\"))\n",
      "p = p + theme(axis.text.x = element_text(size = 14, angle = 45, hjust = 1, face = \"italic\"))\n",
      "p = p + theme(legend.position=c(0.25,0.85))\n",
      "\n",
      "p"
     ],
     "language": "python",
     "metadata": {},
     "outputs": [
      {
       "metadata": {},
       "output_type": "display_data",
       "png": "[encoded data removed]"
      }
     ],
     "prompt_number": 27
    },
    {
     "cell_type": "code",
     "collapsed": false,
     "input": [
      "%%R \n",
      "ggsave(plot = p, filename = \"figs/Phylum_SS_bar.pdf\", width = 7, height = 6)"
     ],
     "language": "python",
     "metadata": {},
     "outputs": [],
     "prompt_number": 28
    },
    {
     "cell_type": "code",
     "collapsed": false,
     "input": [
      "FileLink(\"figs/Phylum_SS_bar.pdf\")"
     ],
     "language": "python",
     "metadata": {},
     "outputs": [
      {
       "html": [
        "<a href='figs/Phylum_SS_bar.pdf' target='_blank'>figs/Phylum_SS_bar.pdf</a><br>"
       ],
       "metadata": {},
       "output_type": "pyout",
       "prompt_number": 25,
       "text": [
        "/home/ashley/single_substrate/figs/Phylum_SS_bar.pdf"
       ]
      }
     ],
     "prompt_number": 25
    }
   ],
   "metadata": {}
  }
 ]
}