{
 "metadata": {
  "name": "",
  "signature": "sha256:e7adb3d13deac834d81ac5ead2da06b297de1dcb19baac9829fa757acd0c468b"
 },
 "nbformat": 3,
 "nbformat_minor": 0,
 "worksheets": [
  {
   "cells": [
    {
     "cell_type": "code",
     "collapsed": false,
     "input": [
      "%load_ext rpy2.ipython"
     ],
     "language": "python",
     "metadata": {},
     "outputs": [
      {
       "output_type": "stream",
       "stream": "stdout",
       "text": [
        "The rpy2.ipython extension is already loaded. To reload it, use:\n",
        "  %reload_ext rpy2.ipython\n"
       ]
      }
     ],
     "prompt_number": 28
    },
    {
     "cell_type": "code",
     "collapsed": false,
     "input": [
      "from IPython.display import FileLink"
     ],
     "language": "python",
     "metadata": {},
     "outputs": [],
     "prompt_number": 29
    },
    {
     "cell_type": "code",
     "collapsed": false,
     "input": [
      "%%R\n",
      "library(phyloseq)\n",
      "library(ggplot2)\n",
      "library(doParallel)\n",
      "library(RColorBrewer)\n",
      "library(dplyr); library(tidyr)\n"
     ],
     "language": "python",
     "metadata": {},
     "outputs": [],
     "prompt_number": 30
    },
    {
     "cell_type": "code",
     "collapsed": false,
     "input": [
      "%%R\n",
      "physeq = import_biom(\"data/otu_table_wtax.biom\", \"data/otusn.tree\")\n",
      "sample.data = import_qiime_sample_data(\"data/ABCD_combined_reads_mapper.tsv\")\n",
      "physeq = merge_phyloseq(physeq,sample.data)\n",
      "physeq.md = sample_data(physeq)\n",
      "physeq.all = prune_samples((physeq.md$Treatment %in% c(\"13CCPS\",\"13CCSS\"))& (physeq.md$Day %in% c(30)) &\n",
      "                          !(row.names(physeq.md) %in% grep(\"bulk\", row.names(physeq.md), value=TRUE)), physeq)\n",
      "physeq.all.snorm = transform_sample_counts(physeq.all, function(x) x/sum(x))\n",
      "physeq.all.thresh = filter_taxa(physeq.all.snorm, function(x) sum(x > 0) > (0.25 * length(x)), TRUE)\n",
      "print(physeq.all)\n",
      "print(physeq.all.thresh)"
     ],
     "language": "python",
     "metadata": {},
     "outputs": [
      {
       "metadata": {},
       "output_type": "display_data",
       "text": [
        "phyloseq-class experiment-level object\n",
        "otu_table()   OTU Table:         [ 6236 taxa and 40 samples ]\n",
        "sample_data() Sample Data:       [ 40 samples by 7 sample variables ]\n",
        "tax_table()   Taxonomy Table:    [ 6236 taxa by 8 taxonomic ranks ]\n",
        "phy_tree()    Phylogenetic Tree: [ 6236 tips and 6235 internal nodes ]\n",
        "phyloseq-class experiment-level object\n",
        "otu_table()   OTU Table:         [ 1247 taxa and 40 samples ]\n",
        "sample_data() Sample Data:       [ 40 samples by 7 sample variables ]\n",
        "tax_table()   Taxonomy Table:    [ 1247 taxa by 8 taxonomic ranks ]\n",
        "phy_tree()    Phylogenetic Tree: [ 1247 tips and 1246 internal nodes ]\n"
       ]
      }
     ],
     "prompt_number": 31
    },
    {
     "cell_type": "code",
     "collapsed": false,
     "input": [
      "%%R\n",
      "physeq.thresh.heavy = prune_samples(sample_data(physeq.all.thresh)$Density >= 1.725, physeq.all.thresh)"
     ],
     "language": "python",
     "metadata": {},
     "outputs": [],
     "prompt_number": 32
    },
    {
     "cell_type": "code",
     "collapsed": false,
     "input": [
      "%%R\n",
      "wunif.dist.heavy = distance(physeq.thresh.heavy, method = \"unifrac\", weighted = TRUE)"
     ],
     "language": "python",
     "metadata": {},
     "outputs": [],
     "prompt_number": 33
    },
    {
     "cell_type": "code",
     "collapsed": false,
     "input": [
      "%%R\n",
      "adonis(wunif.dist.heavy ~ Treatment, data.frame(sample_data(physeq.thresh.heavy)))"
     ],
     "language": "python",
     "metadata": {},
     "outputs": [
      {
       "metadata": {},
       "output_type": "display_data",
       "text": [
        "\n",
        "Call:\n",
        "adonis(formula = wunif.dist.heavy ~ Treatment, data = data.frame(sample_data(physeq.thresh.heavy))) \n",
        "\n",
        "Terms added sequentially (first to last)\n",
        "\n",
        "          Df SumsOfSqs  MeanSqs F.Model     R2 Pr(>F)   \n",
        "Treatment  1   0.11137 0.111372  5.5667 0.3576  0.002 **\n",
        "Residuals 10   0.20007 0.020007         0.6424          \n",
        "Total     11   0.31144                  1.0000          \n",
        "---\n",
        "Signif. codes:  0 \u2018***\u2019 0.001 \u2018**\u2019 0.01 \u2018*\u2019 0.05 \u2018.\u2019 0.1 \u2018 \u2019 1\n"
       ]
      }
     ],
     "prompt_number": 34
    },
    {
     "cell_type": "code",
     "collapsed": false,
     "input": [
      "%%R\n",
      "#convert physeq object to a dataframe for adonis test\n",
      "df = sample_data(physeq.all.thresh)\n",
      "#convert dataframe from physeq to a traditional R dataframe because it has funky 'class'\n",
      "df = data.frame(df)\n",
      "head(df)"
     ],
     "language": "python",
     "metadata": {},
     "outputs": [
      {
       "metadata": {},
       "output_type": "display_data",
       "text": [
        "                 X.SampleID BarcodeSequence Day Density   LinkerPrimerSequence\n",
        "cont.SS.30.10 cont.SS.30.10      TCACTCTGTC  30  1.7417 CAGGACTACHVGGGTWTCTAAT\n",
        "13C.SS.30.9     13C.SS.30.9      TCACGTGTAC  30  1.7351 CAGGACTACHVGGGTWTCTAAT\n",
        "13C.SS.30.13   13C.SS.30.13      TCACTGAGAG  30  1.7155 CAGGACTACHVGGGTWTCTAAT\n",
        "cont.SS.30.27 cont.SS.30.27      TCAGACACAG  30  1.6750 CAGGACTACHVGGGTWTCTAAT\n",
        "13C.SS.30.7     13C.SS.30.7      TCACGAGTAG  30  1.7428 CAGGACTACHVGGGTWTCTAAT\n",
        "cont.PS.30.15 cont.PS.30.15      TCACACGAGA  30  1.7122 CAGGACTACHVGGGTWTCTAAT\n",
        "              Treatment   Description\n",
        "cont.SS.30.10    12CCSS cont.SS.30.10\n",
        "13C.SS.30.9      13CCSS   13C.SS.30.9\n",
        "13C.SS.30.13     13CCSS  13C.SS.30.13\n",
        "cont.SS.30.27    12CCSS cont.SS.30.27\n",
        "13C.SS.30.7      13CCSS   13C.SS.30.7\n",
        "cont.PS.30.15    12CCPS cont.PS.30.15\n"
       ]
      }
     ],
     "prompt_number": 25
    },
    {
     "cell_type": "code",
     "collapsed": false,
     "input": [
      "%%R\n",
      "registerDoParallel(cores=20)\n",
      "#calc distance matrix for adonis test\n",
      "wunif.fractions = distance(physeq.all.thresh, \n",
      "                      method = \"unifrac\", \n",
      "                      weighted = TRUE,\n",
      "                      fast = TRUE, \n",
      "                      parallel = TRUE, \n",
      "                      normalized = FALSE)"
     ],
     "language": "python",
     "metadata": {},
     "outputs": [],
     "prompt_number": 26
    },
    {
     "cell_type": "markdown",
     "metadata": {},
     "source": [
      "###This file is from the [sparsity notebook](./Sparsity_make_l2fc_table.ipynb)."
     ]
    },
    {
     "cell_type": "code",
     "collapsed": false,
     "input": [
      "%%R\n",
      "df_all = read.csv(\"data/l2fc_table.csv\")\n",
      "head(df_all)"
     ],
     "language": "python",
     "metadata": {},
     "outputs": [
      {
       "metadata": {},
       "output_type": "display_data",
       "text": [
        "  sparsity_threshold Day Treatment     OTU log2FoldChange            p    Rank1\n",
        "1               0.55  30    13CCSS OTU.783     -0.3370825 9.965741e-01 Bacteria\n",
        "2               0.55  30    13CCSS  OTU.79      0.7598182 4.889860e-01 Bacteria\n",
        "3               0.55  30    13CCSS OTU.304      0.4183648 8.089837e-01 Bacteria\n",
        "4               0.55  30    13CCSS  OTU.50      0.7289694 5.252368e-01 Bacteria\n",
        "5               0.55  30    13CCSS OTU.382      2.9833574 1.370092e-07 Bacteria\n",
        "6               0.55  30    13CCSS OTU.465      0.5515994 6.887540e-01 Bacteria\n",
        "          Rank2      Rank3        Rank4         Rank5       Rank6\n",
        "1 Acidobacteria Holophagae      Sva0725          <NA>        <NA>\n",
        "2 Bacteroidetes Cytophagia Cytophagales Cytophagaceae Flexibacter\n",
        "3 Bacteroidetes Cytophagia Cytophagales Cytophagaceae Flexibacter\n",
        "4 Bacteroidetes Cytophagia Cytophagales Cytophagaceae Flexibacter\n",
        "5 Bacteroidetes Cytophagia Cytophagales Cytophagaceae Flexibacter\n",
        "6 Bacteroidetes Cytophagia Cytophagales Cytophagaceae Flexibacter\n",
        "                               Rank7 Rank8         padj\n",
        "1                               <NA>  <NA> 1.000000e+00\n",
        "2               uncultured_bacterium  <NA> 1.000000e+00\n",
        "3               uncultured_bacterium  <NA> 1.000000e+00\n",
        "4               uncultured_bacterium  <NA> 1.000000e+00\n",
        "5 uncultured_Bacteroidetes_bacterium  <NA> 4.329492e-05\n",
        "6               uncultured_bacterium  <NA> 1.000000e+00\n"
       ]
      }
     ],
     "prompt_number": 8
    },
    {
     "cell_type": "code",
     "collapsed": false,
     "input": [
      "%%R\n",
      "FDR = 0.10\n",
      "df_resp = subset(df_all, padj <= FDR)\n",
      "nrow(df_resp)"
     ],
     "language": "python",
     "metadata": {},
     "outputs": [
      {
       "metadata": {},
       "output_type": "display_data",
       "text": [
        "[1] 47\n"
       ]
      }
     ],
     "prompt_number": 14
    },
    {
     "cell_type": "code",
     "collapsed": false,
     "input": [
      "%%R\n",
      "registerDoParallel(cores=20)\n",
      "#calc distance matrix for adonis test\n",
      "wunif.bulk = distance(df_resp, \n",
      "                      method = \"unifrac\", \n",
      "                      weighted = TRUE,\n",
      "                      fast = TRUE, \n",
      "                      parallel = TRUE, \n",
      "                      normalized = FALSE)"
     ],
     "language": "python",
     "metadata": {},
     "outputs": [
      {
       "output_type": "stream",
       "stream": "stdout",
       "text": [
        "Error in (function (classes, fdef, mtable)  : \n",
        "  unable to find an inherited method for function \u2018UniFrac\u2019 for signature \u2018\"data.frame\"\u2019\n"
       ]
      }
     ],
     "prompt_number": 17
    },
    {
     "cell_type": "code",
     "collapsed": false,
     "input": [
      "%%R\n",
      "wunif.bulk"
     ],
     "language": "python",
     "metadata": {},
     "outputs": [
      {
       "metadata": {},
       "output_type": "display_data",
       "text": [
        "                cont.SS.30.bulk 13C.PS.30.bulk cont.PS.30.bulk\n",
        "13C.PS.30.bulk        0.1747977                               \n",
        "cont.PS.30.bulk       0.2076441      0.1354889                \n",
        "13C.SS.30.bulk        0.1273208      0.1904038       0.2275491\n"
       ]
      }
     ],
     "prompt_number": 9
    },
    {
     "cell_type": "heading",
     "level": 2,
     "metadata": {},
     "source": [
      "Test to determine significance between samples"
     ]
    },
    {
     "cell_type": "code",
     "collapsed": false,
     "input": [
      "%%R\n",
      "library(vegan)"
     ],
     "language": "python",
     "metadata": {},
     "outputs": [
      {
       "metadata": {},
       "output_type": "display_data",
       "text": [
        "Loading required package: permute\n",
        "Loading required package: lattice\n",
        "This is vegan 2.0-10\n"
       ]
      }
     ],
     "prompt_number": 16
    },
    {
     "cell_type": "code",
     "collapsed": false,
     "input": [
      "%%R\n",
      "#to test if community composition in Bulk DNA sequencing is different between treatments\n",
      "stat.resp = adonis(~ Treatment, data = df_resp, permutations = 1000, method = \"bray\")\n",
      "stat.resp"
     ],
     "language": "python",
     "metadata": {},
     "outputs": [
      {
       "output_type": "stream",
       "stream": "stdout",
       "text": [
        "Error in terms.formula(formula, data = data) : \n",
        "  argument is not a valid model\n"
       ]
      }
     ],
     "prompt_number": 22
    },
    {
     "cell_type": "markdown",
     "metadata": {},
     "source": [
      "Community composition is not significantly different between treatments (SSvPS, 12 and 13)"
     ]
    }
   ],
   "metadata": {}
  }
 ]
}