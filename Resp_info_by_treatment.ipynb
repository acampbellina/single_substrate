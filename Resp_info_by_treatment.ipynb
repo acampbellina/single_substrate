{
 "metadata": {
  "name": "",
  "signature": "sha256:d15307f8f2328bd706ea68d202262420929cc3388d2cd640f2346cda8f57a1ce"
 },
 "nbformat": 3,
 "nbformat_minor": 0,
 "worksheets": [
  {
   "cells": [
    {
     "cell_type": "code",
     "collapsed": false,
     "input": [
      "from IPython.display import FileLink"
     ],
     "language": "python",
     "metadata": {},
     "outputs": [],
     "prompt_number": 1
    },
    {
     "cell_type": "code",
     "collapsed": false,
     "input": [
      "%load_ext rpy2.ipython"
     ],
     "language": "python",
     "metadata": {},
     "outputs": [],
     "prompt_number": 2
    },
    {
     "cell_type": "code",
     "collapsed": false,
     "input": [
      "%%R\n",
      "library(DESeq2)\n",
      "library(phyloseq)\n",
      "library(plyr); library(dplyr)\n",
      "library(ggplot2)\n",
      "library(doParallel)\n",
      "library(foreach)\n",
      "library(reshape)\n",
      "library(RColorBrewer)\n",
      "library(gridExtra)\n",
      "library(stats)\n",
      "library(data.table)"
     ],
     "language": "python",
     "metadata": {},
     "outputs": [
      {
       "metadata": {},
       "output_type": "display_data",
       "text": [
        "Loading required package: S4Vectors\n",
        "Loading required package: stats4\n",
        "Loading required package: BiocGenerics\n",
        "Loading required package: parallel\n",
        "\n",
        "Attaching package: \u2018BiocGenerics\u2019\n",
        "\n",
        "The following objects are masked from \u2018package:parallel\u2019:\n",
        "\n",
        "    clusterApply, clusterApplyLB, clusterCall, clusterEvalQ,\n",
        "    clusterExport, clusterMap, parApply, parCapply, parLapply,\n",
        "    parLapplyLB, parRapply, parSapply, parSapplyLB\n",
        "\n",
        "The following object is masked from \u2018package:stats\u2019:\n",
        "\n",
        "    xtabs\n",
        "\n",
        "The following objects are masked from \u2018package:base\u2019:\n",
        "\n",
        "    anyDuplicated, append, as.data.frame, as.vector, cbind, colnames,\n",
        "    do.call, duplicated, eval, evalq, Filter, Find, get, intersect,\n",
        "    is.unsorted, lapply, Map, mapply, match, mget, order, paste, pmax,\n",
        "    pmax.int, pmin, pmin.int, Position, rank, rbind, Reduce, rep.int,\n",
        "    rownames, sapply, setdiff, sort, table, tapply, union, unique,\n",
        "    unlist, unsplit\n",
        "\n",
        "Loading required package: IRanges\n",
        "Loading required package: GenomicRanges\n",
        "Loading required package: GenomeInfoDb\n",
        "Loading required package: Rcpp\n",
        "Loading required package: RcppArmadillo\n",
        "\n",
        "Attaching package: \u2018phyloseq\u2019\n",
        "\n",
        "The following object is masked from \u2018package:GenomicRanges\u2019:\n",
        "\n",
        "    distance\n",
        "\n",
        "The following object is masked from \u2018package:IRanges\u2019:\n",
        "\n",
        "    distance\n",
        "\n",
        "\n",
        "Attaching package: \u2018plyr\u2019\n",
        "\n",
        "The following object is masked from \u2018package:IRanges\u2019:\n",
        "\n",
        "    desc\n",
        "\n",
        "The following object is masked from \u2018package:S4Vectors\u2019:\n",
        "\n",
        "    rename\n",
        "\n",
        "\n",
        "Attaching package: \u2018dplyr\u2019\n",
        "\n",
        "The following objects are masked from \u2018package:plyr\u2019:\n",
        "\n",
        "    arrange, count, desc, failwith, id, mutate, rename, summarise,\n",
        "    summarize\n",
        "\n",
        "The following objects are masked from \u2018package:GenomicRanges\u2019:\n",
        "\n",
        "    intersect, setdiff, union\n",
        "\n",
        "The following object is masked from \u2018package:GenomeInfoDb\u2019:\n",
        "\n",
        "    intersect\n",
        "\n",
        "The following objects are masked from \u2018package:IRanges\u2019:\n",
        "\n",
        "    collapse, desc, intersect, setdiff, slice, union\n",
        "\n",
        "The following object is masked from \u2018package:S4Vectors\u2019:\n",
        "\n",
        "    rename\n",
        "\n",
        "The following objects are masked from \u2018package:BiocGenerics\u2019:\n",
        "\n",
        "    intersect, setdiff, union\n",
        "\n",
        "The following object is masked from \u2018package:stats\u2019:\n",
        "\n",
        "    filter\n",
        "\n",
        "The following objects are masked from \u2018package:base\u2019:\n",
        "\n",
        "    intersect, setdiff, setequal, union\n",
        "\n",
        "Loading required package: foreach\n",
        "foreach: simple, scalable parallel programming from Revolution Analytics\n",
        "Use Revolution R for scalability, fault tolerance and more.\n",
        "http://www.revolutionanalytics.com\n",
        "Loading required package: iterators\n",
        "\n",
        "Attaching package: \u2018reshape\u2019\n",
        "\n",
        "The following object is masked from \u2018package:dplyr\u2019:\n",
        "\n",
        "    rename\n",
        "\n",
        "The following objects are masked from \u2018package:plyr\u2019:\n",
        "\n",
        "    rename, round_any\n",
        "\n",
        "The following object is masked from \u2018package:IRanges\u2019:\n",
        "\n",
        "    expand\n",
        "\n",
        "The following object is masked from \u2018package:S4Vectors\u2019:\n",
        "\n",
        "    rename\n",
        "\n",
        "Loading required package: grid\n",
        "data.table 1.9.4  For help type: ?data.table\n",
        "*** NB: by=.EACHI is now explicit. See README to restore previous behaviour.\n",
        "\n",
        "Attaching package: \u2018data.table\u2019\n",
        "\n",
        "The following objects are masked from \u2018package:dplyr\u2019:\n",
        "\n",
        "    between, last\n",
        "\n"
       ]
      }
     ],
     "prompt_number": 3
    },
    {
     "cell_type": "markdown",
     "metadata": {},
     "source": [
      "###This file is from the [sparsity notebook](./Sparsity_make_l2fc_table.ipynb)."
     ]
    },
    {
     "cell_type": "code",
     "collapsed": false,
     "input": [
      "%%R\n",
      "df_all = read.csv(\"data/l2fc_table.csv\")\n",
      "head(df_all)"
     ],
     "language": "python",
     "metadata": {},
     "outputs": [
      {
       "metadata": {},
       "output_type": "display_data",
       "text": [
        "  sparsity_threshold Day Treatment     OTU log2FoldChange            p    Rank1\n",
        "1               0.55  30    13CCSS OTU.783     -0.3370825 9.965741e-01 Bacteria\n",
        "2               0.55  30    13CCSS  OTU.79      0.7598182 4.889860e-01 Bacteria\n",
        "3               0.55  30    13CCSS OTU.304      0.4183648 8.089837e-01 Bacteria\n",
        "4               0.55  30    13CCSS  OTU.50      0.7289694 5.252368e-01 Bacteria\n",
        "5               0.55  30    13CCSS OTU.382      2.9833574 1.370092e-07 Bacteria\n",
        "6               0.55  30    13CCSS OTU.465      0.5515994 6.887540e-01 Bacteria\n",
        "          Rank2      Rank3        Rank4         Rank5       Rank6\n",
        "1 Acidobacteria Holophagae      Sva0725          <NA>        <NA>\n",
        "2 Bacteroidetes Cytophagia Cytophagales Cytophagaceae Flexibacter\n",
        "3 Bacteroidetes Cytophagia Cytophagales Cytophagaceae Flexibacter\n",
        "4 Bacteroidetes Cytophagia Cytophagales Cytophagaceae Flexibacter\n",
        "5 Bacteroidetes Cytophagia Cytophagales Cytophagaceae Flexibacter\n",
        "6 Bacteroidetes Cytophagia Cytophagales Cytophagaceae Flexibacter\n",
        "                               Rank7 Rank8         padj\n",
        "1                               <NA>  <NA> 1.000000e+00\n",
        "2               uncultured_bacterium  <NA> 1.000000e+00\n",
        "3               uncultured_bacterium  <NA> 1.000000e+00\n",
        "4               uncultured_bacterium  <NA> 1.000000e+00\n",
        "5 uncultured_Bacteroidetes_bacterium  <NA> 4.329492e-05\n",
        "6               uncultured_bacterium  <NA> 1.000000e+00\n"
       ]
      }
     ],
     "prompt_number": 4
    },
    {
     "cell_type": "code",
     "collapsed": false,
     "input": [
      "%%R\n",
      "nrow (df_all)"
     ],
     "language": "python",
     "metadata": {},
     "outputs": [
      {
       "metadata": {},
       "output_type": "display_data",
       "text": [
        "[1] 1198\n"
       ]
      }
     ],
     "prompt_number": 5
    },
    {
     "cell_type": "heading",
     "level": 3,
     "metadata": {},
     "source": [
      "SS"
     ]
    },
    {
     "cell_type": "code",
     "collapsed": false,
     "input": [
      "%%R\n",
      "FDR = 0.10\n",
      "df_SS_resp = subset(df_all, (Treatment == \"13CCSS\")&(padj <= FDR))\n",
      "nrow (df_SS_resp)"
     ],
     "language": "python",
     "metadata": {},
     "outputs": [
      {
       "metadata": {},
       "output_type": "display_data",
       "text": [
        "[1] 29\n"
       ]
      }
     ],
     "prompt_number": 6
    },
    {
     "cell_type": "code",
     "collapsed": false,
     "input": [
      "%%R\n",
      "df_SS_resp_unique = subset(df_SS_resp, !duplicated(OTU))\n",
      "nrow(df_SS_resp_unique)"
     ],
     "language": "python",
     "metadata": {},
     "outputs": [
      {
       "metadata": {},
       "output_type": "display_data",
       "text": [
        "[1] 29\n"
       ]
      }
     ],
     "prompt_number": 7
    },
    {
     "cell_type": "code",
     "collapsed": false,
     "input": [
      "%%R\n",
      "df_SS_resp_counts = ddply(df_SS_resp, .(Rank2), summarize, NumSubs = length(unique(OTU)))\n",
      "print (df_SS_resp_counts)"
     ],
     "language": "python",
     "metadata": {},
     "outputs": [
      {
       "metadata": {},
       "output_type": "display_data",
       "text": [
        "            Rank2 NumSubs\n",
        "1   Acidobacteria       1\n",
        "2   Bacteroidetes       2\n",
        "3     Chloroflexi       3\n",
        "4  Planctomycetes       1\n",
        "5  Proteobacteria      16\n",
        "6    Spirochaetes       1\n",
        "7 Verrucomicrobia       5\n"
       ]
      }
     ],
     "prompt_number": 9
    },
    {
     "cell_type": "heading",
     "level": 3,
     "metadata": {},
     "source": [
      "PS"
     ]
    },
    {
     "cell_type": "code",
     "collapsed": false,
     "input": [
      "%%R\n",
      "FDR = 0.10\n",
      "df_PS_resp = subset(df_all, (Treatment == \"13CCPS\")&(padj <= FDR))\n",
      "df_PS_resp"
     ],
     "language": "python",
     "metadata": {},
     "outputs": [
      {
       "metadata": {},
       "output_type": "display_data",
       "text": [
        "     sparsity_threshold Day Treatment      OTU log2FoldChange            p\n",
        "641                0.55  30    13CCPS  OTU.465       2.321166 7.163975e-06\n",
        "693                0.55  30    13CCPS  OTU.484       2.147268 9.254511e-04\n",
        "695                0.55  30    13CCPS  OTU.285       1.908275 2.829872e-03\n",
        "710                0.55  30    13CCPS  OTU.204       2.306542 9.016525e-05\n",
        "901                0.55  30    13CCPS  OTU.633       1.948326 2.099591e-03\n",
        "907                0.55  30    13CCPS  OTU.119       1.999345 1.187585e-03\n",
        "937                0.55  30    13CCPS  OTU.766       2.039436 2.141896e-04\n",
        "984                0.55  30    13CCPS OTU.1087       1.898622 2.608810e-03\n",
        "1132               0.55  30    13CCPS  OTU.638       2.090294 1.218942e-03\n",
        "1133               0.55  30    13CCPS   OTU.83       2.454529 3.863571e-05\n",
        "1146               0.55  30    13CCPS OTU.1023       2.004803 1.792304e-03\n",
        "1148               0.55  30    13CCPS  OTU.266       2.161666 6.946644e-04\n",
        "1150               0.55  30    13CCPS  OTU.185       2.451215 3.721116e-05\n",
        "1151               0.55  30    13CCPS  OTU.541       2.149108 7.063269e-04\n",
        "1157               0.55  30    13CCPS  OTU.120       1.924459 2.600743e-03\n",
        "1179               0.55  30    13CCPS   OTU.98       2.322171 7.270932e-05\n",
        "1180               0.55  30    13CCPS OTU.4322       2.476105 1.314209e-05\n",
        "1181               0.55  30    13CCPS   OTU.64       2.075127 9.746825e-04\n",
        "        Rank1           Rank2               Rank3                Rank4\n",
        "641  Bacteria   Bacteroidetes          Cytophagia         Cytophagales\n",
        "693  Bacteria  Planctomycetes    Planctomycetacia     Planctomycetales\n",
        "695  Bacteria  Planctomycetes    Planctomycetacia     Planctomycetales\n",
        "710  Bacteria  Planctomycetes    Planctomycetacia     Planctomycetales\n",
        "901  Bacteria  Proteobacteria Deltaproteobacteria         Myxococcales\n",
        "907  Bacteria  Proteobacteria Alphaproteobacteria      Caulobacterales\n",
        "937  Bacteria  Proteobacteria Alphaproteobacteria          Rhizobiales\n",
        "984  Bacteria  Proteobacteria Alphaproteobacteria          Rhizobiales\n",
        "1132 Bacteria Verrucomicrobia    Verrucomicrobiae   Verrucomicrobiales\n",
        "1133 Bacteria Verrucomicrobia    Verrucomicrobiae   Verrucomicrobiales\n",
        "1146 Bacteria Verrucomicrobia      Spartobacteria   Chthoniobacterales\n",
        "1148 Bacteria Verrucomicrobia      Spartobacteria   Chthoniobacterales\n",
        "1150 Bacteria Verrucomicrobia      Spartobacteria   Chthoniobacterales\n",
        "1151 Bacteria Verrucomicrobia      Spartobacteria   Chthoniobacterales\n",
        "1157 Bacteria   Cyanobacteria              SM1D11 uncultured_bacterium\n",
        "1179 Bacteria     Chloroflexi   Herpetosiphonales   Herpetosiphonaceae\n",
        "1180 Bacteria     Chloroflexi   Herpetosiphonales   Herpetosiphonaceae\n",
        "1181 Bacteria     Chloroflexi   Herpetosiphonales   Herpetosiphonaceae\n",
        "                        Rank5                            Rank6\n",
        "641             Cytophagaceae                      Flexibacter\n",
        "693         Planctomycetaceae                   Rhodopirellula\n",
        "695         Planctomycetaceae                     Pir4_lineage\n",
        "710         Planctomycetaceae                     Planctomyces\n",
        "901              Sorangiineae                  Sandaracinaceae\n",
        "907          Caulobacteraceae                    Brevundimonas\n",
        "937         Hyphomicrobiaceae                          Devosia\n",
        "984         Hyphomicrobiaceae                          Devosia\n",
        "1132      Verrucomicrobiaceae                       Haloferula\n",
        "1133      Verrucomicrobiaceae                       uncultured\n",
        "1146 FukuN18_freshwater_group             uncultured_bacterium\n",
        "1148 FukuN18_freshwater_group             uncultured_bacterium\n",
        "1150 FukuN18_freshwater_group                             <NA>\n",
        "1151                     LD29                             <NA>\n",
        "1157                     <NA>                             <NA>\n",
        "1179            Herpetosiphon uncultured_Chloroflexi_bacterium\n",
        "1180            Herpetosiphon uncultured_Chloroflexi_bacterium\n",
        "1181            Herpetosiphon uncultured_Chloroflexi_bacterium\n",
        "                                      Rank7 Rank8        padj\n",
        "641                    uncultured_bacterium  <NA> 0.003719211\n",
        "693  uncultured_Planctomycetaceae_bacterium  <NA> 0.050151845\n",
        "695                uncultured_planctomycete  <NA> 0.088983752\n",
        "710                  Planctomyces_sp._Io1-3  <NA> 0.008505588\n",
        "901                                    <NA>  <NA> 0.079224585\n",
        "907                                    <NA>  <NA> 0.053070876\n",
        "937                    uncultured_bacterium  <NA> 0.017318761\n",
        "984                                    <NA>  <NA> 0.086858035\n",
        "1132                                   <NA>  <NA> 0.053070876\n",
        "1133                                   <NA>  <NA> 0.005466953\n",
        "1146                                   <NA>  <NA> 0.072460288\n",
        "1148                                   <NA>  <NA> 0.044420117\n",
        "1150                                   <NA>  <NA> 0.005466953\n",
        "1151                                   <NA>  <NA> 0.044420117\n",
        "1157                                   <NA>  <NA> 0.086858035\n",
        "1179                                   <NA>  <NA> 0.008230695\n",
        "1180                                   <NA>  <NA> 0.003719211\n",
        "1181                                   <NA>  <NA> 0.050151845\n"
       ]
      }
     ],
     "prompt_number": 7
    },
    {
     "cell_type": "code",
     "collapsed": false,
     "input": [
      "%%R\n",
      "df_PS_resp_unique = subset(df_PS_resp, !duplicated(OTU))\n",
      "nrow(df_PS_resp_unique)"
     ],
     "language": "python",
     "metadata": {},
     "outputs": [
      {
       "metadata": {},
       "output_type": "display_data",
       "text": [
        "[1] 18\n"
       ]
      }
     ],
     "prompt_number": 11
    },
    {
     "cell_type": "code",
     "collapsed": false,
     "input": [
      "%%R\n",
      "df_PS_resp_counts = ddply(df_PS_resp, .(Rank2), summarize, NumSubs = length(unique(OTU)))\n",
      "print (df_PS_resp_counts)"
     ],
     "language": "python",
     "metadata": {},
     "outputs": [
      {
       "metadata": {},
       "output_type": "display_data",
       "text": [
        "            Rank2 NumSubs\n",
        "1   Bacteroidetes       1\n",
        "2     Chloroflexi       3\n",
        "3   Cyanobacteria       1\n",
        "4  Planctomycetes       3\n",
        "5  Proteobacteria       4\n",
        "6 Verrucomicrobia       6\n"
       ]
      }
     ],
     "prompt_number": 12
    },
    {
     "cell_type": "code",
     "collapsed": false,
     "input": [],
     "language": "python",
     "metadata": {},
     "outputs": []
    }
   ],
   "metadata": {}
  }
 ]
}