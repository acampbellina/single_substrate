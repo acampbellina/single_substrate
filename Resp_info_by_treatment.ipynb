{
 "cells": [
  {
   "cell_type": "code",
   "execution_count": 1,
   "metadata": {
    "collapsed": false
   },
   "outputs": [],
   "source": [
    "from IPython.display import Image, FileLink\n",
    "import pandas as pd\n",
    "import pandas.rpy.common as com"
   ]
  },
  {
   "cell_type": "code",
   "execution_count": 2,
   "metadata": {
    "collapsed": false
   },
   "outputs": [],
   "source": [
    "%load_ext rpy2.ipython"
   ]
  },
  {
   "cell_type": "code",
   "execution_count": 3,
   "metadata": {
    "collapsed": false
   },
   "outputs": [
    {
     "data": {
      "text/plain": [
       "Loading required package: S4Vectors\n",
       "Loading required package: stats4\n",
       "Loading required package: BiocGenerics\n",
       "Loading required package: parallel\n",
       "\n",
       "Attaching package: ‘BiocGenerics’\n",
       "\n",
       "The following objects are masked from ‘package:parallel’:\n",
       "\n",
       "    clusterApply, clusterApplyLB, clusterCall, clusterEvalQ,\n",
       "    clusterExport, clusterMap, parApply, parCapply, parLapply,\n",
       "    parLapplyLB, parRapply, parSapply, parSapplyLB\n",
       "\n",
       "The following object is masked from ‘package:stats’:\n",
       "\n",
       "    xtabs\n",
       "\n",
       "The following objects are masked from ‘package:base’:\n",
       "\n",
       "    anyDuplicated, append, as.data.frame, as.vector, cbind, colnames,\n",
       "    do.call, duplicated, eval, evalq, Filter, Find, get, intersect,\n",
       "    is.unsorted, lapply, Map, mapply, match, mget, order, paste, pmax,\n",
       "    pmax.int, pmin, pmin.int, Position, rank, rbind, Reduce, rep.int,\n",
       "    rownames, sapply, setdiff, sort, table, tapply, union, unique,\n",
       "    unlist, unsplit\n",
       "\n",
       "Loading required package: IRanges\n",
       "Loading required package: GenomicRanges\n",
       "Loading required package: GenomeInfoDb\n",
       "Loading required package: Rcpp\n",
       "Loading required package: RcppArmadillo\n",
       "\n",
       "Attaching package: ‘phyloseq’\n",
       "\n",
       "The following object is masked from ‘package:GenomicRanges’:\n",
       "\n",
       "    distance\n",
       "\n",
       "The following object is masked from ‘package:IRanges’:\n",
       "\n",
       "    distance\n",
       "\n",
       "\n",
       "Attaching package: ‘plyr’\n",
       "\n",
       "The following object is masked from ‘package:IRanges’:\n",
       "\n",
       "    desc\n",
       "\n",
       "The following object is masked from ‘package:S4Vectors’:\n",
       "\n",
       "    rename\n",
       "\n",
       "\n",
       "Attaching package: ‘dplyr’\n",
       "\n",
       "The following objects are masked from ‘package:plyr’:\n",
       "\n",
       "    arrange, count, desc, failwith, id, mutate, rename, summarise,\n",
       "    summarize\n",
       "\n",
       "The following objects are masked from ‘package:GenomicRanges’:\n",
       "\n",
       "    intersect, setdiff, union\n",
       "\n",
       "The following object is masked from ‘package:GenomeInfoDb’:\n",
       "\n",
       "    intersect\n",
       "\n",
       "The following objects are masked from ‘package:IRanges’:\n",
       "\n",
       "    collapse, desc, intersect, setdiff, slice, union\n",
       "\n",
       "The following object is masked from ‘package:S4Vectors’:\n",
       "\n",
       "    rename\n",
       "\n",
       "The following objects are masked from ‘package:BiocGenerics’:\n",
       "\n",
       "    combine, intersect, setdiff, union\n",
       "\n",
       "The following object is masked from ‘package:stats’:\n",
       "\n",
       "    filter\n",
       "\n",
       "The following objects are masked from ‘package:base’:\n",
       "\n",
       "    intersect, setdiff, setequal, union\n",
       "\n",
       "Loading required package: foreach\n",
       "foreach: simple, scalable parallel programming from Revolution Analytics\n",
       "Use Revolution R for scalability, fault tolerance and more.\n",
       "http://www.revolutionanalytics.com\n",
       "Loading required package: iterators\n",
       "\n",
       "Attaching package: ‘reshape’\n",
       "\n",
       "The following object is masked from ‘package:dplyr’:\n",
       "\n",
       "    rename\n",
       "\n",
       "The following objects are masked from ‘package:plyr’:\n",
       "\n",
       "    rename, round_any\n",
       "\n",
       "The following object is masked from ‘package:IRanges’:\n",
       "\n",
       "    expand\n",
       "\n",
       "The following object is masked from ‘package:S4Vectors’:\n",
       "\n",
       "    rename\n",
       "\n",
       "Loading required package: grid\n",
       "data.table 1.9.4  For help type: ?data.table\n",
       "*** NB: by=.EACHI is now explicit. See README to restore previous behaviour.\n",
       "\n",
       "Attaching package: ‘data.table’\n",
       "\n",
       "The following objects are masked from ‘package:dplyr’:\n",
       "\n",
       "    between, last\n",
       "\n",
       "\n",
       "Please cite as: \n",
       "\n",
       " Hlavac, Marek (2014). stargazer: LaTeX code and ASCII text for well-formatted regression and summary statistics tables.\n",
       " R package version 5.1. http://CRAN.R-project.org/package=stargazer \n",
       "\n"
      ]
     },
     "metadata": {},
     "output_type": "display_data"
    }
   ],
   "source": [
    "%%R\n",
    "library(DESeq2)\n",
    "library(phyloseq)\n",
    "library(plyr); library(dplyr)\n",
    "library(ggplot2)\n",
    "library(doParallel)\n",
    "library(foreach)\n",
    "library(reshape)\n",
    "library(RColorBrewer)\n",
    "library(gridExtra)\n",
    "library(stats)\n",
    "library(data.table)\n",
    "library(xtable, lib.loc=\"/home/ashley/R/x86_64-pc-linux-gnu-library/3.1/\")\n",
    "library(stargazer, lib.loc=\"/home/ashley/R/x86_64-pc-linux-gnu-library/3.1/\")"
   ]
  },
  {
   "cell_type": "markdown",
   "metadata": {},
   "source": [
    "###This file is from the [sparsity notebook](./Sparsity_make_l2fc_table.ipynb)."
   ]
  },
  {
   "cell_type": "code",
   "execution_count": 4,
   "metadata": {
    "collapsed": false
   },
   "outputs": [
    {
     "data": {
      "text/plain": [
       "  sparsity_threshold Day Treatment     OTU log2FoldChange            p    Rank1\n",
       "1               0.55  30    13CCSS OTU.783     -0.3370825 9.965741e-01 Bacteria\n",
       "2               0.55  30    13CCSS  OTU.79      0.7598182 4.889860e-01 Bacteria\n",
       "3               0.55  30    13CCSS OTU.304      0.4183648 8.089837e-01 Bacteria\n",
       "4               0.55  30    13CCSS  OTU.50      0.7289694 5.252368e-01 Bacteria\n",
       "5               0.55  30    13CCSS OTU.382      2.9833574 1.370092e-07 Bacteria\n",
       "6               0.55  30    13CCSS OTU.465      0.5515994 6.887540e-01 Bacteria\n",
       "          Rank2      Rank3        Rank4         Rank5       Rank6\n",
       "1 Acidobacteria Holophagae      Sva0725          <NA>        <NA>\n",
       "2 Bacteroidetes Cytophagia Cytophagales Cytophagaceae Flexibacter\n",
       "3 Bacteroidetes Cytophagia Cytophagales Cytophagaceae Flexibacter\n",
       "4 Bacteroidetes Cytophagia Cytophagales Cytophagaceae Flexibacter\n",
       "5 Bacteroidetes Cytophagia Cytophagales Cytophagaceae Flexibacter\n",
       "6 Bacteroidetes Cytophagia Cytophagales Cytophagaceae Flexibacter\n",
       "                               Rank7 Rank8         padj\n",
       "1                               <NA>  <NA> 1.000000e+00\n",
       "2               uncultured_bacterium  <NA> 1.000000e+00\n",
       "3               uncultured_bacterium  <NA> 1.000000e+00\n",
       "4               uncultured_bacterium  <NA> 1.000000e+00\n",
       "5 uncultured_Bacteroidetes_bacterium  <NA> 4.329492e-05\n",
       "6               uncultured_bacterium  <NA> 1.000000e+00\n"
      ]
     },
     "metadata": {},
     "output_type": "display_data"
    }
   ],
   "source": [
    "%%R\n",
    "df_all = read.csv(\"data/l2fc_table.csv\")\n",
    "head(df_all)"
   ]
  },
  {
   "cell_type": "code",
   "execution_count": 5,
   "metadata": {
    "collapsed": false
   },
   "outputs": [
    {
     "data": {
      "text/plain": [
       "[1] 1198\n"
      ]
     },
     "metadata": {},
     "output_type": "display_data"
    }
   ],
   "source": [
    "%%R\n",
    "nrow (df_all)"
   ]
  },
  {
   "cell_type": "markdown",
   "metadata": {},
   "source": [
    "### SS"
   ]
  },
  {
   "cell_type": "code",
   "execution_count": 6,
   "metadata": {
    "collapsed": false
   },
   "outputs": [
    {
     "data": {
      "text/plain": [
       "[1] 29\n"
      ]
     },
     "metadata": {},
     "output_type": "display_data"
    }
   ],
   "source": [
    "%%R\n",
    "FDR = 0.10\n",
    "df_SS_resp = subset(df_all, (Treatment == \"13CCSS\")&(padj <= FDR))\n",
    "nrow (df_SS_resp)"
   ]
  },
  {
   "cell_type": "code",
   "execution_count": 7,
   "metadata": {
    "collapsed": true
   },
   "outputs": [],
   "source": [
    "%%R\n",
    "write.csv(df_SS_resp, file = \"data/SS_responders.csv\")"
   ]
  },
  {
   "cell_type": "code",
   "execution_count": null,
   "metadata": {
    "collapsed": false
   },
   "outputs": [
    {
     "data": {
      "text/plain": [
       "\n",
       "% Table created by stargazer v.5.1 by Marek Hlavac, Harvard University. E-mail: hlavac at fas.harvard.edu\n",
       "% Date and time: Thu, Apr 09, 2015 - 10:25:46 AM\n",
       "\\begin{table}[!htbp] \\centering \n",
       "  \\caption{} \n",
       "  \\label{} \n",
       "\\begin{tabular}{@{\\extracolsep{5pt}} ccccccccccccccc} \n",
       "\\\\[-1.8ex]\\hline \n",
       "\\hline \\\\[-1.8ex] \n",
       "sparsity\\_threshold & Day & Treatment & OTU & log2FoldChange & p & Rank1 & Rank2 & Rank3 & Rank4 & Rank5 & Rank6 & Rank7 & Rank8 & padj \\\\ \n",
       "\\hline \\\\[-1.8ex] \n",
       "$0.550$ & $30$ & 13CCSS & OTU.382 & $2.983$ & $0.00000$ & Bacteria & Bacteroidetes & Cytophagia & Cytophagales & Cytophagaceae & Flexibacter & uncultured\\_Bacteroidetes\\_bacterium &  & $0.00004$ \\\\ \n",
       "$0.550$ & $30$ & 13CCSS & OTU.525 & $1.902$ & $0.002$ & Bacteria & Bacteroidetes & Cytophagia & Cytophagales & Cytophagaceae & Cytophaga & uncultured\\_bacterium &  & $0.058$ \\\\ \n",
       "$0.550$ & $30$ & 13CCSS & OTU.285 & $2.517$ & $0.00005$ & Bacteria & Planctomycetes & Planctomycetacia & Planctomycetales & Planctomycetaceae & Pir4\\_lineage & uncultured\\_planctomycete &  & $0.002$ \\\\ \n",
       "$0.550$ & $30$ & 13CCSS & OTU.169 & $2.391$ & $0.00001$ & Bacteria & Proteobacteria & Deltaproteobacteria & Myxococcales & Nannocystineae & Haliangiaceae & Haliangium & uncultured\\_bacterium & $0.001$ \\\\ \n",
       "$0.550$ & $30$ & 13CCSS & OTU.5680 & $2.829$ & $0.00001$ & Bacteria & Proteobacteria & Deltaproteobacteria & Myxococcales & Sorangiineae & uncultured & uncultured\\_bacterium &  & $0.0004$ \\\\ \n",
       "$0.550$ & $30$ & 13CCSS & OTU.442 & $1.855$ & $0.005$ & Bacteria & Proteobacteria & Deltaproteobacteria & Myxococcales & Sorangiineae & uncultured & uncultured\\_bacterium &  & $0.100$ \\\\ \n",
       "$0.550$ & $30$ & 13CCSS & OTU.19 & $1.857$ & $0.001$ & Bacteria & Proteobacteria & Alphaproteobacteria & Rhizobiales & Rhizobiaceae &  &  &  & $0.042$ \\\\ \n",
       "$0.550$ & $30$ & 13CCSS & OTU.766 & $2.361$ & $0.00002$ & Bacteria & Proteobacteria & Alphaproteobacteria & Rhizobiales & Hyphomicrobiaceae & Devosia & uncultured\\_bacterium &  & $0.001$ \\\\ \n",
       "$0.550$ & $30$ & 13CCSS & OTU.89 & $2.619$ & $0.00000$ & Bacteria & Proteobacteria & Alphaproteobacteria & Sphingomonadales & Sphingomonadaceae & Sphingomonas &  &  & $0.0001$ \\\\ \n",
       "$0.550$ & $30$ & 13CCSS & OTU.17 & $1.794$ & $0.002$ & Bacteria & Proteobacteria & Alphaproteobacteria & Sphingomonadales & Sphingomonadaceae & Sphingomonas & uncultured\\_bacterium &  & $0.064$ \\\\ \n",
       "$0.550$ & $30$ & 13CCSS & OTU.38 & $1.822$ & $0.0002$ & Bacteria & Proteobacteria & Alphaproteobacteria & Sphingomonadales & Sphingomonadaceae & Sphingomonas &  &  & $0.007$ \\\\ \n",
       "$0.550$ & $30$ & 13CCSS & OTU.20 & $1.662$ & $0.002$ & Bacteria & Proteobacteria & Alphaproteobacteria & Sphingomonadales & Sphingomonadaceae & Sphingomonas & uncultured\\_bacterium &  & $0.058$ \\\\ \n",
       "$0.550$ & $30$ & 13CCSS & OTU.2294 & $1.655$ & $0.004$ & Bacteria & Proteobacteria & Alphaproteobacteria & Sphingomonadales & Sphingomonadaceae & Sphingomonas & uncultured\\_bacterium &  & $0.100$ \\\\ \n",
       "$0.550$ & $30$ & 13CCSS & OTU.1414 & $1.869$ & $0.003$ & Bacteria & Proteobacteria & Alphaproteobacteria & Sphingomonadales & Sphingomonadaceae & Sphingomonas &  &  & $0.079$ \\\\ \n",
       "$0.550$ & $30$ & 13CCSS & OTU.73 & $1.947$ & $0.001$ & Bacteria & Proteobacteria & Alphaproteobacteria & Rhizobiales & Phyllobacteriaceae & uncultured &  &  & $0.034$ \\\\ \n",
       "$0.550$ & $30$ & 13CCSS & OTU.206 & $2.307$ & $0.0001$ & Bacteria & Proteobacteria & Alphaproteobacteria & Rhizobiales & MNG7 & uncultured\\_bacterium &  &  & $0.002$ \\\\ \n",
       "$0.550$ & $30$ & 13CCSS & OTU.263 & $1.765$ & $0.005$ & Bacteria & Proteobacteria & Alphaproteobacteria & Rhizobiales & Family\\_Incertae\\_Sedis & Nordella &  &  & $0.100$ \\\\ \n",
       "$0.550$ & $30$ & 13CCSS & OTU.114 & $3.009$ & $0.00000$ & Bacteria & Proteobacteria & Betaproteobacteria & Burkholderiales & Oxalobacteraceae &  &  &  & $0.0001$ \\\\ \n",
       "$0.550$ & $30$ & 13CCSS & OTU.6 & $2.782$ & $0.00000$ & Bacteria & Proteobacteria & Gammaproteobacteria & Pseudomonadales & Pseudomonadaceae & Cellvibrio & uncultured\\_bacterium &  & $0.0001$ \\\\ \n",
       "$0.550$ & $30$ & 13CCSS & OTU.2192 & $3.121$ & $0.00000$ & Bacteria & Verrucomicrobia & Spartobacteria & Chthoniobacterales & FukuN18\\_freshwater\\_group & uncultured\\_bacterium &  &  & $0.00005$ \\\\ \n",
       "$0.550$ & $30$ & 13CCSS & OTU.266 & $3.137$ & $0.00000$ & Bacteria & Verrucomicrobia & Spartobacteria & Chthoniobacterales & FukuN18\\_freshwater\\_group & uncultured\\_bacterium &  &  & $0.00005$ \\\\ \n",
       "$0.550$ & $30$ & 13CCSS & OTU.185 & $3.264$ & $0.00000$ & Bacteria & Verrucomicrobia & Spartobacteria & Chthoniobacterales & FukuN18\\_freshwater\\_group &  &  &  & $0.00001$ \\\\ \n",
       "$0.550$ & $30$ & 13CCSS & OTU.541 & $2.848$ & $0.00000$ & Bacteria & Verrucomicrobia & Spartobacteria & Chthoniobacterales & LD29 &  &  &  & $0.0002$ \\\\ \n",
       "$0.550$ & $30$ & 13CCSS & OTU.400 & $2.755$ & $0.00001$ & Bacteria & Verrucomicrobia & Candidatus\\_Methylacidiphilum & uncultured\\_bacterium &  &  &  &  & $0.001$ \\\\ \n",
       "$0.550$ & $30$ & 13CCSS & OTU.945 & $1.713$ & $0.003$ & Bacteria & Spirochaetes & Spirochaetales & Leptospiraceae & Turneriella & uncultured\\_bacterium &  &  & $0.069$ \\\\ \n",
       "$0.550$ & $30$ & 13CCSS & OTU.98 & $2.558$ & $0.00003$ & Bacteria & Chloroflexi & Herpetosiphonales & Herpetosiphonaceae & Herpetosiphon & uncultured\\_Chloroflexi\\_bacterium &  &  & $0.002$ \\\\ \n",
       "$0.550$ & $30$ & 13CCSS & OTU.4322 & $2.264$ & $0.0002$ & Bacteria & Chloroflexi & Herpetosiphonales & Herpetosiphonaceae & Herpetosiphon & uncultured\\_Chloroflexi\\_bacterium &  &  & $0.007$ \\\\ \n",
       "$0.550$ & $30$ & 13CCSS & OTU.64 & $2.781$ & $0.00000$ & Bacteria & Chloroflexi & Herpetosiphonales & Herpetosiphonaceae & Herpetosiphon & uncultured\\_Chloroflexi\\_bacterium &  &  & $0.0001$ \\\\ \n",
       "$0.550$ & $30$ & 13CCSS & OTU.569 & $2.152$ & $0.0002$ & Bacteria & Acidobacteria & Candidatus\\_Solibacter & uncultured\\_bacterium &  &  &  &  & $0.006$ \\\\ \n",
       "\\hline \\\\[-1.8ex] \n",
       "\\end{tabular} \n",
       "\\end{table} \n"
      ]
     },
     "metadata": {},
     "output_type": "display_data"
    }
   ],
   "source": [
    "%%R\n",
    "SS_responders = stargazer(df_SS_resp, type = \"latex\", summary = FALSE, rownames = FALSE,\n",
    "                          out=\"figs/SS_Responders_table.tex\")"
   ]
  },
  {
   "cell_type": "code",
   "execution_count": null,
   "metadata": {
    "collapsed": true
   },
   "outputs": [],
   "source": [
    "!latex figs/SS_Responders_table.tex >/dev/null\n",
    "!dvipdfm SS_responder_table.dvi figs/SS_Responders_table.pdf"
   ]
  },
  {
   "cell_type": "code",
   "execution_count": null,
   "metadata": {
    "collapsed": false
   },
   "outputs": [],
   "source": [
    "FileLink(\"figs/SS_Responders_table.pdf\")"
   ]
  },
  {
   "cell_type": "code",
   "execution_count": null,
   "metadata": {
    "collapsed": false
   },
   "outputs": [],
   "source": [
    "%%R\n",
    "df_SS_resp.table = xtable(df_SS_resp[1:10,])\n",
    "digits(df_SS_resp.table)[c(2,6)] <- 0\n",
    "print(df_SS_resp.table, floating = FALSE)"
   ]
  },
  {
   "cell_type": "code",
   "execution_count": null,
   "metadata": {
    "collapsed": false
   },
   "outputs": [],
   "source": [
    "%%R\n",
    "df_SS_resp_unique = subset(df_SS_resp, !duplicated(OTU))\n",
    "nrow(df_SS_resp_unique)"
   ]
  },
  {
   "cell_type": "code",
   "execution_count": null,
   "metadata": {
    "collapsed": false
   },
   "outputs": [],
   "source": [
    "%%R\n",
    "df_SS_resp_counts = ddply(df_SS_resp, .(Rank2), summarize, NumSubs = length(unique(OTU)))\n",
    "print (df_SS_resp_counts)"
   ]
  },
  {
   "cell_type": "markdown",
   "metadata": {},
   "source": [
    "### PS"
   ]
  },
  {
   "cell_type": "code",
   "execution_count": null,
   "metadata": {
    "collapsed": false
   },
   "outputs": [],
   "source": [
    "%%R\n",
    "FDR = 0.10\n",
    "df_PS_resp = subset(df_all, (Treatment == \"13CCPS\")&(padj <= FDR))\n",
    "df_PS_resp"
   ]
  },
  {
   "cell_type": "code",
   "execution_count": null,
   "metadata": {
    "collapsed": false
   },
   "outputs": [],
   "source": [
    "%%R\n",
    "df_PS_resp_unique = subset(df_PS_resp, !duplicated(OTU))\n",
    "nrow(df_PS_resp_unique)"
   ]
  },
  {
   "cell_type": "code",
   "execution_count": null,
   "metadata": {
    "collapsed": false
   },
   "outputs": [],
   "source": [
    "%%R\n",
    "df_PS_resp_counts = ddply(df_PS_resp, .(Rank2), summarize, NumSubs = length(unique(OTU)))\n",
    "print (df_PS_resp_counts)"
   ]
  },
  {
   "cell_type": "code",
   "execution_count": null,
   "metadata": {
    "collapsed": false
   },
   "outputs": [],
   "source": []
  }
 ],
 "metadata": {
  "kernelspec": {
   "display_name": "Python 2",
   "language": "python",
   "name": "python2"
  },
  "language_info": {
   "codemirror_mode": {
    "name": "ipython",
    "version": 2
   },
   "file_extension": ".py",
   "mimetype": "text/x-python",
   "name": "python",
   "nbconvert_exporter": "python",
   "pygments_lexer": "ipython2",
   "version": "2.7.9"
  }
 },
 "nbformat": 4,
 "nbformat_minor": 0
}
