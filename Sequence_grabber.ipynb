{
 "metadata": {
  "name": "",
  "signature": "sha256:a470da4d126a5c09ca679f2413979c8501a22015002485c54136378959f5faa6"
 },
 "nbformat": 3,
 "nbformat_minor": 0,
 "worksheets": [
  {
   "cells": [
    {
     "cell_type": "code",
     "collapsed": false,
     "input": [
      "from cogent import LoadSeqs, DNA"
     ],
     "language": "python",
     "metadata": {},
     "outputs": [],
     "prompt_number": 1
    },
    {
     "cell_type": "code",
     "collapsed": false,
     "input": [
      "OTU_ids = [\"OTU.204\"]\n",
      "seqs = LoadSeqs(\"/home/ashley/succ-C-DNASIP/data/otusn.fasta\", moltype=DNA, aligned=False)\n",
      "print seqs.takeSeqs(OTU_ids).toFasta()"
     ],
     "language": "python",
     "metadata": {},
     "outputs": [
      {
       "output_type": "stream",
       "stream": "stdout",
       "text": [
        ">OTU.204\n",
        "TTACAGGGTGCGTAGGTGGCCGGACAAGTCAGGTGTGAAATCCCTCAGCTCAACTGAGGAACTGCGCTTGAAACTGTTTGGCTAGAGTGAGCTAGGGGTGCTTGGAACTGCCAGTGGAGCGGTGAAATGTGTTGATATTGGCAGGAACACCGGAGCCGAAAGGGAAGCACTGGGGCTTAACTGACACTGAGGCACGAAAGCCAGGGGAGCAAACGGGAT\n"
       ]
      }
     ],
     "prompt_number": 2
    }
   ],
   "metadata": {}
  }
 ]
}