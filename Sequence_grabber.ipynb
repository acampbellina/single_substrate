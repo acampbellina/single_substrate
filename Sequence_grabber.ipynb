{
 "metadata": {
  "name": "",
  "signature": "sha256:59779a56934e4da85e5bf6574aa53f4a2e682a0f4cb79b193d2e5346492633c2"
 },
 "nbformat": 3,
 "nbformat_minor": 0,
 "worksheets": [
  {
   "cells": [
    {
     "cell_type": "code",
     "collapsed": false,
     "input": [
      "from cogent import LoadSeqs, DNA"
     ],
     "language": "python",
     "metadata": {},
     "outputs": [],
     "prompt_number": 1
    },
    {
     "cell_type": "code",
     "collapsed": false,
     "input": [
      "OTU_ids = [\"OTU.666\"]\n",
      "seqs = LoadSeqs(\"/home/ashley/succ-C-DNASIP/data/otusn.fasta\", moltype=DNA, aligned=False)\n",
      "print seqs.takeSeqs(OTU_ids).toFasta()"
     ],
     "language": "python",
     "metadata": {},
     "outputs": [
      {
       "output_type": "stream",
       "stream": "stdout",
       "text": [
        ">OTU.666\n",
        "GTAAAGGGCGTGTAGGCGGGAATGTAAGTCGGGCGTGAAATCCCTAGGCTCAACCTAGGAACTGCACTCGAAACTGCGTTTCTTGAGTATCGGAGAGGAAAGCGGAATTCCTGGTGTAGAGGTGAAATTCGTAGATATCAGGAGGAACACCAGTGGCGAAGGCGGCTTTCTGGACGATTACTGACGCTGAGACGCGAAAGCGTGGGGAGCAAACAGGAT\n"
       ]
      }
     ],
     "prompt_number": 3
    }
   ],
   "metadata": {}
  }
 ]
}