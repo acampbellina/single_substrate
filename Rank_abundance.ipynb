{
 "metadata": {
  "name": "",
  "signature": "sha256:e953830b974facaf4a6144206b1c68b7c9f30af77d1c23bb3810b641a0842879"
 },
 "nbformat": 3,
 "nbformat_minor": 0,
 "worksheets": [
  {
   "cells": [
    {
     "cell_type": "code",
     "collapsed": false,
     "input": [
      "from IPython.display import FileLink"
     ],
     "language": "python",
     "metadata": {},
     "outputs": [],
     "prompt_number": 1
    },
    {
     "cell_type": "code",
     "collapsed": false,
     "input": [
      "%load_ext rpy2.ipython"
     ],
     "language": "python",
     "metadata": {},
     "outputs": [],
     "prompt_number": 2
    },
    {
     "cell_type": "code",
     "collapsed": false,
     "input": [
      "%%R\n",
      "library(dplyr)\n",
      "library(ggplot2)\n",
      "library(phyloseq)\n",
      "library(RColorBrewer)\n",
      "library(gridExtra)\n",
      "library(stats)"
     ],
     "language": "python",
     "metadata": {},
     "outputs": [
      {
       "metadata": {},
       "output_type": "display_data",
       "text": [
        "\n",
        "Attaching package: \u2018dplyr\u2019\n",
        "\n",
        "The following object is masked from \u2018package:stats\u2019:\n",
        "\n",
        "    filter\n",
        "\n",
        "The following objects are masked from \u2018package:base\u2019:\n",
        "\n",
        "    intersect, setdiff, setequal, union\n",
        "\n",
        "Loading required package: grid\n"
       ]
      }
     ],
     "prompt_number": 3
    },
    {
     "cell_type": "code",
     "collapsed": false,
     "input": [
      "%%R\n",
      "\n",
      "asNumeric = function(x) { as.numeric(as.character(x)) }\n",
      "\n",
      "physeq = import_biom(\"data/otu_table_wtax.biom\", \"data/otusn.tree\")\n",
      "sample.data = import_qiime_sample_data(\"data/ABCD_combined_reads_mapper.tsv\")\n",
      "sample.data$Density = asNumeric(sample.data$Density)\n",
      "physeq = merge_phyloseq(physeq,sample.data)\n",
      "physeq.md = sample_data(physeq)\n",
      "physeq.bulk = prune_samples((physeq.md$Treatment %in% c(\"12CCPS\",\"13CCPS\",\"12CCSS\",\"13CCSS\", \"13CXPS\"))& \n",
      "                            (physeq.md$Day %in% c(30)) &\n",
      "                            row.names(physeq.md) %in% grep(\"bulk\", \n",
      "                                                           row.names(physeq.md), \n",
      "                                                           value=TRUE), physeq)\n",
      "physeq.bulk = transform_sample_counts(physeq.bulk, function(x) x/sum(x))\n",
      "physeq.bulk"
     ],
     "language": "python",
     "metadata": {},
     "outputs": [
      {
       "metadata": {},
       "output_type": "display_data",
       "text": [
        "phyloseq-class experiment-level object\n",
        "otu_table()   OTU Table:         [ 6236 taxa and 5 samples ]\n",
        "sample_data() Sample Data:       [ 5 samples by 7 sample variables ]\n",
        "tax_table()   Taxonomy Table:    [ 6236 taxa by 8 taxonomic ranks ]\n",
        "phy_tree()    Phylogenetic Tree: [ 6236 tips and 6235 internal nodes ]\n"
       ]
      }
     ],
     "prompt_number": 4
    },
    {
     "cell_type": "code",
     "collapsed": false,
     "input": [
      "%%R\n",
      "bulk.mdf = psmelt(physeq.bulk)\n",
      "head(bulk.mdf)"
     ],
     "language": "python",
     "metadata": {},
     "outputs": [
      {
       "metadata": {},
       "output_type": "display_data",
       "text": [
        "        OTU          Sample  Abundance      X.SampleID BarcodeSequence Day\n",
        "4     OTU.1  13C.PS.30.bulk 0.11972403  13C.PS.30.bulk      TCAGCATCCA  30\n",
        "1     OTU.1 cont.PS.30.bulk 0.07988981 cont.PS.30.bulk      TCACGTGATC  30\n",
        "2     OTU.1  13X.PS.30.bulk 0.06415590  13X.PS.30.bulk      TCAGACACTC  30\n",
        "8340 OTU.25  13C.SS.30.bulk 0.02304348  13C.SS.30.bulk      TCAGCATCGT  30\n",
        "3     OTU.1 cont.SS.30.bulk 0.02035278 cont.SS.30.bulk      TCAGAGACTG  30\n",
        "5560  OTU.2 cont.SS.30.bulk 0.01990050 cont.SS.30.bulk      TCAGAGACTG  30\n",
        "     Density   LinkerPrimerSequence Treatment     Description    Rank1\n",
        "4         NA CAGGACTACHVGGGTWTCTAAT    13CCPS  13C.PS.30.bulk Bacteria\n",
        "1         NA CAGGACTACHVGGGTWTCTAAT    12CCPS cont.PS.30.bulk Bacteria\n",
        "2         NA CAGGACTACHVGGGTWTCTAAT    13CXPS  13X.PS.30.bulk Bacteria\n",
        "8340      NA CAGGACTACHVGGGTWTCTAAT    13CCSS  13C.SS.30.bulk Bacteria\n",
        "3         NA CAGGACTACHVGGGTWTCTAAT    12CCSS cont.SS.30.bulk Bacteria\n",
        "5560      NA CAGGACTACHVGGGTWTCTAAT    12CCSS cont.SS.30.bulk Bacteria\n",
        "               Rank2               Rank3              Rank4            Rank5\n",
        "4     Actinobacteria       Micrococcales     Micrococcaceae     Arthrobacter\n",
        "1     Actinobacteria       Micrococcales     Micrococcaceae     Arthrobacter\n",
        "2     Actinobacteria       Micrococcales     Micrococcaceae     Arthrobacter\n",
        "8340 Verrucomicrobia      Spartobacteria Chthoniobacterales DA101_soil_group\n",
        "3     Actinobacteria       Micrococcales     Micrococcaceae     Arthrobacter\n",
        "5560  Proteobacteria Gammaproteobacteria    Pseudomonadales Pseudomonadaceae\n",
        "                    Rank6 Rank7 Rank8\n",
        "4                    <NA>  <NA>  <NA>\n",
        "1                    <NA>  <NA>  <NA>\n",
        "2                    <NA>  <NA>  <NA>\n",
        "8340 uncultured_bacterium  <NA>  <NA>\n",
        "3                    <NA>  <NA>  <NA>\n",
        "5560                 <NA>  <NA>  <NA>\n"
       ]
      }
     ],
     "prompt_number": 5
    },
    {
     "cell_type": "code",
     "collapsed": false,
     "input": [
      "%%R\n",
      "RA.df = bulk.mdf %>%\n",
      "    select(Sample, OTU, Abundance) %>%\n",
      "    #group_by(Sample) #%>% \n",
      "    arrange(Sample, desc(Abundance))"
     ],
     "language": "python",
     "metadata": {},
     "outputs": [],
     "prompt_number": 6
    },
    {
     "cell_type": "code",
     "collapsed": false,
     "input": [
      "%%R\n",
      "head(RA.df)"
     ],
     "language": "python",
     "metadata": {},
     "outputs": [
      {
       "metadata": {},
       "output_type": "display_data",
       "text": [
        "          Sample      OTU  Abundance\n",
        "1 13C.PS.30.bulk    OTU.1 0.11972403\n",
        "2 13C.PS.30.bulk    OTU.6 0.01785714\n",
        "3 13C.PS.30.bulk    OTU.2 0.01745130\n",
        "4 13C.PS.30.bulk   OTU.51 0.01339286\n",
        "5 13C.PS.30.bulk OTU.4743 0.01258117\n",
        "6 13C.PS.30.bulk   OTU.25 0.01014610\n"
       ]
      }
     ],
     "prompt_number": 7
    },
    {
     "cell_type": "markdown",
     "metadata": {},
     "source": [
      "###This file is from the [sparsity notebook](./Sparsity_make_l2fc_table.ipynb)."
     ]
    },
    {
     "cell_type": "code",
     "collapsed": false,
     "input": [
      "%%R\n",
      "df_all = read.table(\"data/l2fc_table.csv\", \n",
      "                    header = TRUE,\n",
      "                    sep = \",\")\n",
      "nrow(df_all)"
     ],
     "language": "python",
     "metadata": {},
     "outputs": [
      {
       "metadata": {},
       "output_type": "display_data",
       "text": [
        "[1] 1198\n"
       ]
      }
     ],
     "prompt_number": 8
    },
    {
     "cell_type": "code",
     "collapsed": false,
     "input": [
      "%%R\n",
      "tax = data.frame(tax_table(physeq.bulk))\n",
      "tax$OTU = rownames(tax)\n",
      "\n",
      "df_all$padj = p.adjust(df_all$p, method = \"BH\")\n",
      "\n",
      "OTUs.wP = unique(df_all$OTU)"
     ],
     "language": "python",
     "metadata": {},
     "outputs": [],
     "prompt_number": 9
    },
    {
     "cell_type": "heading",
     "level": 3,
     "metadata": {},
     "source": [
      "For 2 Panel Figure (average of each treatment)"
     ]
    },
    {
     "cell_type": "code",
     "collapsed": false,
     "input": [
      "%%R\n",
      "RA.df.PS = subset(RA.df, (Sample==c(\"cont.PS.30.bulk\", \"13C.PS.30.bulk\", \"13X.PS.30.bulk\")))\n",
      "\n",
      "RA.df.PS = RA.df.PS %>%\n",
      "    group_by(OTU) %>% \n",
      "    summarize(mean.abund = mean(Abundance), \n",
      "              max.abund = max(Abundance), \n",
      "              min.abund = min(Abundance))\n",
      "\n",
      "RA.df.PS.sorted = RA.df.PS[order(-RA.df.PS$mean.abund, -RA.df.PS$max.abund),]\n",
      "RA.df.PS.sorted$Rank = 1:nrow(RA.df.PS.sorted)\n",
      "RA.df.PS.sorted$Treatment = \"13CCPS\"\n",
      "\n",
      "RA.PS = RA.df.PS.sorted\n",
      "#RA.df.PS$ID = \"1\"\n",
      "head(RA.PS)"
     ],
     "language": "python",
     "metadata": {},
     "outputs": [
      {
       "metadata": {},
       "output_type": "display_data",
       "text": [
        "Source: local data frame [6 x 6]\n",
        "\n",
        "       OTU  mean.abund  max.abund   min.abund Rank Treatment\n",
        "1    OTU.1 0.079889807 0.07988981 0.079889807    1    13CCPS\n",
        "2   OTU.51 0.014451500 0.01445150 0.014451500    2    13CCPS\n",
        "3    OTU.6 0.013417295 0.01785714 0.008977447    3    13CCPS\n",
        "4 OTU.4743 0.012676760 0.01277235 0.012581169    4    13CCPS\n",
        "5   OTU.43 0.011520160 0.01152016 0.011520160    5    13CCPS\n",
        "6   OTU.78 0.009794456 0.01007226 0.009516654    6    13CCPS\n"
       ]
      }
     ],
     "prompt_number": 10
    },
    {
     "cell_type": "code",
     "collapsed": false,
     "input": [
      "%%R\n",
      "RA.df.SS = subset(RA.df, (Sample==c(\"cont.SS.30.bulk\", \"13C.SS.30.bulk\")))\n",
      "\n",
      "RA.df.SS = RA.df.SS %>%\n",
      "    group_by(OTU) %>% \n",
      "    summarize(mean.abund = mean(Abundance), \n",
      "              max.abund = max(Abundance), \n",
      "              min.abund = min(Abundance))\n",
      "\n",
      "RA.df.SS.sorted = RA.df.SS[order(-RA.df.SS$mean.abund, -RA.df.SS$max.abund),]\n",
      "RA.df.SS.sorted$Rank = 1:nrow(RA.df.SS.sorted)\n",
      "RA.df.SS.sorted$Treatment = \"13CCSS\"\n",
      "\n",
      "RA.SS = RA.df.SS.sorted\n",
      "#RA.df.PS$ID = \"1\"\n",
      "head(RA.SS)"
     ],
     "language": "python",
     "metadata": {},
     "outputs": [
      {
       "metadata": {},
       "output_type": "display_data",
       "text": [
        "Source: local data frame [6 x 6]\n",
        "\n",
        "     OTU  mean.abund   max.abund   min.abund Rank Treatment\n",
        "1 OTU.21 0.015652174 0.015652174 0.015652174    1    13CCSS\n",
        "2  OTU.1 0.015393782 0.020352782 0.010434783    2    13CCSS\n",
        "3  OTU.7 0.014419208 0.014925373 0.013913043    3    13CCSS\n",
        "4 OTU.25 0.012663953 0.012663953 0.012663953    4    13CCSS\n",
        "5 OTU.16 0.010869565 0.010869565 0.010869565    5    13CCSS\n",
        "6  OTU.2 0.009565217 0.009565217 0.009565217    6    13CCSS\n"
       ]
      }
     ],
     "prompt_number": 11
    },
    {
     "cell_type": "code",
     "collapsed": false,
     "input": [
      "%%R\n",
      "df = rbind(RA.PS, RA.SS)\n",
      "head(df)"
     ],
     "language": "python",
     "metadata": {},
     "outputs": [
      {
       "metadata": {},
       "output_type": "display_data",
       "text": [
        "Source: local data frame [6 x 6]\n",
        "\n",
        "       OTU  mean.abund  max.abund   min.abund Rank Treatment\n",
        "1    OTU.1 0.079889807 0.07988981 0.079889807    1    13CCPS\n",
        "2   OTU.51 0.014451500 0.01445150 0.014451500    2    13CCPS\n",
        "3    OTU.6 0.013417295 0.01785714 0.008977447    3    13CCPS\n",
        "4 OTU.4743 0.012676760 0.01277235 0.012581169    4    13CCPS\n",
        "5   OTU.43 0.011520160 0.01152016 0.011520160    5    13CCPS\n",
        "6   OTU.78 0.009794456 0.01007226 0.009516654    6    13CCPS\n"
       ]
      }
     ],
     "prompt_number": 12
    },
    {
     "cell_type": "code",
     "collapsed": false,
     "input": [
      "%%R -h 350\n",
      "\n",
      "p = ggplot(df, aes(y = mean.abund, x = Rank))\n",
      "p = p + geom_ribbon(aes(ymax = max.abund, ymin = min.abund), alpha = 0.25)\n",
      "p = p + facet_wrap(~Treatment, scales = \"free_y\", ncol = 2)\n",
      "p = p + geom_line()\n",
      "p = p + scale_y_log10()\n",
      "p = p + labs(y = \"Relative Abundance\")\n",
      "\n",
      "p"
     ],
     "language": "python",
     "metadata": {},
     "outputs": [
      {
       "metadata": {},
       "output_type": "display_data",
       "png": "[encoded data removed]"
      }
     ],
     "prompt_number": 13
    },
    {
     "cell_type": "code",
     "collapsed": false,
     "input": [
      "%%R\n",
      "# dataframe to make figure with responder rug\n",
      "df.wP = subset(df, OTU %in% OTUs.wP)\n",
      "\n",
      "head(df.wP)"
     ],
     "language": "python",
     "metadata": {},
     "outputs": [
      {
       "metadata": {},
       "output_type": "display_data",
       "text": [
        "Source: local data frame [6 x 6]\n",
        "\n",
        "       OTU  mean.abund  max.abund   min.abund Rank Treatment\n",
        "1    OTU.1 0.079889807 0.07988981 0.079889807    1    13CCPS\n",
        "2   OTU.51 0.014451500 0.01445150 0.014451500    2    13CCPS\n",
        "3    OTU.6 0.013417295 0.01785714 0.008977447    3    13CCPS\n",
        "4 OTU.4743 0.012676760 0.01277235 0.012581169    4    13CCPS\n",
        "5   OTU.43 0.011520160 0.01152016 0.011520160    5    13CCPS\n",
        "6   OTU.78 0.009794456 0.01007226 0.009516654    6    13CCPS\n"
       ]
      }
     ],
     "prompt_number": 14
    },
    {
     "cell_type": "code",
     "collapsed": false,
     "input": [
      "%%R\n",
      "df_all.p.summarize = df_all %>% \n",
      "    group_by(OTU, Treatment) %>%\n",
      "    summarize(p.adj.min = min(padj))\n",
      "\n",
      "df_all.p.summarize = left_join(df_all.p.summarize, df.wP)\n",
      "df_all.p.summarize = left_join(df_all.p.summarize, tax)\n",
      "\n",
      "df = df_all.p.summarize\n",
      "df$jitter = 1 + runif(nrow(df), min = 0.25, max = 2.5)\n",
      "\n",
      "head(df)"
     ],
     "language": "python",
     "metadata": {},
     "outputs": [
      {
       "metadata": {},
       "output_type": "display_data",
       "text": [
        "Joining by: c(\"OTU\", \"Treatment\")\n",
        "Joining by: \"OTU\"\n",
        "Source: local data frame [6 x 16]\n",
        "Groups: OTU\n",
        "\n",
        "      OTU Treatment p.adj.min  mean.abund   max.abund   min.abund Rank    Rank1\n",
        "1   OTU.1    13CCPS 1.0000000 0.079889807 0.079889807 0.079889807    1 Bacteria\n",
        "2   OTU.1    13CCSS 1.0000000 0.015393782 0.020352782 0.010434783    2 Bacteria\n",
        "3  OTU.10    13CCPS 1.0000000 0.004817167 0.004817167 0.004817167   20 Bacteria\n",
        "4  OTU.10    13CCSS 1.0000000 0.002173913 0.002173913 0.002173913   61 Bacteria\n",
        "5 OTU.100    13CCPS 0.4790076          NA          NA          NA   NA Bacteria\n",
        "6 OTU.100    13CCSS 0.4084521          NA          NA          NA   NA Bacteria\n",
        "Variables not shown: Rank2 (fctr), Rank3 (fctr), Rank4 (fctr), Rank5 (fctr),\n",
        "  Rank6 (fctr), Rank7 (fctr), Rank8 (fctr), jitter (dbl)\n"
       ]
      }
     ],
     "prompt_number": 15
    },
    {
     "cell_type": "code",
     "collapsed": false,
     "input": [
      "%%R\n",
      "#responder df to use to make rug on fig\n",
      "#\"Resp\" column added to hack ggplot to put responders from both treatments on a single RA plot of only one treatment\n",
      "FDR = 0.1\n",
      "\n",
      "SS.Resp = subset(df, (p.adj.min <= FDR)&(Treatment==\"13CCSS\"))\n",
      "SS.Resp$Resp = \"1\" \n",
      "PS.Resp = subset(df, (p.adj.min <= FDR)&(Treatment==\"13CCPS\"))\n",
      "PS.Resp$Resp = \"2\" \n",
      "\n",
      "resp = rbind(SS.Resp, PS.Resp)\n",
      "head(resp)"
     ],
     "language": "python",
     "metadata": {},
     "outputs": [
      {
       "metadata": {},
       "output_type": "display_data",
       "text": [
        "Source: local data frame [6 x 17]\n",
        "Groups: OTU\n",
        "\n",
        "       OTU Treatment    p.adj.min  mean.abund   max.abund    min.abund Rank\n",
        "1  OTU.114    13CCSS 0.0001030306 0.002608696 0.002608696 0.0026086957   52\n",
        "2 OTU.1414    13CCSS 0.0881382219 0.000452284 0.000452284 0.0004522840  317\n",
        "3  OTU.169    13CCSS 0.0011869710 0.001756632 0.002608696 0.0009045681   90\n",
        "4   OTU.17    13CCSS 0.0741265877          NA          NA           NA   NA\n",
        "5  OTU.185    13CCSS 0.0000232668 0.002173913 0.002173913 0.0021739130   64\n",
        "6   OTU.19    13CCSS 0.0492858653 0.003165988 0.003165988 0.0031659882   41\n",
        "Variables not shown: Rank1 (fctr), Rank2 (fctr), Rank3 (fctr), Rank4 (fctr),\n",
        "  Rank5 (fctr), Rank6 (fctr), Rank7 (fctr), Rank8 (fctr), jitter (dbl), Resp\n",
        "  (chr)\n"
       ]
      }
     ],
     "prompt_number": 16
    },
    {
     "cell_type": "code",
     "collapsed": false,
     "input": [
      "%%R\n",
      "#Hack to make ggplot add all responders to SS plots\n",
      "resp$Treatment[resp$Treatment == \"13CCPS\"] = \"13CCSS\"\n",
      "resp.1 = resp\n",
      "head(resp.1)"
     ],
     "language": "python",
     "metadata": {},
     "outputs": [
      {
       "metadata": {},
       "output_type": "display_data",
       "text": [
        "Source: local data frame [6 x 17]\n",
        "Groups: OTU\n",
        "\n",
        "       OTU Treatment    p.adj.min  mean.abund   max.abund    min.abund Rank\n",
        "1  OTU.114    13CCSS 0.0001030306 0.002608696 0.002608696 0.0026086957   52\n",
        "2 OTU.1414    13CCSS 0.0881382219 0.000452284 0.000452284 0.0004522840  317\n",
        "3  OTU.169    13CCSS 0.0011869710 0.001756632 0.002608696 0.0009045681   90\n",
        "4   OTU.17    13CCSS 0.0741265877          NA          NA           NA   NA\n",
        "5  OTU.185    13CCSS 0.0000232668 0.002173913 0.002173913 0.0021739130   64\n",
        "6   OTU.19    13CCSS 0.0492858653 0.003165988 0.003165988 0.0031659882   41\n",
        "Variables not shown: Rank1 (fctr), Rank2 (fctr), Rank3 (fctr), Rank4 (fctr),\n",
        "  Rank5 (fctr), Rank6 (fctr), Rank7 (fctr), Rank8 (fctr), jitter (dbl), Resp\n",
        "  (chr)\n"
       ]
      }
     ],
     "prompt_number": 17
    },
    {
     "cell_type": "code",
     "collapsed": false,
     "input": [
      "%%R\n",
      "#Hack to make ggplot add all responders to PS plots\n",
      "resp$Treatment[resp$Treatment == \"13CCSS\"] = \"13CCPS\"\n",
      "resp.2 = resp\n",
      "head(resp.2)"
     ],
     "language": "python",
     "metadata": {},
     "outputs": [
      {
       "metadata": {},
       "output_type": "display_data",
       "text": [
        "Source: local data frame [6 x 17]\n",
        "Groups: OTU\n",
        "\n",
        "       OTU Treatment    p.adj.min  mean.abund   max.abund    min.abund Rank\n",
        "1  OTU.114    13CCPS 0.0001030306 0.002608696 0.002608696 0.0026086957   52\n",
        "2 OTU.1414    13CCPS 0.0881382219 0.000452284 0.000452284 0.0004522840  317\n",
        "3  OTU.169    13CCPS 0.0011869710 0.001756632 0.002608696 0.0009045681   90\n",
        "4   OTU.17    13CCPS 0.0741265877          NA          NA           NA   NA\n",
        "5  OTU.185    13CCPS 0.0000232668 0.002173913 0.002173913 0.0021739130   64\n",
        "6   OTU.19    13CCPS 0.0492858653 0.003165988 0.003165988 0.0031659882   41\n",
        "Variables not shown: Rank1 (fctr), Rank2 (fctr), Rank3 (fctr), Rank4 (fctr),\n",
        "  Rank5 (fctr), Rank6 (fctr), Rank7 (fctr), Rank8 (fctr), jitter (dbl), Resp\n",
        "  (chr)\n"
       ]
      }
     ],
     "prompt_number": 18
    },
    {
     "cell_type": "code",
     "collapsed": false,
     "input": [
      "%%R -h 400 -w 700\n",
      "\n",
      "colours = c(\"#377eb8\", \"#4daf4a\")\n",
      "getPalette = colorRampPalette(brewer.pal(8, \"Set1\"))\n",
      "\n",
      "p2 = ggplot(df, aes(y = mean.abund, x = Rank))\n",
      "p2 = p2 + geom_ribbon(aes(ymax = max.abund, ymin = min.abund), alpha = 0.25)\n",
      "p2 = p2 + facet_wrap(~Treatment, ncol = 2)\n",
      "\n",
      "p2 = p2 + geom_rug(data = subset(resp.1, Resp == \"1\"), \n",
      "                 sides = \"l\", aes(color = Rank4), size = 1.5, alpha = 0.5)\n",
      "\n",
      "p2 = p2 + geom_rug(data = subset(resp.1, Resp == \"2\"), \n",
      "                 sides = \"r\", aes(color = Rank4), size = 1.5, alpha = 0.5)\n",
      "\n",
      "p2 = p2 + geom_rug(data = subset(resp.2, Resp == \"1\"), \n",
      "                 sides = \"l\", aes(color = Rank4), size = 1.5, alpha = 0.5)\n",
      "\n",
      "p2 = p2 + geom_rug(data = subset(resp.2, Resp == \"2\"), \n",
      "                 sides = \"r\", aes(color = Rank4), size = 1.5, alpha = 0.5)\n",
      "\n",
      "p2 = p2 + geom_line(size = 1)\n",
      "\n",
      "p2 = p2 + scale_color_manual(values=getPalette(13), labels = t)\n",
      "\n",
      "p2 = p2 + scale_y_log10()\n",
      "p2 = p2 + labs(y = \"Relative Abundance\", color = \"Phylum\")\n",
      "\n",
      "p2 = p2 + theme_bw()\n",
      "\n",
      "p2 = p2 + guides(fill = guide_legend(label.hjust = 0))\n",
      "\n",
      "p2"
     ],
     "language": "python",
     "metadata": {},
     "outputs": [
      {
       "metadata": {},
       "output_type": "display_data",
       "png": "[encoded data removed]"
      }
     ],
     "prompt_number": 19
    },
    {
     "cell_type": "code",
     "collapsed": false,
     "input": [
      "%%R\n",
      "PS.mean_abund = subset(df_all.p.summarize, (Rank3==\"Spartobacteria\")&(Treatment==\"13CCPS\"))$mean.abund\n",
      "SS.mean_abund = subset(df_all.p.summarize, (Rank3==\"Spartobacteria\")&(Treatment==\"13CCSS\"))$mean.abund\n",
      "\n",
      "wilcox.test(SS.mean_abund, PS.mean_abund, alternative = \"greater\")"
     ],
     "language": "python",
     "metadata": {},
     "outputs": [
      {
       "metadata": {},
       "output_type": "display_data",
       "text": [
        "\n",
        "\tWilcoxon rank sum test with continuity correction\n",
        "\n",
        "data:  SS.mean_abund and PS.mean_abund\n",
        "W = 141, p-value = 0.3452\n",
        "alternative hypothesis: true location shift is not equal to 0\n",
        "\n"
       ]
      }
     ],
     "prompt_number": 64
    },
    {
     "cell_type": "code",
     "collapsed": false,
     "input": [
      "%%R\n",
      "PSresp.mean_abund.PS = subset(resp.2, (Resp==\"2\"))$mean.abund\n",
      "PSresp.mean_abund.SS = subset(resp.2, (Resp==\"2\"))$mean.abund\n",
      "\n",
      "#wilcox.test(SS.mean_abund, PS.mean_abund, alternative = \"less\")\n",
      "print(PSresp.mean_abund.PS)"
     ],
     "language": "python",
     "metadata": {},
     "outputs": []
    },
    {
     "cell_type": "heading",
     "level": 3,
     "metadata": {},
     "source": [
      "For Multi-Panel Figure panel for each rep within a treatment"
     ]
    },
    {
     "cell_type": "code",
     "collapsed": false,
     "input": [
      "%%R\n",
      "RA.df.12CCPS = subset(RA.df, Sample==\"cont.PS.30.bulk\")\n",
      "#RA.df.12CCPS.sorted = RA.df.12CCPS[order(-RA.df$Sample, -RA.df$Abundance),]\n",
      "RA.df.12CCPS$Rank = 1:nrow(RA.df.12CCPS)\n",
      "RA.df.12CCPS$Treatment = \"13CCPS\"\n",
      "RA.df.12CCPS$ID = \"1\"\n",
      "nrow(RA.df.12CCPS)"
     ],
     "language": "python",
     "metadata": {},
     "outputs": [
      {
       "metadata": {},
       "output_type": "display_data",
       "text": [
        "[1] 6236\n"
       ]
      }
     ],
     "prompt_number": 27
    },
    {
     "cell_type": "code",
     "collapsed": false,
     "input": [
      "%%R\n",
      "RA.df.13CCPS = subset(RA.df, Sample==\"13C.PS.30.bulk\")\n",
      "#RA.df.12CCPS.sorted = RA.df.12CCPS[order(-RA.df$Sample, -RA.df$Abundance),]\n",
      "RA.df.13CCPS$Rank = 1:nrow(RA.df.13CCPS)\n",
      "RA.df.13CCPS$Treatment = \"13CCPS\"\n",
      "RA.df.13CCPS$ID = \"2\"\n",
      "head(RA.df.13CCPS)"
     ],
     "language": "python",
     "metadata": {},
     "outputs": [
      {
       "metadata": {},
       "output_type": "display_data",
       "text": [
        "          Sample      OTU  Abundance Rank Treatment ID\n",
        "1 13C.PS.30.bulk    OTU.1 0.11972403    1    13CCPS  2\n",
        "2 13C.PS.30.bulk    OTU.6 0.01785714    2    13CCPS  2\n",
        "3 13C.PS.30.bulk    OTU.2 0.01745130    3    13CCPS  2\n",
        "4 13C.PS.30.bulk   OTU.51 0.01339286    4    13CCPS  2\n",
        "5 13C.PS.30.bulk OTU.4743 0.01258117    5    13CCPS  2\n",
        "6 13C.PS.30.bulk   OTU.25 0.01014610    6    13CCPS  2\n"
       ]
      }
     ],
     "prompt_number": 28
    },
    {
     "cell_type": "code",
     "collapsed": false,
     "input": [
      "%%R\n",
      "RA.df.13CXPS = subset(RA.df, Sample==\"13X.PS.30.bulk\")\n",
      "#RA.df.12CCPS.sorted = RA.df.12CCPS[order(-RA.df$Sample, -RA.df$Abundance),]\n",
      "RA.df.13CXPS$Rank = 1:nrow(RA.df.13CXPS)\n",
      "RA.df.13CXPS$Treatment = \"13CCPS\"\n",
      "RA.df.13CXPS$ID = \"3\"\n",
      "nrow(RA.df.13CXPS)"
     ],
     "language": "python",
     "metadata": {},
     "outputs": [
      {
       "metadata": {},
       "output_type": "display_data",
       "text": [
        "[1] 6236\n"
       ]
      }
     ],
     "prompt_number": 29
    },
    {
     "cell_type": "code",
     "collapsed": false,
     "input": [
      "%%R\n",
      "RA.df.12CCSS = subset(RA.df, Sample==\"cont.SS.30.bulk\")\n",
      "#RA.df.12CCPS.sorted = RA.df.12CCPS[order(-RA.df$Sample, -RA.df$Abundance),]\n",
      "RA.df.12CCSS$Rank = 1:nrow(RA.df.12CCSS)\n",
      "RA.df.12CCSS$Treatment = \"13CCSS\"\n",
      "RA.df.12CCSS$ID = \"1\"\n",
      "head(RA.df.12CCSS)"
     ],
     "language": "python",
     "metadata": {},
     "outputs": [
      {
       "metadata": {},
       "output_type": "display_data",
       "text": [
        "               Sample      OTU  Abundance Rank Treatment ID\n",
        "24945 cont.SS.30.bulk    OTU.1 0.02035278    1    13CCSS  1\n",
        "24946 cont.SS.30.bulk    OTU.2 0.01990050    2    13CCSS  1\n",
        "24947 cont.SS.30.bulk    OTU.7 0.01492537    3    13CCSS  1\n",
        "24948 cont.SS.30.bulk OTU.1623 0.01311624    4    13CCSS  1\n",
        "24949 cont.SS.30.bulk   OTU.25 0.01266395    5    13CCSS  1\n",
        "24950 cont.SS.30.bulk   OTU.21 0.01175938    6    13CCSS  1\n"
       ]
      }
     ],
     "prompt_number": 30
    },
    {
     "cell_type": "code",
     "collapsed": false,
     "input": [
      "%%R\n",
      "RA.df.13CCSS = subset(RA.df, Sample==\"13C.SS.30.bulk\")\n",
      "#RA.df.12CCPS.sorted = RA.df.12CCPS[order(-RA.df$Sample, -RA.df$Abundance),]\n",
      "RA.df.13CCSS$Rank = 1:nrow(RA.df.13CCSS)\n",
      "RA.df.13CCSS$Treatment = \"13CCSS\"\n",
      "RA.df.13CCSS$ID = \"2\"\n",
      "head(RA.df.13CCSS)"
     ],
     "language": "python",
     "metadata": {},
     "outputs": [
      {
       "metadata": {},
       "output_type": "display_data",
       "text": [
        "             Sample    OTU  Abundance Rank Treatment ID\n",
        "6237 13C.SS.30.bulk OTU.25 0.02304348    1    13CCSS  2\n",
        "6238 13C.SS.30.bulk OTU.21 0.01565217    2    13CCSS  2\n",
        "6239 13C.SS.30.bulk OTU.13 0.01478261    3    13CCSS  2\n",
        "6240 13C.SS.30.bulk  OTU.7 0.01391304    4    13CCSS  2\n",
        "6241 13C.SS.30.bulk OTU.51 0.01130435    5    13CCSS  2\n",
        "6242 13C.SS.30.bulk OTU.16 0.01086957    6    13CCSS  2\n"
       ]
      }
     ],
     "prompt_number": 31
    },
    {
     "cell_type": "code",
     "collapsed": false,
     "input": [
      "%%R\n",
      "RA.df = rbind(RA.df.12CCPS, RA.df.13CCPS, RA.df.13CXPS, RA.df.12CCSS, RA.df.13CCSS)\n",
      "head(RA.df)"
     ],
     "language": "python",
     "metadata": {},
     "outputs": [
      {
       "metadata": {},
       "output_type": "display_data",
       "text": [
        "               Sample      OTU  Abundance Rank Treatment ID\n",
        "18709 cont.PS.30.bulk    OTU.1 0.07988981    1    13CCPS  1\n",
        "18710 cont.PS.30.bulk   OTU.51 0.01803156    2    13CCPS  1\n",
        "18711 cont.PS.30.bulk   OTU.33 0.01327323    3    13CCPS  1\n",
        "18712 cont.PS.30.bulk OTU.4743 0.01277235    4    13CCPS  1\n",
        "18713 cont.PS.30.bulk   OTU.31 0.01252191    5    13CCPS  1\n",
        "18714 cont.PS.30.bulk    OTU.2 0.01227148    6    13CCPS  1\n"
       ]
      }
     ],
     "prompt_number": 32
    },
    {
     "cell_type": "code",
     "collapsed": false,
     "input": [
      "%%R -h 350\n",
      "\n",
      "p3 = ggplot(RA.df, aes(y = Abundance, x = Rank))\n",
      "#p = p + geom_ribbon(aes(ymax = max.abund, ymin = min.abund), alpha = 0.25)\n",
      "p3 = p3 + facet_wrap(ID~Treatment, scales = \"free_y\", ncol = 2)\n",
      "p3 = p3 + geom_line()\n",
      "p3 = p3 + scale_y_log10()\n",
      "p3 = p3 + labs(y = \"Relative Abundance\")\n",
      "\n",
      "p3"
     ],
     "language": "python",
     "metadata": {},
     "outputs": [
      {
       "metadata": {},
       "output_type": "display_data",
       "png": "[encoded data removed]"
      }
     ],
     "prompt_number": 33
    },
    {
     "cell_type": "code",
     "collapsed": false,
     "input": [
      "%%R\n",
      "#make df for figs with responder rug\n",
      "RA.df.wP = subset(RA.df, OTU %in% OTUs.wP)\n",
      "\n",
      "nrow(RA.df.wP)"
     ],
     "language": "python",
     "metadata": {},
     "outputs": [
      {
       "metadata": {},
       "output_type": "display_data",
       "text": [
        "[1] 3975\n"
       ]
      }
     ],
     "prompt_number": 34
    },
    {
     "cell_type": "code",
     "collapsed": false,
     "input": [
      "%%R\n",
      "\n",
      "df_all.p.summarize2 = df_all %>% \n",
      "    group_by(OTU, Treatment) %>%\n",
      "    summarize(p.adj.min = min(padj))\n",
      "\n",
      "df_all.p.summarize2 = left_join(df_all.p.summarize2, RA.df.wP)\n",
      "df_all.p.summarize2 = left_join(df_all.p.summarize2, tax)\n",
      "\n",
      "d = df_all.p.summarize2\n",
      "d$jitter = 1 + runif(nrow(d), min = 0.25, max = 2.5)\n",
      "\n",
      "head(d)"
     ],
     "language": "python",
     "metadata": {},
     "outputs": [
      {
       "metadata": {},
       "output_type": "display_data",
       "text": [
        "Joining by: c(\"OTU\", \"Treatment\")\n",
        "Joining by: \"OTU\"\n",
        "Source: local data frame [6 x 16]\n",
        "Groups: OTU\n",
        "\n",
        "     OTU Treatment p.adj.min          Sample   Abundance Rank ID    Rank1\n",
        "1  OTU.1    13CCPS         1 cont.PS.30.bulk 0.079889807    1  1 Bacteria\n",
        "2  OTU.1    13CCPS         1  13C.PS.30.bulk 0.119724026    1  2 Bacteria\n",
        "3  OTU.1    13CCPS         1  13X.PS.30.bulk 0.064155901    1  3 Bacteria\n",
        "4  OTU.1    13CCSS         1 cont.SS.30.bulk 0.020352782    1  1 Bacteria\n",
        "5  OTU.1    13CCSS         1  13C.SS.30.bulk 0.010434783    8  2 Bacteria\n",
        "6 OTU.10    13CCPS         1 cont.PS.30.bulk 0.003255697   47  1 Bacteria\n",
        "Variables not shown: Rank2 (fctr), Rank3 (fctr), Rank4 (fctr), Rank5 (fctr),\n",
        "  Rank6 (fctr), Rank7 (fctr), Rank8 (fctr), jitter (dbl)\n"
       ]
      }
     ],
     "prompt_number": 35
    },
    {
     "cell_type": "code",
     "collapsed": false,
     "input": [
      "%%R\n",
      "SS.Resp2 = subset(d, (p.adj.min <= FDR)&(Treatment==\"13CCSS\"))\n",
      "SS.Resp2$Resp = \"1\" \n",
      "PS.Resp2 = subset(d, (p.adj.min <= FDR)&(Treatment==\"13CCPS\"))\n",
      "PS.Resp2$Resp = \"2\" \n",
      "resp2 = rbind(SS.Resp2, PS.Resp2)\n",
      "head(resp2)"
     ],
     "language": "python",
     "metadata": {},
     "outputs": [
      {
       "metadata": {},
       "output_type": "display_data",
       "text": [
        "Source: local data frame [6 x 17]\n",
        "Groups: OTU\n",
        "\n",
        "       OTU Treatment    p.adj.min          Sample    Abundance Rank ID    Rank1\n",
        "1  OTU.114    13CCSS 0.0001030306 cont.SS.30.bulk 0.0000000000 1022  1 Bacteria\n",
        "2  OTU.114    13CCSS 0.0001030306  13C.SS.30.bulk 0.0026086957   70  2 Bacteria\n",
        "3 OTU.1414    13CCSS 0.0881382219 cont.SS.30.bulk 0.0004522840  441  1 Bacteria\n",
        "4 OTU.1414    13CCSS 0.0881382219  13C.SS.30.bulk 0.0008695652  231  2 Bacteria\n",
        "5  OTU.169    13CCSS 0.0011869710 cont.SS.30.bulk 0.0009045681  241  1 Bacteria\n",
        "6  OTU.169    13CCSS 0.0011869710  13C.SS.30.bulk 0.0026086957   72  2 Bacteria\n",
        "Variables not shown: Rank2 (fctr), Rank3 (fctr), Rank4 (fctr), Rank5 (fctr),\n",
        "  Rank6 (fctr), Rank7 (fctr), Rank8 (fctr), jitter (dbl), Resp (chr)\n"
       ]
      }
     ],
     "prompt_number": 36
    },
    {
     "cell_type": "code",
     "collapsed": false,
     "input": [
      "%%R\n",
      "resp2$Treatment[resp2$Treatment == \"13CCPS\"] = \"13CCSS\"\n",
      "resp.1.2 = resp2\n",
      "print(resp.1.2)"
     ],
     "language": "python",
     "metadata": {},
     "outputs": [
      {
       "metadata": {},
       "output_type": "display_data",
       "text": [
        "Source: local data frame [106 x 17]\n",
        "Groups: OTU\n",
        "\n",
        "        OTU Treatment    p.adj.min          Sample    Abundance Rank ID\n",
        "1   OTU.114    13CCSS 0.0001030306 cont.SS.30.bulk 0.0000000000 1022  1\n",
        "2   OTU.114    13CCSS 0.0001030306  13C.SS.30.bulk 0.0026086957   70  2\n",
        "3  OTU.1414    13CCSS 0.0881382219 cont.SS.30.bulk 0.0004522840  441  1\n",
        "4  OTU.1414    13CCSS 0.0881382219  13C.SS.30.bulk 0.0008695652  231  2\n",
        "5   OTU.169    13CCSS 0.0011869710 cont.SS.30.bulk 0.0009045681  241  1\n",
        "6   OTU.169    13CCSS 0.0011869710  13C.SS.30.bulk 0.0026086957   72  2\n",
        "7    OTU.17    13CCSS 0.0741265877 cont.SS.30.bulk 0.0027137042   62  1\n",
        "8    OTU.17    13CCSS 0.0741265877  13C.SS.30.bulk 0.0065217391   17  2\n",
        "9   OTU.185    13CCSS 0.0000232668 cont.SS.30.bulk 0.0004522840  498  1\n",
        "10  OTU.185    13CCSS 0.0000232668  13C.SS.30.bulk 0.0021739130   96  2\n",
        "..      ...       ...          ...             ...          ...  ... ..\n",
        "Variables not shown: Rank1 (fctr), Rank2 (fctr), Rank3 (fctr), Rank4 (fctr),\n",
        "  Rank5 (fctr), Rank6 (fctr), Rank7 (fctr), Rank8 (fctr), jitter (dbl), Resp\n",
        "  (chr)\n"
       ]
      }
     ],
     "prompt_number": 37
    },
    {
     "cell_type": "code",
     "collapsed": false,
     "input": [
      "%%R\n",
      "resp2$Treatment[resp2$Treatment == \"13CCSS\"] = \"13CCPS\"\n",
      "resp.2.2 = resp2\n",
      "print(resp.2.2)"
     ],
     "language": "python",
     "metadata": {},
     "outputs": [
      {
       "metadata": {},
       "output_type": "display_data",
       "text": [
        "Source: local data frame [106 x 17]\n",
        "Groups: OTU\n",
        "\n",
        "        OTU Treatment    p.adj.min          Sample    Abundance Rank ID\n",
        "1   OTU.114    13CCPS 0.0001030306 cont.SS.30.bulk 0.0000000000 1022  1\n",
        "2   OTU.114    13CCPS 0.0001030306  13C.SS.30.bulk 0.0026086957   70  2\n",
        "3  OTU.1414    13CCPS 0.0881382219 cont.SS.30.bulk 0.0004522840  441  1\n",
        "4  OTU.1414    13CCPS 0.0881382219  13C.SS.30.bulk 0.0008695652  231  2\n",
        "5   OTU.169    13CCPS 0.0011869710 cont.SS.30.bulk 0.0009045681  241  1\n",
        "6   OTU.169    13CCPS 0.0011869710  13C.SS.30.bulk 0.0026086957   72  2\n",
        "7    OTU.17    13CCPS 0.0741265877 cont.SS.30.bulk 0.0027137042   62  1\n",
        "8    OTU.17    13CCPS 0.0741265877  13C.SS.30.bulk 0.0065217391   17  2\n",
        "9   OTU.185    13CCPS 0.0000232668 cont.SS.30.bulk 0.0004522840  498  1\n",
        "10  OTU.185    13CCPS 0.0000232668  13C.SS.30.bulk 0.0021739130   96  2\n",
        "..      ...       ...          ...             ...          ...  ... ..\n",
        "Variables not shown: Rank1 (fctr), Rank2 (fctr), Rank3 (fctr), Rank4 (fctr),\n",
        "  Rank5 (fctr), Rank6 (fctr), Rank7 (fctr), Rank8 (fctr), jitter (dbl), Resp\n",
        "  (chr)\n"
       ]
      }
     ],
     "prompt_number": 38
    },
    {
     "cell_type": "code",
     "collapsed": false,
     "input": [
      "%%R -h 600 -w 800\n",
      "\n",
      "colours = c(\"#377eb8\", \"#4daf4a\")\n",
      "getPalette = colorRampPalette(brewer.pal(8, \"Set1\"))\n",
      "\n",
      "p4 = ggplot(NULL, aes(y = Abundance, x = Rank))\n",
      "\n",
      "#p2 = p2 + geom_ribbon(aes(ymax = max.abund, ymin = min.abund), alpha = 0.25)\n",
      "\n",
      "p4 = p4 + geom_line(data = d, size = 1)\n",
      "\n",
      "p4 = p4 + facet_wrap(ID~Treatment, ncol = 2)\n",
      "\n",
      "p4 = p4 + geom_rug(data = subset(resp.1.2, Resp == \"1\"), \n",
      "                 sides = \"l\", aes(color = Rank2), size = 1.5, alpha = 0.5)\n",
      "\n",
      "p4 = p4 + geom_rug(data = subset(resp.1.2, Resp == \"2\"), \n",
      "                 sides = \"r\", aes(color = Rank2), size = 1.5, alpha = 0.5)\n",
      "\n",
      "p4 = p4 + geom_rug(data = subset(resp.2.2, Resp == \"1\"), \n",
      "                 sides = \"l\", aes(color = Rank2), size = 1.5, alpha = 0.5)\n",
      "\n",
      "p4 = p4 + geom_rug(data = subset(resp.2.2, Resp == \"2\"), \n",
      "                 sides = \"r\", aes(color = Rank2), size = 1.5, alpha = 0.5)\n",
      "\n",
      "p4 = p4 + scale_color_manual(values=getPalette(8), labels = t)\n",
      "\n",
      "p4 = p4 + scale_y_log10()\n",
      "p4 = p4 + labs(y = \"Relative Abundance\", color = \"Phylum\")\n",
      "\n",
      "p4 = p4 + theme_bw()\n",
      "\n",
      "p4 = p4 + guides(fill = guide_legend(label.hjust = 0))\n",
      "\n",
      "p4"
     ],
     "language": "python",
     "metadata": {},
     "outputs": [
      {
       "metadata": {},
       "output_type": "display_data",
       "png": "[encoded data removed]"
      }
     ],
     "prompt_number": 41
    },
    {
     "cell_type": "code",
     "collapsed": false,
     "input": [
      "%%R\n",
      "FDR = 0.1\n",
      "ds = subset(df_all, (padj <= FDR))\n",
      "p = as.character(levels(factor(ds$Rank2)))\n",
      "quote(paste(\"italic(\", p, \")\", sep=\"\"))"
     ],
     "language": "python",
     "metadata": {},
     "outputs": [
      {
       "metadata": {},
       "output_type": "display_data",
       "text": [
        "[1] \"italic(Acidobacteria)\"   \"italic(Bacteroidetes)\"  \n",
        "[3] \"italic(Chloroflexi)\"     \"italic(Cyanobacteria)\"  \n",
        "[5] \"italic(Planctomycetes)\"  \"italic(Proteobacteria)\" \n",
        "[7] \"italic(Spirochaetes)\"    \"italic(Verrucomicrobia)\"\n"
       ]
      }
     ],
     "prompt_number": 16
    },
    {
     "cell_type": "code",
     "collapsed": false,
     "input": [
      "%%R\n",
      "t = parse(text = paste(\"italic(\", p, \")\", sep=\"\"))"
     ],
     "language": "python",
     "metadata": {},
     "outputs": [],
     "prompt_number": 17
    },
    {
     "cell_type": "code",
     "collapsed": false,
     "input": [
      "%%R\n",
      "PS.mean_abund = subset(df_all.p.summarize, (p.adj.min <= FDR)&(Treatment==\"13CCPS\"))$mean.abund\n",
      "SS.mean_abund = subset(df_all.p.summarize, (p.adj.min <= FDR)&(Treatment==\"13CCSS\"))$mean.abund\n",
      "\n",
      "wilcox.test(SS.mean_abund, PS.mean_abund, alternative = \"less\")"
     ],
     "language": "python",
     "metadata": {},
     "outputs": [
      {
       "metadata": {},
       "output_type": "display_data",
       "text": [
        "\n",
        "\tWilcoxon rank sum test with continuity correction\n",
        "\n",
        "data:  SS.mean_abund and PS.mean_abund\n",
        "W = 305, p-value = 0.9562\n",
        "alternative hypothesis: true location shift is less than 0\n",
        "\n"
       ]
      }
     ],
     "prompt_number": 13
    },
    {
     "cell_type": "markdown",
     "metadata": {},
     "source": [
      "###These files are from the density shift notebooks [1](./Density_shiftsPS.ipynb) and [2](./Density_shiftsSS.ipynb)."
     ]
    },
    {
     "cell_type": "heading",
     "level": 4,
     "metadata": {},
     "source": [
      "The PS density shift was subsetted into just D30 since that is the only time point I'm comparing PS with SS.  "
     ]
    },
    {
     "cell_type": "code",
     "collapsed": false,
     "input": [
      "%%R\n",
      "df.shifts.PS = read.csv(\"data/density_shifts_PS_D30.csv\", sep = \",\", header = TRUE, )\n",
      "df.shifts.PS$shift = as.numeric(as.character(df.shifts.PS$shift))\n",
      "head(df.shifts.PS)"
     ],
     "language": "python",
     "metadata": {},
     "outputs": [
      {
       "metadata": {},
       "output_type": "display_data",
       "text": [
        "       OTU        shift Day Treatment\n",
        "1  OTU.759  0.007532155  30    13CCPS\n",
        "2  OTU.758 -0.002040173  30    13CCPS\n",
        "3  OTU.757 -0.017384451  30    13CCPS\n",
        "4  OTU.756 -0.015844569  30    13CCPS\n",
        "5 OTU.5419  0.006751877  30    13CCPS\n",
        "6  OTU.839           NA  30    13CCPS\n"
       ]
      }
     ],
     "prompt_number": 14
    },
    {
     "cell_type": "code",
     "collapsed": false,
     "input": [
      "%%R\n",
      "df.shifts.SS = read.csv(\"data/density_shifts_SS.csv\", sep = \",\", header = TRUE, )\n",
      "df.shifts.SS$shift = as.numeric(as.character(df.shifts.SS$shift))\n",
      "head(df.shifts.SS)"
     ],
     "language": "python",
     "metadata": {},
     "outputs": [
      {
       "metadata": {},
       "output_type": "display_data",
       "text": [
        "       OTU         shift Day Treatment\n",
        "1  OTU.759 -0.0142495910  30    13CCSS\n",
        "2  OTU.758 -0.0006618842  30    13CCSS\n",
        "3  OTU.757 -0.0082880312  30    13CCSS\n",
        "4  OTU.756  0.0058375192  30    13CCSS\n",
        "5 OTU.5419 -0.0105358313  30    13CCSS\n",
        "6  OTU.839  0.0123829002  30    13CCSS\n"
       ]
      }
     ],
     "prompt_number": 15
    },
    {
     "cell_type": "code",
     "collapsed": false,
     "input": [
      "%%R\n",
      "density_shift_allD30 = rbind(df.shifts.PS, df.shifts.SS)\n",
      "head(density_shift_allD30)"
     ],
     "language": "python",
     "metadata": {},
     "outputs": [
      {
       "metadata": {},
       "output_type": "display_data",
       "text": [
        "       OTU        shift Day Treatment\n",
        "1  OTU.759  0.007532155  30    13CCPS\n",
        "2  OTU.758 -0.002040173  30    13CCPS\n",
        "3  OTU.757 -0.017384451  30    13CCPS\n",
        "4  OTU.756 -0.015844569  30    13CCPS\n",
        "5 OTU.5419  0.006751877  30    13CCPS\n",
        "6  OTU.839           NA  30    13CCPS\n"
       ]
      }
     ],
     "prompt_number": 16
    },
    {
     "cell_type": "code",
     "collapsed": false,
     "input": [
      "%%R\n",
      "write.csv(density_shift_allD30, \"data/density_shifts_allD30.csv\")"
     ],
     "language": "python",
     "metadata": {},
     "outputs": [],
     "prompt_number": 17
    },
    {
     "cell_type": "code",
     "collapsed": false,
     "input": [
      "!head data/density_shifts_allD30.csv"
     ],
     "language": "python",
     "metadata": {},
     "outputs": [
      {
       "output_type": "stream",
       "stream": "stdout",
       "text": [
        "\"\",\"OTU\",\"shift\",\"Day\",\"Treatment\"\r\n",
        "\"1\",\"OTU.759\",0.007532155,30,\"13CCPS\"\r\n",
        "\"2\",\"OTU.758\",-0.002040173,30,\"13CCPS\"\r\n",
        "\"3\",\"OTU.757\",-0.017384451,30,\"13CCPS\"\r\n",
        "\"4\",\"OTU.756\",-0.015844569,30,\"13CCPS\"\r\n",
        "\"5\",\"OTU.5419\",0.006751877,30,\"13CCPS\"\r\n",
        "\"6\",\"OTU.839\",NA,30,\"13CCPS\"\r\n",
        "\"7\",\"OTU.1968\",-0.012578331,30,\"13CCPS\"\r\n",
        "\"8\",\"OTU.1969\",NA,30,\"13CCPS\"\r\n",
        "\"9\",\"OTU.1964\",-0.00314436,30,\"13CCPS\"\r\n"
       ]
      }
     ],
     "prompt_number": 18
    },
    {
     "cell_type": "code",
     "collapsed": false,
     "input": [
      "%%R -w 400 -h 350\n",
      "df_all.wShifts = merge(df_all, density_shift_allD30, by = c(\"OTU\",\"Day\",\"Treatment\"))\n",
      "\n",
      "df.plot = subset(df_all.wShifts, padj <= FDR)\n",
      "\n",
      "colours = c(\"#377eb8\", \"#4daf4a\")\n",
      "\n",
      "p = ggplot(df.plot, aes(x = as.numeric(as.character(shift))))\n",
      "\n",
      "p = p + geom_density(aes(color = Treatment, fill = Treatment), alpha = 0.50)\n",
      "p = p + geom_rug(aes(color = Treatment))\n",
      "p = p + scale_color_manual(values=colours) \n",
      "p = p + scale_fill_manual(values=colours)\n",
      "p = p + labs(y = \"Kernel Density\", x = \"Density Shift, g/mL\")\n",
      "p = p + xlim(xmin = -0.005, xmax = 0.042)\n",
      "\n",
      "p = p + theme_bw()\n",
      "\n",
      "p.shift1 = p \n",
      "\n",
      "p"
     ],
     "language": "python",
     "metadata": {},
     "outputs": [
      {
       "metadata": {},
       "output_type": "display_data",
       "png": "[encoded data removed]"
      }
     ],
     "prompt_number": 19
    },
    {
     "cell_type": "code",
     "collapsed": false,
     "input": [
      "%%R\n",
      "PS.shifts = subset(df_all.wShifts, (Treatment == \"13CCPS\")&(padj <= FDR))$shift\n",
      "SS.shifts = subset(df_all.wShifts, (Treatment == \"13CCSS\")&(padj <= FDR))$shift\n",
      "\n",
      "wilcox.test(PS.shifts, SS.shifts, alternative = \"greater\")"
     ],
     "language": "python",
     "metadata": {},
     "outputs": [
      {
       "metadata": {},
       "output_type": "display_data",
       "text": [
        "\n",
        "\tWilcoxon rank sum test\n",
        "\n",
        "data:  PS.shifts and SS.shifts\n",
        "W = 276, p-value = 0.1627\n",
        "alternative hypothesis: true location shift is greater than 0\n",
        "\n"
       ]
      }
     ],
     "prompt_number": 20
    },
    {
     "cell_type": "code",
     "collapsed": false,
     "input": [
      "%%R -w 1100 -h 350\n",
      "\n",
      "p.combined = grid.arrange(p.shift1, p.rabund, widths = c(1.2, 2), ncol = 2)\n",
      "\n",
      "p.combined"
     ],
     "language": "python",
     "metadata": {},
     "outputs": [
      {
       "metadata": {},
       "output_type": "display_data",
       "text": [
        "NULL\n"
       ]
      },
      {
       "metadata": {},
       "output_type": "display_data",
       "png": "[encoded data removed]"
      }
     ],
     "prompt_number": 21
    },
    {
     "cell_type": "code",
     "collapsed": false,
     "input": [
      "%%R\n",
      "pdf(\"figs/shift_and_rabund.pdf\", w = 15, h = 4)\n",
      "print(grid.arrange(p.shift1, p.rabund, widths = c(1.2, 2), ncol = 2))\n",
      "dev.off()"
     ],
     "language": "python",
     "metadata": {},
     "outputs": [
      {
       "metadata": {},
       "output_type": "display_data",
       "text": [
        "NULL\n",
        "png \n",
        "  2 \n"
       ]
      }
     ],
     "prompt_number": 22
    },
    {
     "cell_type": "code",
     "collapsed": false,
     "input": [
      "%%R\n",
      "png(\"figs/shift_and_rabund.png\", w = 15, h = 4, units = \"in\", res = 600)\n",
      "print(grid.arrange(p.shift1, p.rabund, widths = c(1.2, 2), ncol = 2))\n",
      "dev.off()"
     ],
     "language": "python",
     "metadata": {},
     "outputs": [
      {
       "metadata": {},
       "output_type": "display_data",
       "text": [
        "NULL\n",
        "png \n",
        "  2 \n"
       ]
      }
     ],
     "prompt_number": 41
    },
    {
     "cell_type": "code",
     "collapsed": false,
     "input": [
      "FileLink(\"figs/shift_and_rabund.pdf\")"
     ],
     "language": "python",
     "metadata": {},
     "outputs": [
      {
       "html": [
        "<a href='figs/shift_and_rabund.pdf' target='_blank'>figs/shift_and_rabund.pdf</a><br>"
       ],
       "metadata": {},
       "output_type": "pyout",
       "prompt_number": 24,
       "text": [
        "/home/ashley/single_substrate/figs/shift_and_rabund.pdf"
       ]
      }
     ],
     "prompt_number": 24
    },
    {
     "cell_type": "code",
     "collapsed": false,
     "input": [
      "FileLink(\"figs/shift_and_rabund.png\")"
     ],
     "language": "python",
     "metadata": {},
     "outputs": [
      {
       "html": [
        "<a href='figs/shift_and_rabund.png' target='_blank'>figs/shift_and_rabund.png</a><br>"
       ],
       "metadata": {},
       "output_type": "pyout",
       "prompt_number": 25,
       "text": [
        "/home/ashley/single_substrate/figs/shift_and_rabund.png"
       ]
      }
     ],
     "prompt_number": 25
    },
    {
     "cell_type": "code",
     "collapsed": false,
     "input": [
      "%%R -w 800 -h 350\n",
      "df_all.wShifts = merge(df_all, density_shift_allD30, by = c(\"OTU\",\"Day\",\"Treatment\"))\n",
      "\n",
      "df.plot = subset(df_all.wShifts, padj <= FDR)\n",
      "\n",
      "colours = c(\"#377eb8\", \"#4daf4a\")\n",
      "\n",
      "p2 = ggplot(df.plot, aes(x = as.numeric(as.character(shift))))\n",
      "\n",
      "p2 = p2 + facet_wrap(~Rank2, ncol=4, scales = \"free\")\n",
      "p2 = p2 + geom_density(aes(color = Treatment, fill = Treatment), alpha = 0.50)\n",
      "p2 = p2 + geom_rug(aes(color = Treatment), size = 1.8)\n",
      "p2 = p2 + scale_color_manual(values=colours) \n",
      "p2 = p2 + scale_fill_manual(values=colours)\n",
      "p2 = p2 + labs(y = \"Kernel Density\", x = \"Density Shift, g/mL\")\n",
      "p2 = p2 + xlim(xmin = -0.005, xmax = 0.042)\n",
      "p2 = p2 + theme_bw()\n",
      "\n",
      "p2"
     ],
     "language": "python",
     "metadata": {},
     "outputs": [
      {
       "metadata": {},
       "output_type": "display_data",
       "png": "[encoded data removed]"
      }
     ],
     "prompt_number": 62
    },
    {
     "cell_type": "code",
     "collapsed": false,
     "input": [
      "%%R\n",
      "pdf(\"figs/KDE_byPhylum_panel.pdf\", w = 10, h = 4)\n",
      "grid.arrange(p2, ncol = 1)\n",
      "dev.off()"
     ],
     "language": "python",
     "metadata": {},
     "outputs": [
      {
       "metadata": {},
       "output_type": "display_data",
       "text": [
        "png \n",
        "  2 \n"
       ]
      }
     ],
     "prompt_number": 63
    },
    {
     "cell_type": "code",
     "collapsed": false,
     "input": [
      "%%R\n",
      "png(\"figs/KDE_byPhylum_panel.png\", w = 15, h = 4, units = \"in\", res = 600)\n",
      "grid.arrange(p2, ncol = 1)\n",
      "dev.off()"
     ],
     "language": "python",
     "metadata": {},
     "outputs": [
      {
       "metadata": {},
       "output_type": "display_data",
       "text": [
        "png \n",
        "  2 \n"
       ]
      }
     ],
     "prompt_number": 64
    },
    {
     "cell_type": "code",
     "collapsed": false,
     "input": [
      "FileLink(\"figs/KDE_byPhylum_panel.pdf\")"
     ],
     "language": "python",
     "metadata": {},
     "outputs": [
      {
       "html": [
        "<a href='figs/KDE_byPhylum_panel.pdf' target='_blank'>figs/KDE_byPhylum_panel.pdf</a><br>"
       ],
       "metadata": {},
       "output_type": "pyout",
       "prompt_number": 65,
       "text": [
        "/home/ashley/single_substrate/figs/KDE_byPhylum_panel.pdf"
       ]
      }
     ],
     "prompt_number": 65
    },
    {
     "cell_type": "code",
     "collapsed": false,
     "input": [
      "FileLink(\"figs/KDE_byPhylum_panel.png\")"
     ],
     "language": "python",
     "metadata": {},
     "outputs": [
      {
       "html": [
        "<a href='figs/KDE_byPhylum_panel.png' target='_blank'>figs/KDE_byPhylum_panel.png</a><br>"
       ],
       "metadata": {},
       "output_type": "pyout",
       "prompt_number": 66,
       "text": [
        "/home/ashley/single_substrate/figs/KDE_byPhylum_panel.png"
       ]
      }
     ],
     "prompt_number": 66
    },
    {
     "cell_type": "code",
     "collapsed": false,
     "input": [
      "%%R\n"
     ],
     "language": "python",
     "metadata": {},
     "outputs": [],
     "prompt_number": 87
    },
    {
     "cell_type": "code",
     "collapsed": false,
     "input": [
      "%%R -w 550 -h 350\n",
      "df_all.wShifts = merge(df_all, density_shift_allD30, by = c(\"OTU\",\"Day\",\"Treatment\"))\n",
      "\n",
      "df.plot = subset(df_all.wShifts, padj <= FDR)\n",
      "\n",
      "d = df.plot %>%\n",
      "    group_by(Rank2) %>%\n",
      "    summarize(max.shift = max(shift)) %>%\n",
      "    arrange(desc(max.shift))\n",
      "\n",
      "order = d$Rank2\n",
      "\n",
      "df.plot$Rank2 = factor(df.plot$Rank2, levels = order)\n",
      "\n",
      "colours = c(\"#377eb8\", \"#4daf4a\")\n",
      "\n",
      "p3 = ggplot(df.plot, aes(x = Rank2, y = shift, color = Treatment))\n",
      "\n",
      "p3 = p3 + geom_point(size = 4, alpha = 0.5, position = position_jitter(w = 0.15))\n",
      "\n",
      "p3 = p3 + theme_bw()\n",
      "\n",
      "p3 = p3 + theme(axis.text.x = element_text(size = 12, angle = 45, hjust = 1, face = \"italic\"))\n",
      "\n",
      "p3 = p3 + labs(y = \"Density Shift, g/mL\", x = \"Phylum\")\n",
      "\n",
      "p3 = p3 + theme(axis.title.y = element_text(size = 14, vjust = 1.25))\n",
      "\n",
      "p3 = p3 + theme(axis.title.x = element_text(size = 14))\n",
      "\n",
      "p3 = p3 + scale_color_manual(values=colours,\n",
      "                            breaks=c(\"13CCPS\", \"13CCSS\"),\n",
      "                            labels=c(\"Complex C Mixture\", \"Cellulose Only\")) \n",
      "p3 = p3 + theme(legend.text = element_text(size = 11))\n",
      "\n",
      "p3 = p3 + theme(legend.title = element_text(size = 11))\n",
      "\n",
      "p3"
     ],
     "language": "python",
     "metadata": {},
     "outputs": [
      {
       "metadata": {},
       "output_type": "display_data",
       "png": "[encoded data removed]"
      }
     ],
     "prompt_number": 111
    },
    {
     "cell_type": "code",
     "collapsed": false,
     "input": [
      "%%R\n",
      "ggsave(\"figs/BDshift_scatter_phylum.png\", p3, h = 4, w = 6)"
     ],
     "language": "python",
     "metadata": {},
     "outputs": [],
     "prompt_number": 114
    },
    {
     "cell_type": "code",
     "collapsed": false,
     "input": [
      "FileLink(\"figs/BDshift_scatter_phylum.png\")"
     ],
     "language": "python",
     "metadata": {},
     "outputs": [
      {
       "html": [
        "<a href='figs/BDshift_scatter_phylum.png' target='_blank'>figs/BDshift_scatter_phylum.png</a><br>"
       ],
       "metadata": {},
       "output_type": "pyout",
       "prompt_number": 106,
       "text": [
        "/home/ashley/single_substrate/figs/BDshift_scatter_phylum.png"
       ]
      }
     ],
     "prompt_number": 106
    },
    {
     "cell_type": "code",
     "collapsed": false,
     "input": [
      "%%R -w 300 -h 1000\n",
      "df_all.wShifts = merge(df_all, density_shift_allD30, by = c(\"OTU\",\"Day\",\"Treatment\"))\n",
      "\n",
      "df.plot = subset(df_all.wShifts, padj <= FDR)\n",
      "\n",
      "d = df.plot %>%\n",
      "    group_by(Rank2) %>%\n",
      "    summarize(max.shift = max(shift)) %>%\n",
      "    arrange(desc(max.shift))\n",
      "\n",
      "order = d$Rank2\n",
      "\n",
      "df.plot$Rank2 = factor(df.plot$Rank2, levels = order)\n",
      "\n",
      "colours = c(\"#377eb8\", \"#4daf4a\")\n",
      "\n",
      "p4 = ggplot(df.plot, aes(x = Treatment, y = shift, color = Treatment))\n",
      "\n",
      "p4 = p4 + facet_grid(Rank2~.)\n",
      "\n",
      "p4 = p4 + coord_flip()\n",
      "\n",
      "p4 = p4 + geom_boxplot(outlier.shape = NA)\n",
      "\n",
      "p4 = p4 + geom_point(size = 3.5, alpha = 0.5, position = position_jitter(w = 0.15))\n",
      "\n",
      "p4 = p4 + theme_bw()\n",
      "\n",
      "p4 = p4 + theme(axis.text.x = element_text(size = 12))\n",
      "\n",
      "p4 = p4 + theme(axis.text.y = element_blank())\n",
      "\n",
      "p4 = p4 + labs(y = \"Density Shift, g/mL\")\n",
      "\n",
      "p4 = p4 + theme(axis.title.x = element_text(size = 14, vjust = -0.2))\n",
      "\n",
      "p4 = p4 + theme(axis.title.y = element_blank())\n",
      "\n",
      "p4 = p4 + scale_color_manual(values=colours,\n",
      "                            breaks=c(\"13CCPS\", \"13CCSS\"),\n",
      "                            labels=c(\"Complex C Mixture\", \"Cellulose Only\")) \n",
      "p4 = p4 + theme(legend.text = element_text(size = 11))\n",
      "\n",
      "p4 = p4 + theme(legend.title = element_text(size = 11))\n",
      "\n",
      "p4 = p4 + theme(strip.text = element_text(size=12))\n",
      "\n",
      "p4 = p4 + theme(strip.background = element_blank())\n",
      "\n",
      "p4 = p4 + theme(legend.position=\"top\")\n",
      "\n",
      "p4 = p4 + theme(axis.ticks.y = element_blank())\n",
      "\n",
      "p4"
     ],
     "language": "python",
     "metadata": {},
     "outputs": [
      {
       "metadata": {},
       "output_type": "display_data",
       "png": "[encoded data removed]"
      }
     ],
     "prompt_number": 172
    },
    {
     "cell_type": "code",
     "collapsed": false,
     "input": [
      "%%R\n",
      "ggsave(\"figs/BDshift_boxplot_phylum.png\", p4, h = 12, w = 4)"
     ],
     "language": "python",
     "metadata": {},
     "outputs": [],
     "prompt_number": 173
    },
    {
     "cell_type": "code",
     "collapsed": false,
     "input": [
      "FileLink(\"figs/BDshift_boxplot_phylum.png\")"
     ],
     "language": "python",
     "metadata": {},
     "outputs": [
      {
       "html": [
        "<a href='figs/BDshift_boxplot_phylum.png' target='_blank'>figs/BDshift_boxplot_phylum.png</a><br>"
       ],
       "metadata": {},
       "output_type": "pyout",
       "prompt_number": 166,
       "text": [
        "/home/ashley/single_substrate/figs/BDshift_boxplot_phylum.png"
       ]
      }
     ],
     "prompt_number": 166
    },
    {
     "cell_type": "code",
     "collapsed": false,
     "input": [
      "%%R\n",
      "PS.shifts = subset(df_all.wShifts, (Treatment == \"13CCPS\")&(padj <= FDR)&(Rank2 == \"Bacteroidetes\"))$shift\n",
      "SS.shifts = subset(df_all.wShifts, (Treatment == \"13CCSS\")&(padj <= FDR)&(Rank2 == \"Bacteroidetes\"))$shift\n",
      "\n",
      "wilcox.test(PS.shifts, SS.shifts, alternative = \"less\")"
     ],
     "language": "python",
     "metadata": {},
     "outputs": [
      {
       "metadata": {},
       "output_type": "display_data",
       "text": [
        "\n",
        "\tWilcoxon rank sum test\n",
        "\n",
        "data:  PS.shifts and SS.shifts\n",
        "W = 1, p-value = 0.6667\n",
        "alternative hypothesis: true location shift is less than 0\n",
        "\n"
       ]
      }
     ],
     "prompt_number": 31
    },
    {
     "cell_type": "code",
     "collapsed": false,
     "input": [
      "%%R\n",
      "PS.shifts = subset(df_all.wShifts, (Treatment == \"13CCPS\")&(padj <= FDR)&(Rank2 == \"Chloroflexi\"))$shift\n",
      "SS.shifts = subset(df_all.wShifts, (Treatment == \"13CCSS\")&(padj <= FDR)&(Rank2 == \"Chloroflexi\"))$shift\n",
      "\n",
      "wilcox.test(PS.shifts, SS.shifts, alternative = \"greater\")"
     ],
     "language": "python",
     "metadata": {},
     "outputs": [
      {
       "metadata": {},
       "output_type": "display_data",
       "text": [
        "\n",
        "\tWilcoxon rank sum test\n",
        "\n",
        "data:  PS.shifts and SS.shifts\n",
        "W = 2, p-value = 0.9\n",
        "alternative hypothesis: true location shift is greater than 0\n",
        "\n"
       ]
      }
     ],
     "prompt_number": 32
    },
    {
     "cell_type": "code",
     "collapsed": false,
     "input": [
      "%%R\n",
      "PS.shifts = subset(df_all.wShifts, (Treatment == \"13CCPS\")&(padj <= FDR)&(Rank2 == \"Planctomycetes\"))$shift\n",
      "SS.shifts = subset(df_all.wShifts, (Treatment == \"13CCSS\")&(padj <= FDR)&(Rank2 == \"Planctomycetes\"))$shift\n",
      "\n",
      "wilcox.test(PS.shifts, SS.shifts, alternative = \"less\")"
     ],
     "language": "python",
     "metadata": {},
     "outputs": [
      {
       "metadata": {},
       "output_type": "display_data",
       "text": [
        "\n",
        "\tWilcoxon rank sum test\n",
        "\n",
        "data:  PS.shifts and SS.shifts\n",
        "W = 0, p-value = 0.25\n",
        "alternative hypothesis: true location shift is less than 0\n",
        "\n"
       ]
      }
     ],
     "prompt_number": 33
    },
    {
     "cell_type": "code",
     "collapsed": false,
     "input": [
      "%%R\n",
      "PS.shifts = subset(df_all.wShifts, (Treatment == \"13CCPS\")&(padj <= FDR)&(Rank2 == \"Proteobacteria\"))$shift\n",
      "SS.shifts = subset(df_all.wShifts, (Treatment == \"13CCSS\")&(padj <= FDR)&(Rank2 == \"Proteobacteria\"))$shift\n",
      "\n",
      "wilcox.test(PS.shifts, SS.shifts, alternative = \"greater\")"
     ],
     "language": "python",
     "metadata": {},
     "outputs": [
      {
       "metadata": {},
       "output_type": "display_data",
       "text": [
        "\n",
        "\tWilcoxon rank sum test\n",
        "\n",
        "data:  PS.shifts and SS.shifts\n",
        "W = 28, p-value = 0.4353\n",
        "alternative hypothesis: true location shift is greater than 0\n",
        "\n"
       ]
      }
     ],
     "prompt_number": 34
    },
    {
     "cell_type": "code",
     "collapsed": false,
     "input": [
      "%%R\n",
      "PS.shifts = subset(df_all.wShifts, (Treatment == \"13CCPS\")&(padj <= FDR)&(Rank2 == \"Verrucomicrobia\"))$shift\n",
      "SS.shifts = subset(df_all.wShifts, (Treatment == \"13CCSS\")&(padj <= FDR)&(Rank2 == \"Verrucomicrobia\"))$shift\n",
      "\n",
      "wilcox.test(PS.shifts, SS.shifts, alternative = \"greater\")"
     ],
     "language": "python",
     "metadata": {},
     "outputs": [
      {
       "metadata": {},
       "output_type": "display_data",
       "text": [
        "\n",
        "\tWilcoxon rank sum test\n",
        "\n",
        "data:  PS.shifts and SS.shifts\n",
        "W = 24, p-value = 0.06277\n",
        "alternative hypothesis: true location shift is greater than 0\n",
        "\n"
       ]
      }
     ],
     "prompt_number": 35
    },
    {
     "cell_type": "code",
     "collapsed": false,
     "input": [
      "%%R\n",
      "PS.shifts = subset(df_all.wShifts, (Treatment == \"13CCPS\")&(padj <= FDR)&(Rank5 == \"FukuN18_freshwater_group\"))$shift\n",
      "SS.shifts = subset(df_all.wShifts, (Treatment == \"13CCSS\")&(padj <= FDR)&(Rank5 == \"FukuN18_freshwater_group\"))$shift\n",
      "\n",
      "wilcox.test(PS.shifts, SS.shifts, alternative = \"greater\")"
     ],
     "language": "python",
     "metadata": {},
     "outputs": [
      {
       "metadata": {},
       "output_type": "display_data",
       "text": [
        "\n",
        "\tWilcoxon rank sum test\n",
        "\n",
        "data:  PS.shifts and SS.shifts\n",
        "W = 9, p-value = 0.05\n",
        "alternative hypothesis: true location shift is greater than 0\n",
        "\n"
       ]
      }
     ],
     "prompt_number": 36
    },
    {
     "cell_type": "code",
     "collapsed": false,
     "input": [
      "%%R\n",
      "PS.shifts = subset(df_all.wShifts, (Treatment == \"13CCPS\")&(padj <= FDR)&(Rank4 == \"Rhizobiales\"))$shift\n",
      "SS.shifts = subset(df_all.wShifts, (Treatment == \"13CCSS\")&(padj <= FDR)&(Rank4 == \"Rhizobiales\"))$shift\n",
      "\n",
      "wilcox.test(PS.shifts, SS.shifts, alternative = \"less\")"
     ],
     "language": "python",
     "metadata": {},
     "outputs": [
      {
       "metadata": {},
       "output_type": "display_data",
       "text": [
        "\n",
        "\tWilcoxon rank sum test\n",
        "\n",
        "data:  PS.shifts and SS.shifts\n",
        "W = 4, p-value = 0.6\n",
        "alternative hypothesis: true location shift is less than 0\n",
        "\n"
       ]
      }
     ],
     "prompt_number": 37
    },
    {
     "cell_type": "code",
     "collapsed": false,
     "input": [
      "%%R\n",
      "PS.shifts = subset(df_all.wShifts, (Treatment == \"13CCPS\")&(padj <= FDR)&(Rank4 == \"Planctomycetales\"))$shift\n",
      "SS.shifts = subset(df_all.wShifts, (Treatment == \"13CCSS\")&(padj <= FDR)&(Rank4 == \"Planctomycetales\"))$shift\n",
      "\n",
      "wilcox.test(PS.shifts, SS.shifts, alternative = \"greater\")"
     ],
     "language": "python",
     "metadata": {},
     "outputs": [
      {
       "metadata": {},
       "output_type": "display_data",
       "text": [
        "\n",
        "\tWilcoxon rank sum test\n",
        "\n",
        "data:  PS.shifts and SS.shifts\n",
        "W = 0, p-value = 1\n",
        "alternative hypothesis: true location shift is greater than 0\n",
        "\n"
       ]
      }
     ],
     "prompt_number": 38
    }
   ],
   "metadata": {}
  }
 ]
}