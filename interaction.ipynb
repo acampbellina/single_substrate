{
 "cells": [
  {
   "cell_type": "code",
   "execution_count": 2,
   "metadata": {
    "collapsed": true
   },
   "outputs": [],
   "source": [
    "%load_ext rpy2.ipython"
   ]
  },
  {
   "cell_type": "code",
   "execution_count": 3,
   "metadata": {
    "collapsed": false
   },
   "outputs": [
    {
     "data": {
      "text/plain": [
       "Loading required package: S4Vectors\n",
       "Loading required package: stats4\n",
       "Loading required package: BiocGenerics\n",
       "Loading required package: parallel\n",
       "\n",
       "Attaching package: ‘BiocGenerics’\n",
       "\n",
       "The following objects are masked from ‘package:parallel’:\n",
       "\n",
       "    clusterApply, clusterApplyLB, clusterCall, clusterEvalQ,\n",
       "    clusterExport, clusterMap, parApply, parCapply, parLapply,\n",
       "    parLapplyLB, parRapply, parSapply, parSapplyLB\n",
       "\n",
       "The following object is masked from ‘package:stats’:\n",
       "\n",
       "    xtabs\n",
       "\n",
       "The following objects are masked from ‘package:base’:\n",
       "\n",
       "    anyDuplicated, append, as.data.frame, as.vector, cbind, colnames,\n",
       "    do.call, duplicated, eval, evalq, Filter, Find, get, intersect,\n",
       "    is.unsorted, lapply, Map, mapply, match, mget, order, paste, pmax,\n",
       "    pmax.int, pmin, pmin.int, Position, rank, rbind, Reduce, rep.int,\n",
       "    rownames, sapply, setdiff, sort, table, tapply, union, unique,\n",
       "    unlist, unsplit\n",
       "\n",
       "Loading required package: IRanges\n",
       "\n",
       "Attaching package: ‘IRanges’\n",
       "\n",
       "The following object is masked from ‘package:phyloseq’:\n",
       "\n",
       "    distance\n",
       "\n",
       "Loading required package: GenomicRanges\n",
       "Loading required package: GenomeInfoDb\n",
       "Loading required package: Rcpp\n",
       "Loading required package: RcppArmadillo\n",
       "\n",
       "Attaching package: ‘dplyr’\n",
       "\n",
       "The following objects are masked from ‘package:GenomicRanges’:\n",
       "\n",
       "    intersect, setdiff, union\n",
       "\n",
       "The following object is masked from ‘package:GenomeInfoDb’:\n",
       "\n",
       "    intersect\n",
       "\n",
       "The following objects are masked from ‘package:IRanges’:\n",
       "\n",
       "    collapse, desc, intersect, setdiff, slice, union\n",
       "\n",
       "The following object is masked from ‘package:S4Vectors’:\n",
       "\n",
       "    rename\n",
       "\n",
       "The following objects are masked from ‘package:BiocGenerics’:\n",
       "\n",
       "    combine, intersect, setdiff, union\n",
       "\n",
       "The following object is masked from ‘package:stats’:\n",
       "\n",
       "    filter\n",
       "\n",
       "The following objects are masked from ‘package:base’:\n",
       "\n",
       "    intersect, setdiff, setequal, union\n",
       "\n"
      ]
     },
     "metadata": {},
     "output_type": "display_data"
    }
   ],
   "source": [
    "%%R\n",
    "library(phyloseq)\n",
    "library(DESeq2)\n",
    "library(dplyr)\n",
    "library(magrittr)"
   ]
  },
  {
   "cell_type": "code",
   "execution_count": 4,
   "metadata": {
    "collapsed": false
   },
   "outputs": [
    {
     "data": {
      "text/plain": [
       "phyloseq-class experiment-level object\n",
       "otu_table()   OTU Table:         [ 6236 taxa and 34 samples ]\n",
       "sample_data() Sample Data:       [ 34 samples by 7 sample variables ]\n",
       "tax_table()   Taxonomy Table:    [ 6236 taxa by 8 taxonomic ranks ]\n"
      ]
     },
     "metadata": {},
     "output_type": "display_data"
    }
   ],
   "source": [
    "%%R\n",
    "sd = read.table(\"data/ABCD_combined_reads_mapper.tsv\",\n",
    "                comment = \"\",\n",
    "                sep = \"\\t\",\n",
    "                header = TRUE, \n",
    "                stringsAsFactors = FALSE)\n",
    "\n",
    "rownames(sd) = sd$X.SampleID\n",
    "\n",
    "ps = import_biom(\"data/otu_table_wtax.biom\")\n",
    "sample_data(ps) = sample_data(sd)\n",
    "md = sample_data(ps)\n",
    "\n",
    "density.min = 1.7125\n",
    "density.max = 1.755\n",
    "\n",
    "ps.int = prune_samples((md$Density > density.min)&\n",
    "              (md$Density < density.max)&\n",
    "              (md$Treatment %in% c(\"12CCPS\",\"13CCPS\",\"12CCSS\",\"13CCSS\"))&\n",
    "              (md$Day == 30)&\n",
    "              !(grepl(\"bulk\", md$X.SampleID)), ps)\n",
    "\n",
    "ps.int"
   ]
  },
  {
   "cell_type": "code",
   "execution_count": 5,
   "metadata": {
    "collapsed": false
   },
   "outputs": [],
   "source": [
    "%%R\n",
    "md.int = sample_data(ps.int)\n",
    "tmp = matrix(unlist(strsplit(md.int$X.SampleID, \"[.]\")), ncol=4, byrow = TRUE)\n",
    "name.df = data.frame(tmp)\n",
    "colnames(name.df) = c(\"contVexp\", \"SSVPS\", \"Day\", \"Fraction\")\n",
    "md.int$contVexp = name.df$contVexp\n",
    "md.int$SSVPS = name.df$SSVPS\n",
    "sample_data(ps.int) = md.int"
   ]
  },
  {
   "cell_type": "code",
   "execution_count": 6,
   "metadata": {
    "collapsed": false
   },
   "outputs": [
    {
     "data": {
      "text/plain": [
       "converting counts to integer mode\n",
       "estimating size factors\n",
       "estimating dispersions\n",
       "gene-wise dispersion estimates\n",
       "mean-dispersion relationship\n",
       "final dispersion estimates\n",
       "fitting model and testing\n",
       "-- replacing outliers and refitting for 4 genes\n",
       "-- DESeq argument 'minReplicatesForReplace' = 7 \n",
       "-- original counts are preserved in counts(dds)\n",
       "estimating dispersions\n",
       "fitting model and testing\n"
      ]
     },
     "metadata": {},
     "output_type": "display_data"
    }
   ],
   "source": [
    "%%R\n",
    "dds = phyloseq_to_deseq2(ps.int, ~ contVexp * SSVPS)\n",
    "dds = DESeq(dds)"
   ]
  },
  {
   "cell_type": "code",
   "execution_count": 10,
   "metadata": {
    "collapsed": false,
    "scrolled": false
   },
   "outputs": [
    {
     "data": {
      "text/plain": [
       "         int.p  int.l2fc      OTU  int.padj\n",
       "1 0.0001960209 -3.175264 OTU.1414 0.2370514\n",
       "2 0.0014867057 -3.130353 OTU.1051 0.5973518\n",
       "3 0.0016214028  3.098513  OTU.500 0.5973518\n",
       "4 0.0012420717  3.055922  OTU.228 0.5930744\n",
       "5 0.0021718791  2.979854  OTU.298 0.6360628\n",
       "6 0.0024332693  2.957141 OTU.1324 0.6360628\n"
      ]
     },
     "metadata": {},
     "output_type": "display_data"
    }
   ],
   "source": [
    "%%R\n",
    "int.df = results(dds)\n",
    "int.df$OTU = rownames(int.df)\n",
    "int.df = data.frame(int.df)\n",
    "int.df %<>%\n",
    "    arrange(desc(abs(log2FoldChange))) %>%\n",
    "    select(pvalue, log2FoldChange, OTU) %>%\n",
    "    rename(int.p = pvalue, int.l2fc = log2FoldChange) %>%\n",
    "    mutate(int.padj = p.adjust(int.p, method = \"BH\"))\n",
    "head(int.df)"
   ]
  },
  {
   "cell_type": "code",
   "execution_count": 11,
   "metadata": {
    "collapsed": true
   },
   "outputs": [],
   "source": [
    "%%R\n",
    "write.csv(int.df, \"data/interaction.csv\", row.names = FALSE)"
   ]
  },
  {
   "cell_type": "code",
   "execution_count": 12,
   "metadata": {
    "collapsed": false
   },
   "outputs": [
    {
     "name": "stdout",
     "output_type": "stream",
     "text": [
      "\"int.p\",\"int.l2fc\",\"OTU\",\"int.padj\"\r\n",
      "0.000196020907404688,-3.17526409521004,\"OTU.1414\",0.237051412202283\r\n",
      "0.00148670570368743,-3.1303528970411,\"OTU.1051\",0.59735179712395\r\n",
      "0.00162140275175015,3.09851302220106,\"OTU.500\",0.59735179712395\r\n",
      "0.00124207172844057,3.05592227084979,\"OTU.228\",0.593074368543985\r\n",
      "0.00217187913649674,2.97985443000639,\"OTU.298\",0.636062807904503\r\n",
      "0.00243326930471977,2.95714102628657,\"OTU.1324\",0.636062807904503\r\n",
      "0.00252361312553193,2.86137768292596,\"OTU.630\",0.636062807904503\r\n",
      "0.00330184832267835,-2.81926051446317,\"OTU.1594\",0.663521428843681\r\n",
      "0.000412159240455176,-2.7763306855473,\"OTU.206\",0.260308000293191\r\n"
     ]
    }
   ],
   "source": [
    "!head data/interaction.csv"
   ]
  }
 ],
 "metadata": {
  "kernelspec": {
   "display_name": "Python 2",
   "language": "python",
   "name": "python2"
  },
  "language_info": {
   "codemirror_mode": {
    "name": "ipython",
    "version": 2
   },
   "file_extension": ".py",
   "mimetype": "text/x-python",
   "name": "python",
   "nbconvert_exporter": "python",
   "pygments_lexer": "ipython2",
   "version": "2.7.9"
  }
 },
 "nbformat": 4,
 "nbformat_minor": 0
}
