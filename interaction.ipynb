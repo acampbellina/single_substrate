{
 "cells": [
  {
   "cell_type": "code",
   "execution_count": 1,
   "metadata": {
    "collapsed": true
   },
   "outputs": [],
   "source": [
    "%load_ext rpy2.ipython"
   ]
  },
  {
   "cell_type": "code",
   "execution_count": 60,
   "metadata": {
    "collapsed": false
   },
   "outputs": [],
   "source": [
    "%%R\n",
    "library(phyloseq)\n",
    "library(DESeq2)\n",
    "library(dplyr)\n",
    "library(magrittr)"
   ]
  },
  {
   "cell_type": "code",
   "execution_count": 26,
   "metadata": {
    "collapsed": false
   },
   "outputs": [
    {
     "data": {
      "text/plain": [
       "phyloseq-class experiment-level object\n",
       "otu_table()   OTU Table:         [ 6236 taxa and 34 samples ]\n",
       "sample_data() Sample Data:       [ 34 samples by 7 sample variables ]\n",
       "tax_table()   Taxonomy Table:    [ 6236 taxa by 8 taxonomic ranks ]\n"
      ]
     },
     "metadata": {},
     "output_type": "display_data"
    }
   ],
   "source": [
    "%%R\n",
    "sd = read.table(\"data/ABCD_combined_reads_mapper.tsv\",\n",
    "                comment = \"\",\n",
    "                sep = \"\\t\",\n",
    "                header = TRUE, \n",
    "                stringsAsFactors = FALSE)\n",
    "\n",
    "rownames(sd) = sd$X.SampleID\n",
    "\n",
    "ps = import_biom(\"data/otu_table_wtax.biom\")\n",
    "sample_data(ps) = sample_data(sd)\n",
    "md = sample_data(ps)\n",
    "\n",
    "density.min = 1.7125\n",
    "density.max = 1.755\n",
    "\n",
    "ps.int = prune_samples((md$Density > density.min)&\n",
    "              (md$Density < density.max)&\n",
    "              (md$Treatment %in% c(\"12CCPS\",\"13CCPS\",\"12CCSS\",\"13CCSS\"))&\n",
    "              (md$Day == 30)&\n",
    "              !(grepl(\"bulk\", md$X.SampleID)), ps)\n",
    "\n",
    "ps.int"
   ]
  },
  {
   "cell_type": "code",
   "execution_count": 44,
   "metadata": {
    "collapsed": false
   },
   "outputs": [],
   "source": [
    "%%R\n",
    "md.int = sample_data(ps.int)\n",
    "tmp = matrix(unlist(strsplit(md.int$X.SampleID, \"[.]\")), ncol=4, byrow = TRUE)\n",
    "name.df = data.frame(tmp)\n",
    "colnames(name.df) = c(\"contVexp\", \"SSVPS\", \"Day\", \"Fraction\")\n",
    "md.int$contVexp = name.df$contVexp\n",
    "md.int$SSVPS = name.df$SSVPS\n",
    "sample_data(ps.int) = md.int"
   ]
  },
  {
   "cell_type": "code",
   "execution_count": 51,
   "metadata": {
    "collapsed": false
   },
   "outputs": [
    {
     "data": {
      "text/plain": [
       "converting counts to integer mode\n",
       "estimating size factors\n",
       "estimating dispersions\n",
       "gene-wise dispersion estimates\n",
       "mean-dispersion relationship\n",
       "final dispersion estimates\n",
       "fitting model and testing\n",
       "-- replacing outliers and refitting for 4 genes\n",
       "-- DESeq argument 'minReplicatesForReplace' = 7 \n",
       "-- original counts are preserved in counts(dds)\n",
       "estimating dispersions\n",
       "fitting model and testing\n"
      ]
     },
     "metadata": {},
     "output_type": "display_data"
    }
   ],
   "source": [
    "%%R\n",
    "dds = phyloseq_to_deseq2(ps.int, ~ contVexp * SSVPS)\n",
    "dds = DESeq(dds)"
   ]
  },
  {
   "cell_type": "code",
   "execution_count": 70,
   "metadata": {
    "collapsed": false,
    "scrolled": false
   },
   "outputs": [],
   "source": [
    "%%R\n",
    "int.df = results(dds)\n",
    "int.df$OTU = rownames(int.df)\n",
    "int.df = data.frame(int.df)\n",
    "int.df %<>%\n",
    "    arrange(desc(abs(log2FoldChange))) %>%\n",
    "    select(pvalue, log2FoldChange, OTU) %>%\n",
    "    rename(int.p = pvalue, int.l2fc = log2FoldChange)\n",
    "\n",
    "write.csv(int.df, \"data/interaction.csv\", row.names = FALSE)"
   ]
  },
  {
   "cell_type": "code",
   "execution_count": 71,
   "metadata": {
    "collapsed": false
   },
   "outputs": [
    {
     "name": "stdout",
     "output_type": "stream",
     "text": [
      "\"int.p\",\"int.l2fc\",\"OTU\"\r\n",
      "0.000196020907404688,-3.17526409521004,\"OTU.1414\"\r\n",
      "0.00148670570368743,-3.1303528970411,\"OTU.1051\"\r\n",
      "0.00162140275175015,3.09851302220106,\"OTU.500\"\r\n",
      "0.00124207172844057,3.05592227084979,\"OTU.228\"\r\n",
      "0.00217187913649674,2.97985443000639,\"OTU.298\"\r\n",
      "0.00243326930471977,2.95714102628657,\"OTU.1324\"\r\n",
      "0.00252361312553193,2.86137768292596,\"OTU.630\"\r\n",
      "0.00330184832267835,-2.81926051446317,\"OTU.1594\"\r\n",
      "0.000412159240455176,-2.7763306855473,\"OTU.206\"\r\n"
     ]
    }
   ],
   "source": [
    "!head data/interaction.csv"
   ]
  }
 ],
 "metadata": {
  "kernelspec": {
   "display_name": "Python 2",
   "language": "python",
   "name": "python2"
  },
  "language_info": {
   "codemirror_mode": {
    "name": "ipython",
    "version": 2
   },
   "file_extension": ".py",
   "mimetype": "text/x-python",
   "name": "python",
   "nbconvert_exporter": "python",
   "pygments_lexer": "ipython2",
   "version": "2.7.9"
  }
 },
 "nbformat": 4,
 "nbformat_minor": 0
}
