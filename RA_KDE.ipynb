{
 "metadata": {
  "name": "",
  "signature": "sha256:93c65e892747a25ab21356702e009d240f4f12b36662a60f9937325dfb11201a"
 },
 "nbformat": 3,
 "nbformat_minor": 0,
 "worksheets": [
  {
   "cells": [
    {
     "cell_type": "code",
     "collapsed": false,
     "input": [
      "from IPython.display import FileLink"
     ],
     "language": "python",
     "metadata": {},
     "outputs": [],
     "prompt_number": 1
    },
    {
     "cell_type": "code",
     "collapsed": false,
     "input": [
      "%load_ext rpy2.ipython"
     ],
     "language": "python",
     "metadata": {},
     "outputs": [],
     "prompt_number": 2
    },
    {
     "cell_type": "code",
     "collapsed": false,
     "input": [
      "%%R\n",
      "library(dplyr)\n",
      "library(ggplot2)\n",
      "library(phyloseq)\n",
      "library(RColorBrewer)\n",
      "library(gridExtra)\n",
      "library(stats)"
     ],
     "language": "python",
     "metadata": {},
     "outputs": [
      {
       "metadata": {},
       "output_type": "display_data",
       "text": [
        "\n",
        "Attaching package: \u2018dplyr\u2019\n",
        "\n",
        "The following object is masked from \u2018package:stats\u2019:\n",
        "\n",
        "    filter\n",
        "\n",
        "The following objects are masked from \u2018package:base\u2019:\n",
        "\n",
        "    intersect, setdiff, setequal, union\n",
        "\n",
        "Loading required package: grid\n"
       ]
      }
     ],
     "prompt_number": 3
    },
    {
     "cell_type": "code",
     "collapsed": false,
     "input": [
      "%%R\n",
      "\n",
      "asNumeric = function(x) { as.numeric(as.character(x)) }\n",
      "\n",
      "physeq = import_biom(\"data/otu_table_wtax.biom\", \"data/otusn.tree\")\n",
      "sample.data = import_qiime_sample_data(\"data/ABCD_combined_reads_mapper.tsv\")\n",
      "sample.data$Density = asNumeric(sample.data$Density)\n",
      "physeq = merge_phyloseq(physeq,sample.data)\n",
      "physeq.md = sample_data(physeq)\n",
      "physeq.bulk = prune_samples((physeq.md$Treatment %in% c(\"12CCPS\",\"13CCPS\",\"12CCSS\",\"13CCSS\"))& (physeq.md$Day %in% c(30)) &\n",
      "                            row.names(physeq.md) %in% grep(\"bulk\", \n",
      "                                                           row.names(physeq.md), \n",
      "                                                           value=TRUE), physeq)\n",
      "physeq.bulk = transform_sample_counts(physeq.bulk, function(x) x/sum(x))\n",
      "physeq.bulk"
     ],
     "language": "python",
     "metadata": {},
     "outputs": [
      {
       "metadata": {},
       "output_type": "display_data",
       "text": [
        "phyloseq-class experiment-level object\n",
        "otu_table()   OTU Table:         [ 6236 taxa and 4 samples ]\n",
        "sample_data() Sample Data:       [ 4 samples by 7 sample variables ]\n",
        "tax_table()   Taxonomy Table:    [ 6236 taxa by 8 taxonomic ranks ]\n",
        "phy_tree()    Phylogenetic Tree: [ 6236 tips and 6235 internal nodes ]\n"
       ]
      }
     ],
     "prompt_number": 4
    },
    {
     "cell_type": "code",
     "collapsed": false,
     "input": [
      "%%R\n",
      "mdf = psmelt(physeq.bulk)\n",
      "head(mdf)"
     ],
     "language": "python",
     "metadata": {},
     "outputs": [
      {
       "metadata": {},
       "output_type": "display_data",
       "text": [
        "         OTU          Sample  Abundance      X.SampleID BarcodeSequence Day\n",
        "1      OTU.1  13C.PS.30.bulk 0.11972403  13C.PS.30.bulk      TCAGCATCCA  30\n",
        "3      OTU.1 cont.PS.30.bulk 0.07988981 cont.PS.30.bulk      TCACGTGATC  30\n",
        "6671  OTU.25  13C.SS.30.bulk 0.02304348  13C.SS.30.bulk      TCAGCATCGT  30\n",
        "4      OTU.1 cont.SS.30.bulk 0.02035278 cont.SS.30.bulk      TCAGAGACTG  30\n",
        "4448   OTU.2 cont.SS.30.bulk 0.01990050 cont.SS.30.bulk      TCAGAGACTG  30\n",
        "18226 OTU.51 cont.PS.30.bulk 0.01803156 cont.PS.30.bulk      TCACGTGATC  30\n",
        "      Density   LinkerPrimerSequence Treatment     Description    Rank1\n",
        "1          NA CAGGACTACHVGGGTWTCTAAT    13CCPS  13C.PS.30.bulk Bacteria\n",
        "3          NA CAGGACTACHVGGGTWTCTAAT    12CCPS cont.PS.30.bulk Bacteria\n",
        "6671       NA CAGGACTACHVGGGTWTCTAAT    13CCSS  13C.SS.30.bulk Bacteria\n",
        "4          NA CAGGACTACHVGGGTWTCTAAT    12CCSS cont.SS.30.bulk Bacteria\n",
        "4448       NA CAGGACTACHVGGGTWTCTAAT    12CCSS cont.SS.30.bulk Bacteria\n",
        "18226      NA CAGGACTACHVGGGTWTCTAAT    12CCPS cont.PS.30.bulk Bacteria\n",
        "                Rank2               Rank3                Rank4            Rank5\n",
        "1      Actinobacteria       Micrococcales       Micrococcaceae     Arthrobacter\n",
        "3      Actinobacteria       Micrococcales       Micrococcaceae     Arthrobacter\n",
        "6671  Verrucomicrobia      Spartobacteria   Chthoniobacterales DA101_soil_group\n",
        "4      Actinobacteria       Micrococcales       Micrococcaceae     Arthrobacter\n",
        "4448   Proteobacteria Gammaproteobacteria      Pseudomonadales Pseudomonadaceae\n",
        "18226   Acidobacteria               DA023 uncultured_bacterium             <NA>\n",
        "                     Rank6 Rank7 Rank8\n",
        "1                     <NA>  <NA>  <NA>\n",
        "3                     <NA>  <NA>  <NA>\n",
        "6671  uncultured_bacterium  <NA>  <NA>\n",
        "4                     <NA>  <NA>  <NA>\n",
        "4448                  <NA>  <NA>  <NA>\n",
        "18226                 <NA>  <NA>  <NA>\n"
       ]
      }
     ],
     "prompt_number": 5
    },
    {
     "cell_type": "code",
     "collapsed": false,
     "input": [
      "%%R\n",
      "bulk.mdf = psmelt(physeq.bulk)"
     ],
     "language": "python",
     "metadata": {},
     "outputs": [],
     "prompt_number": 6
    },
    {
     "cell_type": "code",
     "collapsed": false,
     "input": [
      "%%R\n",
      "RA.df = bulk.mdf %>%\n",
      "    group_by(OTU) %>% \n",
      "    summarize(mean.abund = mean(Abundance), \n",
      "              max.abund = max(Abundance), \n",
      "              min.abund = min(Abundance))"
     ],
     "language": "python",
     "metadata": {},
     "outputs": [],
     "prompt_number": 7
    },
    {
     "cell_type": "code",
     "collapsed": false,
     "input": [
      "%%R -h 350\n",
      "RA.df.sorted = RA.df[order(-RA.df$mean.abund, -RA.df$max.abund),]\n",
      "RA.df.sorted$Rank = 1:nrow(RA.df.sorted)\n",
      "\n",
      "p = ggplot(RA.df.sorted, aes(y = mean.abund, x = Rank))\n",
      "p = p + geom_ribbon(aes(ymax = max.abund, ymin = min.abund), alpha = 0.25)\n",
      "p = p + geom_line()\n",
      "p = p + scale_y_log10()\n",
      "p = p + labs(y = \"Relative Abundance\")\n",
      "\n",
      "p"
     ],
     "language": "python",
     "metadata": {},
     "outputs": [
      {
       "metadata": {},
       "output_type": "display_data",
       "png": "[encoded data removed]"
      }
     ],
     "prompt_number": 8
    },
    {
     "cell_type": "markdown",
     "metadata": {},
     "source": [
      "###This file is from the [sparsity notebook](./Sparsity_make_l2fc_table.ipynb)."
     ]
    },
    {
     "cell_type": "code",
     "collapsed": false,
     "input": [
      "%%R\n",
      "df_all = read.table(\"data/l2fc_table.csv\", \n",
      "                    header = TRUE,\n",
      "                    sep = \",\")\n",
      "head(df_all)"
     ],
     "language": "python",
     "metadata": {},
     "outputs": [
      {
       "metadata": {},
       "output_type": "display_data",
       "text": [
        "  sparsity_threshold Day Treatment     OTU log2FoldChange            p    Rank1\n",
        "1               0.55  30    13CCSS OTU.783     -0.3370825 9.965741e-01 Bacteria\n",
        "2               0.55  30    13CCSS  OTU.79      0.7598182 4.889860e-01 Bacteria\n",
        "3               0.55  30    13CCSS OTU.304      0.4183648 8.089837e-01 Bacteria\n",
        "4               0.55  30    13CCSS  OTU.50      0.7289694 5.252368e-01 Bacteria\n",
        "5               0.55  30    13CCSS OTU.382      2.9833574 1.370092e-07 Bacteria\n",
        "6               0.55  30    13CCSS OTU.465      0.5515994 6.887540e-01 Bacteria\n",
        "          Rank2      Rank3        Rank4         Rank5       Rank6\n",
        "1 Acidobacteria Holophagae      Sva0725          <NA>        <NA>\n",
        "2 Bacteroidetes Cytophagia Cytophagales Cytophagaceae Flexibacter\n",
        "3 Bacteroidetes Cytophagia Cytophagales Cytophagaceae Flexibacter\n",
        "4 Bacteroidetes Cytophagia Cytophagales Cytophagaceae Flexibacter\n",
        "5 Bacteroidetes Cytophagia Cytophagales Cytophagaceae Flexibacter\n",
        "6 Bacteroidetes Cytophagia Cytophagales Cytophagaceae Flexibacter\n",
        "                               Rank7 Rank8         padj\n",
        "1                               <NA>  <NA> 1.000000e+00\n",
        "2               uncultured_bacterium  <NA> 1.000000e+00\n",
        "3               uncultured_bacterium  <NA> 1.000000e+00\n",
        "4               uncultured_bacterium  <NA> 1.000000e+00\n",
        "5 uncultured_Bacteroidetes_bacterium  <NA> 4.329492e-05\n",
        "6               uncultured_bacterium  <NA> 1.000000e+00\n"
       ]
      }
     ],
     "prompt_number": 9
    },
    {
     "cell_type": "code",
     "collapsed": false,
     "input": [
      "%%R\n",
      "FDR = 0.1\n",
      "ds = subset(df_all, (padj <= FDR))\n",
      "p = as.character(levels(factor(ds$Rank2)))\n",
      "quote(paste(\"italic(\", p, \")\", sep=\"\"))"
     ],
     "language": "python",
     "metadata": {},
     "outputs": [
      {
       "metadata": {},
       "output_type": "display_data",
       "text": [
        "[1] \"italic(Acidobacteria)\"   \"italic(Bacteroidetes)\"  \n",
        "[3] \"italic(Chloroflexi)\"     \"italic(Cyanobacteria)\"  \n",
        "[5] \"italic(Planctomycetes)\"  \"italic(Proteobacteria)\" \n",
        "[7] \"italic(Spirochaetes)\"    \"italic(Verrucomicrobia)\"\n"
       ]
      }
     ],
     "prompt_number": 10
    },
    {
     "cell_type": "code",
     "collapsed": false,
     "input": [
      "%%R\n",
      "t = parse(text = paste(\"italic(\", p, \")\", sep=\"\"))"
     ],
     "language": "python",
     "metadata": {},
     "outputs": [],
     "prompt_number": 11
    },
    {
     "cell_type": "code",
     "collapsed": false,
     "input": [
      "%%R -h 400 -w 700\n",
      "\n",
      "colours = c(\"#377eb8\", \"#4daf4a\")\n",
      "getPalette = colorRampPalette(brewer.pal(8, \"Set1\"))\n",
      "\n",
      "FDR = 0.10\n",
      "\n",
      "tax = data.frame(tax_table(physeq.bulk))\n",
      "tax$OTU = rownames(tax)\n",
      "\n",
      "df_all$padj = p.adjust(df_all$p, method = \"BH\")\n",
      "\n",
      "OTUs.wP = unique(df_all$OTU)\n",
      "\n",
      "RA.df.wP = subset(RA.df, OTU %in% OTUs.wP)\n",
      "\n",
      "RA.df.wP.sorted = RA.df.wP[order(-RA.df.wP$mean.abund, -RA.df.wP$max.abund),]\n",
      "RA.df.wP.sorted$Rank = 1:nrow(RA.df.wP.sorted)\n",
      "\n",
      "df_all.p.summarize = df_all %>% \n",
      "    group_by(OTU, Treatment) %>%\n",
      "    summarize(p.adj.min = min(padj))\n",
      "\n",
      "df_all.p.summarize = left_join(df_all.p.summarize, RA.df.wP.sorted)\n",
      "df_all.p.summarize = left_join(df_all.p.summarize, tax)\n",
      "\n",
      "#d = RA.df.wP.sorted\n",
      "d = df_all.p.summarize\n",
      "d$jitter = 1 + runif(nrow(d), min = 0.25, max = 2.5)\n",
      "\n",
      "p = ggplot(d, aes(y = mean.abund, x = Rank))\n",
      "p = p + geom_ribbon(aes(ymax = max.abund, ymin = min.abund), alpha = 0.25)\n",
      "\n",
      "p = p + geom_rug(data = subset(d, (p.adj.min <= FDR)&(Treatment==\"13CCSS\")), \n",
      "                 sides = \"l\", aes(color = Rank2), size = 1.5, alpha = 0.5)\n",
      "p = p + geom_rug(data = subset(d, (p.adj.min <= FDR)&(Treatment==\"13CCPS\")), \n",
      "                 sides = \"r\", aes(color = Rank2), size = 1.5, alpha = 0.5)\n",
      "\n",
      "p = p + geom_line(size = 1)\n",
      "\n",
      "p = p + scale_color_manual(values=getPalette(8), labels = t)\n",
      "\n",
      "p = p + scale_y_log10()\n",
      "p = p + labs(y = \"Relative Abundance\", color = \"Phylum\")\n",
      "\n",
      "p = p + theme_bw()\n",
      "\n",
      "p = p + guides(fill = guide_legend(label.hjust = 0))\n",
      "\n",
      "p.rabund = p\n",
      "\n",
      "p"
     ],
     "language": "python",
     "metadata": {},
     "outputs": [
      {
       "metadata": {},
       "output_type": "display_data",
       "text": [
        "Joining by: \"OTU\"\n",
        "Joining by: \"OTU\"\n"
       ]
      },
      {
       "metadata": {},
       "output_type": "display_data",
       "png": "[encoded data removed]"
      }
     ],
     "prompt_number": 12
    },
    {
     "cell_type": "code",
     "collapsed": false,
     "input": [
      "%%R\n",
      "PS.mean_abund = subset(df_all.p.summarize, (p.adj.min <= FDR)&(Treatment==\"13CCPS\"))$mean.abund\n",
      "SS.mean_abund = subset(df_all.p.summarize, (p.adj.min <= FDR)&(Treatment==\"13CCSS\"))$mean.abund\n",
      "\n",
      "wilcox.test(SS.mean_abund, PS.mean_abund, alternative = \"less\")"
     ],
     "language": "python",
     "metadata": {},
     "outputs": [
      {
       "metadata": {},
       "output_type": "display_data",
       "text": [
        "\n",
        "\tWilcoxon rank sum test with continuity correction\n",
        "\n",
        "data:  SS.mean_abund and PS.mean_abund\n",
        "W = 305, p-value = 0.9562\n",
        "alternative hypothesis: true location shift is less than 0\n",
        "\n"
       ]
      }
     ],
     "prompt_number": 13
    },
    {
     "cell_type": "markdown",
     "metadata": {},
     "source": [
      "###These files are from the density shift notebooks [1](./Density_shiftsPS.ipynb) and [2](./Density_shiftsSS.ipynb)."
     ]
    },
    {
     "cell_type": "heading",
     "level": 4,
     "metadata": {},
     "source": [
      "The PS density shift was subsetted into just D30 since that is the only time point I'm comparing PS with SS.  "
     ]
    },
    {
     "cell_type": "code",
     "collapsed": false,
     "input": [
      "%%R\n",
      "df.shifts.PS = read.csv(\"data/density_shifts_PS_D30.csv\", sep = \",\", header = TRUE, )\n",
      "df.shifts.PS$shift = as.numeric(as.character(df.shifts.PS$shift))\n",
      "head(df.shifts.PS)"
     ],
     "language": "python",
     "metadata": {},
     "outputs": [
      {
       "metadata": {},
       "output_type": "display_data",
       "text": [
        "       OTU        shift Day Treatment\n",
        "1  OTU.759  0.007532155  30    13CCPS\n",
        "2  OTU.758 -0.002040173  30    13CCPS\n",
        "3  OTU.757 -0.017384451  30    13CCPS\n",
        "4  OTU.756 -0.015844569  30    13CCPS\n",
        "5 OTU.5419  0.006751877  30    13CCPS\n",
        "6  OTU.839           NA  30    13CCPS\n"
       ]
      }
     ],
     "prompt_number": 14
    },
    {
     "cell_type": "code",
     "collapsed": false,
     "input": [
      "%%R\n",
      "df.shifts.SS = read.csv(\"data/density_shifts_SS.csv\", sep = \",\", header = TRUE, )\n",
      "df.shifts.SS$shift = as.numeric(as.character(df.shifts.SS$shift))\n",
      "head(df.shifts.SS)"
     ],
     "language": "python",
     "metadata": {},
     "outputs": [
      {
       "metadata": {},
       "output_type": "display_data",
       "text": [
        "       OTU         shift Day Treatment\n",
        "1  OTU.759 -0.0142495910  30    13CCSS\n",
        "2  OTU.758 -0.0006618842  30    13CCSS\n",
        "3  OTU.757 -0.0082880312  30    13CCSS\n",
        "4  OTU.756  0.0058375192  30    13CCSS\n",
        "5 OTU.5419 -0.0105358313  30    13CCSS\n",
        "6  OTU.839  0.0123829002  30    13CCSS\n"
       ]
      }
     ],
     "prompt_number": 15
    },
    {
     "cell_type": "code",
     "collapsed": false,
     "input": [
      "%%R\n",
      "density_shift_allD30 = rbind(df.shifts.PS, df.shifts.SS)\n",
      "head(density_shift_allD30)"
     ],
     "language": "python",
     "metadata": {},
     "outputs": [
      {
       "metadata": {},
       "output_type": "display_data",
       "text": [
        "       OTU        shift Day Treatment\n",
        "1  OTU.759  0.007532155  30    13CCPS\n",
        "2  OTU.758 -0.002040173  30    13CCPS\n",
        "3  OTU.757 -0.017384451  30    13CCPS\n",
        "4  OTU.756 -0.015844569  30    13CCPS\n",
        "5 OTU.5419  0.006751877  30    13CCPS\n",
        "6  OTU.839           NA  30    13CCPS\n"
       ]
      }
     ],
     "prompt_number": 16
    },
    {
     "cell_type": "code",
     "collapsed": false,
     "input": [
      "%%R\n",
      "write.csv(density_shift_allD30, \"data/density_shifts_allD30.csv\")"
     ],
     "language": "python",
     "metadata": {},
     "outputs": [],
     "prompt_number": 17
    },
    {
     "cell_type": "code",
     "collapsed": false,
     "input": [
      "!head data/density_shifts_allD30.csv"
     ],
     "language": "python",
     "metadata": {},
     "outputs": [
      {
       "output_type": "stream",
       "stream": "stdout",
       "text": [
        "\"\",\"OTU\",\"shift\",\"Day\",\"Treatment\"\r\n",
        "\"1\",\"OTU.759\",0.007532155,30,\"13CCPS\"\r\n",
        "\"2\",\"OTU.758\",-0.002040173,30,\"13CCPS\"\r\n",
        "\"3\",\"OTU.757\",-0.017384451,30,\"13CCPS\"\r\n",
        "\"4\",\"OTU.756\",-0.015844569,30,\"13CCPS\"\r\n",
        "\"5\",\"OTU.5419\",0.006751877,30,\"13CCPS\"\r\n",
        "\"6\",\"OTU.839\",NA,30,\"13CCPS\"\r\n",
        "\"7\",\"OTU.1968\",-0.012578331,30,\"13CCPS\"\r\n",
        "\"8\",\"OTU.1969\",NA,30,\"13CCPS\"\r\n",
        "\"9\",\"OTU.1964\",-0.00314436,30,\"13CCPS\"\r\n"
       ]
      }
     ],
     "prompt_number": 18
    },
    {
     "cell_type": "code",
     "collapsed": false,
     "input": [
      "%%R -w 400 -h 350\n",
      "df_all.wShifts = merge(df_all, density_shift_allD30, by = c(\"OTU\",\"Day\",\"Treatment\"))\n",
      "\n",
      "df.plot = subset(df_all.wShifts, padj <= FDR)\n",
      "\n",
      "colours = c(\"#377eb8\", \"#4daf4a\")\n",
      "\n",
      "p = ggplot(df.plot, aes(x = as.numeric(as.character(shift))))\n",
      "\n",
      "p = p + geom_density(aes(color = Treatment, fill = Treatment), alpha = 0.50)\n",
      "p = p + geom_rug(aes(color = Treatment))\n",
      "p = p + scale_color_manual(values=colours) \n",
      "p = p + scale_fill_manual(values=colours)\n",
      "p = p + labs(y = \"Kernel Density\", x = \"Density Shift, g/mL\")\n",
      "p = p + xlim(xmin = -0.005, xmax = 0.042)\n",
      "\n",
      "p = p + theme_bw()\n",
      "\n",
      "p.shift1 = p \n",
      "\n",
      "p"
     ],
     "language": "python",
     "metadata": {},
     "outputs": [
      {
       "metadata": {},
       "output_type": "display_data",
       "png": "[encoded data removed]"
      }
     ],
     "prompt_number": 19
    },
    {
     "cell_type": "code",
     "collapsed": false,
     "input": [
      "%%R\n",
      "PS.shifts = subset(df_all.wShifts, (Treatment == \"13CCPS\")&(padj <= FDR))$shift\n",
      "SS.shifts = subset(df_all.wShifts, (Treatment == \"13CCSS\")&(padj <= FDR))$shift\n",
      "\n",
      "wilcox.test(PS.shifts, SS.shifts, alternative = \"greater\")"
     ],
     "language": "python",
     "metadata": {},
     "outputs": [
      {
       "metadata": {},
       "output_type": "display_data",
       "text": [
        "\n",
        "\tWilcoxon rank sum test\n",
        "\n",
        "data:  PS.shifts and SS.shifts\n",
        "W = 276, p-value = 0.1627\n",
        "alternative hypothesis: true location shift is greater than 0\n",
        "\n"
       ]
      }
     ],
     "prompt_number": 20
    },
    {
     "cell_type": "code",
     "collapsed": false,
     "input": [
      "%%R -w 1100 -h 350\n",
      "\n",
      "p.combined = grid.arrange(p.shift1, p.rabund, widths = c(1.2, 2), ncol = 2)\n",
      "\n",
      "p.combined"
     ],
     "language": "python",
     "metadata": {},
     "outputs": [
      {
       "metadata": {},
       "output_type": "display_data",
       "text": [
        "NULL\n"
       ]
      },
      {
       "metadata": {},
       "output_type": "display_data",
       "png": "[encoded data removed]"
      }
     ],
     "prompt_number": 21
    },
    {
     "cell_type": "code",
     "collapsed": false,
     "input": [
      "%%R\n",
      "pdf(\"figs/shift_and_rabund.pdf\", w = 15, h = 4)\n",
      "print(grid.arrange(p.shift1, p.rabund, widths = c(1.2, 2), ncol = 2))\n",
      "dev.off()"
     ],
     "language": "python",
     "metadata": {},
     "outputs": [
      {
       "metadata": {},
       "output_type": "display_data",
       "text": [
        "NULL\n",
        "png \n",
        "  2 \n"
       ]
      }
     ],
     "prompt_number": 22
    },
    {
     "cell_type": "code",
     "collapsed": false,
     "input": [
      "%%R\n",
      "png(\"figs/shift_and_rabund.png\", w = 900, h = 300)\n",
      "print(grid.arrange(p.shift1, p.rabund, widths = c(1.2, 2), ncol = 2))\n",
      "dev.off()"
     ],
     "language": "python",
     "metadata": {},
     "outputs": [
      {
       "metadata": {},
       "output_type": "display_data",
       "text": [
        "NULL\n",
        "png \n",
        "  2 \n"
       ]
      }
     ],
     "prompt_number": 23
    },
    {
     "cell_type": "code",
     "collapsed": false,
     "input": [
      "FileLink(\"figs/shift_and_rabund.pdf\")"
     ],
     "language": "python",
     "metadata": {},
     "outputs": [
      {
       "html": [
        "<a href='figs/shift_and_rabund.pdf' target='_blank'>figs/shift_and_rabund.pdf</a><br>"
       ],
       "metadata": {},
       "output_type": "pyout",
       "prompt_number": 24,
       "text": [
        "/home/ashley/single_substrate/figs/shift_and_rabund.pdf"
       ]
      }
     ],
     "prompt_number": 24
    },
    {
     "cell_type": "code",
     "collapsed": false,
     "input": [
      "FileLink(\"figs/shift_and_rabund.png\")"
     ],
     "language": "python",
     "metadata": {},
     "outputs": [
      {
       "html": [
        "<a href='figs/shift_and_rabund.png' target='_blank'>figs/shift_and_rabund.png</a><br>"
       ],
       "metadata": {},
       "output_type": "pyout",
       "prompt_number": 25,
       "text": [
        "/home/ashley/single_substrate/figs/shift_and_rabund.png"
       ]
      }
     ],
     "prompt_number": 25
    },
    {
     "cell_type": "code",
     "collapsed": false,
     "input": [
      "%%R -w 800 -h 350\n",
      "df_all.wShifts = merge(df_all, density_shift_allD30, by = c(\"OTU\",\"Day\",\"Treatment\"))\n",
      "\n",
      "df.plot = subset(df_all.wShifts, padj <= FDR)\n",
      "\n",
      "colours = c(\"#377eb8\", \"#4daf4a\")\n",
      "\n",
      "p2 = ggplot(df.plot, aes(x = as.numeric(as.character(shift))))\n",
      "\n",
      "p2 = p2 + facet_wrap(~Rank2, ncol=4)\n",
      "p2 = p2 + geom_density(aes(color = Treatment, fill = Treatment), alpha = 0.50)\n",
      "p2 = p2 + geom_rug(aes(color = Treatment))\n",
      "p2 = p2 + scale_color_manual(values=colours) \n",
      "p2 = p2 + scale_fill_manual(values=colours)\n",
      "p2 = p2 + labs(y = \"Kernel Density\", x = \"Density Shift, g/mL\")\n",
      "p2 = p2 + xlim(xmin = -0.005, xmax = 0.042)\n",
      "p2 = p2 + theme_bw()\n",
      "\n",
      "p2"
     ],
     "language": "python",
     "metadata": {},
     "outputs": [
      {
       "metadata": {},
       "output_type": "display_data",
       "png": "[encoded data removed]"
      }
     ],
     "prompt_number": 26
    },
    {
     "cell_type": "code",
     "collapsed": false,
     "input": [
      "%%R\n",
      "pdf(\"figs/KDE_byPhylum_panel.pdf\", w = 10, h = 4)\n",
      "grid.arrange(p2, ncol = 1)\n",
      "dev.off()"
     ],
     "language": "python",
     "metadata": {},
     "outputs": [
      {
       "metadata": {},
       "output_type": "display_data",
       "text": [
        "png \n",
        "  2 \n"
       ]
      }
     ],
     "prompt_number": 27
    },
    {
     "cell_type": "code",
     "collapsed": false,
     "input": [
      "%%R\n",
      "png(\"figs/KDE_byPhylum_panel.png\", w = 800, h = 300)\n",
      "grid.arrange(p2, ncol = 1)\n",
      "dev.off()"
     ],
     "language": "python",
     "metadata": {},
     "outputs": [
      {
       "metadata": {},
       "output_type": "display_data",
       "text": [
        "png \n",
        "  2 \n"
       ]
      }
     ],
     "prompt_number": 28
    },
    {
     "cell_type": "code",
     "collapsed": false,
     "input": [
      "FileLink(\"figs/KDE_byPhylum_panel.pdf\")"
     ],
     "language": "python",
     "metadata": {},
     "outputs": [
      {
       "html": [
        "<a href='figs/KDE_byPhylum_panel.pdf' target='_blank'>figs/KDE_byPhylum_panel.pdf</a><br>"
       ],
       "metadata": {},
       "output_type": "pyout",
       "prompt_number": 29,
       "text": [
        "/home/ashley/single_substrate/figs/KDE_byPhylum_panel.pdf"
       ]
      }
     ],
     "prompt_number": 29
    },
    {
     "cell_type": "code",
     "collapsed": false,
     "input": [
      "FileLink(\"figs/KDE_byPhylum_panel.png\")"
     ],
     "language": "python",
     "metadata": {},
     "outputs": [
      {
       "html": [
        "<a href='figs/KDE_byPhylum_panel.png' target='_blank'>figs/KDE_byPhylum_panel.png</a><br>"
       ],
       "metadata": {},
       "output_type": "pyout",
       "prompt_number": 30,
       "text": [
        "/home/ashley/single_substrate/figs/KDE_byPhylum_panel.png"
       ]
      }
     ],
     "prompt_number": 30
    },
    {
     "cell_type": "code",
     "collapsed": false,
     "input": [
      "%%R\n",
      "PS.shifts = subset(df_all.wShifts, (Treatment == \"13CCPS\")&(padj <= FDR)&(Rank2 == \"Bacteroidetes\"))$shift\n",
      "SS.shifts = subset(df_all.wShifts, (Treatment == \"13CCSS\")&(padj <= FDR)&(Rank2 == \"Bacteroidetes\"))$shift\n",
      "\n",
      "wilcox.test(PS.shifts, SS.shifts, alternative = \"less\")"
     ],
     "language": "python",
     "metadata": {},
     "outputs": [
      {
       "metadata": {},
       "output_type": "display_data",
       "text": [
        "\n",
        "\tWilcoxon rank sum test\n",
        "\n",
        "data:  PS.shifts and SS.shifts\n",
        "W = 1, p-value = 0.6667\n",
        "alternative hypothesis: true location shift is less than 0\n",
        "\n"
       ]
      }
     ],
     "prompt_number": 31
    },
    {
     "cell_type": "code",
     "collapsed": false,
     "input": [
      "%%R\n",
      "PS.shifts = subset(df_all.wShifts, (Treatment == \"13CCPS\")&(padj <= FDR)&(Rank2 == \"Chloroflexi\"))$shift\n",
      "SS.shifts = subset(df_all.wShifts, (Treatment == \"13CCSS\")&(padj <= FDR)&(Rank2 == \"Chloroflexi\"))$shift\n",
      "\n",
      "wilcox.test(PS.shifts, SS.shifts, alternative = \"greater\")"
     ],
     "language": "python",
     "metadata": {},
     "outputs": [
      {
       "metadata": {},
       "output_type": "display_data",
       "text": [
        "\n",
        "\tWilcoxon rank sum test\n",
        "\n",
        "data:  PS.shifts and SS.shifts\n",
        "W = 2, p-value = 0.9\n",
        "alternative hypothesis: true location shift is greater than 0\n",
        "\n"
       ]
      }
     ],
     "prompt_number": 32
    },
    {
     "cell_type": "code",
     "collapsed": false,
     "input": [
      "%%R\n",
      "PS.shifts = subset(df_all.wShifts, (Treatment == \"13CCPS\")&(padj <= FDR)&(Rank2 == \"Planctomycetes\"))$shift\n",
      "SS.shifts = subset(df_all.wShifts, (Treatment == \"13CCSS\")&(padj <= FDR)&(Rank2 == \"Planctomycetes\"))$shift\n",
      "\n",
      "wilcox.test(PS.shifts, SS.shifts, alternative = \"less\")"
     ],
     "language": "python",
     "metadata": {},
     "outputs": [
      {
       "metadata": {},
       "output_type": "display_data",
       "text": [
        "\n",
        "\tWilcoxon rank sum test\n",
        "\n",
        "data:  PS.shifts and SS.shifts\n",
        "W = 0, p-value = 0.25\n",
        "alternative hypothesis: true location shift is less than 0\n",
        "\n"
       ]
      }
     ],
     "prompt_number": 33
    },
    {
     "cell_type": "code",
     "collapsed": false,
     "input": [
      "%%R\n",
      "PS.shifts = subset(df_all.wShifts, (Treatment == \"13CCPS\")&(padj <= FDR)&(Rank2 == \"Proteobacteria\"))$shift\n",
      "SS.shifts = subset(df_all.wShifts, (Treatment == \"13CCSS\")&(padj <= FDR)&(Rank2 == \"Proteobacteria\"))$shift\n",
      "\n",
      "wilcox.test(PS.shifts, SS.shifts, alternative = \"greater\")"
     ],
     "language": "python",
     "metadata": {},
     "outputs": [
      {
       "metadata": {},
       "output_type": "display_data",
       "text": [
        "\n",
        "\tWilcoxon rank sum test\n",
        "\n",
        "data:  PS.shifts and SS.shifts\n",
        "W = 28, p-value = 0.4353\n",
        "alternative hypothesis: true location shift is greater than 0\n",
        "\n"
       ]
      }
     ],
     "prompt_number": 34
    },
    {
     "cell_type": "code",
     "collapsed": false,
     "input": [
      "%%R\n",
      "PS.shifts = subset(df_all.wShifts, (Treatment == \"13CCPS\")&(padj <= FDR)&(Rank2 == \"Verrucomicrobia\"))$shift\n",
      "SS.shifts = subset(df_all.wShifts, (Treatment == \"13CCSS\")&(padj <= FDR)&(Rank2 == \"Verrucomicrobia\"))$shift\n",
      "\n",
      "wilcox.test(PS.shifts, SS.shifts, alternative = \"greater\")"
     ],
     "language": "python",
     "metadata": {},
     "outputs": [
      {
       "metadata": {},
       "output_type": "display_data",
       "text": [
        "\n",
        "\tWilcoxon rank sum test\n",
        "\n",
        "data:  PS.shifts and SS.shifts\n",
        "W = 24, p-value = 0.06277\n",
        "alternative hypothesis: true location shift is greater than 0\n",
        "\n"
       ]
      }
     ],
     "prompt_number": 35
    },
    {
     "cell_type": "code",
     "collapsed": false,
     "input": [
      "%%R\n",
      "PS.shifts = subset(df_all.wShifts, (Treatment == \"13CCPS\")&(padj <= FDR)&(Rank5 == \"FukuN18_freshwater_group\"))$shift\n",
      "SS.shifts = subset(df_all.wShifts, (Treatment == \"13CCSS\")&(padj <= FDR)&(Rank5 == \"FukuN18_freshwater_group\"))$shift\n",
      "\n",
      "wilcox.test(PS.shifts, SS.shifts, alternative = \"greater\")"
     ],
     "language": "python",
     "metadata": {},
     "outputs": [
      {
       "metadata": {},
       "output_type": "display_data",
       "text": [
        "\n",
        "\tWilcoxon rank sum test\n",
        "\n",
        "data:  PS.shifts and SS.shifts\n",
        "W = 9, p-value = 0.05\n",
        "alternative hypothesis: true location shift is greater than 0\n",
        "\n"
       ]
      }
     ],
     "prompt_number": 36
    },
    {
     "cell_type": "code",
     "collapsed": false,
     "input": [
      "%%R\n",
      "PS.shifts = subset(df_all.wShifts, (Treatment == \"13CCPS\")&(padj <= FDR)&(Rank4 == \"Rhizobiales\"))$shift\n",
      "SS.shifts = subset(df_all.wShifts, (Treatment == \"13CCSS\")&(padj <= FDR)&(Rank4 == \"Rhizobiales\"))$shift\n",
      "\n",
      "wilcox.test(PS.shifts, SS.shifts, alternative = \"less\")"
     ],
     "language": "python",
     "metadata": {},
     "outputs": [
      {
       "metadata": {},
       "output_type": "display_data",
       "text": [
        "\n",
        "\tWilcoxon rank sum test\n",
        "\n",
        "data:  PS.shifts and SS.shifts\n",
        "W = 4, p-value = 0.6\n",
        "alternative hypothesis: true location shift is less than 0\n",
        "\n"
       ]
      }
     ],
     "prompt_number": 37
    },
    {
     "cell_type": "code",
     "collapsed": false,
     "input": [
      "%%R\n",
      "PS.shifts = subset(df_all.wShifts, (Treatment == \"13CCPS\")&(padj <= FDR)&(Rank4 == \"Planctomycetales\"))$shift\n",
      "SS.shifts = subset(df_all.wShifts, (Treatment == \"13CCSS\")&(padj <= FDR)&(Rank4 == \"Planctomycetales\"))$shift\n",
      "\n",
      "wilcox.test(PS.shifts, SS.shifts, alternative = \"greater\")"
     ],
     "language": "python",
     "metadata": {},
     "outputs": [
      {
       "metadata": {},
       "output_type": "display_data",
       "text": [
        "\n",
        "\tWilcoxon rank sum test\n",
        "\n",
        "data:  PS.shifts and SS.shifts\n",
        "W = 0, p-value = 1\n",
        "alternative hypothesis: true location shift is greater than 0\n",
        "\n"
       ]
      }
     ],
     "prompt_number": 38
    }
   ],
   "metadata": {}
  }
 ]
}