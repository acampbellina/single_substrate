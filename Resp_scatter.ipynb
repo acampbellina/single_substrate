{
 "metadata": {
  "name": "",
  "signature": "sha256:12972ff22d8987fbb14922d4a2e2345a28a798593b2b653579a040862fca7689"
 },
 "nbformat": 3,
 "nbformat_minor": 0,
 "worksheets": [
  {
   "cells": [
    {
     "cell_type": "code",
     "collapsed": false,
     "input": [
      "from IPython.display import FileLink"
     ],
     "language": "python",
     "metadata": {},
     "outputs": [],
     "prompt_number": 1
    },
    {
     "cell_type": "code",
     "collapsed": false,
     "input": [
      "%load_ext rpy2.ipython"
     ],
     "language": "python",
     "metadata": {},
     "outputs": [],
     "prompt_number": 2
    },
    {
     "cell_type": "code",
     "collapsed": false,
     "input": [
      "%%R\n",
      "library(DESeq2)\n",
      "library(phyloseq)\n",
      "library(plyr); library(dplyr)\n",
      "library(ggplot2)\n",
      "library(doParallel)\n",
      "library(foreach)\n",
      "library(tidyr)"
     ],
     "language": "python",
     "metadata": {},
     "outputs": [
      {
       "metadata": {},
       "output_type": "display_data",
       "text": [
        "Loading required package: S4Vectors\n",
        "Loading required package: stats4\n",
        "Loading required package: BiocGenerics\n",
        "Loading required package: parallel\n",
        "\n",
        "Attaching package: \u2018BiocGenerics\u2019\n",
        "\n",
        "The following objects are masked from \u2018package:parallel\u2019:\n",
        "\n",
        "    clusterApply, clusterApplyLB, clusterCall, clusterEvalQ,\n",
        "    clusterExport, clusterMap, parApply, parCapply, parLapply,\n",
        "    parLapplyLB, parRapply, parSapply, parSapplyLB\n",
        "\n",
        "The following object is masked from \u2018package:stats\u2019:\n",
        "\n",
        "    xtabs\n",
        "\n",
        "The following objects are masked from \u2018package:base\u2019:\n",
        "\n",
        "    anyDuplicated, append, as.data.frame, as.vector, cbind, colnames,\n",
        "    do.call, duplicated, eval, evalq, Filter, Find, get, intersect,\n",
        "    is.unsorted, lapply, Map, mapply, match, mget, order, paste, pmax,\n",
        "    pmax.int, pmin, pmin.int, Position, rank, rbind, Reduce, rep.int,\n",
        "    rownames, sapply, setdiff, sort, table, tapply, union, unique,\n",
        "    unlist, unsplit\n",
        "\n",
        "Loading required package: IRanges\n",
        "Loading required package: GenomicRanges\n",
        "Loading required package: GenomeInfoDb\n",
        "Loading required package: Rcpp\n",
        "Loading required package: RcppArmadillo\n",
        "\n",
        "Attaching package: \u2018phyloseq\u2019\n",
        "\n",
        "The following object is masked from \u2018package:GenomicRanges\u2019:\n",
        "\n",
        "    distance\n",
        "\n",
        "The following object is masked from \u2018package:IRanges\u2019:\n",
        "\n",
        "    distance\n",
        "\n",
        "\n",
        "Attaching package: \u2018plyr\u2019\n",
        "\n",
        "The following object is masked from \u2018package:IRanges\u2019:\n",
        "\n",
        "    desc\n",
        "\n",
        "The following object is masked from \u2018package:S4Vectors\u2019:\n",
        "\n",
        "    rename\n",
        "\n",
        "\n",
        "Attaching package: \u2018dplyr\u2019\n",
        "\n",
        "The following objects are masked from \u2018package:plyr\u2019:\n",
        "\n",
        "    arrange, count, desc, failwith, id, mutate, rename, summarise,\n",
        "    summarize\n",
        "\n",
        "The following objects are masked from \u2018package:GenomicRanges\u2019:\n",
        "\n",
        "    intersect, setdiff, union\n",
        "\n",
        "The following object is masked from \u2018package:GenomeInfoDb\u2019:\n",
        "\n",
        "    intersect\n",
        "\n",
        "The following objects are masked from \u2018package:IRanges\u2019:\n",
        "\n",
        "    collapse, desc, intersect, setdiff, slice, union\n",
        "\n",
        "The following object is masked from \u2018package:S4Vectors\u2019:\n",
        "\n",
        "    rename\n",
        "\n",
        "The following objects are masked from \u2018package:BiocGenerics\u2019:\n",
        "\n",
        "    intersect, setdiff, union\n",
        "\n",
        "The following object is masked from \u2018package:stats\u2019:\n",
        "\n",
        "    filter\n",
        "\n",
        "The following objects are masked from \u2018package:base\u2019:\n",
        "\n",
        "    intersect, setdiff, setequal, union\n",
        "\n",
        "Loading required package: foreach\n",
        "foreach: simple, scalable parallel programming from Revolution Analytics\n",
        "Use Revolution R for scalability, fault tolerance and more.\n",
        "http://www.revolutionanalytics.com\n",
        "Loading required package: iterators\n"
       ]
      }
     ],
     "prompt_number": 3
    },
    {
     "cell_type": "code",
     "collapsed": false,
     "input": [
      "%%R\n",
      "df_all = read.csv(\"data/l2fc_table.csv\")\n",
      "head(df_all)"
     ],
     "language": "python",
     "metadata": {},
     "outputs": [
      {
       "metadata": {},
       "output_type": "display_data",
       "text": [
        "  sparsity_threshold Day Treatment     OTU log2FoldChange            p    Rank1\n",
        "1               0.55  30    13CCSS OTU.783     -0.3370825 9.965741e-01 Bacteria\n",
        "2               0.55  30    13CCSS  OTU.79      0.7598182 4.889860e-01 Bacteria\n",
        "3               0.55  30    13CCSS OTU.304      0.4183648 8.089837e-01 Bacteria\n",
        "4               0.55  30    13CCSS  OTU.50      0.7289694 5.252368e-01 Bacteria\n",
        "5               0.55  30    13CCSS OTU.382      2.9833574 1.370092e-07 Bacteria\n",
        "6               0.55  30    13CCSS OTU.465      0.5515994 6.887540e-01 Bacteria\n",
        "          Rank2      Rank3        Rank4         Rank5       Rank6\n",
        "1 Acidobacteria Holophagae      Sva0725          <NA>        <NA>\n",
        "2 Bacteroidetes Cytophagia Cytophagales Cytophagaceae Flexibacter\n",
        "3 Bacteroidetes Cytophagia Cytophagales Cytophagaceae Flexibacter\n",
        "4 Bacteroidetes Cytophagia Cytophagales Cytophagaceae Flexibacter\n",
        "5 Bacteroidetes Cytophagia Cytophagales Cytophagaceae Flexibacter\n",
        "6 Bacteroidetes Cytophagia Cytophagales Cytophagaceae Flexibacter\n",
        "                               Rank7 Rank8         padj\n",
        "1                               <NA>  <NA> 1.000000e+00\n",
        "2               uncultured_bacterium  <NA> 1.000000e+00\n",
        "3               uncultured_bacterium  <NA> 1.000000e+00\n",
        "4               uncultured_bacterium  <NA> 1.000000e+00\n",
        "5 uncultured_Bacteroidetes_bacterium  <NA> 4.329492e-05\n",
        "6               uncultured_bacterium  <NA> 1.000000e+00\n"
       ]
      }
     ],
     "prompt_number": 4
    },
    {
     "cell_type": "code",
     "collapsed": false,
     "input": [
      "%%R\n",
      "df_all.padj = df_all %>%\n",
      "    group_by(Treatment) %>%\n",
      "    mutate(padj = p.adjust(p, method = \"BH\"))\n",
      "df_all.padj"
     ],
     "language": "python",
     "metadata": {},
     "outputs": [
      {
       "metadata": {},
       "output_type": "display_data",
       "text": [
        "Source: local data frame [1,198 x 15]\n",
        "Groups: Treatment\n",
        "\n",
        "   sparsity_threshold Day Treatment      OTU log2FoldChange            p\n",
        "1                0.55  30    13CCSS  OTU.783     -0.3370825 9.965741e-01\n",
        "2                0.55  30    13CCSS   OTU.79      0.7598182 4.889860e-01\n",
        "3                0.55  30    13CCSS  OTU.304      0.4183648 8.089837e-01\n",
        "4                0.55  30    13CCSS   OTU.50      0.7289694 5.252368e-01\n",
        "5                0.55  30    13CCSS  OTU.382      2.9833574 1.370092e-07\n",
        "6                0.55  30    13CCSS  OTU.465      0.5515994 6.887540e-01\n",
        "7                0.55  30    13CCSS  OTU.162      0.2116710 9.204188e-01\n",
        "8                0.55  30    13CCSS OTU.1084      1.1894339 1.366258e-01\n",
        "9                0.55  30    13CCSS  OTU.525      1.9020665 2.101013e-03\n",
        "10               0.55  30    13CCSS  OTU.985      1.1943492 1.358942e-01\n",
        "..                ... ...       ...      ...            ...          ...\n",
        "Variables not shown: Rank1 (fctr), Rank2 (fctr), Rank3 (fctr), Rank4 (fctr),\n",
        "  Rank5 (fctr), Rank6 (fctr), Rank7 (fctr), Rank8 (fctr), padj (dbl)\n"
       ]
      }
     ],
     "prompt_number": 5
    },
    {
     "cell_type": "code",
     "collapsed": false,
     "input": [
      "%%R\n",
      "FDR = 0.10\n",
      "\n",
      "df.sum.sig = df_all.padj %>%\n",
      "    group_by(OTU) %>%\n",
      "    summarize(sum_sig = sum(padj < FDR, na.rm = TRUE))\n",
      "df.sum.sig"
     ],
     "language": "python",
     "metadata": {},
     "outputs": [
      {
       "metadata": {},
       "output_type": "display_data",
       "text": [
        "Source: local data frame [795 x 2]\n",
        "\n",
        "        OTU sum_sig\n",
        "1     OTU.1       0\n",
        "2    OTU.10       0\n",
        "3   OTU.100       0\n",
        "4  OTU.1001       0\n",
        "5  OTU.1005       0\n",
        "6  OTU.1006       0\n",
        "7   OTU.101       0\n",
        "8  OTU.1010       0\n",
        "9  OTU.1016       0\n",
        "10  OTU.102       0\n",
        "..      ...     ...\n"
       ]
      }
     ],
     "prompt_number": 6
    },
    {
     "cell_type": "code",
     "collapsed": false,
     "input": [
      "%%R \n",
      "d = df_all.padj %>% select(OTU, Treatment, log2FoldChange) %>% spread(Treatment, log2FoldChange)\n",
      "names(d) = c(\"OTU\", \"x13CCPS\", \"x13CCSS\")\n",
      "\n",
      "d"
     ],
     "language": "python",
     "metadata": {},
     "outputs": [
      {
       "output_type": "stream",
       "stream": "stdout",
       "text": [
        "Error in eval(expr, envir, enclos) : index out of bounds\n"
       ]
      }
     ],
     "prompt_number": 7
    },
    {
     "cell_type": "code",
     "collapsed": false,
     "input": [
      "%%R -w 500 -h 375\n",
      "p = ggplot(left_join(d, df.sum.sig), aes(x = x13CCSS, y = x13CCPS, color = factor(sum_sig)))\n",
      "\n",
      "p = p + geom_point(size = 3.5)\n",
      "\n",
      "p = p + labs(x = \"13CCSS, l2fc\",\n",
      "             y = \"13CCPS, l2fc\", \n",
      "             color = \"# of\\np-values < FDR\")\n",
      "\n",
      "p = p + theme_bw()\n",
      "\n",
      "p"
     ],
     "language": "python",
     "metadata": {},
     "outputs": [
      {
       "output_type": "stream",
       "stream": "stdout",
       "text": [
        "Error in left_join(d, df.sum.sig) : object 'd' not found\n"
       ]
      }
     ],
     "prompt_number": 8
    },
    {
     "cell_type": "code",
     "collapsed": false,
     "input": [
      "%%R\n",
      "fit = lm(x13CCSS ~ x13CCPS, d)\n",
      "summary(fit)"
     ],
     "language": "python",
     "metadata": {},
     "outputs": [
      {
       "output_type": "stream",
       "stream": "stdout",
       "text": [
        "Error in is.data.frame(data) : object 'd' not found\n"
       ]
      }
     ],
     "prompt_number": 9
    },
    {
     "cell_type": "code",
     "collapsed": false,
     "input": [
      "%%R \n",
      "ggsave(plot = p, filename = \"figs/SS_scatter_color.pdf\", width = 12, height = 10)"
     ],
     "language": "python",
     "metadata": {},
     "outputs": [
      {
       "output_type": "stream",
       "stream": "stdout",
       "text": [
        "Error in inherits(plot, \"ggplot\") : object 'p' not found\n"
       ]
      }
     ],
     "prompt_number": 10
    },
    {
     "cell_type": "code",
     "collapsed": false,
     "input": [
      "FileLink(\"figs/SS_scatter_color.pdf\")"
     ],
     "language": "python",
     "metadata": {},
     "outputs": [
      {
       "html": [
        "Path (<tt>figs/SS_scatter_color.pdf</tt>) doesn't exist. It may still be in the process of being generated, or you may have the incorrect path."
       ],
       "metadata": {},
       "output_type": "pyout",
       "prompt_number": 11,
       "text": [
        "/home/ashley/single_substrate/figs/SS_scatter_color.pdf"
       ]
      }
     ],
     "prompt_number": 11
    },
    {
     "cell_type": "code",
     "collapsed": false,
     "input": [],
     "language": "python",
     "metadata": {},
     "outputs": [],
     "prompt_number": 11
    }
   ],
   "metadata": {}
  }
 ]
}