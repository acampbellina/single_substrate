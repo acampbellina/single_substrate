{
 "metadata": {
  "name": "",
  "signature": "sha256:068a85f6eb566398240bbe33fefecb2418561eea218af0f0021d64cde07e500f"
 },
 "nbformat": 3,
 "nbformat_minor": 0,
 "worksheets": [
  {
   "cells": [
    {
     "cell_type": "heading",
     "level": 3,
     "metadata": {},
     "source": [
      "ordination to pull out fractions containing labeled OTUs"
     ]
    },
    {
     "cell_type": "code",
     "collapsed": false,
     "input": [
      "from pandas import DataFrame, get_dummies\n",
      "import statsmodels.api as sm\n",
      "from statsmodels.sandbox.regression.try_catdata import cat2dummy\n",
      "from IPython.display import FileLink"
     ],
     "language": "python",
     "metadata": {},
     "outputs": [],
     "prompt_number": 2
    },
    {
     "cell_type": "code",
     "collapsed": false,
     "input": [
      "%pylab inline\n",
      "%load_ext rpy2.ipython"
     ],
     "language": "python",
     "metadata": {},
     "outputs": [
      {
       "output_type": "stream",
       "stream": "stdout",
       "text": [
        "Populating the interactive namespace from numpy and matplotlib\n"
       ]
      }
     ],
     "prompt_number": 3
    },
    {
     "cell_type": "code",
     "collapsed": false,
     "input": [
      "%%R\n",
      "library(phyloseq)\n",
      "library(vegan)\n",
      "library(ggplot2)\n",
      "library(foreach)\n",
      "library(doParallel)\n",
      "library(plyr)\n",
      "library(gridExtra)\n",
      "library(RColorBrewer)"
     ],
     "language": "python",
     "metadata": {},
     "outputs": [
      {
       "metadata": {},
       "output_type": "display_data",
       "text": [
        "Loading required package: permute\n",
        "Loading required package: lattice\n",
        "This is vegan 2.0-10\n",
        "foreach: simple, scalable parallel programming from Revolution Analytics\n",
        "Use Revolution R for scalability, fault tolerance and more.\n",
        "http://www.revolutionanalytics.com\n",
        "Loading required package: iterators\n",
        "Loading required package: parallel\n",
        "Loading required package: grid\n"
       ]
      }
     ],
     "prompt_number": 4
    },
    {
     "cell_type": "code",
     "collapsed": false,
     "input": [
      "%%R\n",
      "physeq = import_biom(\"data/otu_table_wtax.biom\", \"data/otusn.tree\")\n",
      "sample.data = import_qiime_sample_data(\"data/ABCD_combined_reads_mapper.tsv\")\n",
      "physeq = merge_phyloseq(physeq,sample.data)\n",
      "physeq.md = sample_data(physeq)\n",
      "physeq.all = prune_samples((physeq.md$Treatment %in% c(\"12CCPS\",\"13CCPS\",\"12CCSS\",\"13CCSS\"))& (physeq.md$Day %in% c(30)) &\n",
      "                          !(row.names(physeq.md) %in% grep(\"bulk\", row.names(physeq.md), value=TRUE)), physeq)\n",
      "physeq.all.snorm = transform_sample_counts(physeq.all, function(x) x/sum(x))\n",
      "physeq.all.thresh = filter_taxa(physeq.all.snorm, function(x) sum(x > 0) > (0.25 * length(x)), TRUE)\n",
      "print(physeq.all)\n",
      "print(physeq.all.thresh)"
     ],
     "language": "python",
     "metadata": {},
     "outputs": [
      {
       "metadata": {},
       "output_type": "display_data",
       "text": [
        "phyloseq-class experiment-level object\n",
        "otu_table()   OTU Table:         [ 6236 taxa and 80 samples ]\n",
        "sample_data() Sample Data:       [ 80 samples by 7 sample variables ]\n",
        "tax_table()   Taxonomy Table:    [ 6236 taxa by 8 taxonomic ranks ]\n",
        "phy_tree()    Phylogenetic Tree: [ 6236 tips and 6235 internal nodes ]\n",
        "phyloseq-class experiment-level object\n",
        "otu_table()   OTU Table:         [ 1220 taxa and 80 samples ]\n",
        "sample_data() Sample Data:       [ 80 samples by 7 sample variables ]\n",
        "tax_table()   Taxonomy Table:    [ 1220 taxa by 8 taxonomic ranks ]\n",
        "phy_tree()    Phylogenetic Tree: [ 1220 tips and 1219 internal nodes ]\n"
       ]
      }
     ],
     "prompt_number": 5
    },
    {
     "cell_type": "heading",
     "level": 3,
     "metadata": {},
     "source": [
      "Calculate pairwise weighted unifrac distances between samples."
     ]
    },
    {
     "cell_type": "code",
     "collapsed": false,
     "input": [
      "%%R\n",
      "registerDoParallel(cores=10)\n",
      "wunif.dist = distance(physeq.all.thresh, \n",
      "                weighted = TRUE, \n",
      "                fast = TRUE, \n",
      "                normalized = FALSE, \n",
      "                parallel = TRUE)"
     ],
     "language": "python",
     "metadata": {},
     "outputs": [],
     "prompt_number": 6
    },
    {
     "cell_type": "markdown",
     "metadata": {},
     "source": [
      "###Ordinate using weighted unifrac distances with NMDS."
     ]
    },
    {
     "cell_type": "code",
     "collapsed": false,
     "input": [
      "%%R\n",
      "nmds = ordinate(physeq.all.thresh, \n",
      "                method = \"NMDS\", \n",
      "                distance = wunif.dist)"
     ],
     "language": "python",
     "metadata": {},
     "outputs": [
      {
       "metadata": {},
       "output_type": "display_data",
       "text": [
        "Run 0 stress 0.08691032 \n",
        "Run 1 stress 0.09398384 \n",
        "Run 2 stress 0.1022021 \n",
        "Run 3 stress 0.09688076 \n",
        "Run 4 stress 0.09148046 \n",
        "Run 5 stress 0.09930544 \n",
        "Run 6 stress 0.1015535 \n",
        "Run 7 stress 0.09083114 \n",
        "Run 8 stress 0.0871384 \n",
        "... procrustes: rmse 0.005808988  max resid 0.02826836 \n",
        "Run 9 stress 0.09083084 \n",
        "Run 10 stress 0.09828397 \n",
        "Run 11 stress 0.09760833 \n",
        "Run 12 stress 0.1038734 \n",
        "Run 13 stress 0.09461963 \n",
        "Run 14 stress 0.09083094 \n",
        "Run 15 stress 0.08648726 \n",
        "... New best solution\n",
        "... procrustes: rmse 0.0130652  max resid 0.0811641 \n",
        "Run 16 stress 0.1051012 \n",
        "Run 17 stress 0.09152762 \n",
        "Run 18 stress 0.1016176 \n",
        "Run 19 stress 0.1080441 \n",
        "Run 20 stress 0.09146633 \n"
       ]
      }
     ],
     "prompt_number": 7
    },
    {
     "cell_type": "code",
     "collapsed": false,
     "input": [
      "%%R -w 7 -h 6 -u in\n",
      "\n",
      "colours = c(\"#ff7f00\", \"#377eb8\", \"#ac4aaf\", \"#4daf4a\")\n",
      "\n",
      "df = plot_ordination(physeq.all.thresh, nmds, justDF = TRUE)\n",
      "df$Density = as.numeric(as.character(df$Density))\n",
      "\n",
      "p1 = ggplot(df, aes(x = NMDS1, y = NMDS2)) \n",
      "p1 = p1 + geom_point(aes(fill = Treatment, size = Density, alpha = 0.85), shape=21) \n",
      "p1 = p1 + scale_fill_manual(values = colours)\n",
      "p1 = p1 + guides(alpha = FALSE)\n",
      "p1 = p1 + scale_size_area(aesthetics = \"Density\")\n",
      "#p1 = p1 + ggtitle(\"A\")\n",
      "p1 = p1 + guides(fill = guide_legend(override.aes = list(size = 4)))\n",
      "p1 = p1 + guides(size = guide_legend(override.aes = list(fill = \"black\")))\n",
      "p1 = p1 + theme_bw()\n",
      "p1 = p1 + theme(plot.margin = unit(c(1,0,1,0), \"lines\"))\n",
      "p1 = p1 + theme(plot.title = element_text(hjust = -0.1, size = 20))\n",
      "\n",
      "p1"
     ],
     "language": "python",
     "metadata": {},
     "outputs": [
      {
       "metadata": {},
       "output_type": "display_data",
       "png": "[encoded data removed]"
      }
     ],
     "prompt_number": 8
    },
    {
     "cell_type": "code",
     "collapsed": false,
     "input": [
      "%%R\n",
      "pdf(\"figs/ordination_allD30.pdf\", w = 7, h = 6)\n",
      "grid.arrange(p1, ncol = 1)\n",
      "dev.off()"
     ],
     "language": "python",
     "metadata": {},
     "outputs": [
      {
       "metadata": {},
       "output_type": "display_data",
       "text": [
        "png \n",
        "  2 \n"
       ]
      }
     ],
     "prompt_number": 9
    },
    {
     "cell_type": "code",
     "collapsed": false,
     "input": [
      "%%R\n",
      "ggsave(\"figs/ordination_allD30.png\", p1)"
     ],
     "language": "python",
     "metadata": {},
     "outputs": [
      {
       "metadata": {},
       "output_type": "display_data",
       "text": [
        "Saving 6.67 x 6.67 in image\n"
       ]
      }
     ],
     "prompt_number": 20
    },
    {
     "cell_type": "code",
     "collapsed": false,
     "input": [
      "FileLink(\"figs/ordination_allD30.png\")"
     ],
     "language": "python",
     "metadata": {},
     "outputs": [
      {
       "html": [
        "<a href='figs/ordination_allD30.png' target='_blank'>figs/ordination_allD30.png</a><br>"
       ],
       "metadata": {},
       "output_type": "pyout",
       "prompt_number": 11,
       "text": [
        "/home/ashley/single_substrate/figs/ordination_allD30.png"
       ]
      }
     ],
     "prompt_number": 11
    },
    {
     "cell_type": "code",
     "collapsed": false,
     "input": [
      "FileLink(\"figs/ordination_allD30.pdf\")"
     ],
     "language": "python",
     "metadata": {},
     "outputs": [
      {
       "html": [
        "<a href='figs/ordination_allD30.pdf' target='_blank'>figs/ordination_allD30.pdf</a><br>"
       ],
       "metadata": {},
       "output_type": "pyout",
       "prompt_number": 12,
       "text": [
        "/home/ashley/single_substrate/figs/ordination_allD30.pdf"
       ]
      }
     ],
     "prompt_number": 12
    },
    {
     "cell_type": "code",
     "collapsed": false,
     "input": [
      "%%R\n",
      "physeq.thresh.heavy = prune_samples(sample_data(physeq.all.thresh)$Density >= 1.725, physeq.all.thresh)"
     ],
     "language": "python",
     "metadata": {},
     "outputs": [],
     "prompt_number": 13
    },
    {
     "cell_type": "code",
     "collapsed": false,
     "input": [
      "%%R\n",
      "#convert physeq object to a dataframe for adonis test\n",
      "df = sample_data(physeq.all.thresh)\n",
      "#convert dataframe from physeq to a traditional R dataframe because it has funky 'class'\n",
      "df = data.frame(df)\n",
      "df"
     ],
     "language": "python",
     "metadata": {},
     "outputs": [
      {
       "metadata": {},
       "output_type": "display_data",
       "text": [
        "                 X.SampleID BarcodeSequence Day Density   LinkerPrimerSequence\n",
        "cont.SS.30.10 cont.SS.30.10      TCACTCTGTC  30  1.7417 CAGGACTACHVGGGTWTCTAAT\n",
        "13C.SS.30.9     13C.SS.30.9      TCACGTGTAC  30  1.7351 CAGGACTACHVGGGTWTCTAAT\n",
        "13C.SS.30.13   13C.SS.30.13      TCACTGAGAG  30  1.7155 CAGGACTACHVGGGTWTCTAAT\n",
        "cont.SS.30.27 cont.SS.30.27      TCAGACACAG  30  1.6750 CAGGACTACHVGGGTWTCTAAT\n",
        "13C.SS.30.7     13C.SS.30.7      TCACGAGTAG  30  1.7428 CAGGACTACHVGGGTWTCTAAT\n",
        "cont.PS.30.15 cont.PS.30.15      TCACACGAGA  30  1.7122 CAGGACTACHVGGGTWTCTAAT\n",
        "cont.PS.30.9   cont.PS.30.9      TCAAGCAACG  30  1.7395 CAGGACTACHVGGGTWTCTAAT\n",
        "cont.SS.30.18 cont.SS.30.18      TCAGAGTGTG  30  1.7100 CAGGACTACHVGGGTWTCTAAT\n",
        "cont.SS.30.14 cont.SS.30.14      TCACTGTGTG  30  1.7264 CAGGACTACHVGGGTWTCTAAT\n",
        "13C.SS.30.6     13C.SS.30.6      TCAGCAACGA  30  1.7461 CAGGACTACHVGGGTWTCTAAT\n",
        "13C.PS.30.23   13C.PS.30.23      TCAACGATGG  30  1.6750 CAGGACTACHVGGGTWTCTAAT\n",
        "cont.PS.30.7   cont.PS.30.7      TCAACCATCG  30  1.7526 CAGGACTACHVGGGTWTCTAAT\n",
        "13C.SS.30.23   13C.SS.30.23      TCAGCACTAC  30  1.6750 CAGGACTACHVGGGTWTCTAAT\n",
        "13C.PS.30.7     13C.PS.30.7      TCAACCATGC  30  1.7439 CAGGACTACHVGGGTWTCTAAT\n",
        "cont.PS.30.10 cont.PS.30.10      TCAAGCTTCG  30  1.7362 CAGGACTACHVGGGTWTCTAAT\n",
        "13C.PS.30.11   13C.PS.30.11      TCACGACTTG  30  1.7242 CAGGACTACHVGGGTWTCTAAT\n",
        "cont.PS.30.16 cont.PS.30.16      TCACTGAGAG  30  1.7089 CAGGACTACHVGGGTWTCTAAT\n",
        "13C.PS.30.8     13C.PS.30.8      TCACGACAAG  30  1.7406 CAGGACTACHVGGGTWTCTAAT\n",
        "cont.PS.30.14 cont.PS.30.14      TCAATTGCCG  30  1.7155 CAGGACTACHVGGGTWTCTAAT\n",
        "13C.SS.30.24   13C.SS.30.24      TCAGCACTTG  30  1.6685 CAGGACTACHVGGGTWTCTAAT\n",
        "13C.SS.30.17   13C.SS.30.17      TCAGAGAGAG  30  1.6969 CAGGACTACHVGGGTWTCTAAT\n",
        "cont.SS.30.21 cont.SS.30.21      TCACGTACCA  30  1.6980 CAGGACTACHVGGGTWTCTAAT\n",
        "cont.PS.30.8   cont.PS.30.8      TCAACGATCC  30  1.7461 CAGGACTACHVGGGTWTCTAAT\n",
        "cont.PS.30.12 cont.PS.30.12      TCAAGCGGTA  30  1.7264 CAGGACTACHVGGGTWTCTAAT\n",
        "13C.PS.30.16   13C.PS.30.16      TCACTGGAGA  30  1.7045 CAGGACTACHVGGGTWTCTAAT\n",
        "cont.SS.30.17 cont.SS.30.17      TCAGAGCTGA  30  1.7144 CAGGACTACHVGGGTWTCTAAT\n",
        "13C.PS.30.12   13C.PS.30.12      TCACGAGAAC  30  1.7209 CAGGACTACHVGGGTWTCTAAT\n",
        "13C.PS.30.9     13C.PS.30.9      TCACGACATC  30  1.7341 CAGGACTACHVGGGTWTCTAAT\n",
        "13C.SS.30.20   13C.SS.30.20      TCAGCAAGGT  30  1.6849 CAGGACTACHVGGGTWTCTAAT\n",
        "13C.SS.30.8     13C.SS.30.8      TCACGTAGCT  30  1.7395 CAGGACTACHVGGGTWTCTAAT\n",
        "13C.SS.30.10   13C.SS.30.10      TCACTCAGAC  30  1.7275 CAGGACTACHVGGGTWTCTAAT\n",
        "13C.SS.30.11   13C.SS.30.11      TCACTCGTCT  30  1.7231 CAGGACTACHVGGGTWTCTAAT\n",
        "13C.SS.30.5     13C.SS.30.5      TCAGAGGAGA  30  1.7526 CAGGACTACHVGGGTWTCTAAT\n",
        "13C.SS.30.25   13C.SS.30.25      TCAGCAGAAC  30  1.6663 CAGGACTACHVGGGTWTCTAAT\n",
        "13C.PS.30.21   13C.PS.30.21      TCACGATCCA  30  1.6838 CAGGACTACHVGGGTWTCTAAT\n",
        "13C.SS.30.19   13C.SS.30.19      TCAGCAAGCA  30  1.6892 CAGGACTACHVGGGTWTCTAAT\n",
        "cont.SS.30.23 cont.SS.30.23      TCACTCACAG  30  1.6914 CAGGACTACHVGGGTWTCTAAT\n",
        "cont.PS.30.21 cont.PS.30.21      TCACTGCTGA  30  1.6882 CAGGACTACHVGGGTWTCTAAT\n",
        "cont.SS.30.6   cont.SS.30.6      TCACGTCTTC  30  1.7537 CAGGACTACHVGGGTWTCTAAT\n",
        "cont.PS.30.13 cont.PS.30.13      TCAAGGCGTA  30  1.7220 CAGGACTACHVGGGTWTCTAAT\n",
        "cont.PS.30.19 cont.PS.30.19      TCACTGCAGT  30  1.6969 CAGGACTACHVGGGTWTCTAAT\n",
        "cont.SS.30.24 cont.SS.30.24      TCACTCGACA  30  1.6860 CAGGACTACHVGGGTWTCTAAT\n",
        "cont.SS.30.29 cont.SS.30.29      TCAGAGACAC  30  1.6674 CAGGACTACHVGGGTWTCTAAT\n",
        "cont.SS.30.28 cont.SS.30.28      TCAGACGACA  30  1.6718 CAGGACTACHVGGGTWTCTAAT\n",
        "cont.SS.30.25 cont.SS.30.25      TCACTGACAC  30  1.6827 CAGGACTACHVGGGTWTCTAAT\n",
        "cont.SS.30.22 cont.SS.30.22      TCACGTGAAG  30  1.6947 CAGGACTACHVGGGTWTCTAAT\n",
        "cont.SS.30.26 cont.SS.30.26      TCACTGGACT  30  1.6794 CAGGACTACHVGGGTWTCTAAT\n",
        "13C.SS.30.14   13C.SS.30.14      TCACTGGTCA  30  1.7111 CAGGACTACHVGGGTWTCTAAT\n",
        "13C.SS.30.16   13C.SS.30.16      TCAGACGTCT  30  1.7035 CAGGACTACHVGGGTWTCTAAT\n",
        "13C.SS.30.21   13C.SS.30.21      TCAGCACAAG  30  1.6805 CAGGACTACHVGGGTWTCTAAT\n",
        "13C.SS.30.15   13C.SS.30.15      TCAGACAGAC  30  1.7056 CAGGACTACHVGGGTWTCTAAT\n",
        "cont.PS.30.25 cont.PS.30.25      TCACGAAGGT  30  1.6739 CAGGACTACHVGGGTWTCTAAT\n",
        "cont.SS.30.20 cont.SS.30.20      TCACGAGAAC  30  1.7024 CAGGACTACHVGGGTWTCTAAT\n",
        "13C.SS.30.18   13C.SS.30.18      TCAGAGGTCA  30  1.6925 CAGGACTACHVGGGTWTCTAAT\n",
        "13C.PS.30.18   13C.PS.30.18      TCACTGGTGT  30  1.6958 CAGGACTACHVGGGTWTCTAAT\n",
        "cont.SS.30.9   cont.SS.30.9      TCACTCCTGT  30  1.7450 CAGGACTACHVGGGTWTCTAAT\n",
        "13C.PS.30.6     13C.PS.30.6      TCACAGGACA  30  1.7494 CAGGACTACHVGGGTWTCTAAT\n",
        "cont.SS.30.13 cont.SS.30.13      TCACTGCTGA  30  1.7319 CAGGACTACHVGGGTWTCTAAT\n",
        "cont.SS.30.16 cont.SS.30.16      TCAGACTGTC  30  1.7177 CAGGACTACHVGGGTWTCTAAT\n",
        "13C.PS.30.13   13C.PS.30.13      TCACGAGATG  30  1.7166 CAGGACTACHVGGGTWTCTAAT\n",
        "cont.PS.30.6   cont.PS.30.6      TCACAGCTGT  30  1.7614 CAGGACTACHVGGGTWTCTAAT\n",
        "13C.PS.30.5     13C.PS.30.5      TCACACTCAG  30  1.7526 CAGGACTACHVGGGTWTCTAAT\n",
        "cont.PS.30.24 cont.PS.30.24      TCACCAACGT  30  1.6794 CAGGACTACHVGGGTWTCTAAT\n",
        "13C.PS.30.15   13C.PS.30.15      TCACTGGACT  30  1.7078 CAGGACTACHVGGGTWTCTAAT\n",
        "cont.PS.30.18 cont.PS.30.18      TCACTGCACA  30  1.7002 CAGGACTACHVGGGTWTCTAAT\n",
        "13C.PS.30.10   13C.PS.30.10      TCACGACTAC  30  1.7319 CAGGACTACHVGGGTWTCTAAT\n",
        "cont.PS.30.20 cont.PS.30.20      TCACTGCTCT  30  1.6936 CAGGACTACHVGGGTWTCTAAT\n",
        "cont.PS.30.22 cont.PS.30.22      TCACAGCAGA  30  1.6838 CAGGACTACHVGGGTWTCTAAT\n",
        "cont.PS.30.17 cont.PS.30.17      TCACTGAGTC  30  1.7045 CAGGACTACHVGGGTWTCTAAT\n",
        "cont.SS.30.15 cont.SS.30.15      TCAGACCTGT  30  1.7220 CAGGACTACHVGGGTWTCTAAT\n",
        "13C.SS.30.22   13C.SS.30.22      TCAGCACATC  30  1.6794 CAGGACTACHVGGGTWTCTAAT\n",
        "cont.SS.30.8   cont.SS.30.8      TCACGTTGGT  30  1.7483 CAGGACTACHVGGGTWTCTAAT\n",
        "cont.PS.30.23 cont.PS.30.23      TCACACACAC  30  1.6816 CAGGACTACHVGGGTWTCTAAT\n",
        "13C.PS.30.19   13C.PS.30.19      TCACTGTCAG  30  1.6914 CAGGACTACHVGGGTWTCTAAT\n",
        "13C.PS.30.20   13C.PS.30.20      TCACGAGTTC  30  1.6925 CAGGACTACHVGGGTWTCTAAT\n",
        "cont.PS.30.11 cont.PS.30.11      TCAAGGTTCC  30  1.7297 CAGGACTACHVGGGTWTCTAAT\n",
        "13C.PS.30.17   13C.PS.30.17      TCACTGGTCA  30  1.6991 CAGGACTACHVGGGTWTCTAAT\n",
        "13C.PS.30.24   13C.PS.30.24      TCAAGCAAGC  30  1.6707 CAGGACTACHVGGGTWTCTAAT\n",
        "13C.PS.30.22   13C.PS.30.22      TCACGATCGT  30  1.6805 CAGGACTACHVGGGTWTCTAAT\n",
        "13C.PS.30.14   13C.PS.30.14      TCACGAGTAG  30  1.7122 CAGGACTACHVGGGTWTCTAAT\n",
        "              Treatment   Description\n",
        "cont.SS.30.10    12CCSS cont.SS.30.10\n",
        "13C.SS.30.9      13CCSS   13C.SS.30.9\n",
        "13C.SS.30.13     13CCSS  13C.SS.30.13\n",
        "cont.SS.30.27    12CCSS cont.SS.30.27\n",
        "13C.SS.30.7      13CCSS   13C.SS.30.7\n",
        "cont.PS.30.15    12CCPS cont.PS.30.15\n",
        "cont.PS.30.9     12CCPS  cont.PS.30.9\n",
        "cont.SS.30.18    12CCSS cont.SS.30.18\n",
        "cont.SS.30.14    12CCSS cont.SS.30.14\n",
        "13C.SS.30.6      13CCSS   13C.SS.30.6\n",
        "13C.PS.30.23     13CCPS  13C.PS.30.23\n",
        "cont.PS.30.7     12CCPS  cont.PS.30.7\n",
        "13C.SS.30.23     13CCSS  13C.SS.30.23\n",
        "13C.PS.30.7      13CCPS   13C.PS.30.7\n",
        "cont.PS.30.10    12CCPS cont.PS.30.10\n",
        "13C.PS.30.11     13CCPS  13C.PS.30.11\n",
        "cont.PS.30.16    12CCPS cont.PS.30.16\n",
        "13C.PS.30.8      13CCPS   13C.PS.30.8\n",
        "cont.PS.30.14    12CCPS cont.PS.30.14\n",
        "13C.SS.30.24     13CCSS  13C.SS.30.24\n",
        "13C.SS.30.17     13CCSS  13C.SS.30.17\n",
        "cont.SS.30.21    12CCSS cont.SS.30.21\n",
        "cont.PS.30.8     12CCPS  cont.PS.30.8\n",
        "cont.PS.30.12    12CCPS cont.PS.30.12\n",
        "13C.PS.30.16     13CCPS  13C.PS.30.16\n",
        "cont.SS.30.17    12CCSS cont.SS.30.17\n",
        "13C.PS.30.12     13CCPS  13C.PS.30.12\n",
        "13C.PS.30.9      13CCPS   13C.PS.30.9\n",
        "13C.SS.30.20     13CCSS  13C.SS.30.20\n",
        "13C.SS.30.8      13CCSS   13C.SS.30.8\n",
        "13C.SS.30.10     13CCSS  13C.SS.30.10\n",
        "13C.SS.30.11     13CCSS  13C.SS.30.11\n",
        "13C.SS.30.5      13CCSS   13C.SS.30.5\n",
        "13C.SS.30.25     13CCSS  13C.SS.30.25\n",
        "13C.PS.30.21     13CCPS  13C.PS.30.21\n",
        "13C.SS.30.19     13CCSS  13C.SS.30.19\n",
        "cont.SS.30.23    12CCSS cont.SS.30.23\n",
        "cont.PS.30.21    12CCPS cont.PS.30.21\n",
        "cont.SS.30.6     12CCSS  cont.SS.30.6\n",
        "cont.PS.30.13    12CCPS cont.PS.30.13\n",
        "cont.PS.30.19    12CCPS cont.PS.30.19\n",
        "cont.SS.30.24    12CCSS cont.SS.30.24\n",
        "cont.SS.30.29    12CCSS cont.SS.30.29\n",
        "cont.SS.30.28    12CCSS cont.SS.30.28\n",
        "cont.SS.30.25    12CCSS cont.SS.30.25\n",
        "cont.SS.30.22    12CCSS cont.SS.30.22\n",
        "cont.SS.30.26    12CCSS cont.SS.30.26\n",
        "13C.SS.30.14     13CCSS  13C.SS.30.14\n",
        "13C.SS.30.16     13CCSS  13C.SS.30.16\n",
        "13C.SS.30.21     13CCSS  13C.SS.30.21\n",
        "13C.SS.30.15     13CCSS  13C.SS.30.15\n",
        "cont.PS.30.25    12CCPS cont.PS.30.25\n",
        "cont.SS.30.20    12CCSS cont.SS.30.20\n",
        "13C.SS.30.18     13CCSS  13C.SS.30.18\n",
        "13C.PS.30.18     13CCPS  13C.PS.30.18\n",
        "cont.SS.30.9     12CCSS  cont.SS.30.9\n",
        "13C.PS.30.6      13CCPS   13C.PS.30.6\n",
        "cont.SS.30.13    12CCSS cont.SS.30.13\n",
        "cont.SS.30.16    12CCSS cont.SS.30.16\n",
        "13C.PS.30.13     13CCPS  13C.PS.30.13\n",
        "cont.PS.30.6     12CCPS  cont.PS.30.6\n",
        "13C.PS.30.5      13CCPS   13C.PS.30.5\n",
        "cont.PS.30.24    12CCPS cont.PS.30.24\n",
        "13C.PS.30.15     13CCPS  13C.PS.30.15\n",
        "cont.PS.30.18    12CCPS cont.PS.30.18\n",
        "13C.PS.30.10     13CCPS  13C.PS.30.10\n",
        "cont.PS.30.20    12CCPS cont.PS.30.20\n",
        "cont.PS.30.22    12CCPS cont.PS.30.22\n",
        "cont.PS.30.17    12CCPS cont.PS.30.17\n",
        "cont.SS.30.15    12CCSS cont.SS.30.15\n",
        "13C.SS.30.22     13CCSS  13C.SS.30.22\n",
        "cont.SS.30.8     12CCSS  cont.SS.30.8\n",
        "cont.PS.30.23    12CCPS cont.PS.30.23\n",
        "13C.PS.30.19     13CCPS  13C.PS.30.19\n",
        "13C.PS.30.20     13CCPS  13C.PS.30.20\n",
        "cont.PS.30.11    12CCPS cont.PS.30.11\n",
        "13C.PS.30.17     13CCPS  13C.PS.30.17\n",
        "13C.PS.30.24     13CCPS  13C.PS.30.24\n",
        "13C.PS.30.22     13CCPS  13C.PS.30.22\n",
        "13C.PS.30.14     13CCPS  13C.PS.30.14\n"
       ]
      }
     ],
     "prompt_number": 14
    },
    {
     "cell_type": "code",
     "collapsed": false,
     "input": [
      "%%R\n",
      "wunif.dist.heavy = distance(physeq.thresh.heavy, method = \"unifrac\", weighted = TRUE)"
     ],
     "language": "python",
     "metadata": {},
     "outputs": [],
     "prompt_number": 15
    },
    {
     "cell_type": "code",
     "collapsed": false,
     "input": [
      "%%R\n",
      "#to test if community composition in Bulk DNA sequencing is different between treatments\n",
      "adonis.wunif = adonis(wunif.dist ~ Treatment, data = df, permutations = 1000)\n",
      "adonis.wunif"
     ],
     "language": "python",
     "metadata": {},
     "outputs": [
      {
       "metadata": {},
       "output_type": "display_data",
       "text": [
        "\n",
        "Call:\n",
        "adonis(formula = wunif.dist ~ Treatment, data = df, permutations = 1000) \n",
        "\n",
        "Terms added sequentially (first to last)\n",
        "\n",
        "          Df SumsOfSqs  MeanSqs F.Model      R2  Pr(>F)  \n",
        "Treatment  3    0.6643 0.221424  2.7179 0.09689 0.01499 *\n",
        "Residuals 76    6.1917 0.081469         0.90311          \n",
        "Total     79    6.8559                  1.00000          \n",
        "---\n",
        "Signif. codes:  0 \u2018***\u2019 0.001 \u2018**\u2019 0.01 \u2018*\u2019 0.05 \u2018.\u2019 0.1 \u2018 \u2019 1\n"
       ]
      }
     ],
     "prompt_number": 16
    },
    {
     "cell_type": "code",
     "collapsed": false,
     "input": [
      "%%R\n",
      "#convert physeq object to a dataframe for adonis test\n",
      "df2 = sample_data(physeq.thresh.heavy)\n",
      "#convert dataframe from physeq to a traditional R dataframe because it has funky 'class'\n",
      "df2 = data.frame(df2)\n",
      "df2"
     ],
     "language": "python",
     "metadata": {},
     "outputs": [
      {
       "metadata": {},
       "output_type": "display_data",
       "text": [
        "                 X.SampleID BarcodeSequence Day Density   LinkerPrimerSequence\n",
        "cont.SS.30.10 cont.SS.30.10      TCACTCTGTC  30  1.7417 CAGGACTACHVGGGTWTCTAAT\n",
        "13C.SS.30.9     13C.SS.30.9      TCACGTGTAC  30  1.7351 CAGGACTACHVGGGTWTCTAAT\n",
        "13C.SS.30.7     13C.SS.30.7      TCACGAGTAG  30  1.7428 CAGGACTACHVGGGTWTCTAAT\n",
        "cont.PS.30.9   cont.PS.30.9      TCAAGCAACG  30  1.7395 CAGGACTACHVGGGTWTCTAAT\n",
        "cont.SS.30.14 cont.SS.30.14      TCACTGTGTG  30  1.7264 CAGGACTACHVGGGTWTCTAAT\n",
        "13C.SS.30.6     13C.SS.30.6      TCAGCAACGA  30  1.7461 CAGGACTACHVGGGTWTCTAAT\n",
        "cont.PS.30.7   cont.PS.30.7      TCAACCATCG  30  1.7526 CAGGACTACHVGGGTWTCTAAT\n",
        "13C.PS.30.7     13C.PS.30.7      TCAACCATGC  30  1.7439 CAGGACTACHVGGGTWTCTAAT\n",
        "cont.PS.30.10 cont.PS.30.10      TCAAGCTTCG  30  1.7362 CAGGACTACHVGGGTWTCTAAT\n",
        "13C.PS.30.8     13C.PS.30.8      TCACGACAAG  30  1.7406 CAGGACTACHVGGGTWTCTAAT\n",
        "cont.PS.30.8   cont.PS.30.8      TCAACGATCC  30  1.7461 CAGGACTACHVGGGTWTCTAAT\n",
        "cont.PS.30.12 cont.PS.30.12      TCAAGCGGTA  30  1.7264 CAGGACTACHVGGGTWTCTAAT\n",
        "13C.PS.30.9     13C.PS.30.9      TCACGACATC  30  1.7341 CAGGACTACHVGGGTWTCTAAT\n",
        "13C.SS.30.8     13C.SS.30.8      TCACGTAGCT  30  1.7395 CAGGACTACHVGGGTWTCTAAT\n",
        "13C.SS.30.10   13C.SS.30.10      TCACTCAGAC  30  1.7275 CAGGACTACHVGGGTWTCTAAT\n",
        "13C.SS.30.5     13C.SS.30.5      TCAGAGGAGA  30  1.7526 CAGGACTACHVGGGTWTCTAAT\n",
        "cont.SS.30.6   cont.SS.30.6      TCACGTCTTC  30  1.7537 CAGGACTACHVGGGTWTCTAAT\n",
        "cont.SS.30.9   cont.SS.30.9      TCACTCCTGT  30  1.7450 CAGGACTACHVGGGTWTCTAAT\n",
        "13C.PS.30.6     13C.PS.30.6      TCACAGGACA  30  1.7494 CAGGACTACHVGGGTWTCTAAT\n",
        "cont.SS.30.13 cont.SS.30.13      TCACTGCTGA  30  1.7319 CAGGACTACHVGGGTWTCTAAT\n",
        "cont.PS.30.6   cont.PS.30.6      TCACAGCTGT  30  1.7614 CAGGACTACHVGGGTWTCTAAT\n",
        "13C.PS.30.5     13C.PS.30.5      TCACACTCAG  30  1.7526 CAGGACTACHVGGGTWTCTAAT\n",
        "13C.PS.30.10   13C.PS.30.10      TCACGACTAC  30  1.7319 CAGGACTACHVGGGTWTCTAAT\n",
        "cont.SS.30.8   cont.SS.30.8      TCACGTTGGT  30  1.7483 CAGGACTACHVGGGTWTCTAAT\n",
        "cont.PS.30.11 cont.PS.30.11      TCAAGGTTCC  30  1.7297 CAGGACTACHVGGGTWTCTAAT\n",
        "              Treatment   Description\n",
        "cont.SS.30.10    12CCSS cont.SS.30.10\n",
        "13C.SS.30.9      13CCSS   13C.SS.30.9\n",
        "13C.SS.30.7      13CCSS   13C.SS.30.7\n",
        "cont.PS.30.9     12CCPS  cont.PS.30.9\n",
        "cont.SS.30.14    12CCSS cont.SS.30.14\n",
        "13C.SS.30.6      13CCSS   13C.SS.30.6\n",
        "cont.PS.30.7     12CCPS  cont.PS.30.7\n",
        "13C.PS.30.7      13CCPS   13C.PS.30.7\n",
        "cont.PS.30.10    12CCPS cont.PS.30.10\n",
        "13C.PS.30.8      13CCPS   13C.PS.30.8\n",
        "cont.PS.30.8     12CCPS  cont.PS.30.8\n",
        "cont.PS.30.12    12CCPS cont.PS.30.12\n",
        "13C.PS.30.9      13CCPS   13C.PS.30.9\n",
        "13C.SS.30.8      13CCSS   13C.SS.30.8\n",
        "13C.SS.30.10     13CCSS  13C.SS.30.10\n",
        "13C.SS.30.5      13CCSS   13C.SS.30.5\n",
        "cont.SS.30.6     12CCSS  cont.SS.30.6\n",
        "cont.SS.30.9     12CCSS  cont.SS.30.9\n",
        "13C.PS.30.6      13CCPS   13C.PS.30.6\n",
        "cont.SS.30.13    12CCSS cont.SS.30.13\n",
        "cont.PS.30.6     12CCPS  cont.PS.30.6\n",
        "13C.PS.30.5      13CCPS   13C.PS.30.5\n",
        "13C.PS.30.10     13CCPS  13C.PS.30.10\n",
        "cont.SS.30.8     12CCSS  cont.SS.30.8\n",
        "cont.PS.30.11    12CCPS cont.PS.30.11\n"
       ]
      }
     ],
     "prompt_number": 17
    },
    {
     "cell_type": "code",
     "collapsed": false,
     "input": [
      "%%R\n",
      "#to test if community composition in Bulk DNA sequencing is different between treatments\n",
      "adonis.wunif.heavy = adonis(wunif.dist.heavy ~ Treatment, data = df2, permutations = 1000)\n",
      "adonis.wunif.heavy"
     ],
     "language": "python",
     "metadata": {},
     "outputs": [
      {
       "metadata": {},
       "output_type": "display_data",
       "text": [
        "\n",
        "Call:\n",
        "adonis(formula = wunif.dist.heavy ~ Treatment, data = df2, permutations = 1000) \n",
        "\n",
        "Terms added sequentially (first to last)\n",
        "\n",
        "          Df SumsOfSqs MeanSqs F.Model      R2   Pr(>F)    \n",
        "Treatment  3   0.49418 0.16473  13.382 0.65655 0.000999 ***\n",
        "Residuals 21   0.25851 0.01231         0.34345             \n",
        "Total     24   0.75269                 1.00000             \n",
        "---\n",
        "Signif. codes:  0 \u2018***\u2019 0.001 \u2018**\u2019 0.01 \u2018*\u2019 0.05 \u2018.\u2019 0.1 \u2018 \u2019 1\n"
       ]
      }
     ],
     "prompt_number": 18
    }
   ],
   "metadata": {}
  }
 ]
}