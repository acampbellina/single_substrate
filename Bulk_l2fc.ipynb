{
 "metadata": {
  "name": "",
  "signature": "sha256:a2130f8f041e327443ce09337fcbc71b31020f9190d1715ccf6b1cecdf33a7e2"
 },
 "nbformat": 3,
 "nbformat_minor": 0,
 "worksheets": [
  {
   "cells": [
    {
     "cell_type": "code",
     "collapsed": false,
     "input": [
      "from IPython.display import FileLink"
     ],
     "language": "python",
     "metadata": {},
     "outputs": [],
     "prompt_number": 1
    },
    {
     "cell_type": "code",
     "collapsed": false,
     "input": [
      "%load_ext rpy2.ipython"
     ],
     "language": "python",
     "metadata": {},
     "outputs": [],
     "prompt_number": 2
    },
    {
     "cell_type": "code",
     "collapsed": false,
     "input": [
      "%%R\n",
      "library(plyr)\n",
      "library(dplyr); library(tidyr)\n",
      "library(magrittr)\n",
      "library(ggplot2)\n",
      "library(phyloseq)\n",
      "library(RColorBrewer)\n",
      "library(gridExtra)\n",
      "library(stats)\n",
      "library(DESeq2)\n",
      "library(doParallel)\n",
      "library(foreach)"
     ],
     "language": "python",
     "metadata": {},
     "outputs": [
      {
       "metadata": {},
       "output_type": "display_data",
       "text": [
        "\n",
        "Attaching package: \u2018dplyr\u2019\n",
        "\n",
        "The following objects are masked from \u2018package:plyr\u2019:\n",
        "\n",
        "    arrange, count, desc, failwith, id, mutate, rename, summarise,\n",
        "    summarize\n",
        "\n",
        "The following object is masked from \u2018package:stats\u2019:\n",
        "\n",
        "    filter\n",
        "\n",
        "The following objects are masked from \u2018package:base\u2019:\n",
        "\n",
        "    intersect, setdiff, setequal, union\n",
        "\n",
        "\n",
        "Attaching package: \u2018magrittr\u2019\n",
        "\n",
        "The following object is masked from \u2018package:tidyr\u2019:\n",
        "\n",
        "    extract\n",
        "\n",
        "Loading required package: grid\n",
        "Loading required package: S4Vectors\n",
        "Loading required package: stats4\n",
        "Loading required package: BiocGenerics\n",
        "Loading required package: parallel\n",
        "\n",
        "Attaching package: \u2018BiocGenerics\u2019\n",
        "\n",
        "The following objects are masked from \u2018package:parallel\u2019:\n",
        "\n",
        "    clusterApply, clusterApplyLB, clusterCall, clusterEvalQ,\n",
        "    clusterExport, clusterMap, parApply, parCapply, parLapply,\n",
        "    parLapplyLB, parRapply, parSapply, parSapplyLB\n",
        "\n",
        "The following objects are masked from \u2018package:dplyr\u2019:\n",
        "\n",
        "    combine, intersect, setdiff, union\n",
        "\n",
        "The following object is masked from \u2018package:stats\u2019:\n",
        "\n",
        "    xtabs\n",
        "\n",
        "The following objects are masked from \u2018package:base\u2019:\n",
        "\n",
        "    anyDuplicated, append, as.data.frame, as.vector, cbind, colnames,\n",
        "    do.call, duplicated, eval, evalq, Filter, Find, get, intersect,\n",
        "    is.unsorted, lapply, Map, mapply, match, mget, order, paste, pmax,\n",
        "    pmax.int, pmin, pmin.int, Position, rank, rbind, Reduce, rep.int,\n",
        "    rownames, sapply, setdiff, sort, table, tapply, union, unique,\n",
        "    unlist, unsplit\n",
        "\n",
        "\n",
        "Attaching package: \u2018S4Vectors\u2019\n",
        "\n",
        "The following object is masked from \u2018package:dplyr\u2019:\n",
        "\n",
        "    rename\n",
        "\n",
        "The following object is masked from \u2018package:plyr\u2019:\n",
        "\n",
        "    rename\n",
        "\n",
        "Loading required package: IRanges\n",
        "\n",
        "Attaching package: \u2018IRanges\u2019\n",
        "\n",
        "The following object is masked from \u2018package:phyloseq\u2019:\n",
        "\n",
        "    distance\n",
        "\n",
        "The following object is masked from \u2018package:tidyr\u2019:\n",
        "\n",
        "    expand\n",
        "\n",
        "The following objects are masked from \u2018package:dplyr\u2019:\n",
        "\n",
        "    collapse, desc, slice\n",
        "\n",
        "The following object is masked from \u2018package:plyr\u2019:\n",
        "\n",
        "    desc\n",
        "\n",
        "Loading required package: GenomicRanges\n",
        "Loading required package: GenomeInfoDb\n",
        "Loading required package: Rcpp\n",
        "Loading required package: RcppArmadillo\n",
        "Loading required package: foreach\n",
        "foreach: simple, scalable parallel programming from Revolution Analytics\n",
        "Use Revolution R for scalability, fault tolerance and more.\n",
        "http://www.revolutionanalytics.com\n",
        "Loading required package: iterators\n"
       ]
      }
     ],
     "prompt_number": 3
    },
    {
     "cell_type": "code",
     "collapsed": false,
     "input": [
      "%%R\n",
      "\n",
      "asNumeric = function(x) { as.numeric(as.character(x)) }\n",
      "\n",
      "physeq = import_biom(\"data/otu_table_wtax.biom\", \"data/otusn.tree\")\n",
      "sample.data = import_qiime_sample_data(\"data/ABCD_combined_reads_mapper.tsv\")\n",
      "physeq = merge_phyloseq(physeq,sample.data)\n",
      "#physeq.md = sample_data(physeq)\n",
      "\n",
      "#physeq.bulk = prune_samples((physeq.md$Treatment %in% c(\"12CCPS\",\"13CCPS\",\"12CCSS\",\"13CCSS\", \"13CXPS\"))& \n",
      "#                            (physeq.md$Day %in% c(30)) &\n",
      "#                            row.names(physeq.md) %in% grep(\"bulk\", \n",
      " #                                                          row.names(physeq.md), \n",
      " #                                                          value=TRUE), physeq)\n",
      "#physeq.bulk = transform_sample_counts(physeq.bulk, function(x) x/sum(x))\n",
      "#amendments = c(\"Feces\", \"Mock\", \"Skin\", \"Tongue\")\n",
      "#sample_data(GP)$human <- get_variable(GP, \"SampleType\") %in% humantypes\n",
      "#physeq.bulk\n",
      "physeq"
     ],
     "language": "python",
     "metadata": {},
     "outputs": [
      {
       "metadata": {},
       "output_type": "display_data",
       "text": [
        "phyloseq-class experiment-level object\n",
        "otu_table()   OTU Table:         [ 6236 taxa and 352 samples ]\n",
        "sample_data() Sample Data:       [ 352 samples by 7 sample variables ]\n",
        "tax_table()   Taxonomy Table:    [ 6236 taxa by 8 taxonomic ranks ]\n",
        "phy_tree()    Phylogenetic Tree: [ 6236 tips and 6235 internal nodes ]\n"
       ]
      }
     ],
     "prompt_number": 4
    },
    {
     "cell_type": "code",
     "collapsed": false,
     "input": [
      "%%R\n",
      "l2fc.threshold = 0.75\n",
      "                           \n",
      "get_Ps = function(physeq.obj, Treatment, Day, sparsity_threshold) {\n",
      "    \n",
      "    physeq.md = sample_data(physeq)\n",
      "    p = prune_samples((physeq.md$Treatment %in% c(\"12CCPS\",\"13CCPS\", \"13CXPS\"))& \n",
      "                            (physeq.md$Day %in% c(30)) &\n",
      "                            row.names(physeq.md) %in% grep(\"bulk\", \n",
      "                                                           row.names(physeq.md), \n",
      "                                                           value=TRUE), physeq)\n",
      "#physeq.bulk = transform_sample_counts(physeq.bulk, function(x) x/sum(x))\n",
      "#amendments = c(\"Feces\", \"Mock\", \"Skin\", \"Tongue\")\n",
      "#sample_data(GP)$human <- get_variable(GP, \"SampleType\") %in% humantypes\n",
      "\n",
      "    #p = prune_samples((physeq.md$Treatment %in% c(\"12CCPS\", \"13CXPS\", \"13CCPS\", as.character(Treatment))), physeq.obj)\n",
      "    p.thresh = filter_taxa(p, function(x) sum(x > 0) > sparsity_threshold * length(x), TRUE)\n",
      "    \n",
      "    dds = phyloseq_to_deseq2(p.thresh, ~Treatment)\n",
      "    dds = DESeq(dds, quiet = TRUE, fitType = \"local\")\n",
      "    theta = l2fc.threshold\n",
      "    r = results(dds, independentFiltering = FALSE)\n",
      "    r$OTU = rownames(r)\n",
      "    beta = r$log2FoldChange\n",
      "    betaSE = r$lfcSE\n",
      "    p = pnorm(beta, theta, betaSE, lower.tail = FALSE)\n",
      "    r$p = p\n",
      "    d = data.frame(r[, c(\"OTU\",\"log2FoldChange\", \"p\")])\n",
      "    TT = data.frame(tax_table(p.thresh))\n",
      "    TT$OTU = rownames(TT)\n",
      "    d = left_join(d, TT)\n",
      "    d\n",
      "}"
     ],
     "language": "python",
     "metadata": {},
     "outputs": [],
     "prompt_number": 5
    },
    {
     "cell_type": "code",
     "collapsed": false,
     "input": [
      "%%R\n",
      "m = expand.grid(sparsity_threshold = seq(0.05,0.95,0.05), \n",
      "                Day = c(30), \n",
      "                Treatment = c(\"13CCSS\", \"12CCSS\"))\n",
      "\n",
      "#m = m[!((m$Day == 1)&(m$Treatment == \"13CCPS\")),]\n",
      "\n",
      "registerDoParallel(20)\n",
      "\n",
      "df.l2fc.bulk = tbl_df(mdply(m, \n",
      "                       get_Ps, \n",
      "                       .parallel = TRUE, \n",
      "                       physeq.obj = physeq))"
     ],
     "language": "python",
     "metadata": {},
     "outputs": [],
     "prompt_number": 14
    },
    {
     "cell_type": "code",
     "collapsed": false,
     "input": [
      "%%R\n",
      "df_rpdrs = read.table(\"data/l2fc_table.csv\", \n",
      "                    header = TRUE,\n",
      "                    sep = \",\")"
     ],
     "language": "python",
     "metadata": {},
     "outputs": [],
     "prompt_number": 16
    },
    {
     "cell_type": "code",
     "collapsed": false,
     "input": [
      "%%R\n",
      "FDR = 0.1\n",
      "\n",
      "SS.Resp = subset(df, (p.adj.min <= FDR)&(Treatment==\"13CCSS\"))\n",
      "SS.Resp$Resp = \"1\" \n",
      "PS.Resp = subset(df, (p.adj.min <= FDR)&(Treatment==\"13CCPS\"))\n",
      "PS.Resp$Resp = \"2\" \n",
      "\n",
      "resp = rbind(SS.Resp, PS.Resp)\n",
      "head(resp)"
     ],
     "language": "python",
     "metadata": {},
     "outputs": []
    },
    {
     "cell_type": "code",
     "collapsed": false,
     "input": [
      "%%R\n",
      "df.l2fc.bulk = df.l2fc.bulk %.% \n",
      "    group_by(sparsity_threshold, Treatment, Day) %.%\n",
      "    mutate(padj = p.adjust(p, method = \"BH\"))\n",
      "\n",
      "df.l2fc.bulk"
     ],
     "language": "python",
     "metadata": {},
     "outputs": [
      {
       "metadata": {},
       "output_type": "display_data",
       "text": [
        "Source: local data frame [38,218 x 14]\n",
        "\n",
        "   sparsity_threshold Day Treatment      OTU log2FoldChange         p    Rank1\n",
        "1                0.05  30    13CCSS  OTU.916    -1.11120960 0.8612903 Bacteria\n",
        "2                0.05  30    13CCSS OTU.2638    -0.15224252 0.7039509 Bacteria\n",
        "3                0.05  30    13CCSS   OTU.79    -0.41455485 0.8425714 Bacteria\n",
        "4                0.05  30    13CCSS  OTU.696    -0.01511779 0.6742008 Bacteria\n",
        "5                0.05  30    13CCSS  OTU.304    -0.84924152 0.8185457 Bacteria\n",
        "6                0.05  30    13CCSS  OTU.847    -0.06346530 0.6748175 Bacteria\n",
        "7                0.05  30    13CCSS   OTU.50    -0.18400926 0.8396809 Bacteria\n",
        "8                0.05  30    13CCSS OTU.2300    -1.11120960 0.8612903 Bacteria\n",
        "9                0.05  30    13CCSS  OTU.655     1.05041672 0.4297913 Bacteria\n",
        "10               0.05  30    13CCSS OTU.3558    -1.11120960 0.8612903 Bacteria\n",
        "..                ... ...       ...      ...            ...       ...      ...\n",
        "Variables not shown: Rank2 (fctr), Rank3 (fctr), Rank4 (fctr), Rank5 (fctr),\n",
        "  Rank6 (fctr), Rank7 (fctr), Rank8 (fctr)\n"
       ]
      }
     ],
     "prompt_number": 15
    },
    {
     "cell_type": "code",
     "collapsed": false,
     "input": [
      "%%R\n",
      "bulk.mdf = psmelt(physeq.bulk)\n",
      "head(bulk.mdf)"
     ],
     "language": "python",
     "metadata": {},
     "outputs": [
      {
       "output_type": "stream",
       "stream": "stdout",
       "text": [
        "Error in inherits(physeq, \"phyloseq\") : object 'physeq.bulk' not found\n"
       ]
      }
     ],
     "prompt_number": 7
    },
    {
     "cell_type": "code",
     "collapsed": false,
     "input": [
      "%%R\n",
      "bulk.mdf$amendment = ifelse(bulk.mdf$Treatment %in% c(\"13CCSS\", \"12CCSS\"), \n",
      "                            \"Cellulose Only\", \n",
      "                            \"Complex C Mixture\")"
     ],
     "language": "python",
     "metadata": {},
     "outputs": [
      {
       "output_type": "stream",
       "stream": "stdout",
       "text": [
        "Error in ifelse(bulk.mdf$Treatment %in% c(\"13CCSS\", \"12CCSS\"), \"Cellulose Only\",  : \n",
        "  error in evaluating the argument 'test' in selecting a method for function 'ifelse': Error in bulk.mdf$Treatment %in% c(\"13CCSS\", \"12CCSS\") : \n",
        "  error in evaluating the argument 'x' in selecting a method for function '%in%': Error: object 'bulk.mdf' not found\n"
       ]
      }
     ],
     "prompt_number": 8
    },
    {
     "cell_type": "code",
     "collapsed": false,
     "input": [
      "%%R\n",
      "df = bulk.mdf %>%\n",
      "    select(OTU, Abundance, Rank2, Rank3, Rank4, Rank5, amendment) %>%\n",
      "    group_by(amendment, OTU) %>%\n",
      "    summarize(Abundance = mean(Abundance)) \n",
      "print(df)  "
     ],
     "language": "python",
     "metadata": {},
     "outputs": [
      {
       "output_type": "stream",
       "stream": "stdout",
       "text": [
        "Error in eval(expr, envir, enclos) : object 'bulk.mdf' not found\n"
       ]
      }
     ],
     "prompt_number": 9
    },
    {
     "cell_type": "code",
     "collapsed": false,
     "input": [
      "%%R\n",
      "physeq = sample_data(df)\n",
      "physeq"
     ],
     "language": "python",
     "metadata": {},
     "outputs": [
      {
       "output_type": "stream",
       "stream": "stdout",
       "text": [
        "Error in access(object, \"sam_data\", errorIfNULL) : \n",
        "  sam_data slot is empty.\n"
       ]
      }
     ],
     "prompt_number": 10
    },
    {
     "cell_type": "code",
     "collapsed": false,
     "input": [
      "%%R\n",
      "p = prune_samples((df$amendment %in% c(\"Complex C Mixture\",as.character(amendment)))\n",
      "print(p)"
     ],
     "language": "python",
     "metadata": {},
     "outputs": [
      {
       "output_type": "stream",
       "stream": "stdout",
       "text": [
        "\n",
        "Error while parsing the string.\n"
       ]
      }
     ],
     "prompt_number": 11
    },
    {
     "cell_type": "code",
     "collapsed": false,
     "input": [
      "%%R\n",
      "l2fc.threshold = 0.75\n",
      "                           \n",
      "p = prune_samples((df$amendment %in% c(\"Complex C Mixture\",as.character(amendment)))\n",
      "p.thresh = filter_taxa(p, function(x) sum(x > 0) > sparsity_threshold * length(x), TRUE)\n",
      "    \n",
      "dds = phyloseq_to_deseq2(p.thresh, ~Treatment)\n",
      "dds = DESeq(dds, quiet = TRUE, fitType = \"local\")\n",
      "theta = l2fc.threshold\n",
      "r = results(dds, independentFiltering = FALSE)\n",
      "r$OTU = rownames(r)\n",
      "beta = r$log2FoldChange\n",
      "betaSE = r$lfcSE\n",
      "p = pnorm(beta, theta, betaSE, lower.tail = FALSE)\n",
      "r$p = p\n",
      "d = data.frame(r[, c(\"OTU\",\"log2FoldChange\", \"p\")])\n",
      "TT = data.frame(tax_table(p.thresh))\n",
      "TT$OTU = rownames(TT)\n",
      "d = left_join(d, TT)\n",
      "d\n",
      "}"
     ],
     "language": "python",
     "metadata": {},
     "outputs": [
      {
       "output_type": "stream",
       "stream": "stdout",
       "text": [
        "\n",
        "Error while parsing the string.\n"
       ]
      }
     ],
     "prompt_number": 12
    }
   ],
   "metadata": {}
  }
 ]
}