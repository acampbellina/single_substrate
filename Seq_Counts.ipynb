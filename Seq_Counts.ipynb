{
 "metadata": {
  "name": "",
  "signature": "sha256:f4114d6307f8b0a86481020ba3a7ffef5b26d967de768b8818e2a257e2bee6d4"
 },
 "nbformat": 3,
 "nbformat_minor": 0,
 "worksheets": [
  {
   "cells": [
    {
     "cell_type": "code",
     "collapsed": false,
     "input": [
      "!grep -c \">cont.[PS]S.30\" data/finalQC.fasta"
     ],
     "language": "python",
     "metadata": {},
     "outputs": [
      {
       "output_type": "stream",
       "stream": "stdout",
       "text": [
        "162316\r\n"
       ]
      }
     ],
     "prompt_number": 3
    },
    {
     "cell_type": "code",
     "collapsed": false,
     "input": [
      "!grep -c \"^@cont.[PS]S.30\" /home/chuck/working/CSIP_succession_data_analysis/data/ABCD_combined_reads.fastq"
     ],
     "language": "python",
     "metadata": {},
     "outputs": [
      {
       "output_type": "stream",
       "stream": "stdout",
       "text": [
        "202701\r\n"
       ]
      }
     ],
     "prompt_number": 4
    },
    {
     "cell_type": "markdown",
     "metadata": {},
     "source": [
      "seq counts before QC:\n",
      "13C - 215224\n",
      "12C - 202701\n",
      "Total - 417,925\n",
      "\n",
      "seq counts after QC:\n",
      "13C - 170497\n",
      "12C - 162316\n",
      "Total - 332,813\n",
      "\n",
      "% seq reads that passed QC: 79.6%"
     ]
    },
    {
     "cell_type": "code",
     "collapsed": false,
     "input": [
      "%pylab inline\n",
      "%load_ext rpy2.ipython"
     ],
     "language": "python",
     "metadata": {},
     "outputs": [
      {
       "output_type": "stream",
       "stream": "stdout",
       "text": [
        "Populating the interactive namespace from numpy and matplotlib\n"
       ]
      }
     ],
     "prompt_number": 5
    },
    {
     "cell_type": "code",
     "collapsed": false,
     "input": [
      "%%R\n",
      "library(phyloseq)\n",
      "library(vegan)\n",
      "library(foreach)\n",
      "library(doParallel)\n",
      "library(plyr)"
     ],
     "language": "python",
     "metadata": {},
     "outputs": [
      {
       "metadata": {},
       "output_type": "display_data",
       "text": [
        "Loading required package: permute\n",
        "Loading required package: lattice\n",
        "This is vegan 2.0-10\n",
        "foreach: simple, scalable parallel programming from Revolution Analytics\n",
        "Use Revolution R for scalability, fault tolerance and more.\n",
        "http://www.revolutionanalytics.com\n",
        "Loading required package: iterators\n",
        "Loading required package: parallel\n",
        "Loading required package: grid\n"
       ]
      }
     ],
     "prompt_number": 6
    },
    {
     "cell_type": "code",
     "collapsed": false,
     "input": [
      "%%R\n",
      "physeq = import_biom(\"data/otu_table_wtax.biom\", \"data/otusn.tree\")\n",
      "sample.data = import_qiime_sample_data(\"data/ABCD_combined_reads_mapper.tsv\")\n",
      "physeq = merge_phyloseq(physeq,sample.data)\n",
      "physeq.md = sample_data(physeq)\n",
      "physeq.all = prune_samples((physeq.md$Treatment %in% c(\"12CCPS\",\"13CCPS\",\"12CCSS\",\"13CCSS\"))& (physeq.md$Day %in% c(30)), \n",
      "                           physeq)\n",
      "physeq.all.snorm = transform_sample_counts(physeq.all, function(x) x/sum(x))\n",
      "physeq.all.thresh = filter_taxa(physeq.all.snorm, function(x) sum(x > 0) > (0.25 * length(x)), TRUE)\n",
      "print(physeq.all)\n",
      "print(physeq.all.thresh)"
     ],
     "language": "python",
     "metadata": {},
     "outputs": [
      {
       "metadata": {},
       "output_type": "display_data",
       "text": [
        "phyloseq-class experiment-level object\n",
        "otu_table()   OTU Table:         [ 6236 taxa and 84 samples ]\n",
        "sample_data() Sample Data:       [ 84 samples by 7 sample variables ]\n",
        "tax_table()   Taxonomy Table:    [ 6236 taxa by 8 taxonomic ranks ]\n",
        "phy_tree()    Phylogenetic Tree: [ 6236 tips and 6235 internal nodes ]\n",
        "phyloseq-class experiment-level object\n",
        "otu_table()   OTU Table:         [ 1204 taxa and 84 samples ]\n",
        "sample_data() Sample Data:       [ 84 samples by 7 sample variables ]\n",
        "tax_table()   Taxonomy Table:    [ 1204 taxa by 8 taxonomic ranks ]\n",
        "phy_tree()    Phylogenetic Tree: [ 1204 tips and 1203 internal nodes ]\n"
       ]
      }
     ],
     "prompt_number": 7
    },
    {
     "cell_type": "code",
     "collapsed": false,
     "input": [],
     "language": "python",
     "metadata": {},
     "outputs": []
    }
   ],
   "metadata": {}
  }
 ]
}