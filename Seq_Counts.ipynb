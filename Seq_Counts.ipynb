{
 "metadata": {
  "name": "",
  "signature": "sha256:7a84a6cc865a2570943eebb3ad16cd620e7861ee576b1b4c69a33f6340b18148"
 },
 "nbformat": 3,
 "nbformat_minor": 0,
 "worksheets": [
  {
   "cells": [
    {
     "cell_type": "code",
     "collapsed": false,
     "input": [
      "!grep -c \">cont.[PS]S.30\" data/finalQC.fasta"
     ],
     "language": "python",
     "metadata": {},
     "outputs": [
      {
       "output_type": "stream",
       "stream": "stdout",
       "text": [
        "162316\r\n"
       ]
      }
     ],
     "prompt_number": 3
    },
    {
     "cell_type": "code",
     "collapsed": false,
     "input": [
      "!grep -c \"^@cont.[PS]S.30\" /home/chuck/working/CSIP_succession_data_analysis/data/ABCD_combined_reads.fastq"
     ],
     "language": "python",
     "metadata": {},
     "outputs": [
      {
       "output_type": "stream",
       "stream": "stdout",
       "text": [
        "202701\r\n"
       ]
      }
     ],
     "prompt_number": 4
    },
    {
     "cell_type": "markdown",
     "metadata": {},
     "source": [
      "seq counts before QC:\n",
      "13C - 215224\n",
      "12C - 202701\n",
      "Total - 417,925\n",
      "\n",
      "seq counts after QC:\n",
      "13C - 170497\n",
      "12C - 162316\n",
      "Total - 332,813\n",
      "\n",
      "% seq reads that passed QC: 79.6%"
     ]
    }
   ],
   "metadata": {}
  }
 ]
}