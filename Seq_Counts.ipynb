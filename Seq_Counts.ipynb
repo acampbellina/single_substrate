{
 "metadata": {
  "name": "",
  "signature": "sha256:e39a571fb4c66fffcb27f2ee32178a45f2dea0091b7693d9d0f83e22a6baf12b"
 },
 "nbformat": 3,
 "nbformat_minor": 0,
 "worksheets": [
  {
   "cells": [
    {
     "cell_type": "code",
     "collapsed": false,
     "input": [
      "!grep -c \">13C.[PS]S.30\" data/finalQC.fasta"
     ],
     "language": "python",
     "metadata": {},
     "outputs": [
      {
       "output_type": "stream",
       "stream": "stdout",
       "text": [
        "170497\r\n"
       ]
      }
     ],
     "prompt_number": 23
    },
    {
     "cell_type": "code",
     "collapsed": false,
     "input": [
      "!grep -c \"^@13C.[PS]S.30\" /home/chuck/working/CSIP_succession_data_analysis/data/ABCD_combined_reads.fastq"
     ],
     "language": "python",
     "metadata": {},
     "outputs": [
      {
       "output_type": "stream",
       "stream": "stdout",
       "text": [
        "215224\r\n"
       ]
      }
     ],
     "prompt_number": 18
    },
    {
     "cell_type": "code",
     "collapsed": false,
     "input": [],
     "language": "python",
     "metadata": {},
     "outputs": []
    }
   ],
   "metadata": {}
  }
 ]
}