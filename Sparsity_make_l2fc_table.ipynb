{
 "metadata": {
  "name": "",
  "signature": "sha256:b1a4d64aa93fff32e2b32ddeb34639b4dfd8a059638011838f43cf7eecb36c3c"
 },
 "nbformat": 3,
 "nbformat_minor": 0,
 "worksheets": [
  {
   "cells": [
    {
     "cell_type": "code",
     "collapsed": false,
     "input": [
      "%load_ext rpy2.ipython"
     ],
     "language": "python",
     "metadata": {},
     "outputs": [],
     "prompt_number": 1
    },
    {
     "cell_type": "code",
     "collapsed": false,
     "input": [
      "%%R\n",
      "library(DESeq2)\n",
      "library(phyloseq)\n",
      "library(plyr); library(dplyr)\n",
      "library(ggplot2)\n",
      "library(doParallel)\n",
      "library(foreach)"
     ],
     "language": "python",
     "metadata": {},
     "outputs": [
      {
       "metadata": {},
       "output_type": "display_data",
       "text": [
        "Loading required package: S4Vectors\n",
        "Loading required package: stats4\n",
        "Loading required package: BiocGenerics\n",
        "Loading required package: parallel\n",
        "\n",
        "Attaching package: \u2018BiocGenerics\u2019\n",
        "\n",
        "The following objects are masked from \u2018package:parallel\u2019:\n",
        "\n",
        "    clusterApply, clusterApplyLB, clusterCall, clusterEvalQ,\n",
        "    clusterExport, clusterMap, parApply, parCapply, parLapply,\n",
        "    parLapplyLB, parRapply, parSapply, parSapplyLB\n",
        "\n",
        "The following object is masked from \u2018package:stats\u2019:\n",
        "\n",
        "    xtabs\n",
        "\n",
        "The following objects are masked from \u2018package:base\u2019:\n",
        "\n",
        "    anyDuplicated, append, as.data.frame, as.vector, cbind, colnames,\n",
        "    do.call, duplicated, eval, evalq, Filter, Find, get, intersect,\n",
        "    is.unsorted, lapply, Map, mapply, match, mget, order, paste, pmax,\n",
        "    pmax.int, pmin, pmin.int, Position, rank, rbind, Reduce, rep.int,\n",
        "    rownames, sapply, setdiff, sort, table, tapply, union, unique,\n",
        "    unlist, unsplit\n",
        "\n",
        "Loading required package: IRanges\n",
        "Loading required package: GenomicRanges\n",
        "Loading required package: GenomeInfoDb\n",
        "Loading required package: Rcpp\n",
        "Loading required package: RcppArmadillo\n",
        "\n",
        "Attaching package: \u2018phyloseq\u2019\n",
        "\n",
        "The following object is masked from \u2018package:GenomicRanges\u2019:\n",
        "\n",
        "    distance\n",
        "\n",
        "The following object is masked from \u2018package:IRanges\u2019:\n",
        "\n",
        "    distance\n",
        "\n",
        "\n",
        "Attaching package: \u2018plyr\u2019\n",
        "\n",
        "The following object is masked from \u2018package:IRanges\u2019:\n",
        "\n",
        "    desc\n",
        "\n",
        "The following object is masked from \u2018package:S4Vectors\u2019:\n",
        "\n",
        "    rename\n",
        "\n",
        "\n",
        "Attaching package: \u2018dplyr\u2019\n",
        "\n",
        "The following objects are masked from \u2018package:plyr\u2019:\n",
        "\n",
        "    arrange, count, desc, failwith, id, mutate, rename, summarise,\n",
        "    summarize\n",
        "\n",
        "The following objects are masked from \u2018package:GenomicRanges\u2019:\n",
        "\n",
        "    intersect, setdiff, union\n",
        "\n",
        "The following object is masked from \u2018package:GenomeInfoDb\u2019:\n",
        "\n",
        "    intersect\n",
        "\n",
        "The following objects are masked from \u2018package:IRanges\u2019:\n",
        "\n",
        "    collapse, desc, intersect, setdiff, slice, union\n",
        "\n",
        "The following object is masked from \u2018package:S4Vectors\u2019:\n",
        "\n",
        "    rename\n",
        "\n",
        "The following objects are masked from \u2018package:BiocGenerics\u2019:\n",
        "\n",
        "    intersect, setdiff, union\n",
        "\n",
        "The following object is masked from \u2018package:stats\u2019:\n",
        "\n",
        "    filter\n",
        "\n",
        "The following objects are masked from \u2018package:base\u2019:\n",
        "\n",
        "    intersect, setdiff, setequal, union\n",
        "\n",
        "Loading required package: foreach\n",
        "foreach: simple, scalable parallel programming from Revolution Analytics\n",
        "Use Revolution R for scalability, fault tolerance and more.\n",
        "http://www.revolutionanalytics.com\n",
        "Loading required package: iterators\n"
       ]
      }
     ],
     "prompt_number": 2
    },
    {
     "cell_type": "code",
     "collapsed": false,
     "input": [
      "%%R\n",
      "\n",
      "asNumeric = function(x) { as.numeric(as.character(x)) }\n",
      "\n",
      "physeq = import_biom(\"data/otu_table_wtax.biom\", \"data/otusn.tree\")\n",
      "sample.data = import_qiime_sample_data(\"data/ABCD_combined_reads_mapper.tsv\")\n",
      "sample.data$Density = asNumeric(sample.data$Density)\n",
      "physeq = merge_phyloseq(physeq,sample.data)\n",
      "physeq"
     ],
     "language": "python",
     "metadata": {},
     "outputs": [
      {
       "metadata": {},
       "output_type": "display_data",
       "text": [
        "phyloseq-class experiment-level object\n",
        "otu_table()   OTU Table:         [ 6236 taxa and 352 samples ]\n",
        "sample_data() Sample Data:       [ 352 samples by 7 sample variables ]\n",
        "tax_table()   Taxonomy Table:    [ 6236 taxa by 8 taxonomic ranks ]\n",
        "phy_tree()    Phylogenetic Tree: [ 6236 tips and 6235 internal nodes ]\n"
       ]
      }
     ],
     "prompt_number": 3
    },
    {
     "cell_type": "heading",
     "level": 3,
     "metadata": {},
     "source": [
      "Get log2foldchange for PS"
     ]
    },
    {
     "cell_type": "code",
     "collapsed": false,
     "input": [
      "%%R\n",
      "l2fc.threshold = 0.75\n",
      "density.min = 1.7125\n",
      "density.max = 1.755\n",
      "                           \n",
      "get_Ps = function(physeq.obj, Treatment, Day, sparsity_threshold) {\n",
      "    \n",
      "    physeq.md = sample_data(physeq.obj)\n",
      "    p = prune_samples((physeq.md$Treatment %in% c(\"12CCPS\",as.character(Treatment)))&\n",
      "                      (physeq.md$Day == Day)&\n",
      "                      !(row.names(physeq.md) %in% grep(\"bulk\", row.names(physeq.md), value=TRUE))&\n",
      "                      (physeq.md$Density >= density.min)&\n",
      "                      (physeq.md$Density <= density.max), physeq.obj)\n",
      "    p.thresh = filter_taxa(p, function(x) sum(x > 0) > sparsity_threshold * length(x), TRUE)\n",
      "    \n",
      "    dds = phyloseq_to_deseq2(p.thresh, ~Treatment)\n",
      "    dds = DESeq(dds, quiet = TRUE, fitType = \"local\")\n",
      "    theta = l2fc.threshold\n",
      "    r = results(dds, independentFiltering = FALSE)\n",
      "    r$OTU = rownames(r)\n",
      "    beta = r$log2FoldChange\n",
      "    betaSE = r$lfcSE\n",
      "    p = pnorm(beta, theta, betaSE, lower.tail = FALSE)\n",
      "    r$p = p\n",
      "    d = data.frame(r[, c(\"OTU\",\"log2FoldChange\", \"p\")])\n",
      "    TT = data.frame(tax_table(p.thresh))\n",
      "    TT$OTU = rownames(TT)\n",
      "    d = left_join(d, TT)\n",
      "    d\n",
      "}"
     ],
     "language": "python",
     "metadata": {},
     "outputs": [],
     "prompt_number": 4
    },
    {
     "cell_type": "code",
     "collapsed": false,
     "input": [
      "%%R\n",
      "m = expand.grid(sparsity_threshold = seq(0.05,0.95,0.05), \n",
      "                Day = c(30), \n",
      "                Treatment = c(\"13CCPS\"))\n",
      "\n",
      "m = m[!((m$Day == 1)&(m$Treatment == \"13CCPS\")),]\n",
      "\n",
      "registerDoParallel(20)\n",
      "\n",
      "df.l2fc.PS = tbl_df(mdply(m, \n",
      "                       get_Ps, \n",
      "                       .parallel = TRUE, \n",
      "                       physeq.obj = physeq))"
     ],
     "language": "python",
     "metadata": {},
     "outputs": [],
     "prompt_number": 5
    },
    {
     "cell_type": "code",
     "collapsed": false,
     "input": [
      "%%R\n",
      "df.l2fc.PS = df.l2fc.PS %.% \n",
      "    group_by(sparsity_threshold, Treatment, Day) %.%\n",
      "    mutate(padj = p.adjust(p, method = \"BH\"))\n",
      "\n",
      "df.l2fc.PS"
     ],
     "language": "python",
     "metadata": {},
     "outputs": [
      {
       "metadata": {},
       "output_type": "display_data",
       "text": [
        "Source: local data frame [16,471 x 15]\n",
        "Groups: sparsity_threshold, Treatment, Day\n",
        "\n",
        "   sparsity_threshold Day Treatment      OTU log2FoldChange         p    Rank1\n",
        "1                0.05  30    13CCPS  OTU.882    -0.17949835 0.9997543 Bacteria\n",
        "2                0.05  30    13CCPS  OTU.783    -0.07507408 0.9988034 Bacteria\n",
        "3                0.05  30    13CCPS OTU.2683     0.11707917 0.9914959 Bacteria\n",
        "4                0.05  30    13CCPS OTU.1411     0.06235334 0.9954221 Bacteria\n",
        "5                0.05  30    13CCPS  OTU.759     0.14215291 0.9879215 Bacteria\n",
        "6                0.05  30    13CCPS OTU.1673     0.27457876 0.9603843 Bacteria\n",
        "7                0.05  30    13CCPS OTU.1401    -0.05975827 0.9989200 Bacteria\n",
        "8                0.05  30    13CCPS  OTU.916     0.06235334 0.9954221 Bacteria\n",
        "9                0.05  30    13CCPS  OTU.923     0.17358540 0.9830404 Bacteria\n",
        "10               0.05  30    13CCPS OTU.2638     0.52859560 0.7927932 Bacteria\n",
        "..                ... ...       ...      ...            ...       ...      ...\n",
        "Variables not shown: Rank2 (fctr), Rank3 (fctr), Rank4 (fctr), Rank5 (fctr),\n",
        "  Rank6 (fctr), Rank7 (fctr), Rank8 (fctr), padj (dbl)\n"
       ]
      }
     ],
     "prompt_number": 6
    },
    {
     "cell_type": "heading",
     "level": 3,
     "metadata": {},
     "source": [
      "Get log2foldchange for SS"
     ]
    },
    {
     "cell_type": "code",
     "collapsed": false,
     "input": [
      "%%R\n",
      "l2fc.threshold = 0.75\n",
      "density.min = 1.7125\n",
      "density.max = 1.755\n",
      "                           \n",
      "get_Ps = function(physeq.obj, Treatment, Day, sparsity_threshold) {\n",
      "    \n",
      "    physeq.md = sample_data(physeq.obj)\n",
      "    p = prune_samples((physeq.md$Treatment %in% c(\"12CCSS\",as.character(Treatment)))&\n",
      "                      (physeq.md$Day == Day)&\n",
      "                      !(row.names(physeq.md) %in% grep(\"bulk\", row.names(physeq.md), value=TRUE))&\n",
      "                      (physeq.md$Density >= density.min)&\n",
      "                      (physeq.md$Density <= density.max), physeq.obj)\n",
      "    p.thresh = filter_taxa(p, function(x) sum(x > 0) > sparsity_threshold * length(x), TRUE)\n",
      "    \n",
      "    dds = phyloseq_to_deseq2(p.thresh, ~Treatment)\n",
      "    dds = DESeq(dds, quiet = TRUE, fitType = \"local\")\n",
      "    theta = l2fc.threshold\n",
      "    r = results(dds, independentFiltering = FALSE)\n",
      "    r$OTU = rownames(r)\n",
      "    beta = r$log2FoldChange\n",
      "    betaSE = r$lfcSE\n",
      "    p = pnorm(beta, theta, betaSE, lower.tail = FALSE)\n",
      "    r$p = p\n",
      "    d = data.frame(r[, c(\"OTU\",\"log2FoldChange\", \"p\")])\n",
      "    TT = data.frame(tax_table(p.thresh))\n",
      "    TT$OTU = rownames(TT)\n",
      "    d = left_join(d, TT)\n",
      "    d\n",
      "}"
     ],
     "language": "python",
     "metadata": {},
     "outputs": [],
     "prompt_number": 7
    },
    {
     "cell_type": "code",
     "collapsed": false,
     "input": [
      "%%R\n",
      "m = expand.grid(sparsity_threshold = seq(0.05,0.95,0.05), \n",
      "                Day = c(30), \n",
      "                Treatment = c(\"13CCSS\"))\n",
      "\n",
      "#m = m[!((m$day == 1)&(m$treatment == \"13CCPS\")),]\n",
      "\n",
      "registerDoParallel(20)\n",
      "\n",
      "df.l2fc.SS = tbl_df(mdply(m, \n",
      "                       get_Ps, \n",
      "                       .parallel = TRUE, \n",
      "                       physeq.obj = physeq))"
     ],
     "language": "python",
     "metadata": {},
     "outputs": [],
     "prompt_number": 8
    },
    {
     "cell_type": "code",
     "collapsed": false,
     "input": [
      "%%R\n",
      "df.l2fc.SS = df.l2fc.SS %.% \n",
      "    group_by(sparsity_threshold, Treatment, Day) %.%\n",
      "    mutate(padj = p.adjust(p, method = \"BH\"))\n",
      "\n",
      "df.l2fc.SS"
     ],
     "language": "python",
     "metadata": {},
     "outputs": [
      {
       "metadata": {},
       "output_type": "display_data",
       "text": [
        "Source: local data frame [20,080 x 15]\n",
        "Groups: sparsity_threshold, Treatment, Day\n",
        "\n",
        "   sparsity_threshold Day Treatment      OTU log2FoldChange         p    Rank1\n",
        "1                0.05  30    13CCSS  OTU.882  -0.2518605670 0.9995801 Bacteria\n",
        "2                0.05  30    13CCSS  OTU.783  -0.1822040564 0.9991932 Bacteria\n",
        "3                0.05  30    13CCSS OTU.3574  -0.0532285631 0.9962387 Bacteria\n",
        "4                0.05  30    13CCSS OTU.4663  -0.0004051286 0.9939678 Bacteria\n",
        "5                0.05  30    13CCSS OTU.4678   0.2006758155 0.9665971 Bacteria\n",
        "6                0.05  30    13CCSS OTU.2896   0.6302648745 0.6548486 Bacteria\n",
        "7                0.05  30    13CCSS OTU.1393   1.0633848225 0.1475380 Bacteria\n",
        "8                0.05  30    13CCSS OTU.4113   0.0688564995 0.9884858 Bacteria\n",
        "9                0.05  30    13CCSS OTU.4400   0.0690003368 0.9884690 Bacteria\n",
        "10               0.05  30    13CCSS OTU.3835   0.2006270676 0.9666090 Bacteria\n",
        "..                ... ...       ...      ...            ...       ...      ...\n",
        "Variables not shown: Rank2 (fctr), Rank3 (fctr), Rank4 (fctr), Rank5 (fctr),\n",
        "  Rank6 (fctr), Rank7 (fctr), Rank8 (fctr), padj (dbl)\n"
       ]
      }
     ],
     "prompt_number": 9
    },
    {
     "cell_type": "heading",
     "level": 3,
     "metadata": {},
     "source": [
      "Combine SS and PS dataframes then determine sparsity threshold"
     ]
    },
    {
     "cell_type": "code",
     "collapsed": true,
     "input": [
      "%%R\n",
      "combined_l2fc = rbind(df.l2fc.SS, df.l2fc.PS)\n",
      "print(combined_l2fc)"
     ],
     "language": "python",
     "metadata": {},
     "outputs": [
      {
       "metadata": {},
       "output_type": "display_data",
       "text": [
        "Source: local data frame [36,551 x 15]\n",
        "Groups: sparsity_threshold, Treatment, Day\n",
        "\n",
        "   sparsity_threshold Day Treatment      OTU log2FoldChange         p    Rank1\n",
        "1                0.05  30    13CCSS  OTU.882  -0.2518605670 0.9995801 Bacteria\n",
        "2                0.05  30    13CCSS  OTU.783  -0.1822040564 0.9991932 Bacteria\n",
        "3                0.05  30    13CCSS OTU.3574  -0.0532285631 0.9962387 Bacteria\n",
        "4                0.05  30    13CCSS OTU.4663  -0.0004051286 0.9939678 Bacteria\n",
        "5                0.05  30    13CCSS OTU.4678   0.2006758155 0.9665971 Bacteria\n",
        "6                0.05  30    13CCSS OTU.2896   0.6302648745 0.6548486 Bacteria\n",
        "7                0.05  30    13CCSS OTU.1393   1.0633848225 0.1475380 Bacteria\n",
        "8                0.05  30    13CCSS OTU.4113   0.0688564995 0.9884858 Bacteria\n",
        "9                0.05  30    13CCSS OTU.4400   0.0690003368 0.9884690 Bacteria\n",
        "10               0.05  30    13CCSS OTU.3835   0.2006270676 0.9666090 Bacteria\n",
        "..                ... ...       ...      ...            ...       ...      ...\n",
        "Variables not shown: Rank2 (fctr), Rank3 (fctr), Rank4 (fctr), Rank5 (fctr),\n",
        "  Rank6 (fctr), Rank7 (fctr), Rank8 (fctr), padj (dbl)\n"
       ]
      }
     ],
     "prompt_number": 10
    },
    {
     "cell_type": "code",
     "collapsed": false,
     "input": [
      "%%R -w 400 -h 350\n",
      "d = combined_l2fc %.% \n",
      "    group_by(sparsity_threshold) %.%\n",
      "    summarize(sum_pass_FDR = sum(padj < 0.10))\n",
      "\n",
      "p = ggplot(d, aes(x = sparsity_threshold, y = sum_pass_FDR))\n",
      "\n",
      "p = p + geom_point(size = 4, shape = 21, color = \"blue\")\n",
      "\n",
      "p = p + geom_vline(x = 0.55)\n",
      "\n",
      "p = p + geom_hline(y = max(d$sum_pass_FDR))\n",
      "\n",
      "p = p + theme_bw()\n",
      "    \n",
      "p = p + theme(axis.text = element_text(size = 14),\n",
      "              axis.title = element_text(size = 14))\n",
      "\n",
      "p\n"
     ],
     "language": "python",
     "metadata": {},
     "outputs": [
      {
       "metadata": {},
       "output_type": "display_data",
       "png": "[encoded data removed]"
      }
     ],
     "prompt_number": 11
    },
    {
     "cell_type": "heading",
     "level": 3,
     "metadata": {},
     "source": [
      "Make dataframe that will be used for log2 fold change figures"
     ]
    },
    {
     "cell_type": "code",
     "collapsed": false,
     "input": [
      "%%R\n",
      "write.table(combined_l2fc[zapsmall(combined_l2fc$sparsity_threshold) - 0.55 == 0,], \n",
      "            file = \"data/l2fc_table.csv\",\n",
      "            row.names = FALSE,\n",
      "            sep = \",\")"
     ],
     "language": "python",
     "metadata": {},
     "outputs": [],
     "prompt_number": 12
    },
    {
     "cell_type": "code",
     "collapsed": false,
     "input": [
      "!head data/l2fc_table.csv | cut -c1-100"
     ],
     "language": "python",
     "metadata": {},
     "outputs": [
      {
       "output_type": "stream",
       "stream": "stdout",
       "text": [
        "\"sparsity_threshold\",\"Day\",\"Treatment\",\"OTU\",\"log2FoldChange\",\"p\",\"Rank1\",\"Rank2\",\"Rank3\",\"Rank4\",\"R\r\n",
        "0.55,30,\"13CCSS\",\"OTU.783\",-0.337082536467674,0.996574093332241,\"Bacteria\",\"Acidobacteria\",\"Holophag\r\n",
        "0.55,30,\"13CCSS\",\"OTU.79\",0.75981823519691,0.488986034786653,\"Bacteria\",\"Bacteroidetes\",\"Cytophagia\"\r\n",
        "0.55,30,\"13CCSS\",\"OTU.304\",0.41836480489731,0.808983672770478,\"Bacteria\",\"Bacteroidetes\",\"Cytophagia\r\n",
        "0.55,30,\"13CCSS\",\"OTU.50\",0.72896935220958,0.52523676420426,\"Bacteria\",\"Bacteroidetes\",\"Cytophagia\",\r\n",
        "0.55,30,\"13CCSS\",\"OTU.382\",2.98335741040779,1.37009227870565e-07,\"Bacteria\",\"Bacteroidetes\",\"Cytopha\r\n",
        "0.55,30,\"13CCSS\",\"OTU.465\",0.551599441324574,0.688754034279508,\"Bacteria\",\"Bacteroidetes\",\"Cytophagi\r\n",
        "0.55,30,\"13CCSS\",\"OTU.162\",0.211671004944863,0.920418761274033,\"Bacteria\",\"Bacteroidetes\",\"Cytophagi\r\n",
        "0.55,30,\"13CCSS\",\"OTU.1084\",1.18943389426859,0.136625840793462,\"Bacteria\",\"Bacteroidetes\",\"Cytophagi\r\n",
        "0.55,30,\"13CCSS\",\"OTU.525\",1.90206654252395,0.00210101346106626,\"Bacteria\",\"Bacteroidetes\",\"Cytophag\r\n"
       ]
      }
     ],
     "prompt_number": 13
    }
   ],
   "metadata": {}
  }
 ]
}