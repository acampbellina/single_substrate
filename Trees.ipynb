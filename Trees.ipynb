{
 "cells": [
  {
   "cell_type": "code",
   "execution_count": 1,
   "metadata": {
    "collapsed": false
   },
   "outputs": [],
   "source": [
    "from IPython.display import FileLink\n",
    "import pandas as pd\n",
    "import pandas.rpy.common as com\n",
    "import brewer2mpl\n",
    "import matplotlib.pyplot as plt\n",
    "import matplotlib as mpl\n",
    "import matplotlib\n",
    "from matplotlib import gridspec\n",
    "from numpy import nan, min, array\n",
    "import itertools\n",
    "from mpltools import style\n",
    "style.use(\"ggplot\")\n",
    "%matplotlib inline\n",
    "%load_ext rpy2.ipython"
   ]
  },
  {
   "cell_type": "code",
   "execution_count": 2,
   "metadata": {
    "collapsed": false
   },
   "outputs": [],
   "source": [
    "%%R\n",
    "library(phyloseq)\n",
    "library(plyr)"
   ]
  },
  {
   "cell_type": "code",
   "execution_count": 3,
   "metadata": {
    "collapsed": false
   },
   "outputs": [],
   "source": [
    "%%R\n",
    "physeq = import_biom(\"data/otu_table_wtax.biom\", \"data/otusn.tree\")\n",
    "sample.data = import_qiime_sample_data(\"data/ABCD_combined_reads_mapper.tsv\")\n",
    "physeq = merge_phyloseq(physeq,sample.data)\n",
    "physeq.md = sample_data(physeq)\n",
    "physeq.SS = prune_samples((physeq.md$Treatment %in% c(\"12CCPS\",\"13CCPS\",\"13CCSS\", \"12CCSS\"))& \n",
    "                         (physeq.md$Day == 30)&\n",
    "                          !(row.names(physeq.md) %in% grep(\"bulk\", row.names(physeq.md), value=TRUE)), physeq)"
   ]
  },
  {
   "cell_type": "code",
   "execution_count": 4,
   "metadata": {
    "collapsed": false
   },
   "outputs": [],
   "source": [
    "matplotlib.rcParams[\"axes.facecolor\"] = \"white\"\n",
    "matplotlib.rcParams[\"axes.edgecolor\"] = \"#151515\"\n",
    "matplotlib.rcParams[\"grid.color\"] = \"#959595\"\n",
    "matplotlib.rcParams[\"grid.alpha\"] = \"0.50\"\n",
    "matplotlib.rcParams[\"font.size\"] = 7.5"
   ]
  },
  {
   "cell_type": "code",
   "execution_count": 9,
   "metadata": {
    "collapsed": false
   },
   "outputs": [],
   "source": [
    "def get_l2fc_df(df_fp, taxon, rank):\n",
    "    df = pd.read_csv(df_fp, sep=\",\")\n",
    "    df_subset = df[df[rank]==taxon]\n",
    "    return df_subset, df_subset[\"OTU\"]\n",
    "\n",
    "def get_tree_df(physeq_str, OTUs):\n",
    "    subset_fn_str = \"prune_taxa(OTUs, %s)\" %physeq_str\n",
    "    %Rpush subset_fn_str\n",
    "    %Rpush OTUs\n",
    "    %R OTUs = as.character(OTUs)\n",
    "    %R ps = eval(parse(text=subset_fn_str))\n",
    "    %R df_tree = phyloseq:::tree.layout(phy_tree(ps), ladderize=\"right\")\n",
    "    %R tax = data.frame(tax_table(ps), stringsAsFactors = FALSE)\n",
    "    %R tax$label = rownames(tax)\n",
    "    %R df_tree = join(df_tree, tax, type = \"left\", by = \"label\")\n",
    "    tree_df = com.load_data(\"df_tree\")\n",
    "    return tree_df\n",
    "\n",
    "def add_tree_info(tdf, l2fc_df):\n",
    "    leaf_nodes = tdf[tdf[\"is.leaf\"]==True][\"node\"].tolist()\n",
    "    criterion = tdf[\"node\"].map(lambda x: x in leaf_nodes)\n",
    "    l2fc_df = l2fc_df.merge(tdf[criterion & (tdf[\"dir\"]==\"up\") & (tdf[\"type\"] == \"line\")][[\"y\",\"label\"]], \n",
    "                            left_on=\"OTU\", \n",
    "                            right_on=\"label\")\n",
    "    return l2fc_df\n",
    "\n",
    "def get_tax_colordict(tdf, color_rank):\n",
    "    cats = set(tdf[color_rank].dropna())\n",
    "    c_list = []\n",
    "    for m in [\"Set3\", \"Dark2\", \"Accent\", \"Set1\"]:\n",
    "        colors = brewer2mpl.get_map(m, \"qualitative\", 8).hex_colors\n",
    "        [c_list.append(c) for c in colors]\n",
    "    color_dict = dict(itertools.izip(cats, itertools.cycle(c_list)))\n",
    "    color_dict[nan] = \"#505050\"\n",
    "    return color_dict\n",
    "\n",
    "def get_responders(l2fc_df, Treatment):\n",
    "    min_padj = l2fc_df[[\"OTU\",\"padj\",\"Treatment\"]].groupby([\"Treatment\",\"OTU\"]).min()\n",
    "    t = min_padj[\"padj\"]\n",
    "    tmp = t[Treatment]\n",
    "    rsp = tmp[tmp<0.10].index.tolist()\n",
    "    return rsp\n",
    "    \n",
    "def make_tree_fig(taxon, taxon_rank, color_rank, l2fc_fp, physeq_str, lw_tax = 3, leg_spacing = 0.25, \n",
    "                  save_fn = None, pt_size = 50):\n",
    "    l2fc_df, otus = get_l2fc_df(l2fc_fp, taxon, taxon_rank)\n",
    "    tdf = get_tree_df(physeq_str, otus.tolist())\n",
    "    l2fc_df = add_tree_info(tdf, l2fc_df)\n",
    "    tax_colors = get_tax_colordict(tdf, color_rank)\n",
    "    \n",
    "    Days = map(str,[30])\n",
    "    scaleFactor = 0.125\n",
    "    \n",
    "    PS_rspdrs = get_responders(l2fc_df, \"13CCPS\")\n",
    "    SS_rspdrs = get_responders(l2fc_df, \"13CCSS\")\n",
    "\n",
    "    df_pivot = l2fc_df.pivot_table(rows=[\"y\"], cols=[\"Treatment\",\"Day\"], values=\"log2FoldChange\")\n",
    "    figHeight = min(array([df_pivot.shape[0]*scaleFactor, 20]))\n",
    "\n",
    "    gs = gridspec.GridSpec(nrows=1, ncols=4, width_ratios=[6,2.25,1.0,1.0])\n",
    "\n",
    "    fig = plt.figure()\n",
    "    fig.set_size_inches((5,figHeight))\n",
    "    #fig.set_size_inches((8,20))\n",
    "    fig.subplots_adjust(wspace=0.05)\n",
    "\n",
    "    cm = brewer2mpl.get_map('RdYlBu', 'diverging', 5, reverse=True).mpl_colormap\n",
    "\n",
    "    tdf_lines = tdf[tdf[\"type\"] == \"line\"]\n",
    "    leaf_nodes = tdf[tdf[\"is.leaf\"]==True][\"node\"].tolist()\n",
    "    criterion1 = tdf[\"node\"].map(lambda x: x in leaf_nodes)\n",
    "    tdf_tip_locs = tdf[criterion1 & (tdf[\"dir\"]==\"up\") & (tdf[\"type\"] == \"line\")]\n",
    "    start = zip(tdf_lines.x, tdf_lines.y - 1)\n",
    "    end = zip(tdf_lines.xend, tdf_lines.yend - 1)\n",
    "    lines = zip(start, end)\n",
    "    lc = mpl.collections.LineCollection(segments=lines, color = \"k\")\n",
    "    ax1 = fig.add_subplot(gs[0])\n",
    "    ax1.add_collection(lc)\n",
    "    ax1.autoscale()\n",
    "    ax1.hlines(y = tdf_tip_locs.y - 1, \n",
    "               xmin = tdf_tip_locs.x, \n",
    "               xmax = ax1.get_xlim()[1],\n",
    "               colors = [tax_colors[v] for v in tdf_tip_locs[color_rank]],\n",
    "               lw = lw_tax)\n",
    "    ax1.set_xticks([])\n",
    "    ax1.set_yticks([])\n",
    "    ax1.set_frame_on(False)\n",
    "    ax1.grid(False)\n",
    "    ax1.set_xlim([tdf_lines.x.min(), tdf_lines.xend.max()*1.02])\n",
    "\n",
    "    ax2 = fig.add_subplot(gs[1], sharey = ax1)\n",
    "    criterion2 = tdf_tip_locs[\"label\"].map(lambda x: x in PS_rspdrs)\n",
    "    criterion3 = tdf_tip_locs[\"label\"].map(lambda x: x in SS_rspdrs)\n",
    "    PS_rspndrs_tips = tdf_tip_locs[criterion2]\n",
    "    SS_rspndrs_tips = tdf_tip_locs[criterion3]\n",
    "    ax2.scatter(x = [1 for i in PS_rspndrs_tips.y], \n",
    "                y = PS_rspndrs_tips.y -1, \n",
    "                s = pt_size, zorder = 100, color = \"#377eb8\")\n",
    "    ax2.scatter(x = [2 for i in SS_rspndrs_tips.y], \n",
    "                y = SS_rspndrs_tips.y -1, \n",
    "                s = pt_size, zorder = 100, color = \"orange\")\n",
    "    ax2.set_frame_on(False)\n",
    "    ax2.set_xlim([0,3])\n",
    "    ax2.set_xticks([1,2])\n",
    "    ax2.set_xticklabels([\"13CCPS\",\"13CCSS\"], rotation = 90, ha = \"left\", size = 8)\n",
    "    ax2.set_yticks([])\n",
    "    \n",
    "    vmin = l2fc_df[\"log2FoldChange\"].quantile(0.05)\n",
    "    vmax = l2fc_df[\"log2FoldChange\"].quantile(0.95)\n",
    "\n",
    "    ax3 = fig.add_subplot(gs[2], sharey = ax1)\n",
    "    ax3.set_xticks(range(len(Days[1:])))\n",
    "    ax3.set_xticklabels(Days[1:])\n",
    "    ax3.set_yticklabels([])\n",
    "    ax3.set_title(\"13CCPS\", fontsize=7)\n",
    "    #ax3.set_xlabel(\"Day\")\n",
    "    df = df_pivot[\"13CCPS\"]\n",
    "    im = ax3.imshow(df.as_matrix(), interpolation=\"nearest\", aspect=\"auto\", cmap=cm, vmax=vmax, vmin=vmin)\n",
    "    ax3.grid(False)\n",
    "\n",
    "    ax4 = fig.add_subplot(gs[3], sharey = ax1)\n",
    "    #ax4.set_xticks(range(len(Days)))\n",
    "    ax4.set_xticklabels(Days)\n",
    "    ax4.set_yticklabels([])\n",
    "    ax4.set_title(\"13CCSS\", fontsize=7)\n",
    "    #ax4.set_xlabel(\"Day\")\n",
    "    df = df_pivot[\"13CCSS\"]\n",
    "    ax4.imshow(df.as_matrix(), interpolation=\"nearest\", aspect=\"auto\", cmap=cm, vmax=vmax, vmin=vmin)\n",
    "    ax4.grid(False)\n",
    "\n",
    "    box = ax4.get_position()\n",
    "    cax = fig.add_axes([box.xmax + 0.05, box.ymin + 2 * box.height / 3, 0.02, box.height / 3])\n",
    "    cb = fig.colorbar(im, cax = cax)\n",
    "    cb.set_label(r\"log$_{2}$ Fold Change\")\n",
    "\n",
    "    proxy_artists = [plt.Rectangle((0,0),1,1,fc=tax_colors[i]) for i in tdf_tip_locs.sort(\"y\")[color_rank].unique().tolist()]\n",
    "    leg = ax1.legend(proxy_artists, \n",
    "                     tdf_tip_locs.sort(\"y\")[color_rank].unique().tolist(),\n",
    "                     bbox_to_anchor = (0, -leg_spacing),\n",
    "                     loc = 2, ncol = 2,\n",
    "                     prop={'size':18,'style':\"italic\"}, labelspacing = 0.2)\n",
    "    leg.set_frame_on(False)\n",
    "    \n",
    "    if save_fn:\n",
    "        fig.savefig(save_fn, bbox_extra_artists=(leg, cax), bbox_inches='tight')"
   ]
  },
  {
   "cell_type": "code",
   "execution_count": 10,
   "metadata": {
    "collapsed": false
   },
   "outputs": [
    {
     "name": "stdout",
     "output_type": "stream",
     "text": [
      "Error in get(name, envir = asNamespace(pkg), inherits = FALSE) : \n",
      "  object 'tree.layout' not found\n",
      "In addition: Warning message:\n",
      "In (function (..., list = character(), package = NULL, lib.loc = NULL,  :\n",
      "  data set ‘df_tree’ not found\n",
      "Error in get(name, envir = asNamespace(pkg), inherits = FALSE) : \n",
      "  object 'tree.layout' not found\n",
      "Error in as.vector(x) : object 'df_tree' not found\n"
     ]
    },
    {
     "ename": "LookupError",
     "evalue": "'df_tree' not found",
     "output_type": "error",
     "traceback": [
      "\u001b[1;31m---------------------------------------------------------------------------\u001b[0m",
      "\u001b[1;31mLookupError\u001b[0m                               Traceback (most recent call last)",
      "\u001b[1;32m<ipython-input-10-73d9e0f2f97f>\u001b[0m in \u001b[0;36m<module>\u001b[1;34m()\u001b[0m\n\u001b[0;32m      1\u001b[0m make_tree_fig(\"Bacteria\", \"Rank1\", \"Rank2\", \"data/l2fc_table.csv\", \"physeq.SS\", \n\u001b[0;32m      2\u001b[0m               \u001b[0msave_fn\u001b[0m \u001b[1;33m=\u001b[0m \u001b[1;34m\"figs/bacteria_tree.pdf\"\u001b[0m\u001b[1;33m,\u001b[0m \u001b[0mlw_tax\u001b[0m \u001b[1;33m=\u001b[0m \u001b[1;36m1\u001b[0m\u001b[1;33m,\u001b[0m \u001b[0mleg_spacing\u001b[0m \u001b[1;33m=\u001b[0m \u001b[1;36m0.03\u001b[0m\u001b[1;33m,\u001b[0m\u001b[1;33m\u001b[0m\u001b[0m\n\u001b[1;32m----> 3\u001b[1;33m               pt_size = 18)\n\u001b[0m",
      "\u001b[1;32m<ipython-input-9-040b55c4aec4>\u001b[0m in \u001b[0;36mmake_tree_fig\u001b[1;34m(taxon, taxon_rank, color_rank, l2fc_fp, physeq_str, lw_tax, leg_spacing, save_fn, pt_size)\u001b[0m\n\u001b[0;32m     45\u001b[0m                   save_fn = None, pt_size = 50):\n\u001b[0;32m     46\u001b[0m     \u001b[0ml2fc_df\u001b[0m\u001b[1;33m,\u001b[0m \u001b[0motus\u001b[0m \u001b[1;33m=\u001b[0m \u001b[0mget_l2fc_df\u001b[0m\u001b[1;33m(\u001b[0m\u001b[0ml2fc_fp\u001b[0m\u001b[1;33m,\u001b[0m \u001b[0mtaxon\u001b[0m\u001b[1;33m,\u001b[0m \u001b[0mtaxon_rank\u001b[0m\u001b[1;33m)\u001b[0m\u001b[1;33m\u001b[0m\u001b[0m\n\u001b[1;32m---> 47\u001b[1;33m     \u001b[0mtdf\u001b[0m \u001b[1;33m=\u001b[0m \u001b[0mget_tree_df\u001b[0m\u001b[1;33m(\u001b[0m\u001b[0mphyseq_str\u001b[0m\u001b[1;33m,\u001b[0m \u001b[0motus\u001b[0m\u001b[1;33m.\u001b[0m\u001b[0mtolist\u001b[0m\u001b[1;33m(\u001b[0m\u001b[1;33m)\u001b[0m\u001b[1;33m)\u001b[0m\u001b[1;33m\u001b[0m\u001b[0m\n\u001b[0m\u001b[0;32m     48\u001b[0m     \u001b[0ml2fc_df\u001b[0m \u001b[1;33m=\u001b[0m \u001b[0madd_tree_info\u001b[0m\u001b[1;33m(\u001b[0m\u001b[0mtdf\u001b[0m\u001b[1;33m,\u001b[0m \u001b[0ml2fc_df\u001b[0m\u001b[1;33m)\u001b[0m\u001b[1;33m\u001b[0m\u001b[0m\n\u001b[0;32m     49\u001b[0m     \u001b[0mtax_colors\u001b[0m \u001b[1;33m=\u001b[0m \u001b[0mget_tax_colordict\u001b[0m\u001b[1;33m(\u001b[0m\u001b[0mtdf\u001b[0m\u001b[1;33m,\u001b[0m \u001b[0mcolor_rank\u001b[0m\u001b[1;33m)\u001b[0m\u001b[1;33m\u001b[0m\u001b[0m\n",
      "\u001b[1;32m<ipython-input-9-040b55c4aec4>\u001b[0m in \u001b[0;36mget_tree_df\u001b[1;34m(physeq_str, OTUs)\u001b[0m\n\u001b[0;32m     14\u001b[0m     \u001b[0mget_ipython\u001b[0m\u001b[1;33m(\u001b[0m\u001b[1;33m)\u001b[0m\u001b[1;33m.\u001b[0m\u001b[0mmagic\u001b[0m\u001b[1;33m(\u001b[0m\u001b[1;34mu'R tax$label = rownames(tax)'\u001b[0m\u001b[1;33m)\u001b[0m\u001b[1;33m\u001b[0m\u001b[0m\n\u001b[0;32m     15\u001b[0m     \u001b[0mget_ipython\u001b[0m\u001b[1;33m(\u001b[0m\u001b[1;33m)\u001b[0m\u001b[1;33m.\u001b[0m\u001b[0mmagic\u001b[0m\u001b[1;33m(\u001b[0m\u001b[1;34mu'R df_tree = join(df_tree, tax, type = \"left\", by = \"label\")'\u001b[0m\u001b[1;33m)\u001b[0m\u001b[1;33m\u001b[0m\u001b[0m\n\u001b[1;32m---> 16\u001b[1;33m     \u001b[0mtree_df\u001b[0m \u001b[1;33m=\u001b[0m \u001b[0mcom\u001b[0m\u001b[1;33m.\u001b[0m\u001b[0mload_data\u001b[0m\u001b[1;33m(\u001b[0m\u001b[1;34m\"df_tree\"\u001b[0m\u001b[1;33m)\u001b[0m\u001b[1;33m\u001b[0m\u001b[0m\n\u001b[0m\u001b[0;32m     17\u001b[0m     \u001b[1;32mreturn\u001b[0m \u001b[0mtree_df\u001b[0m\u001b[1;33m\u001b[0m\u001b[0m\n\u001b[0;32m     18\u001b[0m \u001b[1;33m\u001b[0m\u001b[0m\n",
      "\u001b[1;32m/opt/anaconda/lib/python2.7/site-packages/pandas/rpy/common.pyc\u001b[0m in \u001b[0;36mload_data\u001b[1;34m(name, package, convert)\u001b[0m\n\u001b[0;32m     30\u001b[0m     \u001b[0mr\u001b[0m\u001b[1;33m.\u001b[0m\u001b[0mdata\u001b[0m\u001b[1;33m(\u001b[0m\u001b[0mname\u001b[0m\u001b[1;33m)\u001b[0m\u001b[1;33m\u001b[0m\u001b[0m\n\u001b[0;32m     31\u001b[0m \u001b[1;33m\u001b[0m\u001b[0m\n\u001b[1;32m---> 32\u001b[1;33m     \u001b[0mrobj\u001b[0m \u001b[1;33m=\u001b[0m \u001b[0mr\u001b[0m\u001b[1;33m[\u001b[0m\u001b[0mname\u001b[0m\u001b[1;33m]\u001b[0m\u001b[1;33m\u001b[0m\u001b[0m\n\u001b[0m\u001b[0;32m     33\u001b[0m \u001b[1;33m\u001b[0m\u001b[0m\n\u001b[0;32m     34\u001b[0m     \u001b[1;32mif\u001b[0m \u001b[0mconvert\u001b[0m\u001b[1;33m:\u001b[0m\u001b[1;33m\u001b[0m\u001b[0m\n",
      "\u001b[1;32m/opt/anaconda/lib/python2.7/site-packages/rpy2/robjects/__init__.pyc\u001b[0m in \u001b[0;36m__getitem__\u001b[1;34m(self, item)\u001b[0m\n\u001b[0;32m    246\u001b[0m \u001b[1;33m\u001b[0m\u001b[0m\n\u001b[0;32m    247\u001b[0m     \u001b[1;32mdef\u001b[0m \u001b[0m__getitem__\u001b[0m\u001b[1;33m(\u001b[0m\u001b[0mself\u001b[0m\u001b[1;33m,\u001b[0m \u001b[0mitem\u001b[0m\u001b[1;33m)\u001b[0m\u001b[1;33m:\u001b[0m\u001b[1;33m\u001b[0m\u001b[0m\n\u001b[1;32m--> 248\u001b[1;33m         \u001b[0mres\u001b[0m \u001b[1;33m=\u001b[0m \u001b[0m_globalenv\u001b[0m\u001b[1;33m.\u001b[0m\u001b[0mget\u001b[0m\u001b[1;33m(\u001b[0m\u001b[0mitem\u001b[0m\u001b[1;33m)\u001b[0m\u001b[1;33m\u001b[0m\u001b[0m\n\u001b[0m\u001b[0;32m    249\u001b[0m         \u001b[0mres\u001b[0m \u001b[1;33m=\u001b[0m \u001b[0mconversion\u001b[0m\u001b[1;33m.\u001b[0m\u001b[0mri2ro\u001b[0m\u001b[1;33m(\u001b[0m\u001b[0mres\u001b[0m\u001b[1;33m)\u001b[0m\u001b[1;33m\u001b[0m\u001b[0m\n\u001b[0;32m    250\u001b[0m         \u001b[1;32mif\u001b[0m \u001b[0mhasattr\u001b[0m\u001b[1;33m(\u001b[0m\u001b[0mres\u001b[0m\u001b[1;33m,\u001b[0m \u001b[1;34m'__rname__'\u001b[0m\u001b[1;33m)\u001b[0m\u001b[1;33m:\u001b[0m\u001b[1;33m\u001b[0m\u001b[0m\n",
      "\u001b[1;31mLookupError\u001b[0m: 'df_tree' not found"
     ]
    }
   ],
   "source": [
    "make_tree_fig(\"Bacteria\", \"Rank1\", \"Rank2\", \"data/l2fc_table.csv\", \"physeq.SS\", \n",
    "              save_fn = \"figs/bacteria_tree.pdf\", lw_tax = 1, leg_spacing = 0.03,\n",
    "              pt_size = 18)"
   ]
  },
  {
   "cell_type": "code",
   "execution_count": null,
   "metadata": {
    "collapsed": false
   },
   "outputs": [],
   "source": [
    "FileLink(\"figs/bacteria_tree.pdf\")"
   ]
  },
  {
   "cell_type": "code",
   "execution_count": null,
   "metadata": {
    "collapsed": false
   },
   "outputs": [],
   "source": [
    "make_tree_fig(\"Chloroflexi\", \"Rank2\", \"Rank3\", \"data/l2fc_table.csv\", \"physeq.SS\", \n",
    "              save_fn=\"figs/chloroflexi_tree.pdf\")"
   ]
  },
  {
   "cell_type": "code",
   "execution_count": null,
   "metadata": {
    "collapsed": false
   },
   "outputs": [],
   "source": [
    "FileLink(\"figs/chloroflexi_tree.pdf\")"
   ]
  },
  {
   "cell_type": "code",
   "execution_count": null,
   "metadata": {
    "collapsed": false
   },
   "outputs": [],
   "source": [
    "make_tree_fig(\"Firmicutes\", \"Rank2\", \"Rank6\", \"data/l2fc_table.csv\", \"physeq.SS\",\n",
    "              save_fn = \"figs/firmicutes_tree.pdf\", leg_spacing = 0.8)"
   ]
  },
  {
   "cell_type": "code",
   "execution_count": null,
   "metadata": {
    "collapsed": false
   },
   "outputs": [],
   "source": [
    "FileLink(\"figs/firmicutes_tree.pdf\")"
   ]
  },
  {
   "cell_type": "code",
   "execution_count": null,
   "metadata": {
    "collapsed": false
   },
   "outputs": [],
   "source": [
    "make_tree_fig(\"Actinobacteria\", \"Rank2\", \"Rank3\", \"data/l2fc_table.csv\", \"physeq.SS\",\n",
    "              save_fn = \"figs/actinobacteria_tree.pdf\", leg_spacing = 0.05)"
   ]
  },
  {
   "cell_type": "code",
   "execution_count": null,
   "metadata": {
    "collapsed": false
   },
   "outputs": [],
   "source": [
    "FileLink(\"figs/actinobacteria_tree.pdf\")"
   ]
  },
  {
   "cell_type": "code",
   "execution_count": null,
   "metadata": {
    "collapsed": false
   },
   "outputs": [],
   "source": [
    "make_tree_fig(\"Gammaproteobacteria\", \"Rank3\", \"Rank6\", \"data/l2fc_table.csv\", \"physeq.SS\", \n",
    "              save_fn = \"figs/gammaproteo_tree.pdf\", leg_spacing = 0.125)"
   ]
  },
  {
   "cell_type": "code",
   "execution_count": null,
   "metadata": {
    "collapsed": false
   },
   "outputs": [],
   "source": [
    "FileLink(\"figs/gammaproteo_tree.pdf\")"
   ]
  },
  {
   "cell_type": "code",
   "execution_count": null,
   "metadata": {
    "collapsed": false
   },
   "outputs": [],
   "source": [
    "make_tree_fig(\"Alphaproteobacteria\", \"Rank3\", \"Rank6\", \"data/l2fc_table.csv\", \"physeq.SS\", \n",
    "               save_fn = \"figs/alphaproteo_tree.pdf\", leg_spacing = 0.075)"
   ]
  },
  {
   "cell_type": "code",
   "execution_count": null,
   "metadata": {
    "collapsed": false
   },
   "outputs": [],
   "source": [
    "FileLink(\"figs/alphaproteo_tree.pdf\")"
   ]
  },
  {
   "cell_type": "code",
   "execution_count": null,
   "metadata": {
    "collapsed": false
   },
   "outputs": [],
   "source": [
    "make_tree_fig(\"Deltaproteobacteria\", \"Rank3\", \"Rank6\", \"data/l2fc_table.csv\", \"physeq.SS\", \n",
    "              save_fn = \"figs/deltaproteo_tree.pdf\", leg_spacing = 0.1)"
   ]
  },
  {
   "cell_type": "code",
   "execution_count": null,
   "metadata": {
    "collapsed": false
   },
   "outputs": [],
   "source": [
    "FileLink(\"figs/deltaproteo_tree.pdf\")"
   ]
  },
  {
   "cell_type": "code",
   "execution_count": null,
   "metadata": {
    "collapsed": false
   },
   "outputs": [],
   "source": [
    "make_tree_fig(\"Planctomycetes\", \"Rank2\", \"Rank3\", \"data/l2fc_table.csv\", \"physeq.SS\", \n",
    "              save_fn = \"figs/planctomycetes_tree.pdf\", leg_spacing = 0.1)"
   ]
  },
  {
   "cell_type": "code",
   "execution_count": null,
   "metadata": {
    "collapsed": false
   },
   "outputs": [],
   "source": [
    "FileLink(\"figs/planctomycetes_tree.pdf\")"
   ]
  },
  {
   "cell_type": "code",
   "execution_count": null,
   "metadata": {
    "collapsed": false
   },
   "outputs": [],
   "source": [
    "make_tree_fig(\"Bacteroidetes\", \"Rank2\", \"Rank3\", \"data/l2fc_table.csv\", \"physeq.SS\", \n",
    "              save_fn = \"figs/bacteroidetes_tree.pdf\", leg_spacing = 0.1)"
   ]
  },
  {
   "cell_type": "code",
   "execution_count": null,
   "metadata": {
    "collapsed": false
   },
   "outputs": [],
   "source": [
    "FileLink(\"figs/bacteroidetes_tree.pdf\")"
   ]
  },
  {
   "cell_type": "code",
   "execution_count": null,
   "metadata": {
    "collapsed": false
   },
   "outputs": [],
   "source": [
    "make_tree_fig(\"Verrucomicrobia\", \"Rank2\", \"Rank3\", \"data/l2fc_table.csv\", \"physeq.SS\", \n",
    "              save_fn = \"figs/verrucomicrobia_tree.pdf\", leg_spacing = 0.1)"
   ]
  },
  {
   "cell_type": "code",
   "execution_count": null,
   "metadata": {
    "collapsed": false
   },
   "outputs": [],
   "source": [
    "FileLink(\"figs/verrucomicrobia_tree.pdf\")"
   ]
  },
  {
   "cell_type": "code",
   "execution_count": null,
   "metadata": {
    "collapsed": false
   },
   "outputs": [],
   "source": []
  }
 ],
 "metadata": {
  "kernelspec": {
   "display_name": "Python 2",
   "language": "python",
   "name": "python2"
  },
  "language_info": {
   "codemirror_mode": {
    "name": "ipython",
    "version": 2
   },
   "file_extension": ".py",
   "mimetype": "text/x-python",
   "name": "python",
   "nbconvert_exporter": "python",
   "pygments_lexer": "ipython2",
   "version": "2.7.9"
  }
 },
 "nbformat": 4,
 "nbformat_minor": 0
}
