{
 "metadata": {
  "name": "",
  "signature": "sha256:f44501553fc8c532169a0e5152f1e837af9358539f93be7a1083e44ab7833ad8"
 },
 "nbformat": 3,
 "nbformat_minor": 0,
 "worksheets": [
  {
   "cells": [
    {
     "cell_type": "code",
     "collapsed": false,
     "input": [
      "%load_ext rpy2.ipython"
     ],
     "language": "python",
     "metadata": {},
     "outputs": [],
     "prompt_number": 1
    },
    {
     "cell_type": "code",
     "collapsed": false,
     "input": [
      "from IPython.display import FileLink"
     ],
     "language": "python",
     "metadata": {},
     "outputs": [],
     "prompt_number": 2
    },
    {
     "cell_type": "code",
     "collapsed": false,
     "input": [
      "%%R\n",
      "library(ggplot2)\n",
      "library(plyr); library(dplyr); library(tidyr)\n",
      "library(DESeq2)\n",
      "library(phyloseq)"
     ],
     "language": "python",
     "metadata": {},
     "outputs": [
      {
       "metadata": {},
       "output_type": "display_data",
       "text": [
        "Find out what's changed in ggplot2 with\n",
        "news(Version == \"1.0.0\", package = \"ggplot2\")\n",
        "\n",
        "Attaching package: \u2018dplyr\u2019\n",
        "\n",
        "The following objects are masked from \u2018package:plyr\u2019:\n",
        "\n",
        "    arrange, count, desc, failwith, id, mutate, rename, summarise,\n",
        "    summarize\n",
        "\n",
        "The following object is masked from \u2018package:stats\u2019:\n",
        "\n",
        "    filter\n",
        "\n",
        "The following objects are masked from \u2018package:base\u2019:\n",
        "\n",
        "    intersect, setdiff, setequal, union\n",
        "\n",
        "Loading required package: S4Vectors\n",
        "Loading required package: stats4\n",
        "Loading required package: BiocGenerics\n",
        "Loading required package: parallel\n",
        "\n",
        "Attaching package: \u2018BiocGenerics\u2019\n",
        "\n",
        "The following objects are masked from \u2018package:parallel\u2019:\n",
        "\n",
        "    clusterApply, clusterApplyLB, clusterCall, clusterEvalQ,\n",
        "    clusterExport, clusterMap, parApply, parCapply, parLapply,\n",
        "    parLapplyLB, parRapply, parSapply, parSapplyLB\n",
        "\n",
        "The following objects are masked from \u2018package:dplyr\u2019:\n",
        "\n",
        "    intersect, setdiff, union\n",
        "\n",
        "The following object is masked from \u2018package:stats\u2019:\n",
        "\n",
        "    xtabs\n",
        "\n",
        "The following objects are masked from \u2018package:base\u2019:\n",
        "\n",
        "    anyDuplicated, append, as.data.frame, as.vector, cbind, colnames,\n",
        "    do.call, duplicated, eval, evalq, Filter, Find, get, intersect,\n",
        "    is.unsorted, lapply, Map, mapply, match, mget, order, paste, pmax,\n",
        "    pmax.int, pmin, pmin.int, Position, rank, rbind, Reduce, rep.int,\n",
        "    rownames, sapply, setdiff, sort, table, tapply, union, unique,\n",
        "    unlist, unsplit\n",
        "\n",
        "\n",
        "Attaching package: \u2018S4Vectors\u2019\n",
        "\n",
        "The following object is masked from \u2018package:dplyr\u2019:\n",
        "\n",
        "    rename\n",
        "\n",
        "The following object is masked from \u2018package:plyr\u2019:\n",
        "\n",
        "    rename\n",
        "\n",
        "Loading required package: IRanges\n",
        "\n",
        "Attaching package: \u2018IRanges\u2019\n",
        "\n",
        "The following objects are masked from \u2018package:dplyr\u2019:\n",
        "\n",
        "    collapse, desc, slice\n",
        "\n",
        "The following object is masked from \u2018package:plyr\u2019:\n",
        "\n",
        "    desc\n",
        "\n",
        "Loading required package: GenomicRanges\n",
        "Loading required package: GenomeInfoDb\n",
        "Loading required package: Rcpp\n",
        "Loading required package: RcppArmadillo\n",
        "\n",
        "Attaching package: \u2018phyloseq\u2019\n",
        "\n",
        "The following object is masked from \u2018package:GenomicRanges\u2019:\n",
        "\n",
        "    distance\n",
        "\n",
        "The following object is masked from \u2018package:IRanges\u2019:\n",
        "\n",
        "    distance\n",
        "\n"
       ]
      }
     ],
     "prompt_number": 3
    },
    {
     "cell_type": "code",
     "collapsed": false,
     "input": [
      "%%R\n",
      "dat = read.csv(\"/home/ashley/single_substrate/data/mg13C_boxplot_norm.csv\",header=TRUE)"
     ],
     "language": "python",
     "metadata": {},
     "outputs": [],
     "prompt_number": 4
    },
    {
     "cell_type": "code",
     "collapsed": false,
     "input": [
      "%%R\n",
      "print(dat)"
     ],
     "language": "python",
     "metadata": {},
     "outputs": [
      {
       "metadata": {},
       "output_type": "display_data",
       "text": [
        "  treatment day mg13Cp.u.t.  mg13Cnorm\n",
        "1        SS   7    0.821786 0.11739800\n",
        "2        SS  14    4.424498 0.63207114\n",
        "3        SS  30    1.114139 0.07958134\n",
        "4        PS   3    1.006950 0.33565005\n",
        "5        PS   7    0.872367 0.21809175\n",
        "6        PS  14    1.463809 0.20911552\n",
        "7        PS  30    2.004344 0.14316742\n"
       ]
      }
     ],
     "prompt_number": 5
    },
    {
     "cell_type": "code",
     "collapsed": false,
     "input": [
      "%%R\n",
      "dat$treatment = as.character(dat$treatment)\n",
      "dat$mg13C = as.numeric(dat$mg13Cp.u.t.)\n",
      "print(dat)"
     ],
     "language": "python",
     "metadata": {},
     "outputs": [
      {
       "metadata": {},
       "output_type": "display_data",
       "text": [
        "  treatment day mg13Cp.u.t.  mg13Cnorm    mg13C\n",
        "1        SS   7    0.821786 0.11739800 0.821786\n",
        "2        SS  14    4.424498 0.63207114 4.424498\n",
        "3        SS  30    1.114139 0.07958134 1.114139\n",
        "4        PS   3    1.006950 0.33565005 1.006950\n",
        "5        PS   7    0.872367 0.21809175 0.872367\n",
        "6        PS  14    1.463809 0.20911552 1.463809\n",
        "7        PS  30    2.004344 0.14316742 2.004344\n"
       ]
      }
     ],
     "prompt_number": 6
    },
    {
     "cell_type": "code",
     "collapsed": false,
     "input": [
      "%%R\n",
      "\n",
      "\n",
      "box = boxplot(mg13C~treatment, data = dat, main=\"Cellulose Respired from Soil\", \n",
      "             xlab=\"Treatment\", \n",
      "             ylab=\"13C loss from soil (mg)\", \n",
      "             names = c(\"Complex C Addition\", \"Single C Addition\"), \n",
      "             col = c(\"yellow2\", \"paleturquoise\"),\n",
      "             alpha = 0.9)\n",
      "\n",
      "dot = stripchart(mg13C~treatment, data = dat, \n",
      "            vertical = TRUE, \n",
      "            pch = 21, cex = 1.2, bg = \"grey\", \n",
      "            add = TRUE) \n"
     ],
     "language": "python",
     "metadata": {},
     "outputs": [
      {
       "metadata": {},
       "output_type": "display_data",
       "png": "[encoded data removed]"
      }
     ],
     "prompt_number": 7
    },
    {
     "cell_type": "code",
     "collapsed": false,
     "input": [
      "%%R\n",
      "t.test(dat$mg13C~dat$treatment, var.equal = FALSE, alternative=\"greater\")"
     ],
     "language": "python",
     "metadata": {},
     "outputs": [
      {
       "metadata": {},
       "output_type": "display_data",
       "text": [
        "\n",
        "\tWelch Two Sample t-test\n",
        "\n",
        "data:  dat$mg13C by dat$treatment\n",
        "t = -0.6619, df = 2.198, p-value = 0.7147\n",
        "alternative hypothesis: true difference in means is greater than 0\n",
        "95 percent confidence interval:\n",
        " -4.035569       Inf\n",
        "sample estimates:\n",
        "mean in group PS mean in group SS \n",
        "        1.336867         2.120141 \n",
        "\n"
       ]
      }
     ],
     "prompt_number": 8
    },
    {
     "cell_type": "code",
     "collapsed": false,
     "input": [
      "%%R\n",
      "\n",
      "\n",
      "box = boxplot(mg13Cnorm~treatment, data = dat, main=\"Cellulose Respired from Soil\", \n",
      "             xlab=\"Treatment\", \n",
      "             ylab=\"13C rate of loss from soil\", \n",
      "             names = c(\"Complex C Addition\", \"Single C Addition\"), \n",
      "             col = c(\"yellow2\", \"paleturquoise\"),\n",
      "             alpha = 0.9)\n",
      "\n",
      "dot = stripchart(mg13Cnorm~treatment, data = dat, \n",
      "            vertical = TRUE, \n",
      "            pch = 21, cex = 1.2, bg = \"grey\", \n",
      "            add = TRUE) "
     ],
     "language": "python",
     "metadata": {},
     "outputs": [
      {
       "metadata": {},
       "output_type": "display_data",
       "png": "[encoded data removed]"
      }
     ],
     "prompt_number": 15
    },
    {
     "cell_type": "code",
     "collapsed": false,
     "input": [
      "%%R\n",
      "t.test(dat$mg13Cnorm~dat$treatment, var.equal = FALSE, alternative=\"less\")"
     ],
     "language": "python",
     "metadata": {},
     "outputs": [
      {
       "metadata": {},
       "output_type": "display_data",
       "text": [
        "\n",
        "\tWelch Two Sample t-test\n",
        "\n",
        "data:  dat$mg13Cnorm by dat$treatment\n",
        "t = -0.2729, df = 2.203, p-value = 0.4042\n",
        "alternative hypothesis: true difference in means is less than 0\n",
        "95 percent confidence interval:\n",
        "      -Inf 0.4513734\n",
        "sample estimates:\n",
        "mean in group PS mean in group SS \n",
        "       0.2265062        0.2763502 \n",
        "\n"
       ]
      }
     ],
     "prompt_number": 19
    },
    {
     "cell_type": "code",
     "collapsed": false,
     "input": [
      "%%R\n",
      "dat2 = read.csv(\"/home/ashley/single_substrate/data/LinReg_soilC.csv\",header=TRUE)"
     ],
     "language": "python",
     "metadata": {},
     "outputs": [],
     "prompt_number": 20
    },
    {
     "cell_type": "code",
     "collapsed": false,
     "input": [
      "%%R\n",
      "print(dat2)"
     ],
     "language": "python",
     "metadata": {},
     "outputs": [
      {
       "metadata": {},
       "output_type": "display_data",
       "text": [
        "  treatment day mg13Cinsoil recipro.mg13C\n",
        "1        SS   0    8.880000     0.1126126\n",
        "2        SS   7    8.058214     0.1240970\n",
        "3        SS  14    3.633716     0.2752004\n",
        "4        SS  30    2.519577     0.3968920\n",
        "5        PS   0    8.880000     0.1126126\n",
        "6        PS   3    7.873050     0.1270156\n",
        "7        PS   7    7.000683     0.1428432\n",
        "8        PS  14    5.536874     0.1806073\n",
        "9        PS  30    3.532530     0.2830832\n"
       ]
      }
     ],
     "prompt_number": 21
    },
    {
     "cell_type": "code",
     "collapsed": false,
     "input": [
      "%%R -h 600 -w 600\n",
      "\n",
      "colours = c(\"red\", \"#377eb8\", \"#4daf4a\")\n",
      "\n",
      "p = ggplot(dat2, aes(y = recipro.mg13C, x = day, color = treatment))\n",
      "\n",
      "p = p + geom_point(shape = 21)\n",
      "\n",
      "#p = p + geom_abline(aes(intercept=0.2443, slope=0.5147), data=d)\n",
      "\n",
      "p = p + stat_smooth(method = \"lm\", se = FALSE)\n",
      "\n",
      "p = p + labs(x = \"Time (day)\",\n",
      "            y = \"1/13C (mg)\", \n",
      "            color = \"Response\")\n",
      "\n",
      "p = p + theme_bw()\n",
      "\n",
      "p"
     ],
     "language": "python",
     "metadata": {},
     "outputs": [
      {
       "metadata": {},
       "output_type": "display_data",
       "png": "[encoded data removed]"
      }
     ],
     "prompt_number": 25
    },
    {
     "cell_type": "code",
     "collapsed": false,
     "input": [
      "%%R\n",
      "fit = lm(recipro.mg13C ~ day + treatment, dat2)\n",
      "summary(fit)"
     ],
     "language": "python",
     "metadata": {},
     "outputs": [
      {
       "metadata": {},
       "output_type": "display_data",
       "text": [
        "\n",
        "Call:\n",
        "lm(formula = recipro.mg13C ~ day + treatment, data = dat2)\n",
        "\n",
        "Residuals:\n",
        "      Min        1Q    Median        3Q       Max \n",
        "-0.058291 -0.015220  0.003226  0.027551  0.038258 \n",
        "\n",
        "Coefficients:\n",
        "            Estimate Std. Error t value Pr(>|t|)    \n",
        "(Intercept) 0.085062   0.021443   3.967 0.007393 ** \n",
        "day         0.007794   0.001181   6.600 0.000582 ***\n",
        "treatmentSS 0.042771   0.025960   1.648 0.150539    \n",
        "---\n",
        "Signif. codes:  0 \u2018***\u2019 0.001 \u2018**\u2019 0.01 \u2018*\u2019 0.05 \u2018.\u2019 0.1 \u2018 \u2019 1\n",
        "\n",
        "Residual standard error: 0.03855 on 6 degrees of freedom\n",
        "Multiple R-squared:  0.8901,\tAdjusted R-squared:  0.8534 \n",
        "F-statistic: 24.29 on 2 and 6 DF,  p-value: 0.001328\n",
        "\n"
       ]
      }
     ],
     "prompt_number": 29
    },
    {
     "cell_type": "code",
     "collapsed": false,
     "input": [
      "%%R\n",
      "anova(fit)"
     ],
     "language": "python",
     "metadata": {},
     "outputs": [
      {
       "metadata": {},
       "output_type": "display_data",
       "text": [
        "Analysis of Variance Table\n",
        "\n",
        "Response: recipro.mg13C\n",
        "          Df   Sum Sq  Mean Sq F value    Pr(>F)    \n",
        "day        1 0.068155 0.068155 45.8707 0.0005062 ***\n",
        "treatment  1 0.004033 0.004033  2.7145 0.1505392    \n",
        "Residuals  6 0.008915 0.001486                      \n",
        "---\n",
        "Signif. codes:  0 \u2018***\u2019 0.001 \u2018**\u2019 0.01 \u2018*\u2019 0.05 \u2018.\u2019 0.1 \u2018 \u2019 1\n"
       ]
      }
     ],
     "prompt_number": 30
    }
   ],
   "metadata": {}
  }
 ]
}