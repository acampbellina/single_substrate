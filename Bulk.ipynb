{
 "metadata": {
  "name": "",
  "signature": "sha256:53dae8679e8d824d6a51def7fbc8a4e084aeb520816ace7bde6362e63ab76f5c"
 },
 "nbformat": 3,
 "nbformat_minor": 0,
 "worksheets": [
  {
   "cells": [
    {
     "cell_type": "code",
     "collapsed": false,
     "input": [
      "%load_ext rpy2.ipython"
     ],
     "language": "python",
     "metadata": {},
     "outputs": [
      {
       "output_type": "stream",
       "stream": "stderr",
       "text": [
        "/opt/anaconda/lib/python2.7/site-packages/pytz/__init__.py:29: UserWarning: Module argparse was already imported from /opt/anaconda/lib/python2.7/argparse.pyc, but /opt/anaconda/lib/python2.7/site-packages is being added to sys.path\n",
        "  from pkg_resources import resource_stream\n"
       ]
      }
     ],
     "prompt_number": 2
    },
    {
     "cell_type": "code",
     "collapsed": false,
     "input": [
      "from IPython.display import FileLink"
     ],
     "language": "python",
     "metadata": {},
     "outputs": [],
     "prompt_number": 3
    },
    {
     "cell_type": "code",
     "collapsed": false,
     "input": [
      "%%R\n",
      "library(phyloseq)\n",
      "library(ggplot2)\n",
      "library(doParallel)\n",
      "library(RColorBrewer)\n",
      "library(dplyr); library(tidyr)\n"
     ],
     "language": "python",
     "metadata": {},
     "outputs": [
      {
       "metadata": {},
       "output_type": "display_data",
       "text": [
        "Loading required package: foreach\n",
        "foreach: simple, scalable parallel programming from Revolution Analytics\n",
        "Use Revolution R for scalability, fault tolerance and more.\n",
        "http://www.revolutionanalytics.com\n",
        "Loading required package: iterators\n",
        "Loading required package: parallel\n",
        "\n",
        "Attaching package: \u2018dplyr\u2019\n",
        "\n",
        "The following object is masked from \u2018package:stats\u2019:\n",
        "\n",
        "    filter\n",
        "\n",
        "The following objects are masked from \u2018package:base\u2019:\n",
        "\n",
        "    intersect, setdiff, setequal, union\n",
        "\n"
       ]
      }
     ],
     "prompt_number": 4
    },
    {
     "cell_type": "code",
     "collapsed": false,
     "input": [
      "%%R\n",
      "physeq = import_biom(\"data/otu_table_wtax.biom\", \"data/otusn.tree\")\n",
      "sample.data = import_qiime_sample_data(\"data/ABCD_combined_reads_mapper.tsv\")\n",
      "physeq = merge_phyloseq(physeq,sample.data)\n",
      "physeq.md = sample_data(physeq)\n",
      "\n",
      "#physeq.PS = prune_samples(physeq.md$Treatment %in% c(\"12CCPS\",\"13CCPS\",\"13CCSS\",\"12CCSS\"), physeq)\n",
      "#physeq.PS = transform_sample_counts(physeq.PS, function(x) x/sum(x))\n",
      "#physeq.PS = filter_taxa(physeq.PS, function(x) sum(x > 0) > (0.25 * length(x)), TRUE)\n",
      "\n",
      "physeq.PS.bulk = prune_samples((physeq.md$Treatment %in% c(\"12CCPS\",\"13CCPS\",\"13CCSS\",\"12CCSS\"))& (physeq.md$Day %in% c(30))&\n",
      "                               (row.names(physeq.md) %in% grep(\"bulk\", row.names(physeq.md), value=TRUE)), physeq)   \n",
      "physeq.PS.bulk = transform_sample_counts(physeq.PS.bulk, function(x) x/sum(x))\n",
      "physeq.PS.bulk = filter_taxa(physeq.PS.bulk, function(x) sum(x > 0) > (0.25 * length(x)), TRUE)    \n",
      "    \n",
      "#print(physeq.PS)\n",
      "print(physeq.PS.bulk)"
     ],
     "language": "python",
     "metadata": {},
     "outputs": [
      {
       "metadata": {},
       "output_type": "display_data",
       "text": [
        "phyloseq-class experiment-level object\n",
        "otu_table()   OTU Table:         [ 906 taxa and 4 samples ]\n",
        "sample_data() Sample Data:       [ 4 samples by 7 sample variables ]\n",
        "tax_table()   Taxonomy Table:    [ 906 taxa by 8 taxonomic ranks ]\n",
        "phy_tree()    Phylogenetic Tree: [ 906 tips and 905 internal nodes ]\n"
       ]
      }
     ],
     "prompt_number": 5
    },
    {
     "cell_type": "code",
     "collapsed": false,
     "input": [
      "%%R\n",
      "#convert physeq object to a dataframe for adonis test\n",
      "df = sample_data(physeq.PS.bulk)\n",
      "#convert dataframe from physeq to a traditional R dataframe because it has funky 'class'\n",
      "df = data.frame(df)\n",
      "df"
     ],
     "language": "python",
     "metadata": {},
     "outputs": [
      {
       "metadata": {},
       "output_type": "display_data",
       "text": [
        "                     X.SampleID BarcodeSequence Day Density\n",
        "cont.SS.30.bulk cont.SS.30.bulk      TCAGAGACTG  30      NA\n",
        "13C.PS.30.bulk   13C.PS.30.bulk      TCAGCATCCA  30      NA\n",
        "cont.PS.30.bulk cont.PS.30.bulk      TCACGTGATC  30      NA\n",
        "13C.SS.30.bulk   13C.SS.30.bulk      TCAGCATCGT  30      NA\n",
        "                  LinkerPrimerSequence Treatment     Description\n",
        "cont.SS.30.bulk CAGGACTACHVGGGTWTCTAAT    12CCSS cont.SS.30.bulk\n",
        "13C.PS.30.bulk  CAGGACTACHVGGGTWTCTAAT    13CCPS  13C.PS.30.bulk\n",
        "cont.PS.30.bulk CAGGACTACHVGGGTWTCTAAT    12CCPS cont.PS.30.bulk\n",
        "13C.SS.30.bulk  CAGGACTACHVGGGTWTCTAAT    13CCSS  13C.SS.30.bulk\n"
       ]
      }
     ],
     "prompt_number": 15
    },
    {
     "cell_type": "code",
     "collapsed": false,
     "input": [
      "%%R\n",
      "registerDoParallel(cores=20)\n",
      "#calc distance matrix for adonis test\n",
      "wunif.bulk = distance(physeq.PS.bulk, \n",
      "                      method = \"unifrac\", \n",
      "                      weighted = TRUE,\n",
      "                      fast = TRUE, \n",
      "                      parallel = TRUE, \n",
      "                      normalized = FALSE)"
     ],
     "language": "python",
     "metadata": {},
     "outputs": [],
     "prompt_number": 8
    },
    {
     "cell_type": "code",
     "collapsed": false,
     "input": [
      "%%R\n",
      "wunif.bulk"
     ],
     "language": "python",
     "metadata": {},
     "outputs": [
      {
       "metadata": {},
       "output_type": "display_data",
       "text": [
        "                cont.SS.30.bulk 13C.PS.30.bulk cont.PS.30.bulk\n",
        "13C.PS.30.bulk        0.1747977                               \n",
        "cont.PS.30.bulk       0.2076441      0.1354889                \n",
        "13C.SS.30.bulk        0.1273208      0.1904038       0.2275491\n"
       ]
      }
     ],
     "prompt_number": 9
    },
    {
     "cell_type": "code",
     "collapsed": false,
     "input": [
      "%%R\n",
      "\n",
      "nmds.bulk = ordinate(physeq.PS.bulk, \n",
      "                     method = \"NMDS\", \n",
      "                     distance = wunif.bulk)"
     ],
     "language": "python",
     "metadata": {},
     "outputs": [
      {
       "metadata": {},
       "output_type": "display_data",
       "text": [
        "Run 0 stress 0 \n",
        "Run 1 stress 0 \n",
        "... procrustes: rmse 0.2529201  max resid 0.3632342 \n",
        "Run 2 stress 0 \n",
        "... procrustes: rmse 0.1317707  max resid 0.1994628 \n",
        "Run 3 stress 0.169102 \n",
        "Run 4 stress 0 \n",
        "... procrustes: rmse 0.1344705  max resid 0.212671 \n",
        "Run 5 stress 0.169102 \n",
        "Run 6 stress 0 \n",
        "... procrustes: rmse 0.1366985  max resid 0.1924424 \n",
        "Run 7 stress 0 \n",
        "... procrustes: rmse 0.1353024  max resid 0.1844435 \n",
        "Run 8 stress 0 \n",
        "... procrustes: rmse 0.1990832  max resid 0.3154497 \n",
        "Run 9 stress 0 \n",
        "... procrustes: rmse 0.2410874  max resid 0.3753813 \n",
        "Run 10 stress 0.169102 \n",
        "Run 11 stress 0 \n",
        "... procrustes: rmse 0.1588027  max resid 0.2203252 \n",
        "Run 12 stress 0 \n",
        "... procrustes: rmse 0.0372377  max resid 0.05164864 \n",
        "Run 13 stress 0 \n",
        "... procrustes: rmse 0.2263404  max resid 0.3264429 \n",
        "Run 14 stress 0.169102 \n",
        "Run 15 stress 0 \n",
        "... procrustes: rmse 0.1136863  max resid 0.1441589 \n",
        "Run 16 stress 0 \n",
        "... procrustes: rmse 0.2095409  max resid 0.2906566 \n",
        "Run 17 stress 0 \n",
        "... procrustes: rmse 0.1317869  max resid 0.1869091 \n",
        "Run 18 stress 0 \n",
        "... procrustes: rmse 0.1531824  max resid 0.2007395 \n",
        "Run 19 stress 0.169102 \n",
        "Run 20 stress 0 \n",
        "... procrustes: rmse 0.1549784  max resid 0.2014598 \n"
       ]
      }
     ],
     "prompt_number": 11
    },
    {
     "cell_type": "code",
     "collapsed": false,
     "input": [
      "%%R -h 350 -w 900\n",
      "getPalette = colorRampPalette(brewer.pal(5, \"Set1\"))\n",
      "df.bulk = plot_ordination(physeq.PS.bulk, nmds.bulk, justDF = TRUE)\n",
      "p2 = ggplot(df.bulk, aes(x = NMDS1, y = NMDS2, color = factor(Day), shape = Treatment))\n",
      "p2 = p2 + geom_point(size = 6)\n",
      "p2 = p2 + scale_color_manual(values=getPalette(5))\n",
      "p2 = p2 + theme_bw()\n",
      "#p2 = p2 + theme(legend.position = \"none\")\n",
      "#p2 = p2 + theme_bw()\n",
      "p2"
     ],
     "language": "python",
     "metadata": {},
     "outputs": [
      {
       "metadata": {},
       "output_type": "display_data",
       "png": "[encoded data removed]"
      }
     ],
     "prompt_number": 12
    },
    {
     "cell_type": "heading",
     "level": 2,
     "metadata": {},
     "source": [
      "Test to determine significance between samples"
     ]
    },
    {
     "cell_type": "code",
     "collapsed": false,
     "input": [
      "%%R\n",
      "library(vegan)"
     ],
     "language": "python",
     "metadata": {},
     "outputs": [
      {
       "metadata": {},
       "output_type": "display_data",
       "text": [
        "Loading required package: permute\n",
        "Loading required package: lattice\n",
        "This is vegan 2.0-10\n"
       ]
      }
     ],
     "prompt_number": 11
    },
    {
     "cell_type": "code",
     "collapsed": false,
     "input": [
      "%%R\n",
      "#to test if community composition in Bulk DNA sequencing is different between treatments\n",
      "stat.bulk = adonis(wunif.bulk ~ Treatment, data = df, permutations = 1000)\n",
      "stat.bulk"
     ],
     "language": "python",
     "metadata": {},
     "outputs": [
      {
       "metadata": {},
       "output_type": "display_data",
       "text": [
        "\n",
        "Call:\n",
        "adonis(formula = wunif.bulk ~ Treatment, data = df, permutations = 1000) \n",
        "\n",
        "Terms added sequentially (first to last)\n",
        "\n",
        "          Df SumsOfSqs MeanSqs F.Model R2 Pr(>F)\n",
        "Treatment  3  0.049068       0       0  1      1\n",
        "Residuals  0  0.000000     Inf          0       \n",
        "Total      3  0.049068                  1       \n"
       ]
      }
     ],
     "prompt_number": 16
    },
    {
     "cell_type": "markdown",
     "metadata": {},
     "source": [
      "Community composition is not significantly different between treatments (SSvPS, 12 and 13)"
     ]
    }
   ],
   "metadata": {}
  }
 ]
}