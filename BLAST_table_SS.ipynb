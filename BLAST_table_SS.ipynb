{
 "metadata": {
  "name": "",
  "signature": "sha256:ed705da0d7a370f551d8681d8d38b3357d20fca6beffbb613adf0f6674dabb19"
 },
 "nbformat": 3,
 "nbformat_minor": 0,
 "worksheets": [
  {
   "cells": [
    {
     "cell_type": "heading",
     "level": 2,
     "metadata": {},
     "source": [
      "Create Responder Table of BLAST results"
     ]
    },
    {
     "cell_type": "code",
     "collapsed": false,
     "input": [
      "from IPython.display import Image, FileLink\n",
      "import pandas as pd\n",
      "import pandas.rpy.common as com"
     ],
     "language": "python",
     "metadata": {},
     "outputs": [],
     "prompt_number": 1
    },
    {
     "cell_type": "code",
     "collapsed": false,
     "input": [
      "%load_ext rpy2.ipython"
     ],
     "language": "python",
     "metadata": {},
     "outputs": [],
     "prompt_number": 2
    },
    {
     "cell_type": "code",
     "collapsed": false,
     "input": [
      "%%R\n",
      "library(data.table)\n",
      "library(dplyr)"
     ],
     "language": "python",
     "metadata": {},
     "outputs": [
      {
       "metadata": {},
       "output_type": "display_data",
       "text": [
        "data.table 1.9.4  For help type: ?data.table\n",
        "*** NB: by=.EACHI is now explicit. See README to restore previous behaviour.\n",
        "\n",
        "Attaching package: \u2018dplyr\u2019\n",
        "\n",
        "The following objects are masked from \u2018package:data.table\u2019:\n",
        "\n",
        "    between, last\n",
        "\n",
        "The following object is masked from \u2018package:stats\u2019:\n",
        "\n",
        "    filter\n",
        "\n",
        "The following objects are masked from \u2018package:base\u2019:\n",
        "\n",
        "    intersect, setdiff, setequal, union\n",
        "\n"
       ]
      }
     ],
     "prompt_number": 3
    },
    {
     "cell_type": "markdown",
     "metadata": {},
     "source": [
      "###This file is from the [sparsity notebook](./Sparsity_make_l2fc_table.ipynb)."
     ]
    },
    {
     "cell_type": "code",
     "collapsed": false,
     "input": [
      "%%R\n",
      "df.l2fc = read.csv(\"data/l2fc_table.csv\")"
     ],
     "language": "python",
     "metadata": {},
     "outputs": [],
     "prompt_number": 4
    },
    {
     "cell_type": "code",
     "collapsed": false,
     "input": [
      "%%R\n",
      "\n",
      "df.l2fc.SS = tbl_df(df.l2fc) %.% \n",
      "        filter(Day == \"30\") %.%\n",
      "        filter(Treatment == \"13CCSS\")\n",
      "df.l2fc.SS"
     ],
     "language": "python",
     "metadata": {},
     "outputs": [
      {
       "metadata": {},
       "output_type": "display_data",
       "text": [
        "Source: local data frame [632 x 15]\n",
        "\n",
        "   sparsity_threshold Day Treatment      OTU log2FoldChange            p\n",
        "1                0.55  30    13CCSS  OTU.783     -0.3370825 9.965741e-01\n",
        "2                0.55  30    13CCSS   OTU.79      0.7598182 4.889860e-01\n",
        "3                0.55  30    13CCSS  OTU.304      0.4183648 8.089837e-01\n",
        "4                0.55  30    13CCSS   OTU.50      0.7289694 5.252368e-01\n",
        "5                0.55  30    13CCSS  OTU.382      2.9833574 1.370092e-07\n",
        "6                0.55  30    13CCSS  OTU.465      0.5515994 6.887540e-01\n",
        "7                0.55  30    13CCSS  OTU.162      0.2116710 9.204188e-01\n",
        "8                0.55  30    13CCSS OTU.1084      1.1894339 1.366258e-01\n",
        "9                0.55  30    13CCSS  OTU.525      1.9020665 2.101013e-03\n",
        "10               0.55  30    13CCSS  OTU.985      1.1943492 1.358942e-01\n",
        "..                ... ...       ...      ...            ...          ...\n",
        "Variables not shown: Rank1 (fctr), Rank2 (fctr), Rank3 (fctr), Rank4 (fctr),\n",
        "  Rank5 (fctr), Rank6 (fctr), Rank7 (fctr), Rank8 (fctr), padj (dbl)\n"
       ]
      }
     ],
     "prompt_number": 5
    },
    {
     "cell_type": "code",
     "collapsed": false,
     "input": [
      "%%R\n",
      "df.blast = tbl_df(read.table(\"data/blast_out_otusn_LTP115.m6\",\n",
      "                  sep = \"\\t\"))\n",
      "names(df.blast) = c(\"OTU\", \"acc\", \"pid\", \"alnlen\", \"mismatches\", \"gaps\", \n",
      "                    \"qstart\", \"qend\", \"sstart\", \"send\", \"evalue\", \"bit\")\n",
      "\n",
      "df.blast"
     ],
     "language": "python",
     "metadata": {},
     "outputs": [
      {
       "metadata": {},
       "output_type": "display_data",
       "text": [
        "Source: local data frame [1,919,502 x 12]\n",
        "\n",
        "     OTU      acc pid alnlen mismatches gaps qstart qend sstart send evalue bit\n",
        "1  OTU.1 AF235091 100    219          0    0      1  219    508  726 2e-113 405\n",
        "2  OTU.1 AF330692 100    219          0    0      1  219    502  720 2e-113 405\n",
        "3  OTU.1 AB588633 100    219          0    0      1  219    539  757 2e-113 405\n",
        "4  OTU.1   X80741 100    219          0    0      1  219    532  750 2e-113 405\n",
        "5  OTU.1 AM176541 100    219          0    0      1  219    541  759 2e-113 405\n",
        "6  OTU.1   X80740 100    219          0    0      1  219    533  751 2e-113 405\n",
        "7  OTU.1   X83408 100    219          0    0      1  219    529  747 2e-113 405\n",
        "8  OTU.1 AB279889 100    219          0    0      1  219    538  756 2e-113 405\n",
        "9  OTU.1 GQ406811 100    219          0    0      1  219    492  710 2e-113 405\n",
        "10 OTU.1 AB279890 100    219          0    0      1  219    542  760 2e-113 405\n",
        "..   ...      ... ...    ...        ...  ...    ...  ...    ...  ...    ... ...\n"
       ]
      }
     ],
     "prompt_number": 6
    },
    {
     "cell_type": "code",
     "collapsed": false,
     "input": [
      "%%R\n",
      "df.tax = tbl_df(read.csv(\"/var/seq_data/silva/silva_blastdb/full_names.csv\"))\n",
      "df.tax"
     ],
     "language": "python",
     "metadata": {},
     "outputs": [
      {
       "metadata": {},
       "output_type": "display_data",
       "text": [
        "Source: local data frame [1,426,450 x 2]\n",
        "\n",
        "        acc                           full_name\n",
        "1  AX003092          Enterococcus casseliflavus\n",
        "2  AX044029              Neisseria meningitidis\n",
        "3  EU271959            Myzocytiopsis intermedia\n",
        "4  AX039535            Dehalococcoides mccartyi\n",
        "5  EU273602                   Acorus americanus\n",
        "6  AX175616                Marinomonas communis\n",
        "7  AX044033              Neisseria meningitidis\n",
        "8  AB000389         Pseudoalteromonas elyakovii\n",
        "9  EU271960          Myzocytiopsis sp. venatrix\n",
        "10 AB001439 Pseudomonas syringae pv. actinidiae\n",
        "..      ...                                 ...\n"
       ]
      }
     ],
     "prompt_number": 7
    },
    {
     "cell_type": "code",
     "collapsed": false,
     "input": [
      "%%R\n",
      "df.blast = left_join(df.blast, df.tax)"
     ],
     "language": "python",
     "metadata": {},
     "outputs": [
      {
       "metadata": {},
       "output_type": "display_data",
       "text": [
        "Joining by: \"acc\"\n"
       ]
      }
     ],
     "prompt_number": 8
    },
    {
     "cell_type": "code",
     "collapsed": false,
     "input": [
      "%%R\n",
      "df.blast = left_join(df.blast, df.l2fc.SS %>% select(OTU, padj, log2FoldChange, Treatment, Rank2, Rank3, Rank4))"
     ],
     "language": "python",
     "metadata": {},
     "outputs": [
      {
       "metadata": {},
       "output_type": "display_data",
       "text": [
        "Joining by: \"OTU\"\n"
       ]
      }
     ],
     "prompt_number": 9
    },
    {
     "cell_type": "code",
     "collapsed": false,
     "input": [
      "%%R\n",
      "df.top.hits = df.blast %>%\n",
      "    group_by(OTU) %>%\n",
      "    mutate(bit.rank = rank(desc(bit), ties.method = \"min\")) %>%\n",
      "    filter(bit.rank == 1) %>%\n",
      "    group_by()"
     ],
     "language": "python",
     "metadata": {},
     "outputs": [],
     "prompt_number": 10
    },
    {
     "cell_type": "code",
     "collapsed": false,
     "input": [
      "%%R\n",
      "df.top.hits"
     ],
     "language": "python",
     "metadata": {},
     "outputs": [
      {
       "metadata": {},
       "output_type": "display_data",
       "text": [
        "Source: local data frame [10,521 x 20]\n",
        "\n",
        "     OTU      acc pid alnlen mismatches gaps qstart qend sstart send evalue bit\n",
        "1  OTU.1 AF235091 100    219          0    0      1  219    508  726 2e-113 405\n",
        "2  OTU.1 AF330692 100    219          0    0      1  219    502  720 2e-113 405\n",
        "3  OTU.1 AB588633 100    219          0    0      1  219    539  757 2e-113 405\n",
        "4  OTU.1   X80741 100    219          0    0      1  219    532  750 2e-113 405\n",
        "5  OTU.1 AM176541 100    219          0    0      1  219    541  759 2e-113 405\n",
        "6  OTU.1   X80740 100    219          0    0      1  219    533  751 2e-113 405\n",
        "7  OTU.1   X83408 100    219          0    0      1  219    529  747 2e-113 405\n",
        "8  OTU.1 AB279889 100    219          0    0      1  219    538  756 2e-113 405\n",
        "9  OTU.1 GQ406811 100    219          0    0      1  219    492  710 2e-113 405\n",
        "10 OTU.1 AB279890 100    219          0    0      1  219    542  760 2e-113 405\n",
        "..   ...      ... ...    ...        ...  ...    ...  ...    ...  ...    ... ...\n",
        "Variables not shown: full_name (fctr), padj (dbl), log2FoldChange (dbl),\n",
        "  Treatment (fctr), Rank2 (fctr), Rank3 (fctr), Rank4 (fctr), bit.rank (int)\n"
       ]
      }
     ],
     "prompt_number": 11
    },
    {
     "cell_type": "code",
     "collapsed": false,
     "input": [
      "%%R\n",
      "FDR = 0.10\n",
      "\n",
      "df.table = df.top.hits %>%\n",
      "    filter(padj <= FDR) %>%\n",
      "    group_by(OTU) %>%\n",
      "    summarize(hits = paste(full_name, collapse = \"|\"), \n",
      "              pid = first(pid), \n",
      "              log2FoldChange = max(log2FoldChange), \n",
      "              Phylum = first(as.character(Rank2)),\n",
      "              Class = first(as.character(Rank3)),\n",
      "              Order = first(as.character(Rank4)),\n",
      "              Treatment = first(as.character(Treatment))) %>%\n",
      "    arrange(Phylum, Class, Order, desc(log2FoldChange))"
     ],
     "language": "python",
     "metadata": {},
     "outputs": [],
     "prompt_number": 12
    },
    {
     "cell_type": "code",
     "collapsed": false,
     "input": [
      "%%R\n",
      "df.table"
     ],
     "language": "python",
     "metadata": {},
     "outputs": [
      {
       "metadata": {},
       "output_type": "display_data",
       "text": [
        "Source: local data frame [29 x 8]\n",
        "\n",
        "        OTU\n",
        "1   OTU.569\n",
        "2   OTU.382\n",
        "3   OTU.525\n",
        "4    OTU.64\n",
        "5    OTU.98\n",
        "6  OTU.4322\n",
        "7   OTU.285\n",
        "8   OTU.766\n",
        "9   OTU.206\n",
        "10   OTU.73\n",
        "..      ...\n",
        "Variables not shown: hits (chr), pid (dbl), log2FoldChange (dbl), Phylum (chr),\n",
        "  Class (chr), Order (chr), Treatment (chr)\n"
       ]
      }
     ],
     "prompt_number": 13
    },
    {
     "cell_type": "code",
     "collapsed": false,
     "input": [
      "df_table = com.load_data(\"df.table\")"
     ],
     "language": "python",
     "metadata": {},
     "outputs": [],
     "prompt_number": 14
    },
    {
     "cell_type": "code",
     "collapsed": false,
     "input": [
      "df_table.head()"
     ],
     "language": "python",
     "metadata": {},
     "outputs": [
      {
       "html": [
        "<div style=\"max-height:1000px;max-width:1500px;overflow:auto;\">\n",
        "<table border=\"1\" class=\"dataframe\">\n",
        "  <thead>\n",
        "    <tr style=\"text-align: right;\">\n",
        "      <th></th>\n",
        "      <th>OTU</th>\n",
        "      <th>hits</th>\n",
        "      <th>pid</th>\n",
        "      <th>log2FoldChange</th>\n",
        "      <th>Phylum</th>\n",
        "      <th>Class</th>\n",
        "      <th>Order</th>\n",
        "      <th>Treatment</th>\n",
        "    </tr>\n",
        "  </thead>\n",
        "  <tbody>\n",
        "    <tr>\n",
        "      <th>1</th>\n",
        "      <td> OTU.569</td>\n",
        "      <td>       Moorella sp. 64_FGQ|Ammoniphilus oxalaticus</td>\n",
        "      <td> 84.16</td>\n",
        "      <td> 2.151863</td>\n",
        "      <td> Acidobacteria</td>\n",
        "      <td> Candidatus_Solibacter</td>\n",
        "      <td> uncultured_bacterium</td>\n",
        "      <td> 13CCSS</td>\n",
        "    </tr>\n",
        "    <tr>\n",
        "      <th>2</th>\n",
        "      <td> OTU.382</td>\n",
        "      <td>                            Ohtaekwangia koreensis</td>\n",
        "      <td> 89.19</td>\n",
        "      <td> 2.983357</td>\n",
        "      <td> Bacteroidetes</td>\n",
        "      <td>            Cytophagia</td>\n",
        "      <td>         Cytophagales</td>\n",
        "      <td> 13CCSS</td>\n",
        "    </tr>\n",
        "    <tr>\n",
        "      <th>3</th>\n",
        "      <td> OTU.525</td>\n",
        "      <td> Cytophaga hutchinsonii ATCC 33406|Cytophaga hu...</td>\n",
        "      <td> 98.63</td>\n",
        "      <td> 1.902067</td>\n",
        "      <td> Bacteroidetes</td>\n",
        "      <td>            Cytophagia</td>\n",
        "      <td>         Cytophagales</td>\n",
        "      <td> 13CCSS</td>\n",
        "    </tr>\n",
        "    <tr>\n",
        "      <th>4</th>\n",
        "      <td>  OTU.64</td>\n",
        "      <td>                         Herpetosiphon geysericola</td>\n",
        "      <td> 89.50</td>\n",
        "      <td> 2.780829</td>\n",
        "      <td>   Chloroflexi</td>\n",
        "      <td>     Herpetosiphonales</td>\n",
        "      <td>   Herpetosiphonaceae</td>\n",
        "      <td> 13CCSS</td>\n",
        "    </tr>\n",
        "    <tr>\n",
        "      <th>5</th>\n",
        "      <td>  OTU.98</td>\n",
        "      <td>                         Herpetosiphon geysericola</td>\n",
        "      <td> 88.18</td>\n",
        "      <td> 2.558323</td>\n",
        "      <td>   Chloroflexi</td>\n",
        "      <td>     Herpetosiphonales</td>\n",
        "      <td>   Herpetosiphonaceae</td>\n",
        "      <td> 13CCSS</td>\n",
        "    </tr>\n",
        "  </tbody>\n",
        "</table>\n",
        "</div>"
       ],
       "metadata": {},
       "output_type": "pyout",
       "prompt_number": 16,
       "text": [
        "       OTU                                               hits    pid  \\\n",
        "1  OTU.569        Moorella sp. 64_FGQ|Ammoniphilus oxalaticus  84.16   \n",
        "2  OTU.382                             Ohtaekwangia koreensis  89.19   \n",
        "3  OTU.525  Cytophaga hutchinsonii ATCC 33406|Cytophaga hu...  98.63   \n",
        "4   OTU.64                          Herpetosiphon geysericola  89.50   \n",
        "5   OTU.98                          Herpetosiphon geysericola  88.18   \n",
        "\n",
        "   log2FoldChange         Phylum                  Class                 Order  \\\n",
        "1        2.151863  Acidobacteria  Candidatus_Solibacter  uncultured_bacterium   \n",
        "2        2.983357  Bacteroidetes             Cytophagia          Cytophagales   \n",
        "3        1.902067  Bacteroidetes             Cytophagia          Cytophagales   \n",
        "4        2.780829    Chloroflexi      Herpetosiphonales    Herpetosiphonaceae   \n",
        "5        2.558323    Chloroflexi      Herpetosiphonales    Herpetosiphonaceae   \n",
        "\n",
        "  Treatment  \n",
        "1    13CCSS  \n",
        "2    13CCSS  \n",
        "3    13CCSS  \n",
        "4    13CCSS  \n",
        "5    13CCSS  "
       ]
      }
     ],
     "prompt_number": 16
    },
    {
     "cell_type": "code",
     "collapsed": false,
     "input": [
      "def list_genera(l):\n",
      "    if len(l.split(\"|\")) > 10:\n",
      "        names = l.split(\"|\")\n",
      "        names_abbr = []\n",
      "        seen = []\n",
      "        for name in names:\n",
      "            genus, species = name.split(\" \", 1)\n",
      "            if genus in seen:\n",
      "                continue\n",
      "            else:\n",
      "                seen.append(genus)\n",
      "                names_abbr.append(\"\\mbox{\" + \"\\\\textit{\" + genus + \" spp.\" + \"}\" + \"}\")\n",
      "        return \", \".join(names_abbr) \n",
      "    elif len(l.split(\"|\")) > 1:\n",
      "        return  \", \".join([\"\\mbox{\" + \"\\\\textit{\" + i + \"}\" + \"}\" for i in set(l.split(\"|\"))])\n",
      "    else:\n",
      "        return \"\\mbox{\" + \"\\\\textit{\" + l + \"}\" + \"}\"\n",
      "    \n",
      "def get_latex(row):\n",
      "    latex = \"\"\n",
      "    OTU = row[\"OTU\"]\n",
      "    pid = row[\"pid\"]\n",
      "    \n",
      "    if pid >= 90:\n",
      "        genera = list_genera(row[\"hits\"])\n",
      "    else:\n",
      "        genera = \"{No hits of at least 90\\% identity}\"\n",
      "\n",
      "    tax = \" \".join([\"\\mbox{\" + \"\\\\textit{\" + i + \"}\" + \"}\" for i in row[[\"Phylum\",\"Class\",\"Order\"]]]).replace(\"_\",\"-\")\n",
      "    \n",
      "    l2fc = pd.Series(row[\"log2FoldChange\"]).round(2).values[0]\n",
      "    #acc = df.acc.iloc[0]\n",
      "    return OTU + \" & \" + str(l2fc) + \" & \" + genera + \" & \" + str(pid) + \" & \" + tax + r\" \\\\ \" + r\"\\midrule\" + \"\\n\""
     ],
     "language": "python",
     "metadata": {},
     "outputs": [],
     "prompt_number": 17
    },
    {
     "cell_type": "code",
     "collapsed": false,
     "input": [
      "s = df_table[df_table[\"Treatment\"]==\"13CCSS\"].apply(get_latex, axis=1)\n",
      "\n",
      "table_framework = r\"\"\"\n",
      "\\documentclass[10pt]{article}\n",
      "\\usepackage{multirow, array, booktabs, longtable}\n",
      "\\usepackage{array}\n",
      "\\usepackage[margin=1cm]{caption}\n",
      "\\newcolumntype{P}[1]{>{\\raggedright\\arraybackslash}p{#1}}\n",
      "\n",
      "\\usepackage[paperheight=20in]{geometry} \n",
      "\\geometry{tmargin=1cm, bmargin=1cm, lmargin=1cm, rmargin=1cm} \n",
      "\n",
      "\\begin{document}\n",
      "\n",
      "\\thispagestyle{empty}\n",
      "\n",
      "\\begin{longtable}{lrP{5cm}rP{7cm}}\n",
      "\n",
      "\\caption{$^{13}$C-cellulose (only) responders BLAST against Living Tree Project} \\\\\n",
      "\\toprule \\\\\n",
      "    \\textbf{OTU ID} & \\textbf{Fold change} & \\textbf{Top BLAST hits} & \\textbf{BLAST \\%%ID} & \\textbf{Phylum;Class;Order} \\\\\n",
      "\\midrule\n",
      "\\endfirsthead\n",
      "\n",
      "\\multicolumn{3}{c}\n",
      "{{\\tablename\\ \\thetable{} -- continued from previous page}} \\\\\n",
      "\\midrule\n",
      "    \\textbf{OTU ID} & \\textbf{Fold change} & \\textbf{Top BLAST hits} & \\textbf{BLAST \\%%ID} & \\textbf{Phylum;Class;Order} \\\\\n",
      "\\midrule\n",
      "\\endhead\n",
      "    %s\n",
      "\\bottomrule\n",
      "\\label{tab:cell}\n",
      "\\end{longtable}\n",
      " \n",
      "\\end{document}\"\"\"%\"\".join(s.values)\n",
      "\n",
      "with open(\"data/table_SS.tex\", \"w\") as out:\n",
      "    out.write(table_framework)"
     ],
     "language": "python",
     "metadata": {},
     "outputs": [],
     "prompt_number": 18
    },
    {
     "cell_type": "code",
     "collapsed": false,
     "input": [
      "!latex data/table_SS.tex >/dev/null\n",
      "!dvipdf table_SS.dvi figs/LTP_blast_table_SS.pdf"
     ],
     "language": "python",
     "metadata": {},
     "outputs": [],
     "prompt_number": 19
    },
    {
     "cell_type": "code",
     "collapsed": false,
     "input": [
      "!convert -density 300 -trim  +repage figs/LTP_blast_table_SS.pdf -quality 100 figs/LTP_blast_table_SS.png"
     ],
     "language": "python",
     "metadata": {},
     "outputs": [],
     "prompt_number": 20
    },
    {
     "cell_type": "code",
     "collapsed": false,
     "input": [
      "FileLink(\"figs/LTP_blast_table_SS.pdf\")"
     ],
     "language": "python",
     "metadata": {},
     "outputs": [
      {
       "html": [
        "<a href='figs/LTP_blast_table_SS.pdf' target='_blank'>figs/LTP_blast_table_SS.pdf</a><br>"
       ],
       "metadata": {},
       "output_type": "pyout",
       "prompt_number": 21,
       "text": [
        "/home/ashley/single_substrate/figs/LTP_blast_table_SS.pdf"
       ]
      }
     ],
     "prompt_number": 21
    },
    {
     "cell_type": "code",
     "collapsed": false,
     "input": [
      "FileLink(\"figs/LTP_blast_table_SS.png\")"
     ],
     "language": "python",
     "metadata": {},
     "outputs": [
      {
       "html": [
        "<a href='figs/LTP_blast_table_SS.png' target='_blank'>figs/LTP_blast_table_SS.png</a><br>"
       ],
       "metadata": {},
       "output_type": "pyout",
       "prompt_number": 22,
       "text": [
        "/home/ashley/single_substrate/figs/LTP_blast_table_SS.png"
       ]
      }
     ],
     "prompt_number": 22
    },
    {
     "cell_type": "code",
     "collapsed": false,
     "input": [
      "FileLink(\"data/table_SS.tex\")"
     ],
     "language": "python",
     "metadata": {},
     "outputs": [
      {
       "html": [
        "<a href='data/table_SS.tex' target='_blank'>data/table_SS.tex</a><br>"
       ],
       "metadata": {},
       "output_type": "pyout",
       "prompt_number": 23,
       "text": [
        "/home/ashley/single_substrate/data/table_SS.tex"
       ]
      }
     ],
     "prompt_number": 23
    }
   ],
   "metadata": {}
  }
 ]
}