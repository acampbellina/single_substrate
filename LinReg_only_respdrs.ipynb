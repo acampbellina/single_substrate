{
 "metadata": {
  "name": "",
  "signature": "sha256:62e118e1ad08ea40f273c360f334f4b9b1ad98bfc1f13b2871c4feb061f4a5a7"
 },
 "nbformat": 3,
 "nbformat_minor": 0,
 "worksheets": [
  {
   "cells": [
    {
     "cell_type": "code",
     "collapsed": false,
     "input": [
      "%load_ext rpy2.ipython"
     ],
     "language": "python",
     "metadata": {},
     "outputs": [],
     "prompt_number": 1
    },
    {
     "cell_type": "code",
     "collapsed": false,
     "input": [
      "from IPython.display import FileLink"
     ],
     "language": "python",
     "metadata": {},
     "outputs": [],
     "prompt_number": 2
    },
    {
     "cell_type": "code",
     "collapsed": false,
     "input": [
      "%%R\n",
      "library(ggplot2)\n",
      "library(plyr); library(dplyr); library(tidyr)\n",
      "library(DESeq2)\n",
      "library(phyloseq)\n",
      "library(reshape)"
     ],
     "language": "python",
     "metadata": {},
     "outputs": [
      {
       "metadata": {},
       "output_type": "display_data",
       "text": [
        "\n",
        "Attaching package: \u2018dplyr\u2019\n",
        "\n",
        "The following objects are masked from \u2018package:plyr\u2019:\n",
        "\n",
        "    arrange, count, desc, failwith, id, mutate, rename, summarise,\n",
        "    summarize\n",
        "\n",
        "The following object is masked from \u2018package:stats\u2019:\n",
        "\n",
        "    filter\n",
        "\n",
        "The following objects are masked from \u2018package:base\u2019:\n",
        "\n",
        "    intersect, setdiff, setequal, union\n",
        "\n",
        "Loading required package: S4Vectors\n",
        "Loading required package: stats4\n",
        "Loading required package: BiocGenerics\n",
        "Loading required package: parallel\n",
        "\n",
        "Attaching package: \u2018BiocGenerics\u2019\n",
        "\n",
        "The following objects are masked from \u2018package:parallel\u2019:\n",
        "\n",
        "    clusterApply, clusterApplyLB, clusterCall, clusterEvalQ,\n",
        "    clusterExport, clusterMap, parApply, parCapply, parLapply,\n",
        "    parLapplyLB, parRapply, parSapply, parSapplyLB\n",
        "\n",
        "The following objects are masked from \u2018package:dplyr\u2019:\n",
        "\n",
        "    combine, intersect, setdiff, union\n",
        "\n",
        "The following object is masked from \u2018package:stats\u2019:\n",
        "\n",
        "    xtabs\n",
        "\n",
        "The following objects are masked from \u2018package:base\u2019:\n",
        "\n",
        "    anyDuplicated, append, as.data.frame, as.vector, cbind, colnames,\n",
        "    do.call, duplicated, eval, evalq, Filter, Find, get, intersect,\n",
        "    is.unsorted, lapply, Map, mapply, match, mget, order, paste, pmax,\n",
        "    pmax.int, pmin, pmin.int, Position, rank, rbind, Reduce, rep.int,\n",
        "    rownames, sapply, setdiff, sort, table, tapply, union, unique,\n",
        "    unlist, unsplit\n",
        "\n",
        "\n",
        "Attaching package: \u2018S4Vectors\u2019\n",
        "\n",
        "The following object is masked from \u2018package:dplyr\u2019:\n",
        "\n",
        "    rename\n",
        "\n",
        "The following object is masked from \u2018package:plyr\u2019:\n",
        "\n",
        "    rename\n",
        "\n",
        "Loading required package: IRanges\n",
        "\n",
        "Attaching package: \u2018IRanges\u2019\n",
        "\n",
        "The following object is masked from \u2018package:tidyr\u2019:\n",
        "\n",
        "    expand\n",
        "\n",
        "The following objects are masked from \u2018package:dplyr\u2019:\n",
        "\n",
        "    collapse, desc, slice\n",
        "\n",
        "The following object is masked from \u2018package:plyr\u2019:\n",
        "\n",
        "    desc\n",
        "\n",
        "Loading required package: GenomicRanges\n",
        "Loading required package: GenomeInfoDb\n",
        "Loading required package: Rcpp\n",
        "Loading required package: RcppArmadillo\n",
        "\n",
        "Attaching package: \u2018phyloseq\u2019\n",
        "\n",
        "The following object is masked from \u2018package:GenomicRanges\u2019:\n",
        "\n",
        "    distance\n",
        "\n",
        "The following object is masked from \u2018package:IRanges\u2019:\n",
        "\n",
        "    distance\n",
        "\n",
        "\n",
        "Attaching package: \u2018reshape\u2019\n",
        "\n",
        "The following object is masked from \u2018package:IRanges\u2019:\n",
        "\n",
        "    expand\n",
        "\n",
        "The following object is masked from \u2018package:S4Vectors\u2019:\n",
        "\n",
        "    rename\n",
        "\n",
        "The following object is masked from \u2018package:tidyr\u2019:\n",
        "\n",
        "    expand\n",
        "\n",
        "The following object is masked from \u2018package:dplyr\u2019:\n",
        "\n",
        "    rename\n",
        "\n",
        "The following objects are masked from \u2018package:plyr\u2019:\n",
        "\n",
        "    rename, round_any\n",
        "\n"
       ]
      }
     ],
     "prompt_number": 3
    },
    {
     "cell_type": "markdown",
     "metadata": {},
     "source": [
      "###This file is from the [sparsity notebook](./Sparsity_make_l2fc_table.ipynb)."
     ]
    },
    {
     "cell_type": "code",
     "collapsed": false,
     "input": [
      "%%R\n",
      "FDR = 0.10\n",
      "\n",
      "df.rspndrs = read.csv(\"data/l2fc_table2.csv\") %>%\n",
      "    group_by(OTU, Treatment) %>%\n",
      "    summarize(minP = min(padj)) %>%\n",
      "    filter(minP <= FDR) %>%\n",
      "    group_by() %>%\n",
      "    spread(Treatment, minP)\n",
      "\n",
      "rspnse = function(x) {\n",
      "    ifelse(sum(x <= FDR, na.rm = TRUE) == 2, \"both\", ifelse(!is.na(x[1]), \"Single Substrate\", \"Complex Substrate\"))\n",
      "}\n",
      "\n",
      "df.rspndrs$rspnse = apply(df.rspndrs[,c(\"SS\", \"PS\")], 1, rspnse)\n",
      "\n",
      "df.rspndrs = df.rspndrs %>% select(OTU, rspnse)\n",
      "\n",
      "df.rspndrs"
     ],
     "language": "python",
     "metadata": {},
     "outputs": [
      {
       "metadata": {},
       "output_type": "display_data",
       "text": [
        "Source: local data frame [39 x 2]\n",
        "\n",
        "        OTU            rspnse\n",
        "1  OTU.1023 Complex Substrate\n",
        "2  OTU.1087 Complex Substrate\n",
        "3   OTU.114  Single Substrate\n",
        "4   OTU.119 Complex Substrate\n",
        "5   OTU.120 Complex Substrate\n",
        "6  OTU.1414  Single Substrate\n",
        "7   OTU.169  Single Substrate\n",
        "8    OTU.17  Single Substrate\n",
        "9   OTU.185              both\n",
        "10   OTU.19  Single Substrate\n",
        "..      ...               ...\n"
       ]
      }
     ],
     "prompt_number": 4
    },
    {
     "cell_type": "code",
     "collapsed": false,
     "input": [
      "%%R\n",
      "df_all = read.csv(\"data/l2fc_table2.csv\")\n",
      "head(df_all)"
     ],
     "language": "python",
     "metadata": {},
     "outputs": [
      {
       "metadata": {},
       "output_type": "display_data",
       "text": [
        "  sparsity_threshold Day Treatment     OTU log2FoldChange           p    Rank1\n",
        "1               0.55  30        SS OTU.783     -0.3370825 0.996574093 Bacteria\n",
        "2               0.55  30        SS  OTU.79      0.7598182 0.488986035 Bacteria\n",
        "3               0.55  30        SS OTU.304      0.4183648 0.808983673 Bacteria\n",
        "4               0.55  30        SS  OTU.50      0.7289694 0.525236764 Bacteria\n",
        "5               0.55  30        SS OTU.382      2.9833574 0.000000137 Bacteria\n",
        "6               0.55  30        SS OTU.465      0.5515994 0.688754034 Bacteria\n",
        "          Rank2      Rank3        Rank4         Rank5       Rank6\n",
        "1 Acidobacteria Holophagae      Sva0725          <NA>        <NA>\n",
        "2 Bacteroidetes Cytophagia Cytophagales Cytophagaceae Flexibacter\n",
        "3 Bacteroidetes Cytophagia Cytophagales Cytophagaceae Flexibacter\n",
        "4 Bacteroidetes Cytophagia Cytophagales Cytophagaceae Flexibacter\n",
        "5 Bacteroidetes Cytophagia Cytophagales Cytophagaceae Flexibacter\n",
        "6 Bacteroidetes Cytophagia Cytophagales Cytophagaceae Flexibacter\n",
        "                               Rank7 Rank8     padj\n",
        "1                               <NA>  <NA> 1.00e+00\n",
        "2               uncultured_bacterium  <NA> 1.00e+00\n",
        "3               uncultured_bacterium  <NA> 1.00e+00\n",
        "4               uncultured_bacterium  <NA> 1.00e+00\n",
        "5 uncultured_Bacteroidetes_bacterium  <NA> 4.33e-05\n",
        "6               uncultured_bacterium  <NA> 1.00e+00\n"
       ]
      }
     ],
     "prompt_number": 5
    },
    {
     "cell_type": "code",
     "collapsed": false,
     "input": [
      "%%R\n",
      "#goal - dataframe with PS and SS l2fc values as columns in order to assign them at axis in the plot, \n",
      "#and to color the data points by response type \n",
      "# this is so I can do a linear regression analysis of just responders for this experiment\n",
      "d = df_all %>% \n",
      "    select(OTU, Treatment, log2FoldChange, padj) %>% \n",
      "    spread(Treatment, log2FoldChange) %>%\n",
      "    group_by(OTU)\n",
      "\n",
      "d = left_join(d, df.rspndrs)\n",
      "\n",
      "d = d[!is.na(d$rspnse),]\n",
      "\n",
      "d2 = d[!is.na(d$PS),] \n",
      "d2 = d2 %>% \n",
      "    select(OTU, PS, rspnse) \n",
      "d3 = d[!is.na(d$SS),] \n",
      "d3 = d3 %>% \n",
      "    select(OTU, SS, rspnse) \n",
      "d = merge(d2, d3)\n",
      "d"
     ],
     "language": "python",
     "metadata": {},
     "outputs": [
      {
       "metadata": {},
       "output_type": "display_data",
       "text": [
        "Joining by: \"OTU\"\n",
        "        OTU            rspnse          PS        SS\n",
        "1   OTU.114  Single Substrate  1.56975501 3.0088421\n",
        "2  OTU.1414  Single Substrate -0.10699614 1.8688638\n",
        "3    OTU.17  Single Substrate -0.07082457 1.7941707\n",
        "4   OTU.185              both  2.45121472 3.2636744\n",
        "5    OTU.19  Single Substrate  1.28225616 1.8565059\n",
        "6   OTU.204 Complex Substrate  2.30654155 1.9207061\n",
        "7   OTU.206  Single Substrate  0.12995008 2.3073683\n",
        "8    OTU.20  Single Substrate -0.13466409 1.6616328\n",
        "9  OTU.2192  Single Substrate  1.73786047 3.1206118\n",
        "10 OTU.2294  Single Substrate  0.47090766 1.6549783\n",
        "11  OTU.263  Single Substrate  0.47414143 1.7652442\n",
        "12  OTU.266              both  2.16166561 3.1369309\n",
        "13  OTU.285              both  1.90827498 2.5172257\n",
        "14   OTU.38  Single Substrate -0.07511696 1.8219796\n",
        "15 OTU.4322              both  2.47610483 2.2638251\n",
        "16  OTU.442  Single Substrate  1.78824393 1.8548893\n",
        "17  OTU.465 Complex Substrate  2.32116600 0.5515994\n",
        "18  OTU.541              both  2.14910806 2.8481252\n",
        "19 OTU.5680  Single Substrate  1.47239867 2.8291725\n",
        "20   OTU.64              both  2.07512656 2.7808290\n",
        "21    OTU.6  Single Substrate  1.54560599 2.7819852\n",
        "22   OTU.73  Single Substrate  0.42130824 1.9474744\n",
        "23  OTU.766              both  2.03943619 2.3606740\n",
        "24   OTU.83 Complex Substrate  2.45452890 1.7154396\n",
        "25   OTU.89  Single Substrate  1.45057328 2.6191672\n",
        "26   OTU.98              both  2.32217132 2.5583228\n"
       ]
      }
     ],
     "prompt_number": 6
    },
    {
     "cell_type": "code",
     "collapsed": false,
     "input": [
      "%%R\n",
      "#goal - dataframe with PS and SS l2fc values as columns in order to assign them at axis in the plot, \n",
      "#and to color the data points by response type \n",
      "# this is so I can do a linear regression analysis of just responders for this experiment\n",
      "d = df_all %>%\n",
      "    select(OTU, Treatment, log2FoldChange) %>%\n",
      "    spread(Treatment, log2FoldChange) \n",
      "\n",
      "d = left_join(df.rspndrs, d) %>% na.omit\n",
      "\n",
      "d"
     ],
     "language": "python",
     "metadata": {},
     "outputs": [
      {
       "metadata": {},
       "output_type": "display_data",
       "text": [
        "Joining by: \"OTU\"\n",
        "Source: local data frame [26 x 4]\n",
        "\n",
        "        OTU            rspnse          PS       SS\n",
        "1   OTU.114  Single Substrate  1.56975501 3.008842\n",
        "2  OTU.1414  Single Substrate -0.10699614 1.868864\n",
        "3    OTU.17  Single Substrate -0.07082457 1.794171\n",
        "4   OTU.185              both  2.45121472 3.263674\n",
        "5    OTU.19  Single Substrate  1.28225616 1.856506\n",
        "6    OTU.20  Single Substrate -0.13466409 1.661633\n",
        "7   OTU.204 Complex Substrate  2.30654155 1.920706\n",
        "8   OTU.206  Single Substrate  0.12995008 2.307368\n",
        "9  OTU.2192  Single Substrate  1.73786047 3.120612\n",
        "10 OTU.2294  Single Substrate  0.47090766 1.654978\n",
        "..      ...               ...         ...      ...\n"
       ]
      }
     ],
     "prompt_number": 7
    },
    {
     "cell_type": "heading",
     "level": 3,
     "metadata": {},
     "source": [
      "The above dataframe does not include all responders detected in the single substrate study.  \n",
      "There are a total of 39 unique responders detected for this entire experiment.\n",
      "Not all are included in this dataframe because some responders have an \"NA\" value for l2fc in the treatment for which\n",
      "they were not detected.  Thus, this df (and analysis) does not include 13 of the responders detected."
     ]
    },
    {
     "cell_type": "code",
     "collapsed": false,
     "input": [
      "%%R -h 600 -w 600\n",
      "\n",
      "colours = c(\"red\", \"#377eb8\", \"#4daf4a\")\n",
      "\n",
      "p = ggplot(d, aes(y = PS, x = SS, color = factor(rspnse, labels = c(\"Both\", \"Complex C Mixture\", \"Cellulose Only\"))))\n",
      "\n",
      "p = p + geom_point(shape = 21)\n",
      "\n",
      "p = p + stat_smooth(method = \"lm\", aes(group = 1), se = FALSE, color = \"black\")\n",
      "\n",
      "p = p + labs(x = \"Cellulose Only, l2fc\",\n",
      "            y = \"Complex C Mixture, l2fc\", \n",
      "            color = \"Response\")\n",
      "\n",
      "p = p + theme_bw()\n",
      "\n",
      "p"
     ],
     "language": "python",
     "metadata": {},
     "outputs": [
      {
       "metadata": {},
       "output_type": "display_data",
       "png": "[encoded data removed]"
      }
     ],
     "prompt_number": 8
    },
    {
     "cell_type": "code",
     "collapsed": false,
     "input": [
      "%%R\n",
      "fit = lm(PS ~ SS, d)\n",
      "summary(fit)"
     ],
     "language": "python",
     "metadata": {},
     "outputs": [
      {
       "metadata": {},
       "output_type": "display_data",
       "text": [
        "\n",
        "Call:\n",
        "lm(formula = PS ~ SS, data = d)\n",
        "\n",
        "Residuals:\n",
        "     Min       1Q   Median       3Q      Max \n",
        "-1.31317 -0.66532 -0.01508  0.56687  1.79300 \n",
        "\n",
        "Coefficients:\n",
        "            Estimate Std. Error t value Pr(>|t|)  \n",
        "(Intercept)   0.2443     0.6662   0.367   0.7171  \n",
        "SS            0.5147     0.2842   1.811   0.0826 .\n",
        "---\n",
        "Signif. codes:  0 \u2018***\u2019 0.001 \u2018**\u2019 0.01 \u2018*\u2019 0.05 \u2018.\u2019 0.1 \u2018 \u2019 1\n",
        "\n",
        "Residual standard error: 0.8929 on 24 degrees of freedom\n",
        "Multiple R-squared:  0.1203,\tAdjusted R-squared:  0.0836 \n",
        "F-statistic: 3.281 on 1 and 24 DF,  p-value: 0.08264\n",
        "\n"
       ]
      }
     ],
     "prompt_number": 9
    },
    {
     "cell_type": "code",
     "collapsed": false,
     "input": [
      "%%R\n",
      "ggsave(\"figs/linreg_only_respdrs.pdf\", p, h = 10, w = 8)"
     ],
     "language": "python",
     "metadata": {},
     "outputs": [],
     "prompt_number": 10
    },
    {
     "cell_type": "code",
     "collapsed": false,
     "input": [
      "FileLink(\"figs/linreg_only_respdrs.pdf\")"
     ],
     "language": "python",
     "metadata": {},
     "outputs": [
      {
       "html": [
        "<a href='figs/linreg_only_respdrs.pdf' target='_blank'>figs/linreg_only_respdrs.pdf</a><br>"
       ],
       "metadata": {},
       "output_type": "pyout",
       "prompt_number": 11,
       "text": [
        "/home/ashley/single_substrate/figs/linreg_only_respdrs.pdf"
       ]
      }
     ],
     "prompt_number": 11
    },
    {
     "cell_type": "code",
     "collapsed": false,
     "input": [
      "%%R\n",
      "ggsave(\"figs/linreg_only_respdrs.png\", p, h = 10, w = 8)"
     ],
     "language": "python",
     "metadata": {},
     "outputs": [],
     "prompt_number": 12
    },
    {
     "cell_type": "code",
     "collapsed": false,
     "input": [
      "FileLink(\"figs/linreg_only_respdrs.png\")"
     ],
     "language": "python",
     "metadata": {},
     "outputs": [
      {
       "html": [
        "<a href='figs/linreg_only_respdrs.png' target='_blank'>figs/linreg_only_respdrs.png</a><br>"
       ],
       "metadata": {},
       "output_type": "pyout",
       "prompt_number": 13,
       "text": [
        "/home/ashley/single_substrate/figs/linreg_only_respdrs.png"
       ]
      }
     ],
     "prompt_number": 13
    },
    {
     "cell_type": "code",
     "collapsed": false,
     "input": [
      "%%R\n",
      "df_shared_resp = subset(d, (rspnse == \"both\"))\n",
      "nrow (df_shared_resp)"
     ],
     "language": "python",
     "metadata": {},
     "outputs": [
      {
       "metadata": {},
       "output_type": "display_data",
       "text": [
        "[1] 8\n"
       ]
      }
     ],
     "prompt_number": 14
    },
    {
     "cell_type": "code",
     "collapsed": false,
     "input": [
      "%%R -h 600 -w 600\n",
      "\n",
      "p2 = ggplot(df_shared_resp, aes(y = PS, x = SS))\n",
      "\n",
      "p2 = p2 + geom_point(alpha = 0.9, size = 4, color = \"black\")\n",
      "\n",
      "#p = p + geom_abline(aes(intercept=0.2443, slope=0.5147), data=d)\n",
      "\n",
      "p2 = p2 + stat_smooth(method = \"lm\", aes(group = 1))\n",
      "\n",
      "p2 = p2 + labs(x = expression(paste(\"Cellulose Only (\", log[2],\" fold change)\",sep=\"\")),\n",
      "            y = expression(paste(\"Complex C Mixture (\", log[2],\" fold change)\",sep=\"\"))\n",
      "              )\n",
      "\n",
      "p2 = p2 + theme_bw()\n",
      "p2 = p2 + annotate(\"text\", x=2.75, y=2.55, label = \"R^{2}==0\", hjust=1, size=5.75, family=\"Times\", parse=TRUE)\n",
      "\n",
      "p2"
     ],
     "language": "python",
     "metadata": {},
     "outputs": [
      {
       "metadata": {},
       "output_type": "display_data",
       "png": "[encoded data removed]"
      }
     ],
     "prompt_number": 29
    },
    {
     "cell_type": "code",
     "collapsed": false,
     "input": [
      "%%R\n",
      "fit = lm(PS ~ SS, df_shared_resp)\n",
      "summary(fit)"
     ],
     "language": "python",
     "metadata": {},
     "outputs": [
      {
       "metadata": {},
       "output_type": "display_data",
       "text": [
        "\n",
        "Call:\n",
        "lm(formula = PS ~ SS, data = df_shared_resp)\n",
        "\n",
        "Residuals:\n",
        "     Min       1Q   Median       3Q      Max \n",
        "-0.27235 -0.12779 -0.06648  0.15494  0.31747 \n",
        "\n",
        "Coefficients:\n",
        "            Estimate Std. Error t value Pr(>|t|)  \n",
        "(Intercept)  1.96221    0.62311   3.149   0.0198 *\n",
        "SS           0.08677    0.22769   0.381   0.7163  \n",
        "---\n",
        "Signif. codes:  0 \u2018***\u2019 0.001 \u2018**\u2019 0.01 \u2018*\u2019 0.05 \u2018.\u2019 0.1 \u2018 \u2019 1\n",
        "\n",
        "Residual standard error: 0.2153 on 6 degrees of freedom\n",
        "Multiple R-squared:  0.02363,\tAdjusted R-squared:  -0.1391 \n",
        "F-statistic: 0.1452 on 1 and 6 DF,  p-value: 0.7163\n",
        "\n"
       ]
      }
     ],
     "prompt_number": 16
    },
    {
     "cell_type": "code",
     "collapsed": false,
     "input": [
      "%%R\n",
      "ggsave(\"figs/linreg_shared_respdrs.pdf\", p2, h = 10, w = 8)"
     ],
     "language": "python",
     "metadata": {},
     "outputs": [],
     "prompt_number": 30
    },
    {
     "cell_type": "code",
     "collapsed": false,
     "input": [
      "%%R\n",
      "ggsave(\"figs/linreg_shared_respdrs.png\", p2)"
     ],
     "language": "python",
     "metadata": {},
     "outputs": [
      {
       "metadata": {},
       "output_type": "display_data",
       "text": [
        "Saving 6.67 x 6.67 in image\n"
       ]
      }
     ],
     "prompt_number": 31
    },
    {
     "cell_type": "code",
     "collapsed": false,
     "input": [
      "FileLink(\"figs/linreg_shared_respdrs.pdf\")"
     ],
     "language": "python",
     "metadata": {},
     "outputs": [
      {
       "html": [
        "<a href='figs/linreg_shared_respdrs.pdf' target='_blank'>figs/linreg_shared_respdrs.pdf</a><br>"
       ],
       "metadata": {},
       "output_type": "pyout",
       "prompt_number": 32,
       "text": [
        "/home/ashley/single_substrate/figs/linreg_shared_respdrs.pdf"
       ]
      }
     ],
     "prompt_number": 32
    },
    {
     "cell_type": "code",
     "collapsed": false,
     "input": [
      "FileLink(\"figs/linreg_shared_respdrs.png\")"
     ],
     "language": "python",
     "metadata": {},
     "outputs": [
      {
       "html": [
        "<a href='figs/linreg_shared_respdrs.png' target='_blank'>figs/linreg_shared_respdrs.png</a><br>"
       ],
       "metadata": {},
       "output_type": "pyout",
       "prompt_number": 20,
       "text": [
        "/home/ashley/single_substrate/figs/linreg_shared_respdrs.png"
       ]
      }
     ],
     "prompt_number": 20
    }
   ],
   "metadata": {}
  }
 ]
}