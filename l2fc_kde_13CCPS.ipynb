{
 "metadata": {
  "name": "",
  "signature": "sha256:54dc246e4f75f169196207ee66663e44ec803d2ad08cdb8e31b322968c047959"
 },
 "nbformat": 3,
 "nbformat_minor": 0,
 "worksheets": [
  {
   "cells": [
    {
     "cell_type": "code",
     "collapsed": false,
     "input": [
      "import pandas as pd\n",
      "import pandas.rpy.common as com\n",
      "import numpy as np\n",
      "import matplotlib\n",
      "import matplotlib.pyplot as plt\n",
      "import matplotlib.gridspec as gridspec\n",
      "import brewer2mpl\n",
      "from mpltools import style\n",
      "from IPython.display import FileLink\n",
      "style.use(\"ggplot\")\n",
      "%matplotlib inline"
     ],
     "language": "python",
     "metadata": {},
     "outputs": [
      {
       "output_type": "stream",
       "stream": "stderr",
       "text": [
        "/opt/anaconda/lib/python2.7/site-packages/pytz/__init__.py:29: UserWarning: Module argparse was already imported from /opt/anaconda/lib/python2.7/argparse.pyc, but /opt/anaconda/lib/python2.7/site-packages is being added to sys.path\n",
        "  from pkg_resources import resource_stream\n"
       ]
      }
     ],
     "prompt_number": 1
    },
    {
     "cell_type": "code",
     "collapsed": false,
     "input": [
      "%load_ext rpy2.ipython"
     ],
     "language": "python",
     "metadata": {},
     "outputs": [],
     "prompt_number": 2
    },
    {
     "cell_type": "code",
     "collapsed": false,
     "input": [
      "%%R\n",
      "library(DESeq2)\n",
      "library(phyloseq)\n",
      "library(plyr); library(dplyr)\n",
      "library(ggplot2)\n",
      "library(doParallel)\n",
      "library(foreach)\n",
      "library(reshape)\n",
      "library(RColorBrewer)\n",
      "library(gridExtra)\n",
      "library(stats)\n",
      "library(data.table)"
     ],
     "language": "python",
     "metadata": {},
     "outputs": [
      {
       "metadata": {},
       "output_type": "display_data",
       "text": [
        "Loading required package: GenomicRanges\n",
        "Loading required package: BiocGenerics\n",
        "Loading required package: parallel\n",
        "\n",
        "Attaching package: \u2018BiocGenerics\u2019\n",
        "\n",
        "The following objects are masked from \u2018package:parallel\u2019:\n",
        "\n",
        "    clusterApply, clusterApplyLB, clusterCall, clusterEvalQ,\n",
        "    clusterExport, clusterMap, parApply, parCapply, parLapply,\n",
        "    parLapplyLB, parRapply, parSapply, parSapplyLB\n",
        "\n",
        "The following object is masked from \u2018package:stats\u2019:\n",
        "\n",
        "    xtabs\n",
        "\n",
        "The following objects are masked from \u2018package:base\u2019:\n",
        "\n",
        "    anyDuplicated, append, as.data.frame, as.vector, cbind, colnames,\n",
        "    duplicated, eval, evalq, Filter, Find, get, intersect, is.unsorted,\n",
        "    lapply, Map, mapply, match, mget, order, paste, pmax, pmax.int,\n",
        "    pmin, pmin.int, Position, rank, rbind, Reduce, rep.int, rownames,\n",
        "    sapply, setdiff, sort, table, tapply, union, unique, unlist\n",
        "\n",
        "Loading required package: IRanges\n",
        "Loading required package: XVector\n",
        "Loading required package: Rcpp\n",
        "Loading required package: RcppArmadillo\n",
        "\n",
        "Attaching package: \u2018phyloseq\u2019\n",
        "\n",
        "The following object is masked from \u2018package:GenomicRanges\u2019:\n",
        "\n",
        "    distance\n",
        "\n",
        "The following object is masked from \u2018package:IRanges\u2019:\n",
        "\n",
        "    distance\n",
        "\n",
        "\n",
        "Attaching package: \u2018plyr\u2019\n",
        "\n",
        "The following object is masked from \u2018package:XVector\u2019:\n",
        "\n",
        "    compact\n",
        "\n",
        "The following objects are masked from \u2018package:IRanges\u2019:\n",
        "\n",
        "    desc, rename\n",
        "\n",
        "\n",
        "Attaching package: \u2018dplyr\u2019\n",
        "\n",
        "The following objects are masked from \u2018package:plyr\u2019:\n",
        "\n",
        "    arrange, desc, failwith, id, mutate, summarise, summarize\n",
        "\n",
        "The following objects are masked from \u2018package:GenomicRanges\u2019:\n",
        "\n",
        "    first, intersect, last, setdiff, union\n",
        "\n",
        "The following objects are masked from \u2018package:IRanges\u2019:\n",
        "\n",
        "    collapse, desc, intersect, setdiff, union\n",
        "\n",
        "The following objects are masked from \u2018package:BiocGenerics\u2019:\n",
        "\n",
        "    intersect, setdiff, union\n",
        "\n",
        "The following objects are masked from \u2018package:stats\u2019:\n",
        "\n",
        "    filter, lag\n",
        "\n",
        "The following objects are masked from \u2018package:base\u2019:\n",
        "\n",
        "    intersect, setdiff, setequal, union\n",
        "\n",
        "Loading required package: foreach\n",
        "foreach: simple, scalable parallel programming from Revolution Analytics\n",
        "Use Revolution R for scalability, fault tolerance and more.\n",
        "http://www.revolutionanalytics.com\n",
        "Loading required package: iterators\n",
        "\n",
        "Attaching package: \u2018reshape\u2019\n",
        "\n",
        "The following objects are masked from \u2018package:plyr\u2019:\n",
        "\n",
        "    rename, round_any\n",
        "\n",
        "The following objects are masked from \u2018package:IRanges\u2019:\n",
        "\n",
        "    expand, rename\n",
        "\n",
        "Loading required package: grid\n",
        "data.table 1.9.2  For help type: help(\"data.table\")\n",
        "\n",
        "Attaching package: \u2018data.table\u2019\n",
        "\n",
        "The following object is masked from \u2018package:dplyr\u2019:\n",
        "\n",
        "    last\n",
        "\n",
        "The following object is masked from \u2018package:GenomicRanges\u2019:\n",
        "\n",
        "    last\n",
        "\n"
       ]
      }
     ],
     "prompt_number": 3
    },
    {
     "cell_type": "markdown",
     "metadata": {},
     "source": [
      "###This file is from the [sparsity notebook](./Sparsity_make_l2fc_table.ipynb)."
     ]
    },
    {
     "cell_type": "code",
     "collapsed": false,
     "input": [
      "%%R\n",
      "df.l2fc = read.table(\"data/l2fc_table.csv\", sep=\",\", header = TRUE)\n",
      "head(df.l2fc)"
     ],
     "language": "python",
     "metadata": {},
     "outputs": [
      {
       "metadata": {},
       "output_type": "display_data",
       "text": [
        "  sparsity_threshold Day Treatment     OTU log2FoldChange            p    Rank1\n",
        "1               0.55  30    13CCSS OTU.783     -0.3370825 9.965741e-01 Bacteria\n",
        "2               0.55  30    13CCSS  OTU.79      0.7598182 4.889860e-01 Bacteria\n",
        "3               0.55  30    13CCSS OTU.304      0.4183648 8.089837e-01 Bacteria\n",
        "4               0.55  30    13CCSS  OTU.50      0.7289694 5.252368e-01 Bacteria\n",
        "5               0.55  30    13CCSS OTU.382      2.9833574 1.370092e-07 Bacteria\n",
        "6               0.55  30    13CCSS OTU.465      0.5515994 6.887540e-01 Bacteria\n",
        "          Rank2      Rank3        Rank4         Rank5       Rank6\n",
        "1 Acidobacteria Holophagae      Sva0725          <NA>        <NA>\n",
        "2 Bacteroidetes Cytophagia Cytophagales Cytophagaceae Flexibacter\n",
        "3 Bacteroidetes Cytophagia Cytophagales Cytophagaceae Flexibacter\n",
        "4 Bacteroidetes Cytophagia Cytophagales Cytophagaceae Flexibacter\n",
        "5 Bacteroidetes Cytophagia Cytophagales Cytophagaceae Flexibacter\n",
        "6 Bacteroidetes Cytophagia Cytophagales Cytophagaceae Flexibacter\n",
        "                               Rank7 Rank8         padj\n",
        "1                               <NA>  <NA> 1.000000e+00\n",
        "2               uncultured_bacterium  <NA> 1.000000e+00\n",
        "3               uncultured_bacterium  <NA> 1.000000e+00\n",
        "4               uncultured_bacterium  <NA> 1.000000e+00\n",
        "5 uncultured_Bacteroidetes_bacterium  <NA> 4.329492e-05\n",
        "6               uncultured_bacterium  <NA> 1.000000e+00\n"
       ]
      }
     ],
     "prompt_number": 4
    },
    {
     "cell_type": "code",
     "collapsed": false,
     "input": [
      "%%R\n",
      "\n",
      "d = tbl_df(df.l2fc) %.% \n",
      "        filter(Day == \"30\") %.%\n",
      "        filter(Treatment == \"13CCPS\")\n",
      "d"
     ],
     "language": "python",
     "metadata": {},
     "outputs": [
      {
       "metadata": {},
       "output_type": "display_data",
       "text": [
        "Source: local data frame [566 x 15]\n",
        "\n",
        "   sparsity_threshold Day Treatment      OTU log2FoldChange            p\n",
        "1                0.55  30    13CCPS OTU.2638     1.10894417 1.816125e-01\n",
        "2                0.55  30    13CCPS   OTU.79     0.62174397 6.331293e-01\n",
        "3                0.55  30    13CCPS  OTU.304     0.16351071 9.461611e-01\n",
        "4                0.55  30    13CCPS   OTU.50     0.20035573 9.422704e-01\n",
        "5                0.55  30    13CCPS  OTU.669     1.70533597 7.124180e-03\n",
        "6                0.55  30    13CCPS  OTU.543     0.80663401 4.358813e-01\n",
        "7                0.55  30    13CCPS OTU.1255     0.50151403 7.529631e-01\n",
        "8                0.55  30    13CCPS OTU.4049    -0.09625949 9.857865e-01\n",
        "9                0.55  30    13CCPS  OTU.465     2.32116600 7.163975e-06\n",
        "10               0.55  30    13CCPS OTU.2034     0.22539506 9.132410e-01\n",
        "..                ... ...       ...      ...            ...          ...\n",
        "Variables not shown: Rank1 (fctr), Rank2 (fctr), Rank3 (fctr), Rank4 (fctr),\n",
        "  Rank5 (fctr), Rank6 (fctr), Rank7 (fctr), Rank8 (fctr), padj (dbl)\n"
       ]
      }
     ],
     "prompt_number": 9
    },
    {
     "cell_type": "code",
     "collapsed": false,
     "input": [
      "%%R -w 800 -h 600\n",
      "\n",
      "p = ggplot(d, aes(x = log2FoldChange))\n",
      "\n",
      "p = p + facet_wrap(~Rank2)\n",
      "\n",
      "p = p + geom_density()\n",
      "\n",
      "p = p + geom_rug()\n",
      "\n",
      "p = p + theme_bw()\n",
      "\n",
      "p = p + labs(x = expression(paste(Log[2], \" Fold Change\")))\n",
      "\n",
      "p"
     ],
     "language": "python",
     "metadata": {},
     "outputs": [
      {
       "metadata": {},
       "output_type": "display_data",
       "png": "[encoded data removed]"
      }
     ],
     "prompt_number": 10
    },
    {
     "cell_type": "code",
     "collapsed": false,
     "input": [
      "%%R\n",
      "ggsave(\"figs/l2fc_KDE_13CCPS.pdf\", p, h = 12, w = 16)"
     ],
     "language": "python",
     "metadata": {},
     "outputs": [],
     "prompt_number": 11
    }
   ],
   "metadata": {}
  }
 ]
}