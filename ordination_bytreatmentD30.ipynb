{
 "metadata": {
  "name": "",
  "signature": "sha256:5147ac7cce97ef2fa4d13abf7481383f2dcff39c413259670b0e5b31dd6f8279"
 },
 "nbformat": 3,
 "nbformat_minor": 0,
 "worksheets": [
  {
   "cells": [
    {
     "cell_type": "heading",
     "level": 3,
     "metadata": {},
     "source": [
      "ordination to pull out fractions containing labeled OTUs"
     ]
    },
    {
     "cell_type": "code",
     "collapsed": false,
     "input": [
      "from pandas import DataFrame, get_dummies\n",
      "import statsmodels.api as sm\n",
      "from statsmodels.sandbox.regression.try_catdata import cat2dummy\n",
      "from IPython.display import FileLink"
     ],
     "language": "python",
     "metadata": {},
     "outputs": [],
     "prompt_number": 1
    },
    {
     "cell_type": "code",
     "collapsed": false,
     "input": [
      "%pylab inline\n",
      "%load_ext rpy2.ipython"
     ],
     "language": "python",
     "metadata": {},
     "outputs": [
      {
       "output_type": "stream",
       "stream": "stdout",
       "text": [
        "Populating the interactive namespace from numpy and matplotlib\n"
       ]
      }
     ],
     "prompt_number": 2
    },
    {
     "cell_type": "code",
     "collapsed": false,
     "input": [
      "%%R\n",
      "library(phyloseq)\n",
      "library(vegan)\n",
      "library(ggplot2)\n",
      "library(foreach)\n",
      "library(doParallel)\n",
      "library(plyr)\n",
      "library(gridExtra)\n",
      "library(RColorBrewer)"
     ],
     "language": "python",
     "metadata": {},
     "outputs": [
      {
       "metadata": {},
       "output_type": "display_data",
       "text": [
        "Loading required package: permute\n",
        "Loading required package: lattice\n",
        "This is vegan 2.0-10\n",
        "foreach: simple, scalable parallel programming from Revolution Analytics\n",
        "Use Revolution R for scalability, fault tolerance and more.\n",
        "http://www.revolutionanalytics.com\n",
        "Loading required package: iterators\n",
        "Loading required package: parallel\n",
        "Loading required package: grid\n"
       ]
      }
     ],
     "prompt_number": 3
    },
    {
     "cell_type": "markdown",
     "metadata": {},
     "source": [
      "###First let's look at the <sup>13</sup>C cellulose versus control comparison. "
     ]
    },
    {
     "cell_type": "code",
     "collapsed": false,
     "input": [
      "%%R\n",
      "physeq = import_biom(\"data/otu_table_wtax.biom\", \"data/otusn.tree\")\n",
      "sample.data = import_qiime_sample_data(\"data/ABCD_combined_reads_mapper.tsv\")\n",
      "physeq = merge_phyloseq(physeq,sample.data)\n",
      "physeq.md = sample_data(physeq)\n",
      "physeq.SS = prune_samples((physeq.md$Treatment %in% c(\"12CCSS\",\"13CCSS\"))& (physeq.md$Day == 30) &\n",
      "                          !(row.names(physeq.md) %in% grep(\"bulk\", row.names(physeq.md), value=TRUE)), physeq)\n",
      "physeq.SS.snorm = transform_sample_counts(physeq.SS, function(x) x/sum(x))\n",
      "physeq.SS.thresh = filter_taxa(physeq.SS.snorm, function(x) sum(x > 0) > (0.25 * length(x)), TRUE)\n",
      "print(physeq.SS)\n",
      "print(physeq.SS.thresh)"
     ],
     "language": "python",
     "metadata": {},
     "outputs": [
      {
       "metadata": {},
       "output_type": "display_data",
       "text": [
        "phyloseq-class experiment-level object\n",
        "otu_table()   OTU Table:         [ 6236 taxa and 40 samples ]\n",
        "sample_data() Sample Data:       [ 40 samples by 7 sample variables ]\n",
        "tax_table()   Taxonomy Table:    [ 6236 taxa by 8 taxonomic ranks ]\n",
        "phy_tree()    Phylogenetic Tree: [ 6236 tips and 6235 internal nodes ]\n",
        "phyloseq-class experiment-level object\n",
        "otu_table()   OTU Table:         [ 1421 taxa and 40 samples ]\n",
        "sample_data() Sample Data:       [ 40 samples by 7 sample variables ]\n",
        "tax_table()   Taxonomy Table:    [ 1421 taxa by 8 taxonomic ranks ]\n",
        "phy_tree()    Phylogenetic Tree: [ 1421 tips and 1420 internal nodes ]\n"
       ]
      }
     ],
     "prompt_number": 4
    },
    {
     "cell_type": "heading",
     "level": 3,
     "metadata": {},
     "source": [
      "Calculate pairwise weighted unifrac distances between samples."
     ]
    },
    {
     "cell_type": "code",
     "collapsed": false,
     "input": [
      "%%R\n",
      "registerDoParallel(cores=10)\n",
      "wunif.dist = distance(physeq.SS.thresh, \n",
      "                weighted = TRUE, \n",
      "                fast = TRUE, \n",
      "                normalized = FALSE, \n",
      "                parallel = TRUE)"
     ],
     "language": "python",
     "metadata": {},
     "outputs": [],
     "prompt_number": 5
    },
    {
     "cell_type": "markdown",
     "metadata": {},
     "source": [
      "###Ordinate using weighted unifrac distances with NMDS."
     ]
    },
    {
     "cell_type": "code",
     "collapsed": false,
     "input": [
      "%%R\n",
      "nmds = ordinate(physeq.SS.thresh, \n",
      "                method = \"NMDS\", \n",
      "                distance = wunif.dist)"
     ],
     "language": "python",
     "metadata": {},
     "outputs": [
      {
       "metadata": {},
       "output_type": "display_data",
       "text": [
        "Run 0 stress 0.06235117 \n",
        "Run 1 stress 0.06243743 \n",
        "... procrustes: rmse 0.006261562  max resid 0.03490033 \n",
        "Run 2 stress 0.1304305 \n",
        "Run 3 stress 0.1116091 \n",
        "Run 4 stress 0.08884748 \n",
        "Run 5 stress 0.08835737 \n",
        "Run 6 stress 0.08835687 \n",
        "Run 7 stress 0.06497811 \n",
        "Run 8 stress 0.08887939 \n",
        "Run 9 stress 0.1111168 \n",
        "Run 10 stress 0.06243715 \n",
        "... procrustes: rmse 0.006227821  max resid 0.03468417 \n",
        "Run 11 stress 0.1238773 \n",
        "Run 12 stress 0.1287458 \n",
        "Run 13 stress 0.06235122 \n",
        "... procrustes: rmse 5.964972e-05  max resid 0.0001973203 \n",
        "*** Solution reached\n",
        "\n"
       ]
      }
     ],
     "prompt_number": 6
    },
    {
     "cell_type": "code",
     "collapsed": false,
     "input": [
      "%%R -w 16 -h 6 -u in\n",
      "\n",
      "colours = c(\"#ff7f00\", \"#377eb8\")\n",
      "\n",
      "df = plot_ordination(physeq.SS.thresh, nmds, justDF = TRUE)\n",
      "df$Density = as.numeric(as.character(df$Density))\n",
      "\n",
      "p1 = ggplot(df, aes(x = NMDS1, y = NMDS2)) \n",
      "p1 = p1 + geom_point(aes(fill = Treatment, size = Density, alpha = 0.85), shape=21) \n",
      "p1 = p1 + scale_fill_manual(values = colours,\n",
      "                            breaks=c(\"12CCSS\", \"13CCSS\"),\n",
      "                            labels=c(\"Control\", \"Cellulose Only\"))\n",
      "p1 = p1 + guides(alpha = FALSE)\n",
      "p1 = p1 + scale_size_area(aesthetics = \"Density\")\n",
      "p1 = p1 + ggtitle(\"A\")\n",
      "p1 = p1 + guides(fill = guide_legend(override.aes = list(size = 4)))\n",
      "p1 = p1 + guides(size = guide_legend(override.aes = list(fill = \"black\")))\n",
      "p1 = p1 + theme_bw()\n",
      "p1 = p1 + theme(plot.margin = unit(c(1,0,1,0), \"lines\"))\n",
      "p1 = p1 + theme(plot.title = element_text(hjust = 0, size = 20))\n",
      "\n",
      "p1"
     ],
     "language": "python",
     "metadata": {},
     "outputs": [
      {
       "metadata": {},
       "output_type": "display_data",
       "png": "[encoded data removed]"
      }
     ],
     "prompt_number": 7
    },
    {
     "cell_type": "code",
     "collapsed": false,
     "input": [
      "%%R\n",
      "physeq.thresh.SSheavy = prune_samples(sample_data(physeq.SS.thresh)$Density >= 1.725, physeq.SS.thresh)"
     ],
     "language": "python",
     "metadata": {},
     "outputs": [],
     "prompt_number": 8
    },
    {
     "cell_type": "code",
     "collapsed": false,
     "input": [
      "%%R\n",
      "wunif.dist.SSheavy = distance(physeq.thresh.SSheavy, method = \"unifrac\", weighted = TRUE)"
     ],
     "language": "python",
     "metadata": {},
     "outputs": [],
     "prompt_number": 9
    },
    {
     "cell_type": "code",
     "collapsed": false,
     "input": [
      "%%R\n",
      "#convert physeq object to a dataframe for adonis test\n",
      "df = sample_data(physeq.thresh.SSheavy)\n",
      "#convert dataframe from physeq to a traditional R dataframe because it has funky 'class'\n",
      "df = data.frame(df)\n",
      "df"
     ],
     "language": "python",
     "metadata": {},
     "outputs": [
      {
       "metadata": {},
       "output_type": "display_data",
       "text": [
        "                 X.SampleID BarcodeSequence Day Density   LinkerPrimerSequence\n",
        "cont.SS.30.10 cont.SS.30.10      TCACTCTGTC  30  1.7417 CAGGACTACHVGGGTWTCTAAT\n",
        "13C.SS.30.9     13C.SS.30.9      TCACGTGTAC  30  1.7351 CAGGACTACHVGGGTWTCTAAT\n",
        "13C.SS.30.7     13C.SS.30.7      TCACGAGTAG  30  1.7428 CAGGACTACHVGGGTWTCTAAT\n",
        "cont.SS.30.14 cont.SS.30.14      TCACTGTGTG  30  1.7264 CAGGACTACHVGGGTWTCTAAT\n",
        "13C.SS.30.6     13C.SS.30.6      TCAGCAACGA  30  1.7461 CAGGACTACHVGGGTWTCTAAT\n",
        "13C.SS.30.8     13C.SS.30.8      TCACGTAGCT  30  1.7395 CAGGACTACHVGGGTWTCTAAT\n",
        "13C.SS.30.10   13C.SS.30.10      TCACTCAGAC  30  1.7275 CAGGACTACHVGGGTWTCTAAT\n",
        "13C.SS.30.5     13C.SS.30.5      TCAGAGGAGA  30  1.7526 CAGGACTACHVGGGTWTCTAAT\n",
        "cont.SS.30.6   cont.SS.30.6      TCACGTCTTC  30  1.7537 CAGGACTACHVGGGTWTCTAAT\n",
        "cont.SS.30.9   cont.SS.30.9      TCACTCCTGT  30  1.7450 CAGGACTACHVGGGTWTCTAAT\n",
        "cont.SS.30.13 cont.SS.30.13      TCACTGCTGA  30  1.7319 CAGGACTACHVGGGTWTCTAAT\n",
        "cont.SS.30.8   cont.SS.30.8      TCACGTTGGT  30  1.7483 CAGGACTACHVGGGTWTCTAAT\n",
        "              Treatment   Description\n",
        "cont.SS.30.10    12CCSS cont.SS.30.10\n",
        "13C.SS.30.9      13CCSS   13C.SS.30.9\n",
        "13C.SS.30.7      13CCSS   13C.SS.30.7\n",
        "cont.SS.30.14    12CCSS cont.SS.30.14\n",
        "13C.SS.30.6      13CCSS   13C.SS.30.6\n",
        "13C.SS.30.8      13CCSS   13C.SS.30.8\n",
        "13C.SS.30.10     13CCSS  13C.SS.30.10\n",
        "13C.SS.30.5      13CCSS   13C.SS.30.5\n",
        "cont.SS.30.6     12CCSS  cont.SS.30.6\n",
        "cont.SS.30.9     12CCSS  cont.SS.30.9\n",
        "cont.SS.30.13    12CCSS cont.SS.30.13\n",
        "cont.SS.30.8     12CCSS  cont.SS.30.8\n"
       ]
      }
     ],
     "prompt_number": 10
    },
    {
     "cell_type": "code",
     "collapsed": false,
     "input": [
      "%%R\n",
      "#to test if community composition in heavy fractions is different between treatments\n",
      "adonis.wunif.heavy = adonis(wunif.dist.SSheavy ~ Treatment, data = df, permutations = 1000)\n",
      "adonis.wunif.heavy"
     ],
     "language": "python",
     "metadata": {},
     "outputs": [
      {
       "metadata": {},
       "output_type": "display_data",
       "text": [
        "\n",
        "Call:\n",
        "adonis(formula = wunif.dist.SSheavy ~ Treatment, data = df, permutations = 1000) \n",
        "\n",
        "Terms added sequentially (first to last)\n",
        "\n",
        "          Df SumsOfSqs  MeanSqs F.Model      R2   Pr(>F)   \n",
        "Treatment  1   0.14880 0.148803  10.396 0.50971 0.004995 **\n",
        "Residuals 10   0.14313 0.014313         0.49029            \n",
        "Total     11   0.29194                  1.00000            \n",
        "---\n",
        "Signif. codes:  0 \u2018***\u2019 0.001 \u2018**\u2019 0.01 \u2018*\u2019 0.05 \u2018.\u2019 0.1 \u2018 \u2019 1\n"
       ]
      }
     ],
     "prompt_number": 11
    },
    {
     "cell_type": "heading",
     "level": 3,
     "metadata": {},
     "source": [
      "Do the same for 13CCPS at D30"
     ]
    },
    {
     "cell_type": "code",
     "collapsed": false,
     "input": [
      "%%R\n",
      "physeq = import_biom(\"data/otu_table_wtax.biom\", \"data/otusn.tree\")\n",
      "sample.data = import_qiime_sample_data(\"data/ABCD_combined_reads_mapper.tsv\")\n",
      "physeq = merge_phyloseq(physeq,sample.data)\n",
      "physeq.md = sample_data(physeq)\n",
      "physeq.PS = prune_samples((physeq.md$Treatment %in% c(\"12CCPS\",\"13CCPS\"))& (physeq.md$Day == 30) &\n",
      "                          !(row.names(physeq.md) %in% grep(\"bulk\", row.names(physeq.md), value=TRUE)), physeq)\n",
      "physeq.PS.snorm = transform_sample_counts(physeq.PS, function(x) x/sum(x))\n",
      "physeq.PS.thresh = filter_taxa(physeq.PS.snorm, function(x) sum(x > 0) > (0.25 * length(x)), TRUE)\n",
      "print(physeq.PS)\n",
      "print(physeq.PS.thresh)"
     ],
     "language": "python",
     "metadata": {},
     "outputs": [
      {
       "metadata": {},
       "output_type": "display_data",
       "text": [
        "phyloseq-class experiment-level object\n",
        "otu_table()   OTU Table:         [ 6236 taxa and 40 samples ]\n",
        "sample_data() Sample Data:       [ 40 samples by 7 sample variables ]\n",
        "tax_table()   Taxonomy Table:    [ 6236 taxa by 8 taxonomic ranks ]\n",
        "phy_tree()    Phylogenetic Tree: [ 6236 tips and 6235 internal nodes ]\n",
        "phyloseq-class experiment-level object\n",
        "otu_table()   OTU Table:         [ 1022 taxa and 40 samples ]\n",
        "sample_data() Sample Data:       [ 40 samples by 7 sample variables ]\n",
        "tax_table()   Taxonomy Table:    [ 1022 taxa by 8 taxonomic ranks ]\n",
        "phy_tree()    Phylogenetic Tree: [ 1022 tips and 1021 internal nodes ]\n"
       ]
      }
     ],
     "prompt_number": 12
    },
    {
     "cell_type": "code",
     "collapsed": false,
     "input": [
      "%%R\n",
      "registerDoParallel(cores=10)\n",
      "wunif.dist = distance(physeq.PS.thresh, \n",
      "                weighted = TRUE, \n",
      "                fast = TRUE, \n",
      "                normalized = FALSE, \n",
      "                parallel = TRUE)"
     ],
     "language": "python",
     "metadata": {},
     "outputs": [],
     "prompt_number": 13
    },
    {
     "cell_type": "code",
     "collapsed": false,
     "input": [
      "%%R\n",
      "nmds = ordinate(physeq.PS.thresh, \n",
      "                method = \"NMDS\", \n",
      "                distance = wunif.dist)"
     ],
     "language": "python",
     "metadata": {},
     "outputs": [
      {
       "metadata": {},
       "output_type": "display_data",
       "text": [
        "Run 0 stress 0.05130933 \n",
        "Run 1 stress 0.05108791 \n",
        "... New best solution\n",
        "... procrustes: rmse 0.01155228  max resid 0.0406508 \n",
        "Run 2 stress 0.0471931 \n",
        "... New best solution\n",
        "... procrustes: rmse 0.02414354  max resid 0.05375049 \n",
        "Run 3 stress 0.04719271 \n",
        "... New best solution\n",
        "... procrustes: rmse 0.0001544792  max resid 0.0005371843 \n",
        "*** Solution reached\n",
        "\n"
       ]
      }
     ],
     "prompt_number": 14
    },
    {
     "cell_type": "code",
     "collapsed": false,
     "input": [
      "%%R -w 16 -h 6 -u in\n",
      "\n",
      "colours = c(\"#ac4aaf\", \"#4daf4a\")\n",
      "\n",
      "df = plot_ordination(physeq.PS.thresh, nmds, justDF = TRUE)\n",
      "df$Density = as.numeric(as.character(df$Density))\n",
      "\n",
      "p2 = ggplot(df, aes(x = NMDS1, y = NMDS2)) \n",
      "p2 = p2 + geom_point(aes(fill = Treatment, size = Density, alpha = 0.85), shape=21) \n",
      "p2 = p2 + scale_fill_manual(values = colours,\n",
      "                           breaks=c(\"12CCPS\", \"13CCPS\"),\n",
      "                            labels=c(\"Control\", \"Complex C Mixture\"))\n",
      "p2 = p2 + guides(alpha = FALSE)\n",
      "p2 = p2 + scale_size_area(aesthetics = \"Density\")\n",
      "p2 = p2 + ggtitle(\"B\")\n",
      "p2 = p2 + guides(fill = guide_legend(override.aes = list(size = 4)))\n",
      "p2 = p2 + guides(size = guide_legend(override.aes = list(fill = \"black\")))\n",
      "p2 = p2 + theme_bw()\n",
      "p2 = p2 + theme(plot.margin = unit(c(1,0,1,0), \"lines\"))\n",
      "p2 = p2 + theme(plot.title = element_text(hjust = 0, size = 20))\n",
      "\n",
      "p2"
     ],
     "language": "python",
     "metadata": {},
     "outputs": [
      {
       "metadata": {},
       "output_type": "display_data",
       "png": "[encoded data removed]"
      }
     ],
     "prompt_number": 15
    },
    {
     "cell_type": "code",
     "collapsed": false,
     "input": [
      "%%R\n",
      "physeq.thresh.PSheavy = prune_samples(sample_data(physeq.PS.thresh)$Density >= 1.725, physeq.PS.thresh)"
     ],
     "language": "python",
     "metadata": {},
     "outputs": [],
     "prompt_number": 16
    },
    {
     "cell_type": "code",
     "collapsed": false,
     "input": [
      "%%R\n",
      "wunif.dist.PSheavy = distance(physeq.thresh.PSheavy, method = \"unifrac\", weighted = TRUE)"
     ],
     "language": "python",
     "metadata": {},
     "outputs": [],
     "prompt_number": 17
    },
    {
     "cell_type": "code",
     "collapsed": false,
     "input": [
      "%%R\n",
      "#convert physeq object to a dataframe for adonis test\n",
      "df2 = sample_data(physeq.thresh.PSheavy)\n",
      "#convert dataframe from physeq to a traditional R dataframe because it has funky 'class'\n",
      "df2 = data.frame(df2)\n",
      "df2"
     ],
     "language": "python",
     "metadata": {},
     "outputs": [
      {
       "metadata": {},
       "output_type": "display_data",
       "text": [
        "                 X.SampleID BarcodeSequence Day Density   LinkerPrimerSequence\n",
        "cont.PS.30.9   cont.PS.30.9      TCAAGCAACG  30  1.7395 CAGGACTACHVGGGTWTCTAAT\n",
        "cont.PS.30.7   cont.PS.30.7      TCAACCATCG  30  1.7526 CAGGACTACHVGGGTWTCTAAT\n",
        "13C.PS.30.7     13C.PS.30.7      TCAACCATGC  30  1.7439 CAGGACTACHVGGGTWTCTAAT\n",
        "cont.PS.30.10 cont.PS.30.10      TCAAGCTTCG  30  1.7362 CAGGACTACHVGGGTWTCTAAT\n",
        "13C.PS.30.8     13C.PS.30.8      TCACGACAAG  30  1.7406 CAGGACTACHVGGGTWTCTAAT\n",
        "cont.PS.30.8   cont.PS.30.8      TCAACGATCC  30  1.7461 CAGGACTACHVGGGTWTCTAAT\n",
        "cont.PS.30.12 cont.PS.30.12      TCAAGCGGTA  30  1.7264 CAGGACTACHVGGGTWTCTAAT\n",
        "13C.PS.30.9     13C.PS.30.9      TCACGACATC  30  1.7341 CAGGACTACHVGGGTWTCTAAT\n",
        "13C.PS.30.6     13C.PS.30.6      TCACAGGACA  30  1.7494 CAGGACTACHVGGGTWTCTAAT\n",
        "cont.PS.30.6   cont.PS.30.6      TCACAGCTGT  30  1.7614 CAGGACTACHVGGGTWTCTAAT\n",
        "13C.PS.30.5     13C.PS.30.5      TCACACTCAG  30  1.7526 CAGGACTACHVGGGTWTCTAAT\n",
        "13C.PS.30.10   13C.PS.30.10      TCACGACTAC  30  1.7319 CAGGACTACHVGGGTWTCTAAT\n",
        "cont.PS.30.11 cont.PS.30.11      TCAAGGTTCC  30  1.7297 CAGGACTACHVGGGTWTCTAAT\n",
        "              Treatment   Description\n",
        "cont.PS.30.9     12CCPS  cont.PS.30.9\n",
        "cont.PS.30.7     12CCPS  cont.PS.30.7\n",
        "13C.PS.30.7      13CCPS   13C.PS.30.7\n",
        "cont.PS.30.10    12CCPS cont.PS.30.10\n",
        "13C.PS.30.8      13CCPS   13C.PS.30.8\n",
        "cont.PS.30.8     12CCPS  cont.PS.30.8\n",
        "cont.PS.30.12    12CCPS cont.PS.30.12\n",
        "13C.PS.30.9      13CCPS   13C.PS.30.9\n",
        "13C.PS.30.6      13CCPS   13C.PS.30.6\n",
        "cont.PS.30.6     12CCPS  cont.PS.30.6\n",
        "13C.PS.30.5      13CCPS   13C.PS.30.5\n",
        "13C.PS.30.10     13CCPS  13C.PS.30.10\n",
        "cont.PS.30.11    12CCPS cont.PS.30.11\n"
       ]
      }
     ],
     "prompt_number": 18
    },
    {
     "cell_type": "code",
     "collapsed": false,
     "input": [
      "%%R\n",
      "#to test if community composition in heavy fractions is different between treatments\n",
      "adonis.wunif.heavy = adonis(wunif.dist.PSheavy ~ Treatment, data = df2, permutations = 1000)\n",
      "adonis.wunif.heavy"
     ],
     "language": "python",
     "metadata": {},
     "outputs": [
      {
       "metadata": {},
       "output_type": "display_data",
       "text": [
        "\n",
        "Call:\n",
        "adonis(formula = wunif.dist.PSheavy ~ Treatment, data = df2,      permutations = 1000) \n",
        "\n",
        "Terms added sequentially (first to last)\n",
        "\n",
        "          Df SumsOfSqs  MeanSqs F.Model      R2   Pr(>F)    \n",
        "Treatment  1   0.18779 0.187794   15.07 0.57806 0.000999 ***\n",
        "Residuals 11   0.13708 0.012462         0.42194             \n",
        "Total     12   0.32487                  1.00000             \n",
        "---\n",
        "Signif. codes:  0 \u2018***\u2019 0.001 \u2018**\u2019 0.01 \u2018*\u2019 0.05 \u2018.\u2019 0.1 \u2018 \u2019 1\n"
       ]
      }
     ],
     "prompt_number": 19
    },
    {
     "cell_type": "code",
     "collapsed": false,
     "input": [
      "%%R -w 16 -h 6 -u in\n",
      "\n",
      "gp1 = ggplot_gtable(ggplot_build(p1))\n",
      "gp2 = ggplot_gtable(ggplot_build(p2))\n",
      "maxWidth = unit.pmax(gp1$widths[2:5], gp2$widths[2:5])\n",
      "\n",
      "gp1$widths[2:5] <- maxWidth\n",
      "gp2$widths[2:5] <- maxWidth\n",
      "\n",
      "p.combined = grid.arrange(gp1, gp2, ncol = 2)\n",
      "p.combined"
     ],
     "language": "python",
     "metadata": {},
     "outputs": [
      {
       "metadata": {},
       "output_type": "display_data",
       "text": [
        "NULL\n"
       ]
      },
      {
       "metadata": {},
       "output_type": "display_data",
       "png": "[encoded data removed]"
      }
     ],
     "prompt_number": 20
    },
    {
     "cell_type": "code",
     "collapsed": false,
     "input": [
      "%%R\n",
      "pdf(\"figs/ordination_SS_PSpanel.pdf\", w = 16, h = 6)\n",
      "grid.arrange(gp1, gp2, ncol = 2)\n",
      "dev.off()"
     ],
     "language": "python",
     "metadata": {},
     "outputs": [
      {
       "metadata": {},
       "output_type": "display_data",
       "text": [
        "png \n",
        "  2 \n"
       ]
      }
     ],
     "prompt_number": 21
    },
    {
     "cell_type": "code",
     "collapsed": false,
     "input": [
      "%%R\n",
      "png(\"figs/ordination_SS_PSpanel.png\", w = 1200, h = 400)\n",
      "print(grid.arrange(gp1, gp2, ncol = 2))\n",
      "dev.off()"
     ],
     "language": "python",
     "metadata": {},
     "outputs": [
      {
       "metadata": {},
       "output_type": "display_data",
       "text": [
        "NULL\n",
        "png \n",
        "  2 \n"
       ]
      }
     ],
     "prompt_number": 22
    },
    {
     "cell_type": "code",
     "collapsed": false,
     "input": [
      "FileLink(\"figs/ordination_SS_PSpanel.pdf\")"
     ],
     "language": "python",
     "metadata": {},
     "outputs": [
      {
       "html": [
        "<a href='figs/ordination_SS_PSpanel.pdf' target='_blank'>figs/ordination_SS_PSpanel.pdf</a><br>"
       ],
       "metadata": {},
       "output_type": "pyout",
       "prompt_number": 23,
       "text": [
        "/home/ashley/single_substrate/figs/ordination_SS_PSpanel.pdf"
       ]
      }
     ],
     "prompt_number": 23
    },
    {
     "cell_type": "code",
     "collapsed": false,
     "input": [
      "FileLink(\"figs/ordination_SS_PSpanel.png\")"
     ],
     "language": "python",
     "metadata": {},
     "outputs": [
      {
       "html": [
        "<a href='figs/ordination_SS_PSpanel.png' target='_blank'>figs/ordination_SS_PSpanel.png</a><br>"
       ],
       "metadata": {},
       "output_type": "pyout",
       "prompt_number": 24,
       "text": [
        "/home/ashley/single_substrate/figs/ordination_SS_PSpanel.png"
       ]
      }
     ],
     "prompt_number": 24
    },
    {
     "cell_type": "heading",
     "level": 3,
     "metadata": {},
     "source": [
      "Try just 13SS and 13PS ordination"
     ]
    },
    {
     "cell_type": "code",
     "collapsed": false,
     "input": [
      "%%R\n",
      "physeq = import_biom(\"data/otu_table_wtax.biom\", \"data/otusn.tree\")\n",
      "sample.data = import_qiime_sample_data(\"data/ABCD_combined_reads_mapper.tsv\")\n",
      "physeq = merge_phyloseq(physeq,sample.data)\n",
      "physeq.md = sample_data(physeq)\n",
      "physeq.C13 = prune_samples((physeq.md$Treatment %in% c(\"13CCSS\",\"13CCPS\"))& (physeq.md$Day == 30) &\n",
      "                          !(row.names(physeq.md) %in% grep(\"bulk\", row.names(physeq.md), value=TRUE)), physeq)\n",
      "physeq.C13.snorm = transform_sample_counts(physeq.C13, function(x) x/sum(x))\n",
      "physeq.C13.thresh = filter_taxa(physeq.C13.snorm, function(x) sum(x > 0) > (0.25 * length(x)), TRUE)\n",
      "print(physeq.C13)\n",
      "print(physeq.C13.thresh)"
     ],
     "language": "python",
     "metadata": {},
     "outputs": [
      {
       "metadata": {},
       "output_type": "display_data",
       "text": [
        "phyloseq-class experiment-level object\n",
        "otu_table()   OTU Table:         [ 6236 taxa and 40 samples ]\n",
        "sample_data() Sample Data:       [ 40 samples by 7 sample variables ]\n",
        "tax_table()   Taxonomy Table:    [ 6236 taxa by 8 taxonomic ranks ]\n",
        "phy_tree()    Phylogenetic Tree: [ 6236 tips and 6235 internal nodes ]\n",
        "phyloseq-class experiment-level object\n",
        "otu_table()   OTU Table:         [ 1247 taxa and 40 samples ]\n",
        "sample_data() Sample Data:       [ 40 samples by 7 sample variables ]\n",
        "tax_table()   Taxonomy Table:    [ 1247 taxa by 8 taxonomic ranks ]\n",
        "phy_tree()    Phylogenetic Tree: [ 1247 tips and 1246 internal nodes ]\n"
       ]
      }
     ],
     "prompt_number": 25
    },
    {
     "cell_type": "code",
     "collapsed": false,
     "input": [
      "%%R\n",
      "registerDoParallel(cores=10)\n",
      "wunif.dist = distance(physeq.C13.thresh, \n",
      "                weighted = TRUE, \n",
      "                fast = TRUE, \n",
      "                normalized = FALSE, \n",
      "                parallel = TRUE)"
     ],
     "language": "python",
     "metadata": {},
     "outputs": [],
     "prompt_number": 26
    },
    {
     "cell_type": "code",
     "collapsed": false,
     "input": [
      "%%R\n",
      "nmds = ordinate(physeq.C13.thresh, \n",
      "                method = \"NMDS\", \n",
      "                distance = wunif.dist)"
     ],
     "language": "python",
     "metadata": {},
     "outputs": [
      {
       "metadata": {},
       "output_type": "display_data",
       "text": [
        "Run 0 stress 0.08785322 \n",
        "Run 1 stress 0.1018586 \n",
        "Run 2 stress 0.09941788 \n",
        "Run 3 stress 0.09941724 \n",
        "Run 4 stress 0.08785105 \n",
        "... New best solution\n",
        "... procrustes: rmse 0.0003986131  max resid 0.001336163 \n",
        "*** Solution reached\n",
        "\n"
       ]
      }
     ],
     "prompt_number": 27
    },
    {
     "cell_type": "code",
     "collapsed": false,
     "input": [
      "%%R -w 7 -h 6 -u in\n",
      "\n",
      "colours = c(\"#4daf4a\", \"#377eb8\")\n",
      "\n",
      "df = plot_ordination(physeq.C13.thresh, nmds, justDF = TRUE)\n",
      "df$Density = as.numeric(as.character(df$Density))\n",
      "\n",
      "p3 = ggplot(df, aes(x = NMDS1, y = NMDS2)) \n",
      "p3 = p3 + geom_point(aes(fill = Treatment, size = Density, alpha = 0.85), shape=21) \n",
      "p3 = p3 + scale_fill_manual(values = colours,\n",
      "                          name = \"13C Treatment\",\n",
      "                         breaks=c(\"13CCPS\", \"13CCSS\"),\n",
      "                            labels=c(\"Complex C Mixture\", \"Cellulose Only\"))\n",
      "p3 = p3 + guides(alpha = FALSE)\n",
      "p3 = p3 + scale_size_area(aesthetics = \"Density\")\n",
      "#p = p + ggtitle(\"A\")\n",
      "p3 = p3 + guides(fill = guide_legend(override.aes = list(size = 4)))\n",
      "p3 = p3 + guides(size = guide_legend(override.aes = list(fill = \"black\")))\n",
      "p3 = p3 + theme_bw()\n",
      "p3 = p3 + theme(plot.margin = unit(c(1,0,1,0), \"lines\"))\n",
      "p3 = p3 + theme(plot.title = element_text(hjust = -0.1, size = 20))\n",
      "\n",
      "p3"
     ],
     "language": "python",
     "metadata": {},
     "outputs": [
      {
       "metadata": {},
       "output_type": "display_data",
       "png": "[encoded data removed]"
      }
     ],
     "prompt_number": 28
    },
    {
     "cell_type": "code",
     "collapsed": false,
     "input": [
      "%%R\n",
      "pdf(\"figs/ordination_13Conly_SSvPS.pdf\", w = 7, h = 6)\n",
      "grid.arrange(p3, ncol = 1)\n",
      "dev.off()"
     ],
     "language": "python",
     "metadata": {},
     "outputs": [
      {
       "metadata": {},
       "output_type": "display_data",
       "text": [
        "png \n",
        "  2 \n"
       ]
      }
     ],
     "prompt_number": 29
    },
    {
     "cell_type": "code",
     "collapsed": false,
     "input": [
      "%%R\n",
      "ggsave(\"figs/ordination_13Conly_SSvPS.png\", p3)"
     ],
     "language": "python",
     "metadata": {},
     "outputs": [
      {
       "metadata": {},
       "output_type": "display_data",
       "text": [
        "Saving 6.67 x 6.67 in image\n"
       ]
      }
     ],
     "prompt_number": 30
    },
    {
     "cell_type": "code",
     "collapsed": false,
     "input": [
      "FileLink(\"figs/ordination_13Conly_SSvPS.pdf\")"
     ],
     "language": "python",
     "metadata": {},
     "outputs": [
      {
       "html": [
        "<a href='figs/ordination_13Conly_SSvPS.pdf' target='_blank'>figs/ordination_13Conly_SSvPS.pdf</a><br>"
       ],
       "metadata": {},
       "output_type": "pyout",
       "prompt_number": 31,
       "text": [
        "/home/ashley/single_substrate/figs/ordination_13Conly_SSvPS.pdf"
       ]
      }
     ],
     "prompt_number": 31
    },
    {
     "cell_type": "code",
     "collapsed": false,
     "input": [
      "FileLink(\"figs/ordination_13Conly_SSvPS.png\")"
     ],
     "language": "python",
     "metadata": {},
     "outputs": [
      {
       "html": [
        "<a href='figs/ordination_13Conly_SSvPS.png' target='_blank'>figs/ordination_13Conly_SSvPS.png</a><br>"
       ],
       "metadata": {},
       "output_type": "pyout",
       "prompt_number": 32,
       "text": [
        "/home/ashley/single_substrate/figs/ordination_13Conly_SSvPS.png"
       ]
      }
     ],
     "prompt_number": 32
    },
    {
     "cell_type": "code",
     "collapsed": false,
     "input": [
      "%%R\n",
      "physeq.thresh.C13heavy = prune_samples(sample_data(physeq.C13.thresh)$Density >= 1.725, physeq.C13.thresh)"
     ],
     "language": "python",
     "metadata": {},
     "outputs": [],
     "prompt_number": 33
    },
    {
     "cell_type": "code",
     "collapsed": false,
     "input": [
      "%%R\n",
      "wunif.dist.C13heavy = distance(physeq.thresh.C13heavy, method = \"unifrac\", weighted = TRUE)"
     ],
     "language": "python",
     "metadata": {},
     "outputs": [],
     "prompt_number": 34
    },
    {
     "cell_type": "code",
     "collapsed": false,
     "input": [
      "%%R\n",
      "#convert physeq object to a dataframe for adonis test\n",
      "df3 = sample_data(physeq.thresh.C13heavy)\n",
      "#convert dataframe from physeq to a traditional R dataframe because it has funky 'class'\n",
      "df3 = data.frame(df3)\n",
      "df3"
     ],
     "language": "python",
     "metadata": {},
     "outputs": [
      {
       "metadata": {},
       "output_type": "display_data",
       "text": [
        "               X.SampleID BarcodeSequence Day Density   LinkerPrimerSequence\n",
        "13C.SS.30.9   13C.SS.30.9      TCACGTGTAC  30  1.7351 CAGGACTACHVGGGTWTCTAAT\n",
        "13C.SS.30.7   13C.SS.30.7      TCACGAGTAG  30  1.7428 CAGGACTACHVGGGTWTCTAAT\n",
        "13C.SS.30.6   13C.SS.30.6      TCAGCAACGA  30  1.7461 CAGGACTACHVGGGTWTCTAAT\n",
        "13C.PS.30.7   13C.PS.30.7      TCAACCATGC  30  1.7439 CAGGACTACHVGGGTWTCTAAT\n",
        "13C.PS.30.8   13C.PS.30.8      TCACGACAAG  30  1.7406 CAGGACTACHVGGGTWTCTAAT\n",
        "13C.PS.30.9   13C.PS.30.9      TCACGACATC  30  1.7341 CAGGACTACHVGGGTWTCTAAT\n",
        "13C.SS.30.8   13C.SS.30.8      TCACGTAGCT  30  1.7395 CAGGACTACHVGGGTWTCTAAT\n",
        "13C.SS.30.10 13C.SS.30.10      TCACTCAGAC  30  1.7275 CAGGACTACHVGGGTWTCTAAT\n",
        "13C.SS.30.5   13C.SS.30.5      TCAGAGGAGA  30  1.7526 CAGGACTACHVGGGTWTCTAAT\n",
        "13C.PS.30.6   13C.PS.30.6      TCACAGGACA  30  1.7494 CAGGACTACHVGGGTWTCTAAT\n",
        "13C.PS.30.5   13C.PS.30.5      TCACACTCAG  30  1.7526 CAGGACTACHVGGGTWTCTAAT\n",
        "13C.PS.30.10 13C.PS.30.10      TCACGACTAC  30  1.7319 CAGGACTACHVGGGTWTCTAAT\n",
        "             Treatment  Description\n",
        "13C.SS.30.9     13CCSS  13C.SS.30.9\n",
        "13C.SS.30.7     13CCSS  13C.SS.30.7\n",
        "13C.SS.30.6     13CCSS  13C.SS.30.6\n",
        "13C.PS.30.7     13CCPS  13C.PS.30.7\n",
        "13C.PS.30.8     13CCPS  13C.PS.30.8\n",
        "13C.PS.30.9     13CCPS  13C.PS.30.9\n",
        "13C.SS.30.8     13CCSS  13C.SS.30.8\n",
        "13C.SS.30.10    13CCSS 13C.SS.30.10\n",
        "13C.SS.30.5     13CCSS  13C.SS.30.5\n",
        "13C.PS.30.6     13CCPS  13C.PS.30.6\n",
        "13C.PS.30.5     13CCPS  13C.PS.30.5\n",
        "13C.PS.30.10    13CCPS 13C.PS.30.10\n"
       ]
      }
     ],
     "prompt_number": 35
    },
    {
     "cell_type": "code",
     "collapsed": false,
     "input": [
      "%%R\n",
      "#to test if community composition in heavy fractions is different between treatments\n",
      "adonis.wunif.heavy = adonis(wunif.dist.C13heavy ~ Treatment, data = df3, permutations = 1000)\n",
      "adonis.wunif.heavy"
     ],
     "language": "python",
     "metadata": {},
     "outputs": [
      {
       "metadata": {},
       "output_type": "display_data",
       "text": [
        "\n",
        "Call:\n",
        "adonis(formula = wunif.dist.C13heavy ~ Treatment, data = df3,      permutations = 1000) \n",
        "\n",
        "Terms added sequentially (first to last)\n",
        "\n",
        "          Df SumsOfSqs  MeanSqs F.Model     R2   Pr(>F)   \n",
        "Treatment  1   0.11137 0.111372  5.5667 0.3576 0.001998 **\n",
        "Residuals 10   0.20007 0.020007         0.6424            \n",
        "Total     11   0.31144                  1.0000            \n",
        "---\n",
        "Signif. codes:  0 \u2018***\u2019 0.001 \u2018**\u2019 0.01 \u2018*\u2019 0.05 \u2018.\u2019 0.1 \u2018 \u2019 1\n"
       ]
      }
     ],
     "prompt_number": 36
    },
    {
     "cell_type": "code",
     "collapsed": false,
     "input": [
      "%%R\n",
      "physeq.thresh.C13light = prune_samples(sample_data(physeq.C13.thresh)$Density <= 1.725, physeq.C13.thresh)"
     ],
     "language": "python",
     "metadata": {},
     "outputs": [],
     "prompt_number": 37
    },
    {
     "cell_type": "code",
     "collapsed": false,
     "input": [
      "%%R\n",
      "wunif.dist.C13light = distance(physeq.thresh.C13light, method = \"unifrac\", weighted = TRUE)"
     ],
     "language": "python",
     "metadata": {},
     "outputs": [],
     "prompt_number": 38
    },
    {
     "cell_type": "code",
     "collapsed": false,
     "input": [
      "%%R\n",
      "#convert physeq object to a dataframe for adonis test\n",
      "df4 = sample_data(physeq.thresh.C13light)\n",
      "#convert dataframe from physeq to a traditional R dataframe because it has funky 'class'\n",
      "df4 = data.frame(df4)\n",
      "df4"
     ],
     "language": "python",
     "metadata": {},
     "outputs": [
      {
       "metadata": {},
       "output_type": "display_data",
       "text": [
        "               X.SampleID BarcodeSequence Day Density   LinkerPrimerSequence\n",
        "13C.SS.30.13 13C.SS.30.13      TCACTGAGAG  30  1.7155 CAGGACTACHVGGGTWTCTAAT\n",
        "13C.PS.30.23 13C.PS.30.23      TCAACGATGG  30  1.6750 CAGGACTACHVGGGTWTCTAAT\n",
        "13C.SS.30.23 13C.SS.30.23      TCAGCACTAC  30  1.6750 CAGGACTACHVGGGTWTCTAAT\n",
        "13C.PS.30.11 13C.PS.30.11      TCACGACTTG  30  1.7242 CAGGACTACHVGGGTWTCTAAT\n",
        "13C.SS.30.24 13C.SS.30.24      TCAGCACTTG  30  1.6685 CAGGACTACHVGGGTWTCTAAT\n",
        "13C.SS.30.17 13C.SS.30.17      TCAGAGAGAG  30  1.6969 CAGGACTACHVGGGTWTCTAAT\n",
        "13C.PS.30.16 13C.PS.30.16      TCACTGGAGA  30  1.7045 CAGGACTACHVGGGTWTCTAAT\n",
        "13C.PS.30.12 13C.PS.30.12      TCACGAGAAC  30  1.7209 CAGGACTACHVGGGTWTCTAAT\n",
        "13C.SS.30.20 13C.SS.30.20      TCAGCAAGGT  30  1.6849 CAGGACTACHVGGGTWTCTAAT\n",
        "13C.SS.30.11 13C.SS.30.11      TCACTCGTCT  30  1.7231 CAGGACTACHVGGGTWTCTAAT\n",
        "13C.SS.30.25 13C.SS.30.25      TCAGCAGAAC  30  1.6663 CAGGACTACHVGGGTWTCTAAT\n",
        "13C.PS.30.21 13C.PS.30.21      TCACGATCCA  30  1.6838 CAGGACTACHVGGGTWTCTAAT\n",
        "13C.SS.30.19 13C.SS.30.19      TCAGCAAGCA  30  1.6892 CAGGACTACHVGGGTWTCTAAT\n",
        "13C.SS.30.14 13C.SS.30.14      TCACTGGTCA  30  1.7111 CAGGACTACHVGGGTWTCTAAT\n",
        "13C.SS.30.16 13C.SS.30.16      TCAGACGTCT  30  1.7035 CAGGACTACHVGGGTWTCTAAT\n",
        "13C.SS.30.21 13C.SS.30.21      TCAGCACAAG  30  1.6805 CAGGACTACHVGGGTWTCTAAT\n",
        "13C.SS.30.15 13C.SS.30.15      TCAGACAGAC  30  1.7056 CAGGACTACHVGGGTWTCTAAT\n",
        "13C.SS.30.18 13C.SS.30.18      TCAGAGGTCA  30  1.6925 CAGGACTACHVGGGTWTCTAAT\n",
        "13C.PS.30.18 13C.PS.30.18      TCACTGGTGT  30  1.6958 CAGGACTACHVGGGTWTCTAAT\n",
        "13C.PS.30.13 13C.PS.30.13      TCACGAGATG  30  1.7166 CAGGACTACHVGGGTWTCTAAT\n",
        "13C.PS.30.15 13C.PS.30.15      TCACTGGACT  30  1.7078 CAGGACTACHVGGGTWTCTAAT\n",
        "13C.SS.30.22 13C.SS.30.22      TCAGCACATC  30  1.6794 CAGGACTACHVGGGTWTCTAAT\n",
        "13C.PS.30.19 13C.PS.30.19      TCACTGTCAG  30  1.6914 CAGGACTACHVGGGTWTCTAAT\n",
        "13C.PS.30.20 13C.PS.30.20      TCACGAGTTC  30  1.6925 CAGGACTACHVGGGTWTCTAAT\n",
        "13C.PS.30.17 13C.PS.30.17      TCACTGGTCA  30  1.6991 CAGGACTACHVGGGTWTCTAAT\n",
        "13C.PS.30.24 13C.PS.30.24      TCAAGCAAGC  30  1.6707 CAGGACTACHVGGGTWTCTAAT\n",
        "13C.PS.30.22 13C.PS.30.22      TCACGATCGT  30  1.6805 CAGGACTACHVGGGTWTCTAAT\n",
        "13C.PS.30.14 13C.PS.30.14      TCACGAGTAG  30  1.7122 CAGGACTACHVGGGTWTCTAAT\n",
        "             Treatment  Description\n",
        "13C.SS.30.13    13CCSS 13C.SS.30.13\n",
        "13C.PS.30.23    13CCPS 13C.PS.30.23\n",
        "13C.SS.30.23    13CCSS 13C.SS.30.23\n",
        "13C.PS.30.11    13CCPS 13C.PS.30.11\n",
        "13C.SS.30.24    13CCSS 13C.SS.30.24\n",
        "13C.SS.30.17    13CCSS 13C.SS.30.17\n",
        "13C.PS.30.16    13CCPS 13C.PS.30.16\n",
        "13C.PS.30.12    13CCPS 13C.PS.30.12\n",
        "13C.SS.30.20    13CCSS 13C.SS.30.20\n",
        "13C.SS.30.11    13CCSS 13C.SS.30.11\n",
        "13C.SS.30.25    13CCSS 13C.SS.30.25\n",
        "13C.PS.30.21    13CCPS 13C.PS.30.21\n",
        "13C.SS.30.19    13CCSS 13C.SS.30.19\n",
        "13C.SS.30.14    13CCSS 13C.SS.30.14\n",
        "13C.SS.30.16    13CCSS 13C.SS.30.16\n",
        "13C.SS.30.21    13CCSS 13C.SS.30.21\n",
        "13C.SS.30.15    13CCSS 13C.SS.30.15\n",
        "13C.SS.30.18    13CCSS 13C.SS.30.18\n",
        "13C.PS.30.18    13CCPS 13C.PS.30.18\n",
        "13C.PS.30.13    13CCPS 13C.PS.30.13\n",
        "13C.PS.30.15    13CCPS 13C.PS.30.15\n",
        "13C.SS.30.22    13CCSS 13C.SS.30.22\n",
        "13C.PS.30.19    13CCPS 13C.PS.30.19\n",
        "13C.PS.30.20    13CCPS 13C.PS.30.20\n",
        "13C.PS.30.17    13CCPS 13C.PS.30.17\n",
        "13C.PS.30.24    13CCPS 13C.PS.30.24\n",
        "13C.PS.30.22    13CCPS 13C.PS.30.22\n",
        "13C.PS.30.14    13CCPS 13C.PS.30.14\n"
       ]
      }
     ],
     "prompt_number": 39
    },
    {
     "cell_type": "code",
     "collapsed": false,
     "input": [
      "%%R\n",
      "#to test if community composition in heavy fractions is different between treatments\n",
      "adonis.wunif.light = adonis(wunif.dist.C13light ~ Treatment, data = df4, permutations = 1000)\n",
      "adonis.wunif.light"
     ],
     "language": "python",
     "metadata": {},
     "outputs": [
      {
       "metadata": {},
       "output_type": "display_data",
       "text": [
        "\n",
        "Call:\n",
        "adonis(formula = wunif.dist.C13light ~ Treatment, data = df4,      permutations = 1000) \n",
        "\n",
        "Terms added sequentially (first to last)\n",
        "\n",
        "          Df SumsOfSqs  MeanSqs F.Model      R2  Pr(>F)  \n",
        "Treatment  1   0.16312 0.163119  2.7551 0.09581 0.08292 .\n",
        "Residuals 26   1.53938 0.059207         0.90419          \n",
        "Total     27   1.70250                  1.00000          \n",
        "---\n",
        "Signif. codes:  0 \u2018***\u2019 0.001 \u2018**\u2019 0.01 \u2018*\u2019 0.05 \u2018.\u2019 0.1 \u2018 \u2019 1\n"
       ]
      }
     ],
     "prompt_number": 40
    },
    {
     "cell_type": "heading",
     "level": 3,
     "metadata": {},
     "source": [
      "Try just 12SS and 12PS ordination"
     ]
    },
    {
     "cell_type": "code",
     "collapsed": false,
     "input": [
      "%%R\n",
      "physeq = import_biom(\"data/otu_table_wtax.biom\", \"data/otusn.tree\")\n",
      "sample.data = import_qiime_sample_data(\"data/ABCD_combined_reads_mapper.tsv\")\n",
      "physeq = merge_phyloseq(physeq,sample.data)\n",
      "physeq.md = sample_data(physeq)\n",
      "physeq.C12 = prune_samples((physeq.md$Treatment %in% c(\"12CCSS\",\"12CCPS\"))& (physeq.md$Day == 30) &\n",
      "                          !(row.names(physeq.md) %in% grep(\"bulk\", row.names(physeq.md), value=TRUE)), physeq)\n",
      "physeq.C12.snorm = transform_sample_counts(physeq.C12, function(x) x/sum(x))\n",
      "physeq.C12.thresh = filter_taxa(physeq.C12.snorm, function(x) sum(x > 0) > (0.25 * length(x)), TRUE)\n",
      "print(physeq.C12)\n",
      "print(physeq.C12.thresh)"
     ],
     "language": "python",
     "metadata": {},
     "outputs": [
      {
       "metadata": {},
       "output_type": "display_data",
       "text": [
        "phyloseq-class experiment-level object\n",
        "otu_table()   OTU Table:         [ 6236 taxa and 40 samples ]\n",
        "sample_data() Sample Data:       [ 40 samples by 7 sample variables ]\n",
        "tax_table()   Taxonomy Table:    [ 6236 taxa by 8 taxonomic ranks ]\n",
        "phy_tree()    Phylogenetic Tree: [ 6236 tips and 6235 internal nodes ]\n",
        "phyloseq-class experiment-level object\n",
        "otu_table()   OTU Table:         [ 1176 taxa and 40 samples ]\n",
        "sample_data() Sample Data:       [ 40 samples by 7 sample variables ]\n",
        "tax_table()   Taxonomy Table:    [ 1176 taxa by 8 taxonomic ranks ]\n",
        "phy_tree()    Phylogenetic Tree: [ 1176 tips and 1175 internal nodes ]\n"
       ]
      }
     ],
     "prompt_number": 41
    },
    {
     "cell_type": "code",
     "collapsed": false,
     "input": [
      "%%R\n",
      "registerDoParallel(cores=10)\n",
      "wunif.dist = distance(physeq.C12.thresh, \n",
      "                weighted = TRUE, \n",
      "                fast = TRUE, \n",
      "                normalized = FALSE, \n",
      "                parallel = TRUE)"
     ],
     "language": "python",
     "metadata": {},
     "outputs": [],
     "prompt_number": 42
    },
    {
     "cell_type": "code",
     "collapsed": false,
     "input": [
      "%%R\n",
      "nmds = ordinate(physeq.C12.thresh, \n",
      "                method = \"NMDS\", \n",
      "                distance = wunif.dist)"
     ],
     "language": "python",
     "metadata": {},
     "outputs": [
      {
       "metadata": {},
       "output_type": "display_data",
       "text": [
        "Run 0 stress 0.04086211 \n",
        "Run 1 stress 0.04094046 \n",
        "... procrustes: rmse 0.00353467  max resid 0.01566695 \n",
        "Run 2 stress 0.04093991 \n",
        "... procrustes: rmse 0.003512015  max resid 0.0154704 \n",
        "Run 3 stress 0.04086094 \n",
        "... New best solution\n",
        "... procrustes: rmse 0.0001816498  max resid 0.0005164793 \n",
        "*** Solution reached\n",
        "\n"
       ]
      }
     ],
     "prompt_number": 43
    },
    {
     "cell_type": "code",
     "collapsed": false,
     "input": [
      "%%R -w 16 -h 6 -u in\n",
      "\n",
      "colours = c( \"#ac4aaf\", \"#ff7f00\")\n",
      "\n",
      "df = plot_ordination(physeq.C12.thresh, nmds, justDF = TRUE)\n",
      "df$Density = as.numeric(as.character(df$Density))\n",
      "\n",
      "p4 = ggplot(df, aes(x = NMDS1, y = NMDS2)) \n",
      "p4 = p4 + geom_point(aes(fill = Treatment, size = Density, alpha = 0.85), shape=21) \n",
      "p4 = p4 + scale_fill_manual(values = colours)\n",
      "p4 = p4 + guides(alpha = FALSE)\n",
      "p4 = p4 + scale_size_area(aesthetics = \"Density\")\n",
      "p4 = p4 + ggtitle(\"A\")\n",
      "p4 = p4 + guides(fill = guide_legend(override.aes = list(size = 4)))\n",
      "p4 = p4 + guides(size = guide_legend(override.aes = list(fill = \"black\")))\n",
      "p4 = p4 + theme_bw()\n",
      "p4 = p4 + theme(plot.margin = unit(c(1,0,1,0), \"lines\"))\n",
      "p4 = p4 + theme(plot.title = element_text(hjust = -0.1, size = 20))\n",
      "\n",
      "p4"
     ],
     "language": "python",
     "metadata": {},
     "outputs": [
      {
       "metadata": {},
       "output_type": "display_data",
       "png": "[encoded data removed]"
      }
     ],
     "prompt_number": 44
    }
   ],
   "metadata": {}
  }
 ]
}