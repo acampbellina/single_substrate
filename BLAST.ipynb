{
 "metadata": {
  "name": "",
  "signature": "sha256:92ee2b3d5d61b03498543840049553fa61d72a3ae8d06eada34d910eef7312ad"
 },
 "nbformat": 3,
 "nbformat_minor": 0,
 "worksheets": [
  {
   "cells": [
    {
     "cell_type": "heading",
     "level": 2,
     "metadata": {},
     "source": [
      "Run OTU sequences through BLAST "
     ]
    },
    {
     "cell_type": "code",
     "collapsed": false,
     "input": [
      "from Bio.Blast.Applications import NcbiblastnCommandline as blast"
     ],
     "language": "python",
     "metadata": {},
     "outputs": [],
     "prompt_number": 1
    },
    {
     "cell_type": "code",
     "collapsed": false,
     "input": [
      "cline = blast(query = \"/home/ashley/succ-C-DNASIP/data/otusn.fasta\",\n",
      "              db = \"/var/seq_data/LTP115_db/LTP115\",\n",
      "              outfmt = 6,\n",
      "              out = \"data/blast_out_otusn_LTP115.m6\",\n",
      "              num_threads = 20,\n",
      "              evalue = 10)\n",
      "print cline\n",
      "cline()"
     ],
     "language": "python",
     "metadata": {},
     "outputs": [
      {
       "output_type": "stream",
       "stream": "stdout",
       "text": [
        "blastn -out data/blast_out_otusn_LTP115.m6 -outfmt 6 -query /home/ashley/succ-C-DNASIP/data/otusn.fasta -db /var/seq_data/LTP115_db/LTP115 -evalue 10 -num_threads 20\n"
       ]
      },
      {
       "metadata": {},
       "output_type": "pyout",
       "prompt_number": 2,
       "text": [
        "('', '')"
       ]
      }
     ],
     "prompt_number": 2
    },
    {
     "cell_type": "code",
     "collapsed": false,
     "input": [
      "!head -n1 data/blast_out_otusn_LTP115.m6\n",
      "!wc -l data/blast_out_otusn_LTP115.m6"
     ],
     "language": "python",
     "metadata": {},
     "outputs": [
      {
       "output_type": "stream",
       "stream": "stdout",
       "text": [
        "OTU.1\tAF235091\t100.00\t219\t0\t0\t1\t219\t508\t726\t2e-113\t  405\r\n"
       ]
      },
      {
       "output_type": "stream",
       "stream": "stdout",
       "text": [
        "1919502 data/blast_out_otusn_LTP115.m6\r\n"
       ]
      }
     ],
     "prompt_number": 3
    },
    {
     "cell_type": "code",
     "collapsed": false,
     "input": [
      "from cogent import LoadSeqs"
     ],
     "language": "python",
     "metadata": {},
     "outputs": [],
     "prompt_number": 4
    },
    {
     "cell_type": "code",
     "collapsed": false,
     "input": [
      "otus = LoadSeqs(\"/home/ashley/succ-C-DNASIP/data/otusn.fasta\", aligned = False)\n",
      "s = otus.getSeq(\"OTU.204\")\n",
      "with open(\"data/OTU.204.fa\", \"w\") as out:\n",
      "    out.write(s.toFasta())\n",
      "!cat data/OTU.204.fa"
     ],
     "language": "python",
     "metadata": {},
     "outputs": [
      {
       "output_type": "stream",
       "stream": "stdout",
       "text": [
        ">OTU.204\r\n",
        "TTACAGGGTGCGTAGGTGGCCGGACAAGTCAGGTGTGAAATCCCTCAGCTCAACTGAGGAACTGCGCTTGAAACTGTTTGGCTAGAGTGAGCTAGGGGTGCTTGGAACTGCCAGTGGAGCGGTGAAATGTGTTGATATTGGCAGGAACACCGGAGCCGAAAGGGAAGCACTGGGGCTTAACTGACACTGAGGCACGAAAGCCAGGGGAGCAAACGGGAT"
       ]
      }
     ],
     "prompt_number": 5
    },
    {
     "cell_type": "code",
     "collapsed": false,
     "input": [
      "!blastn -query data/OTU.204.fa -db /var/seq_data/LTP115_db/LTP115 -evalue 1000 -num_threads 20"
     ],
     "language": "python",
     "metadata": {},
     "outputs": [
      {
       "output_type": "stream",
       "stream": "stdout",
       "text": [
        "BLASTN 2.2.29+\r\n",
        "\r\n",
        "\r\n",
        "Reference: Zheng Zhang, Scott Schwartz, Lukas Wagner, and Webb\r\n",
        "Miller (2000), \"A greedy algorithm for aligning DNA sequences\", J\r\n",
        "Comput Biol 2000; 7(1-2):203-14.\r\n",
        "\r\n",
        "\r\n",
        "\r\n",
        "Database: LTP115\r\n",
        "           10,271 sequences; 15,004,611 total letters\r\n",
        "\r\n",
        "\r\n",
        "\r\n",
        "Query= OTU.204\r\n",
        "\r\n",
        "Length=219\r\n",
        "\r\n",
        "\r\n",
        "***** No hits found *****\r\n",
        "\r\n",
        "\r\n",
        "\r\n",
        "Lambda      K        H\r\n",
        "    1.33    0.621     1.12 \r\n",
        "\r\n",
        "Gapped\r\n",
        "Lambda      K        H\r\n",
        "    1.28    0.460    0.850 \r\n",
        "\r\n",
        "Effective search space used: 2911393853\r\n",
        "\r\n",
        "\r\n",
        "  Database: LTP115\r\n",
        "    Posted date:  Jun 2, 2014  3:10 PM\r\n",
        "  Number of letters in database: 15,004,611\r\n",
        "  Number of sequences in database:  10,271\r\n",
        "\r\n",
        "\r\n",
        "\r\n",
        "Matrix: blastn matrix 1 -2\r\n",
        "Gap Penalties: Existence: 0, Extension: 2.5\r\n"
       ]
      }
     ],
     "prompt_number": 6
    },
    {
     "cell_type": "code",
     "collapsed": false,
     "input": [
      "!cat datdata/blast_out_OTU.204_LTP115.m6"
     ],
     "language": "python",
     "metadata": {},
     "outputs": [
      {
       "output_type": "stream",
       "stream": "stdout",
       "text": [
        "cat: datdata/blast_out_OTU.204_LTP115.m6: No such file or directory\r\n"
       ]
      }
     ],
     "prompt_number": 7
    },
    {
     "cell_type": "code",
     "collapsed": false,
     "input": [
      "!grep \"OTU.204\" /home/ashley/succ-C-DNASIP/data/otusn.fasta"
     ],
     "language": "python",
     "metadata": {},
     "outputs": [
      {
       "output_type": "stream",
       "stream": "stdout",
       "text": [
        ">OTU.204\r\n",
        ">OTU.2040\r\n",
        ">OTU.2041\r\n",
        ">OTU.2042\r\n",
        ">OTU.2043\r\n",
        ">OTU.2044\r\n",
        ">OTU.2045\r\n",
        ">OTU.2046\r\n",
        ">OTU.2047\r\n",
        ">OTU.2048\r\n",
        ">OTU.2049\r\n"
       ]
      }
     ],
     "prompt_number": 8
    }
   ],
   "metadata": {}
  }
 ]
}